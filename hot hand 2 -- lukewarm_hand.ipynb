{
 "cells": [
  {
   "cell_type": "code",
   "execution_count": null,
   "id": "2f0bfa77",
   "metadata": {},
   "outputs": [],
   "source": [
    "import hot_hand.player_streaks as player_streaks"
   ]
  },
  {
   "cell_type": "code",
   "execution_count": 3,
   "id": "8c73f36d",
   "metadata": {},
   "outputs": [],
   "source": [
    "import pandas as pd\n",
    "import seaborn as sns\n",
    "import numpy as np\n",
    "import matplotlib.pyplot as plt\n",
    "import scipy.stats"
   ]
  },
  {
   "cell_type": "code",
   "execution_count": 4,
   "id": "5383395b",
   "metadata": {},
   "outputs": [],
   "source": [
    "rng = np.random.default_rng(2718)"
   ]
  },
  {
   "cell_type": "markdown",
   "id": "308dd281",
   "metadata": {},
   "source": [
    "# The Lukewarm Hand, Part 2\n",
    "In the last edition, we found the streakiness of NBA players in the 2024-25 season is fairly normally distributed, but there's a slight bias towards being less streaky than predicted by chance. \n",
    "\n",
    "## What about free throws?\n",
    "Free throws are the same for every player, and every attempt. Same distance, same lack of defenders. It's much more complex to get that data from the NBA than field goals. So I will have to come back to that.\n",
    "\n",
    "## What about previous seasons?\n",
    "I looked at the previous three seasons (2021-22,2022-2023, 2023-2024) individually, and they were very similar to this season: a slight skew towards the *lukewarm hand*.\n",
    "\n",
    "2020-21 was an unusual season due to COVID, so I won't go further back than that.\n",
    "\n",
    "I'm going to combine all of the data together and see if there are players that show a lukewarm or hot hand over that four year stretch."
   ]
  },
  {
   "cell_type": "code",
   "execution_count": null,
   "id": "b16558b4",
   "metadata": {},
   "outputs": [],
   "source": [
    "dataframes = []\n",
    "\n",
    "for year in [\"2021-22\", \"2022-23\", \"2023-24\", \"2024-25\"]:\n",
    "    sp = player_streaks.PlayerStreaks(season=year)\n",
    "    df = sp.get_data()\n",
    "    dataframes.append(df)\n"
   ]
  },
  {
   "cell_type": "code",
   "execution_count": 9,
   "id": "f86d2dd8",
   "metadata": {},
   "outputs": [],
   "source": [
    "combined_df = sp.get_stats_dataframe()\n",
    "player_ids = sp.get_all_player_ids()\n",
    "for player_id, player_name in player_ids.items():\n",
    "    total_makes = sum([x.loc[player_id, 'makes'] for x in dataframes])\n",
    "    total_misses = sum([x.loc[player_id, 'misses'] for x in dataframes])\n",
    "\n",
    "    raw_data = ''.join([x.loc[player_id, 'raw_data'] for x in dataframes])\n",
    "    if raw_data:\n",
    "        cts = sp.convert_to_streaks(None, raw_data)\n",
    "\n",
    "        combined_df.loc[player_id] = [player_name, total_makes, total_misses, \n",
    "                            cts['total_streaks'], cts['raw_data']]\n"
   ]
  },
  {
   "cell_type": "code",
   "execution_count": 11,
   "id": "680863e8",
   "metadata": {},
   "outputs": [],
   "source": [
    "combined_df = sp.calc_stats(combined_df)"
   ]
  },
  {
   "cell_type": "markdown",
   "id": "3f1b10db",
   "metadata": {},
   "source": [
    "Here's the 4 year combined data. It definitely looks shifted to the right."
   ]
  },
  {
   "cell_type": "code",
   "execution_count": 12,
   "id": "fb15d2b4",
   "metadata": {},
   "outputs": [
    {
     "data": {
      "text/plain": [
       "Text(0.5, 1.0, 'z-scores, 2021-2025')"
      ]
     },
     "execution_count": 12,
     "metadata": {},
     "output_type": "execute_result"
    },
    {
     "data": {
      "image/png": "[encoded data removed]",
      "text/plain": [
       "<Figure size 640x480 with 1 Axes>"
      ]
     },
     "metadata": {},
     "output_type": "display_data"
    }
   ],
   "source": [
    "x = np.linspace(-3,3,200)\n",
    "plt.plot(x, scipy.stats.norm.pdf(x, 0, 1))\n",
    "out = plt.hist(combined_df.z_score, bins=16, density=True)\n",
    "plt.title(\"z-scores, 2021-2025\")"
   ]
  },
  {
   "cell_type": "code",
   "execution_count": 55,
   "id": "a180d280",
   "metadata": {},
   "outputs": [
    {
     "data": {
      "text/plain": [
       "count    562.000000\n",
       "mean       0.443496\n",
       "std        1.157664\n",
       "min       -4.031970\n",
       "25%       -0.312044\n",
       "50%        0.449647\n",
       "75%        1.184918\n",
       "max        4.184025\n",
       "Name: z_score, dtype: float64"
      ]
     },
     "execution_count": 55,
     "metadata": {},
     "output_type": "execute_result"
    }
   ],
   "source": [
    "combined_df.z_score.describe()"
   ]
  },
  {
   "cell_type": "markdown",
   "id": "0899c79c",
   "metadata": {},
   "source": [
    "Here are the most *lukewarm hands* over the past 4 seasons."
   ]
  },
  {
   "cell_type": "code",
   "execution_count": 60,
   "id": "cd1cd7f2",
   "metadata": {},
   "outputs": [
    {
     "data": {
      "text/html": [
       "<div>\n",
       "<style scoped>\n",
       "    .dataframe tbody tr th:only-of-type {\n",
       "        vertical-align: middle;\n",
       "    }\n",
       "\n",
       "    .dataframe tbody tr th {\n",
       "        vertical-align: top;\n",
       "    }\n",
       "\n",
       "    .dataframe thead th {\n",
       "        text-align: right;\n",
       "    }\n",
       "</style>\n",
       "<table border=\"1\" class=\"dataframe\">\n",
       "  <thead>\n",
       "    <tr style=\"text-align: right;\">\n",
       "      <th></th>\n",
       "      <th>player_name</th>\n",
       "      <th>makes</th>\n",
       "      <th>z_score</th>\n",
       "    </tr>\n",
       "    <tr>\n",
       "      <th>player_id</th>\n",
       "      <th></th>\n",
       "      <th></th>\n",
       "      <th></th>\n",
       "    </tr>\n",
       "  </thead>\n",
       "  <tbody>\n",
       "    <tr>\n",
       "      <th>1629673</th>\n",
       "      <td>Jordan Poole</td>\n",
       "      <td>1971</td>\n",
       "      <td>4.184025</td>\n",
       "    </tr>\n",
       "    <tr>\n",
       "      <th>1630557</th>\n",
       "      <td>Corey Kispert</td>\n",
       "      <td>1166</td>\n",
       "      <td>3.650219</td>\n",
       "    </tr>\n",
       "    <tr>\n",
       "      <th>1629029</th>\n",
       "      <td>Luka Dončić</td>\n",
       "      <td>2625</td>\n",
       "      <td>3.601328</td>\n",
       "    </tr>\n",
       "    <tr>\n",
       "      <th>203944</th>\n",
       "      <td>Julius Randle</td>\n",
       "      <td>2020</td>\n",
       "      <td>3.587408</td>\n",
       "    </tr>\n",
       "    <tr>\n",
       "      <th>1630178</th>\n",
       "      <td>Tyrese Maxey</td>\n",
       "      <td>2037</td>\n",
       "      <td>3.584529</td>\n",
       "    </tr>\n",
       "    <tr>\n",
       "      <th>1631101</th>\n",
       "      <td>Shaedon Sharpe</td>\n",
       "      <td>981</td>\n",
       "      <td>3.177168</td>\n",
       "    </tr>\n",
       "    <tr>\n",
       "      <th>1629639</th>\n",
       "      <td>Tyler Herro</td>\n",
       "      <td>1963</td>\n",
       "      <td>3.066603</td>\n",
       "    </tr>\n",
       "    <tr>\n",
       "      <th>2544</th>\n",
       "      <td>LeBron James</td>\n",
       "      <td>2585</td>\n",
       "      <td>3.013821</td>\n",
       "    </tr>\n",
       "    <tr>\n",
       "      <th>1627814</th>\n",
       "      <td>Damion Lee</td>\n",
       "      <td>396</td>\n",
       "      <td>2.971641</td>\n",
       "    </tr>\n",
       "    <tr>\n",
       "      <th>203114</th>\n",
       "      <td>Khris Middleton</td>\n",
       "      <td>1106</td>\n",
       "      <td>2.930450</td>\n",
       "    </tr>\n",
       "    <tr>\n",
       "      <th>1628369</th>\n",
       "      <td>Jayson Tatum</td>\n",
       "      <td>2769</td>\n",
       "      <td>2.928647</td>\n",
       "    </tr>\n",
       "    <tr>\n",
       "      <th>1630162</th>\n",
       "      <td>Anthony Edwards</td>\n",
       "      <td>2695</td>\n",
       "      <td>2.926407</td>\n",
       "    </tr>\n",
       "    <tr>\n",
       "      <th>203507</th>\n",
       "      <td>Giannis Antetokounmpo</td>\n",
       "      <td>3026</td>\n",
       "      <td>2.855316</td>\n",
       "    </tr>\n",
       "    <tr>\n",
       "      <th>203897</th>\n",
       "      <td>Zach LaVine</td>\n",
       "      <td>2033</td>\n",
       "      <td>2.846595</td>\n",
       "    </tr>\n",
       "    <tr>\n",
       "      <th>1629013</th>\n",
       "      <td>Landry Shamet</td>\n",
       "      <td>528</td>\n",
       "      <td>2.797543</td>\n",
       "    </tr>\n",
       "    <tr>\n",
       "      <th>201572</th>\n",
       "      <td>Brook Lopez</td>\n",
       "      <td>1298</td>\n",
       "      <td>2.640801</td>\n",
       "    </tr>\n",
       "    <tr>\n",
       "      <th>1630224</th>\n",
       "      <td>Jalen Green</td>\n",
       "      <td>2143</td>\n",
       "      <td>2.627257</td>\n",
       "    </tr>\n",
       "    <tr>\n",
       "      <th>1630264</th>\n",
       "      <td>Anthony Gill</td>\n",
       "      <td>251</td>\n",
       "      <td>2.597759</td>\n",
       "    </tr>\n",
       "    <tr>\n",
       "      <th>1641706</th>\n",
       "      <td>Brandon Miller</td>\n",
       "      <td>674</td>\n",
       "      <td>2.586055</td>\n",
       "    </tr>\n",
       "    <tr>\n",
       "      <th>203967</th>\n",
       "      <td>Dario Šarić</td>\n",
       "      <td>329</td>\n",
       "      <td>2.583006</td>\n",
       "    </tr>\n",
       "  </tbody>\n",
       "</table>\n",
       "</div>"
      ],
      "text/plain": [
       "                     player_name  makes   z_score\n",
       "player_id                                        \n",
       "1629673             Jordan Poole   1971  4.184025\n",
       "1630557            Corey Kispert   1166  3.650219\n",
       "1629029              Luka Dončić   2625  3.601328\n",
       "203944             Julius Randle   2020  3.587408\n",
       "1630178             Tyrese Maxey   2037  3.584529\n",
       "1631101           Shaedon Sharpe    981  3.177168\n",
       "1629639              Tyler Herro   1963  3.066603\n",
       "2544                LeBron James   2585  3.013821\n",
       "1627814               Damion Lee    396  2.971641\n",
       "203114           Khris Middleton   1106  2.930450\n",
       "1628369             Jayson Tatum   2769  2.928647\n",
       "1630162          Anthony Edwards   2695  2.926407\n",
       "203507     Giannis Antetokounmpo   3026  2.855316\n",
       "203897               Zach LaVine   2033  2.846595\n",
       "1629013            Landry Shamet    528  2.797543\n",
       "201572               Brook Lopez   1298  2.640801\n",
       "1630224              Jalen Green   2143  2.627257\n",
       "1630264             Anthony Gill    251  2.597759\n",
       "1641706           Brandon Miller    674  2.586055\n",
       "203967               Dario Šarić    329  2.583006"
      ]
     },
     "execution_count": 60,
     "metadata": {},
     "output_type": "execute_result"
    }
   ],
   "source": [
    "lukewarm_hands = combined_df.loc[(combined_df.makes > 100) & (combined_df.z_score > 2.5)].copy()\n",
    "lukewarm_hands[[\"player_name\", \"makes\", \"z_score\"]].sort_values(\"z_score\", ascending=False)"
   ]
  },
  {
   "cell_type": "markdown",
   "id": "f539c402",
   "metadata": {},
   "source": [
    "And here are the *hot hands*."
   ]
  },
  {
   "cell_type": "code",
   "execution_count": 9,
   "id": "3b5ba575",
   "metadata": {},
   "outputs": [
    {
     "data": {
      "text/html": [
       "<div>\n",
       "<style scoped>\n",
       "    .dataframe tbody tr th:only-of-type {\n",
       "        vertical-align: middle;\n",
       "    }\n",
       "\n",
       "    .dataframe tbody tr th {\n",
       "        vertical-align: top;\n",
       "    }\n",
       "\n",
       "    .dataframe thead th {\n",
       "        text-align: right;\n",
       "    }\n",
       "</style>\n",
       "<table border=\"1\" class=\"dataframe\">\n",
       "  <thead>\n",
       "    <tr style=\"text-align: right;\">\n",
       "      <th></th>\n",
       "      <th>player_name</th>\n",
       "      <th>makes</th>\n",
       "      <th>z_score</th>\n",
       "    </tr>\n",
       "    <tr>\n",
       "      <th>player_id</th>\n",
       "      <th></th>\n",
       "      <th></th>\n",
       "      <th></th>\n",
       "    </tr>\n",
       "  </thead>\n",
       "  <tbody>\n",
       "    <tr>\n",
       "      <th>1626158</th>\n",
       "      <td>Richaun Holmes</td>\n",
       "      <td>425</td>\n",
       "      <td>-4.031970</td>\n",
       "    </tr>\n",
       "    <tr>\n",
       "      <th>1630314</th>\n",
       "      <td>Brandon Williams</td>\n",
       "      <td>223</td>\n",
       "      <td>-2.968918</td>\n",
       "    </tr>\n",
       "    <tr>\n",
       "      <th>203991</th>\n",
       "      <td>Clint Capela</td>\n",
       "      <td>1291</td>\n",
       "      <td>-2.392061</td>\n",
       "    </tr>\n",
       "    <tr>\n",
       "      <th>1630558</th>\n",
       "      <td>Davion Mitchell</td>\n",
       "      <td>902</td>\n",
       "      <td>-2.277522</td>\n",
       "    </tr>\n",
       "    <tr>\n",
       "      <th>1629052</th>\n",
       "      <td>Oshae Brissett</td>\n",
       "      <td>418</td>\n",
       "      <td>-2.163892</td>\n",
       "    </tr>\n",
       "    <tr>\n",
       "      <th>1630174</th>\n",
       "      <td>Aaron Nesmith</td>\n",
       "      <td>831</td>\n",
       "      <td>-2.126050</td>\n",
       "    </tr>\n",
       "    <tr>\n",
       "      <th>1631104</th>\n",
       "      <td>Blake Wesley</td>\n",
       "      <td>252</td>\n",
       "      <td>-2.070078</td>\n",
       "    </tr>\n",
       "    <tr>\n",
       "      <th>1628983</th>\n",
       "      <td>Shai Gilgeous-Alexander</td>\n",
       "      <td>2837</td>\n",
       "      <td>-2.040083</td>\n",
       "    </tr>\n",
       "  </tbody>\n",
       "</table>\n",
       "</div>"
      ],
      "text/plain": [
       "                       player_name  makes   z_score\n",
       "player_id                                          \n",
       "1626158             Richaun Holmes    425 -4.031970\n",
       "1630314           Brandon Williams    223 -2.968918\n",
       "203991                Clint Capela   1291 -2.392061\n",
       "1630558            Davion Mitchell    902 -2.277522\n",
       "1629052             Oshae Brissett    418 -2.163892\n",
       "1630174              Aaron Nesmith    831 -2.126050\n",
       "1631104               Blake Wesley    252 -2.070078\n",
       "1628983    Shai Gilgeous-Alexander   2837 -2.040083"
      ]
     },
     "execution_count": 9,
     "metadata": {},
     "output_type": "execute_result"
    }
   ],
   "source": [
    "hot_hands = combined_df.loc[(combined_df.makes > 100) & (combined_df.z_score < -2)].copy()\n",
    "hot_hands[[\"player_name\", \"makes\", \"z_score\"]].sort_values(\"z_score\", ascending=True)"
   ]
  },
  {
   "cell_type": "markdown",
   "id": "da9e8e13",
   "metadata": {},
   "source": [
    "There are far more *lukewarm hands* than *hot hands*."
   ]
  },
  {
   "cell_type": "code",
   "execution_count": 10,
   "id": "70fd03ae",
   "metadata": {},
   "outputs": [
    {
     "data": {
      "text/plain": [
       "48"
      ]
     },
     "execution_count": 10,
     "metadata": {},
     "output_type": "execute_result"
    }
   ],
   "source": [
    "sum(combined_df.z_score > 2)"
   ]
  },
  {
   "cell_type": "code",
   "execution_count": 11,
   "id": "80197ec5",
   "metadata": {},
   "outputs": [
    {
     "data": {
      "text/plain": [
       "9"
      ]
     },
     "execution_count": 11,
     "metadata": {},
     "output_type": "execute_result"
    }
   ],
   "source": [
    "sum(combined_df.z_score < -2)"
   ]
  },
  {
   "cell_type": "markdown",
   "id": "a0e44b69",
   "metadata": {},
   "source": [
    "We'd expect there to be about 13 players with a z score greater than 2. Instead there are 48."
   ]
  },
  {
   "cell_type": "code",
   "execution_count": 12,
   "id": "053ac216",
   "metadata": {},
   "outputs": [
    {
     "data": {
      "text/plain": [
       "np.float64(12.785574154876711)"
      ]
     },
     "execution_count": 12,
     "metadata": {},
     "output_type": "execute_result"
    }
   ],
   "source": [
    "scipy.stats.norm.cdf(-2) * len(combined_df)"
   ]
  },
  {
   "cell_type": "markdown",
   "id": "3e625e82",
   "metadata": {},
   "source": [
    "Assuming the distribution is normal and the mean is 0, we'd expect the outliers in both directions to be equally likely, so the 48-9 split is highly unusual."
   ]
  },
  {
   "cell_type": "code",
   "execution_count": 13,
   "id": "15d28fe1",
   "metadata": {},
   "outputs": [
    {
     "data": {
      "text/plain": [
       "np.float64(2.3957122914850285e-07)"
      ]
     },
     "execution_count": 13,
     "metadata": {},
     "output_type": "execute_result"
    }
   ],
   "source": [
    "scipy.stats.chisquare([48,9]).pvalue"
   ]
  },
  {
   "cell_type": "markdown",
   "id": "f4b3700c",
   "metadata": {},
   "source": [
    "As with the single season data, there's a pretty strong trend where the z-score (un-streakiness) goes up as the number of makes goes up.\n",
    "\n",
    "The blue line is the trend line. The two red lines are at -2 and +2. We'd expect there to be as many dots > 2 as < -2. clearly that's not the case. And most of the outliers in the negative direction (the \"hot hands\") are at a low volume of makes.\n",
    "\n",
    "The only *streaky* player at high volume in this 4 year window is Shai Gilgeous-Alexander, with a z-score of -2.04."
   ]
  },
  {
   "cell_type": "code",
   "execution_count": 17,
   "id": "a2936d69",
   "metadata": {},
   "outputs": [
    {
     "data": {
      "text/plain": [
       "<matplotlib.lines.Line2D at 0x1ff0117f490>"
      ]
     },
     "execution_count": 17,
     "metadata": {},
     "output_type": "execute_result"
    },
    {
     "data": {
      "image/png": "[encoded data removed]",
      "text/plain": [
       "<Figure size 500x500 with 1 Axes>"
      ]
     },
     "metadata": {},
     "output_type": "display_data"
    }
   ],
   "source": [
    "out = sns.lmplot(combined_df, x='makes', y='z_score')\n",
    "out.ax.axhline(-2, c=\"r\", ls=\"--\")\n",
    "out.ax.axhline(2, c=\"r\", ls=\"--\")\n"
   ]
  },
  {
   "cell_type": "markdown",
   "id": "bb947b6a",
   "metadata": {},
   "source": [
    "It's even clearer if I restrict it to players with over 500 makes."
   ]
  },
  {
   "cell_type": "code",
   "execution_count": 28,
   "id": "9ae3a6f7",
   "metadata": {},
   "outputs": [
    {
     "data": {
      "text/plain": [
       "265"
      ]
     },
     "execution_count": 28,
     "metadata": {},
     "output_type": "execute_result"
    }
   ],
   "source": [
    "len(high_volume)"
   ]
  },
  {
   "cell_type": "code",
   "execution_count": 19,
   "id": "bcbf4e80",
   "metadata": {},
   "outputs": [
    {
     "data": {
      "text/plain": [
       "<matplotlib.lines.Line2D at 0x1ff035eb810>"
      ]
     },
     "execution_count": 19,
     "metadata": {},
     "output_type": "execute_result"
    },
    {
     "data": {
      "image/png": "[encoded data removed]",
      "text/plain": [
       "<Figure size 500x500 with 1 Axes>"
      ]
     },
     "metadata": {},
     "output_type": "display_data"
    }
   ],
   "source": [
    "high_volume = combined_df[combined_df.makes > 500]\n",
    "\n",
    "out = sns.lmplot(high_volume, x='makes', y='z_score')\n",
    "out.ax.axhline(-2, c=\"r\", ls=\"--\")\n",
    "out.ax.axhline(2, c=\"r\", ls=\"--\")\n"
   ]
  },
  {
   "cell_type": "code",
   "execution_count": 22,
   "id": "2fca7e52",
   "metadata": {},
   "outputs": [
    {
     "data": {
      "text/plain": [
       "Text(0.5, 1.0, 'high volume, z-scores, 2021-2025')"
      ]
     },
     "execution_count": 22,
     "metadata": {},
     "output_type": "execute_result"
    },
    {
     "data": {
      "image/png": "[encoded data removed]",
      "text/plain": [
       "<Figure size 640x480 with 1 Axes>"
      ]
     },
     "metadata": {},
     "output_type": "display_data"
    }
   ],
   "source": [
    "x = np.linspace(-3,3,200)\n",
    "plt.plot(x, scipy.stats.norm.pdf(x, 0, 1))\n",
    "out = plt.hist(high_volume.z_score, bins=16, density=True)\n",
    "plt.title(\"high volume, z-scores, 2021-2025\")"
   ]
  },
  {
   "cell_type": "code",
   "execution_count": 16,
   "id": "f18719bc",
   "metadata": {},
   "outputs": [
    {
     "data": {
      "text/plain": [
       "np.float64(0.27668618294801045)"
      ]
     },
     "execution_count": 16,
     "metadata": {},
     "output_type": "execute_result"
    }
   ],
   "source": [
    "high_volume.makes.corr(high_volume.z_score)"
   ]
  },
  {
   "cell_type": "markdown",
   "id": "0553c17d",
   "metadata": {},
   "source": [
    "The distribution of the z scores is normal-ish. It's just not centered at 0, and the standard deviation is greater than 1."
   ]
  },
  {
   "cell_type": "code",
   "execution_count": 17,
   "id": "1a2ae649",
   "metadata": {},
   "outputs": [
    {
     "data": {
      "text/plain": [
       "np.float64(0.7888158478998424)"
      ]
     },
     "execution_count": 17,
     "metadata": {},
     "output_type": "execute_result"
    }
   ],
   "source": [
    "scipy.stats.shapiro(high_volume.z_score).pvalue"
   ]
  },
  {
   "cell_type": "code",
   "execution_count": 59,
   "id": "436deefd",
   "metadata": {},
   "outputs": [
    {
     "data": {
      "text/plain": [
       "count    265.000000\n",
       "mean       0.680097\n",
       "std        1.217946\n",
       "min       -2.392061\n",
       "25%       -0.149211\n",
       "50%        0.776917\n",
       "75%        1.485595\n",
       "max        4.184025\n",
       "Name: z_score, dtype: float64"
      ]
     },
     "execution_count": 59,
     "metadata": {},
     "output_type": "execute_result"
    }
   ],
   "source": [
    "high_volume.z_score.describe()"
   ]
  },
  {
   "cell_type": "markdown",
   "id": "63e43087",
   "metadata": {},
   "source": [
    "It's not remotely plausible that the sample mean would be .680 if the true mean was 0."
   ]
  },
  {
   "cell_type": "code",
   "execution_count": 32,
   "id": "4a5d3841",
   "metadata": {},
   "outputs": [
    {
     "name": "stdout",
     "output_type": "stream",
     "text": [
      "11.07118072345118\n"
     ]
    }
   ],
   "source": [
    "# assuming these come from a standard normal, the sd of the sample mean should be:\n",
    "sd_of_sample_mean = np.sqrt(1/len(high_volume))\n",
    "\n",
    "z_score_zero_mean = high_volume.z_score.mean() /  sd_of_sample_mean\n",
    "\n",
    "print(z_score_zero_mean)"
   ]
  },
  {
   "cell_type": "code",
   "execution_count": 31,
   "id": "068787da",
   "metadata": {},
   "outputs": [
    {
     "data": {
      "text/plain": [
       "np.float64(0.0)"
      ]
     },
     "execution_count": 31,
     "metadata": {},
     "output_type": "execute_result"
    }
   ],
   "source": [
    "p_value_zero_mean = scipy.stats.norm.cdf(z_score_zero_mean)\n",
    "\n",
    "1- p_value_zero_mean"
   ]
  },
  {
   "cell_type": "markdown",
   "id": "730c2c77",
   "metadata": {},
   "source": [
    "Curious."
   ]
  },
  {
   "cell_type": "markdown",
   "id": "1c96e1cc",
   "metadata": {},
   "source": [
    "### What about streak lengths?\n",
    "\n",
    "Let's say we look at the length of every streak of makes for every player.\n",
    "\n",
    "We can then simulate every player's results and track the streak lengths in the simulated data. \n",
    "What does the difference between the expected streak frequencies and the actual frequencies look like?\n",
    "\n",
    "This isn't totally scientific. Each time we generate the fake data, it will be a tiny bit different. But it should give us a sense of how actual player data differs from flipping coins.\n"
   ]
  },
  {
   "cell_type": "code",
   "execution_count": 24,
   "id": "bd5e07ae",
   "metadata": {},
   "outputs": [],
   "source": [
    "def get_streaks(some_df, type=\"make\"):\n",
    "\n",
    "    actual_streaks = pd.Series()\n",
    "    fake_streaks = pd.Series()\n",
    "\n",
    "    for player_id in some_df.index:\n",
    "        current_raw_data = some_df.loc[player_id, 'raw_data']\n",
    "        if type == \"make\":\n",
    "            current_lengths = sp.get_make_lengths(current_raw_data)\n",
    "            key = \"make_lengths\"\n",
    "        else:\n",
    "            current_lengths = sp.get_miss_lengths(current_raw_data)\n",
    "            key = \"miss_lengths\"\n",
    "\n",
    "        actual_streaks = actual_streaks.add(current_lengths, fill_value=0)\n",
    "        \n",
    "        \n",
    "        makes = some_df.loc[player_id, 'makes']\n",
    "        misses = some_df.loc[player_id, 'misses']\n",
    "        # I'm creating an array with the same number of makes and misses as the original\n",
    "        # and then shuffling it.\n",
    "        fake_results = [1 for x in range(makes)] + [0 for x in range(misses)]\n",
    "        rng.shuffle(fake_results)\n",
    "\n",
    "        fake_streak_data = sp.convert_to_streaks(pd.Series(fake_results))\n",
    "        \n",
    "        fake_streaks = fake_streaks.add(fake_streak_data[key], fill_value=0)\n",
    "\n",
    "    return (actual_streaks, fake_streaks)"
   ]
  },
  {
   "cell_type": "code",
   "execution_count": 25,
   "id": "6cafee48",
   "metadata": {},
   "outputs": [],
   "source": [
    "def gen_results(some_df, type=\"make\"):\n",
    "    (actual_streaks, fake_streaks) = get_streaks(some_df, type)\n",
    "\n",
    "    count_diffs = actual_streaks.subtract(fake_streaks, fill_value=0) \n",
    "\n",
    "    percent_diffs = count_diffs / fake_streaks\n",
    "\n",
    "    ret = pd.DataFrame({'actual': actual_streaks, 'predicted': fake_streaks, \n",
    "                        'count_diff': count_diffs, 'percent_diff': percent_diffs})\n",
    "    ret.index.name='streak length'\n",
    "\n",
    "    ret['in_a_row'] = ret.index\n",
    "    \n",
    "    return ret"
   ]
  },
  {
   "cell_type": "markdown",
   "id": "8b87cca6",
   "metadata": {},
   "source": [
    "### Streak Lengths"
   ]
  },
  {
   "cell_type": "markdown",
   "id": "32f652c6",
   "metadata": {},
   "source": [
    "Here are the differences between the actual streaks of makes and the fake ones. Streaks of 1 and 2 are more frequent in the actual shot data than the simulated shot data. Streaks of 4-9 are less frequent in the actual shot data.\n",
    "\n",
    "The longer the streak, the less likely it is to happen. Streaks longer than 10 are extremely uncommon, so the results are too noisy to be meaningful. The big thing to notice here is that streaks of 1 and 2 are the most common, and are happening more frequently than they should by chance."
   ]
  },
  {
   "cell_type": "code",
   "execution_count": 26,
   "id": "29177ce5",
   "metadata": {},
   "outputs": [],
   "source": [
    "streak_results = gen_results(combined_df)"
   ]
  },
  {
   "cell_type": "code",
   "execution_count": 27,
   "id": "62a6af45",
   "metadata": {},
   "outputs": [
    {
     "data": {
      "text/html": [
       "<div>\n",
       "<style scoped>\n",
       "    .dataframe tbody tr th:only-of-type {\n",
       "        vertical-align: middle;\n",
       "    }\n",
       "\n",
       "    .dataframe tbody tr th {\n",
       "        vertical-align: top;\n",
       "    }\n",
       "\n",
       "    .dataframe thead th {\n",
       "        text-align: right;\n",
       "    }\n",
       "</style>\n",
       "<table border=\"1\" class=\"dataframe\">\n",
       "  <thead>\n",
       "    <tr style=\"text-align: right;\">\n",
       "      <th></th>\n",
       "      <th>actual</th>\n",
       "      <th>predicted</th>\n",
       "      <th>count_diff</th>\n",
       "      <th>percent_diff</th>\n",
       "      <th>in_a_row</th>\n",
       "    </tr>\n",
       "    <tr>\n",
       "      <th>streak length</th>\n",
       "      <th></th>\n",
       "      <th></th>\n",
       "      <th></th>\n",
       "      <th></th>\n",
       "      <th></th>\n",
       "    </tr>\n",
       "  </thead>\n",
       "  <tbody>\n",
       "    <tr>\n",
       "      <th>1</th>\n",
       "      <td>105890.0</td>\n",
       "      <td>103653.0</td>\n",
       "      <td>2237.0</td>\n",
       "      <td>0.021582</td>\n",
       "      <td>1</td>\n",
       "    </tr>\n",
       "    <tr>\n",
       "      <th>2</th>\n",
       "      <td>49498.0</td>\n",
       "      <td>48060.0</td>\n",
       "      <td>1438.0</td>\n",
       "      <td>0.029921</td>\n",
       "      <td>2</td>\n",
       "    </tr>\n",
       "    <tr>\n",
       "      <th>3</th>\n",
       "      <td>22795.0</td>\n",
       "      <td>22786.0</td>\n",
       "      <td>9.0</td>\n",
       "      <td>0.000395</td>\n",
       "      <td>3</td>\n",
       "    </tr>\n",
       "    <tr>\n",
       "      <th>4</th>\n",
       "      <td>10705.0</td>\n",
       "      <td>10866.0</td>\n",
       "      <td>-161.0</td>\n",
       "      <td>-0.014817</td>\n",
       "      <td>4</td>\n",
       "    </tr>\n",
       "    <tr>\n",
       "      <th>5</th>\n",
       "      <td>4904.0</td>\n",
       "      <td>5316.0</td>\n",
       "      <td>-412.0</td>\n",
       "      <td>-0.077502</td>\n",
       "      <td>5</td>\n",
       "    </tr>\n",
       "    <tr>\n",
       "      <th>6</th>\n",
       "      <td>2337.0</td>\n",
       "      <td>2622.0</td>\n",
       "      <td>-285.0</td>\n",
       "      <td>-0.108696</td>\n",
       "      <td>6</td>\n",
       "    </tr>\n",
       "    <tr>\n",
       "      <th>7</th>\n",
       "      <td>1144.0</td>\n",
       "      <td>1265.0</td>\n",
       "      <td>-121.0</td>\n",
       "      <td>-0.095652</td>\n",
       "      <td>7</td>\n",
       "    </tr>\n",
       "    <tr>\n",
       "      <th>8</th>\n",
       "      <td>652.0</td>\n",
       "      <td>667.0</td>\n",
       "      <td>-15.0</td>\n",
       "      <td>-0.022489</td>\n",
       "      <td>8</td>\n",
       "    </tr>\n",
       "    <tr>\n",
       "      <th>9</th>\n",
       "      <td>289.0</td>\n",
       "      <td>341.0</td>\n",
       "      <td>-52.0</td>\n",
       "      <td>-0.152493</td>\n",
       "      <td>9</td>\n",
       "    </tr>\n",
       "    <tr>\n",
       "      <th>10</th>\n",
       "      <td>193.0</td>\n",
       "      <td>185.0</td>\n",
       "      <td>8.0</td>\n",
       "      <td>0.043243</td>\n",
       "      <td>10</td>\n",
       "    </tr>\n",
       "  </tbody>\n",
       "</table>\n",
       "</div>"
      ],
      "text/plain": [
       "                 actual predicted count_diff percent_diff  in_a_row\n",
       "streak length                                                      \n",
       "1              105890.0  103653.0     2237.0     0.021582         1\n",
       "2               49498.0   48060.0     1438.0     0.029921         2\n",
       "3               22795.0   22786.0        9.0     0.000395         3\n",
       "4               10705.0   10866.0     -161.0    -0.014817         4\n",
       "5                4904.0    5316.0     -412.0    -0.077502         5\n",
       "6                2337.0    2622.0     -285.0    -0.108696         6\n",
       "7                1144.0    1265.0     -121.0    -0.095652         7\n",
       "8                 652.0     667.0      -15.0    -0.022489         8\n",
       "9                 289.0     341.0      -52.0    -0.152493         9\n",
       "10                193.0     185.0        8.0     0.043243        10"
      ]
     },
     "execution_count": 27,
     "metadata": {},
     "output_type": "execute_result"
    }
   ],
   "source": [
    "streak_results[0:10]"
   ]
  },
  {
   "cell_type": "markdown",
   "id": "f110ebd1",
   "metadata": {},
   "source": [
    "Restricting to just high volume shooters doesn't change much."
   ]
  },
  {
   "cell_type": "code",
   "execution_count": 44,
   "id": "2cd1e264",
   "metadata": {},
   "outputs": [],
   "source": [
    "make_results = gen_results(high_volume)"
   ]
  },
  {
   "cell_type": "code",
   "execution_count": 47,
   "id": "482527b2",
   "metadata": {},
   "outputs": [
    {
     "data": {
      "text/html": [
       "<div>\n",
       "<style scoped>\n",
       "    .dataframe tbody tr th:only-of-type {\n",
       "        vertical-align: middle;\n",
       "    }\n",
       "\n",
       "    .dataframe tbody tr th {\n",
       "        vertical-align: top;\n",
       "    }\n",
       "\n",
       "    .dataframe thead th {\n",
       "        text-align: right;\n",
       "    }\n",
       "</style>\n",
       "<table border=\"1\" class=\"dataframe\">\n",
       "  <thead>\n",
       "    <tr style=\"text-align: right;\">\n",
       "      <th></th>\n",
       "      <th>actual</th>\n",
       "      <th>predicted</th>\n",
       "      <th>count_diff</th>\n",
       "      <th>percent_diff</th>\n",
       "      <th>in_a_row</th>\n",
       "    </tr>\n",
       "    <tr>\n",
       "      <th>streak length</th>\n",
       "      <th></th>\n",
       "      <th></th>\n",
       "      <th></th>\n",
       "      <th></th>\n",
       "      <th></th>\n",
       "    </tr>\n",
       "  </thead>\n",
       "  <tbody>\n",
       "    <tr>\n",
       "      <th>1</th>\n",
       "      <td>89810.0</td>\n",
       "      <td>87834.0</td>\n",
       "      <td>1976.0</td>\n",
       "      <td>0.022497</td>\n",
       "      <td>1</td>\n",
       "    </tr>\n",
       "    <tr>\n",
       "      <th>2</th>\n",
       "      <td>42335.0</td>\n",
       "      <td>41360.0</td>\n",
       "      <td>975.0</td>\n",
       "      <td>0.023574</td>\n",
       "      <td>2</td>\n",
       "    </tr>\n",
       "    <tr>\n",
       "      <th>3</th>\n",
       "      <td>19664.0</td>\n",
       "      <td>19645.0</td>\n",
       "      <td>19.0</td>\n",
       "      <td>0.000967</td>\n",
       "      <td>3</td>\n",
       "    </tr>\n",
       "    <tr>\n",
       "      <th>4</th>\n",
       "      <td>9294.0</td>\n",
       "      <td>9167.0</td>\n",
       "      <td>127.0</td>\n",
       "      <td>0.013854</td>\n",
       "      <td>4</td>\n",
       "    </tr>\n",
       "    <tr>\n",
       "      <th>5</th>\n",
       "      <td>4260.0</td>\n",
       "      <td>4625.0</td>\n",
       "      <td>-365.0</td>\n",
       "      <td>-0.078919</td>\n",
       "      <td>5</td>\n",
       "    </tr>\n",
       "    <tr>\n",
       "      <th>6</th>\n",
       "      <td>2040.0</td>\n",
       "      <td>2179.0</td>\n",
       "      <td>-139.0</td>\n",
       "      <td>-0.063791</td>\n",
       "      <td>6</td>\n",
       "    </tr>\n",
       "    <tr>\n",
       "      <th>7</th>\n",
       "      <td>1011.0</td>\n",
       "      <td>1117.0</td>\n",
       "      <td>-106.0</td>\n",
       "      <td>-0.094897</td>\n",
       "      <td>7</td>\n",
       "    </tr>\n",
       "    <tr>\n",
       "      <th>8</th>\n",
       "      <td>564.0</td>\n",
       "      <td>587.0</td>\n",
       "      <td>-23.0</td>\n",
       "      <td>-0.039182</td>\n",
       "      <td>8</td>\n",
       "    </tr>\n",
       "    <tr>\n",
       "      <th>9</th>\n",
       "      <td>245.0</td>\n",
       "      <td>342.0</td>\n",
       "      <td>-97.0</td>\n",
       "      <td>-0.283626</td>\n",
       "      <td>9</td>\n",
       "    </tr>\n",
       "    <tr>\n",
       "      <th>10</th>\n",
       "      <td>162.0</td>\n",
       "      <td>178.0</td>\n",
       "      <td>-16.0</td>\n",
       "      <td>-0.089888</td>\n",
       "      <td>10</td>\n",
       "    </tr>\n",
       "  </tbody>\n",
       "</table>\n",
       "</div>"
      ],
      "text/plain": [
       "                actual predicted count_diff percent_diff  in_a_row\n",
       "streak length                                                     \n",
       "1              89810.0   87834.0     1976.0     0.022497         1\n",
       "2              42335.0   41360.0      975.0     0.023574         2\n",
       "3              19664.0   19645.0       19.0     0.000967         3\n",
       "4               9294.0    9167.0      127.0     0.013854         4\n",
       "5               4260.0    4625.0     -365.0    -0.078919         5\n",
       "6               2040.0    2179.0     -139.0    -0.063791         6\n",
       "7               1011.0    1117.0     -106.0    -0.094897         7\n",
       "8                564.0     587.0      -23.0    -0.039182         8\n",
       "9                245.0     342.0      -97.0    -0.283626         9\n",
       "10               162.0     178.0      -16.0    -0.089888        10"
      ]
     },
     "execution_count": 47,
     "metadata": {},
     "output_type": "execute_result"
    }
   ],
   "source": [
    "make_results[0:10]"
   ]
  },
  {
   "cell_type": "markdown",
   "id": "36de2988",
   "metadata": {},
   "source": [
    "Streaks of misses behave similarly to the makes. Streaks of 1-2 misses are more common in actual shot data than expected, streaks longer than that are less common than expected."
   ]
  },
  {
   "cell_type": "code",
   "execution_count": 30,
   "id": "ae482b74",
   "metadata": {},
   "outputs": [],
   "source": [
    "miss_results = gen_results(high_volume, \"miss\")"
   ]
  },
  {
   "cell_type": "code",
   "execution_count": 38,
   "id": "0cfe05e3",
   "metadata": {},
   "outputs": [],
   "source": [
    "miss_results['in_a_row'] = miss_results.index"
   ]
  },
  {
   "cell_type": "code",
   "execution_count": 49,
   "id": "67552958",
   "metadata": {},
   "outputs": [
    {
     "data": {
      "text/html": [
       "<div>\n",
       "<style scoped>\n",
       "    .dataframe tbody tr th:only-of-type {\n",
       "        vertical-align: middle;\n",
       "    }\n",
       "\n",
       "    .dataframe tbody tr th {\n",
       "        vertical-align: top;\n",
       "    }\n",
       "\n",
       "    .dataframe thead th {\n",
       "        text-align: right;\n",
       "    }\n",
       "</style>\n",
       "<table border=\"1\" class=\"dataframe\">\n",
       "  <thead>\n",
       "    <tr style=\"text-align: right;\">\n",
       "      <th></th>\n",
       "      <th>actual</th>\n",
       "      <th>predicted</th>\n",
       "      <th>count_diff</th>\n",
       "      <th>percent_diff</th>\n",
       "      <th>in_a_row</th>\n",
       "    </tr>\n",
       "  </thead>\n",
       "  <tbody>\n",
       "    <tr>\n",
       "      <th>1</th>\n",
       "      <td>81349.0</td>\n",
       "      <td>79806.0</td>\n",
       "      <td>1543.0</td>\n",
       "      <td>0.019334</td>\n",
       "      <td>1</td>\n",
       "    </tr>\n",
       "    <tr>\n",
       "      <th>2</th>\n",
       "      <td>42404.0</td>\n",
       "      <td>41088.0</td>\n",
       "      <td>1316.0</td>\n",
       "      <td>0.032029</td>\n",
       "      <td>2</td>\n",
       "    </tr>\n",
       "    <tr>\n",
       "      <th>3</th>\n",
       "      <td>21792.0</td>\n",
       "      <td>21825.0</td>\n",
       "      <td>-33.0</td>\n",
       "      <td>-0.001512</td>\n",
       "      <td>3</td>\n",
       "    </tr>\n",
       "    <tr>\n",
       "      <th>4</th>\n",
       "      <td>11384.0</td>\n",
       "      <td>11394.0</td>\n",
       "      <td>-10.0</td>\n",
       "      <td>-0.000878</td>\n",
       "      <td>4</td>\n",
       "    </tr>\n",
       "    <tr>\n",
       "      <th>5</th>\n",
       "      <td>5922.0</td>\n",
       "      <td>6082.0</td>\n",
       "      <td>-160.0</td>\n",
       "      <td>-0.026307</td>\n",
       "      <td>5</td>\n",
       "    </tr>\n",
       "    <tr>\n",
       "      <th>6</th>\n",
       "      <td>3093.0</td>\n",
       "      <td>3228.0</td>\n",
       "      <td>-135.0</td>\n",
       "      <td>-0.041822</td>\n",
       "      <td>6</td>\n",
       "    </tr>\n",
       "    <tr>\n",
       "      <th>7</th>\n",
       "      <td>1679.0</td>\n",
       "      <td>1786.0</td>\n",
       "      <td>-107.0</td>\n",
       "      <td>-0.05991</td>\n",
       "      <td>7</td>\n",
       "    </tr>\n",
       "    <tr>\n",
       "      <th>8</th>\n",
       "      <td>919.0</td>\n",
       "      <td>928.0</td>\n",
       "      <td>-9.0</td>\n",
       "      <td>-0.009698</td>\n",
       "      <td>8</td>\n",
       "    </tr>\n",
       "    <tr>\n",
       "      <th>9</th>\n",
       "      <td>485.0</td>\n",
       "      <td>550.0</td>\n",
       "      <td>-65.0</td>\n",
       "      <td>-0.118182</td>\n",
       "      <td>9</td>\n",
       "    </tr>\n",
       "    <tr>\n",
       "      <th>10</th>\n",
       "      <td>289.0</td>\n",
       "      <td>306.0</td>\n",
       "      <td>-17.0</td>\n",
       "      <td>-0.055556</td>\n",
       "      <td>10</td>\n",
       "    </tr>\n",
       "    <tr>\n",
       "      <th>11</th>\n",
       "      <td>123.0</td>\n",
       "      <td>150.0</td>\n",
       "      <td>-27.0</td>\n",
       "      <td>-0.18</td>\n",
       "      <td>11</td>\n",
       "    </tr>\n",
       "    <tr>\n",
       "      <th>12</th>\n",
       "      <td>79.0</td>\n",
       "      <td>92.0</td>\n",
       "      <td>-13.0</td>\n",
       "      <td>-0.141304</td>\n",
       "      <td>12</td>\n",
       "    </tr>\n",
       "  </tbody>\n",
       "</table>\n",
       "</div>"
      ],
      "text/plain": [
       "     actual predicted count_diff percent_diff  in_a_row\n",
       "1   81349.0   79806.0     1543.0     0.019334         1\n",
       "2   42404.0   41088.0     1316.0     0.032029         2\n",
       "3   21792.0   21825.0      -33.0    -0.001512         3\n",
       "4   11384.0   11394.0      -10.0    -0.000878         4\n",
       "5    5922.0    6082.0     -160.0    -0.026307         5\n",
       "6    3093.0    3228.0     -135.0    -0.041822         6\n",
       "7    1679.0    1786.0     -107.0     -0.05991         7\n",
       "8     919.0     928.0       -9.0    -0.009698         8\n",
       "9     485.0     550.0      -65.0    -0.118182         9\n",
       "10    289.0     306.0      -17.0    -0.055556        10\n",
       "11    123.0     150.0      -27.0        -0.18        11\n",
       "12     79.0      92.0      -13.0    -0.141304        12"
      ]
     },
     "execution_count": 49,
     "metadata": {},
     "output_type": "execute_result"
    }
   ],
   "source": [
    "miss_results.loc[0:12]"
   ]
  },
  {
   "cell_type": "code",
   "execution_count": 48,
   "id": "bc5dcf21",
   "metadata": {},
   "outputs": [
    {
     "data": {
      "text/plain": [
       "<matplotlib.lines.Line2D at 0x17a0ad5fd10>"
      ]
     },
     "execution_count": 48,
     "metadata": {},
     "output_type": "execute_result"
    },
    {
     "data": {
      "image/png": "[encoded data removed]",
      "text/plain": [
       "<Figure size 640x480 with 1 Axes>"
      ]
     },
     "metadata": {},
     "output_type": "display_data"
    }
   ],
   "source": [
    "chart = sns.lineplot(x=miss_results.loc[0:12].in_a_row, y=miss_results.loc[0:12].percent_diff)\n",
    "chart.axhline(0, color='r')"
   ]
  },
  {
   "cell_type": "markdown",
   "id": "40c1f35f",
   "metadata": {},
   "source": [
    "### Now What?\n",
    "\n",
    "Although I think I've successfully discounted the notion of the hot hand, at least as a league-wide phenomenon, I still haven't explained where the bias towards un-streakiness is coming from.\n",
    "\n",
    "It's interesting to think about how to pin down which shots are responsible for the un-streakiness, though I don't know if it's really possible. But thinking about it led me to a common-sense explanation of the unstreakiness.\n",
    "\n",
    "If a player has missed a bunch of shots in a row, perhaps they will tend to take easier/higher percentage shots than usual. They're going to pass the ball or drive to the hoop instead of taking a long contested shot, for instance. We might pretend for the sake of simplicity that every shot has the same chances of going in, but that's not reality. Some shots are easier than others, and players can choose which shots they take.\n",
    "\n",
    "The same could go for a player who has made a bunch of shots in a row. Perhaps they are taking riskier/harder/lower percentage shots than usual -- the \"heat check\" moment where a player takes shots they usually wouldn't because they're on a *hot streak*.\n",
    "\n",
    "I'm also interested in if shooting percentages change throughout the game.  For instance, what is the percentage on the first shot of the game for a player versus the 10th? How do breaks in the action (times a player gets subbed out, or breaks between games) affect streakiness? If a player's last shot of the game is more likely to be a make than usual, and the first one to be a miss, that will lead to extra streaks.\n",
    "\n",
    "Imagine if we went through and flipped each shot in a sequence, one by one. Change each made shot to a missed shot, or vice versa, then recalculate the number of streaks. Each shot can increase/decrease the streak count by 2, or 0. I'm interested in the shots where flipping them would decrease the streak count (in other words, lead to longer streaks and more coin-like behavior). These are the shots that are potentially responsible for the inflated numbere of streaks. When do these high leverage shots occur? "
   ]
  },
  {
   "cell_type": "markdown",
   "id": "bf51381f",
   "metadata": {},
   "source": [
    "* W *L* W  <- streak count is 3, would be 1 if the \"L\" was flipped\n",
    "* L *L* W  <- streak count is 2, would stay 2 if flipped\n",
    "* W *L* L  <- streak count is 2, would stay 2 if flipped\n",
    "* L *L* L  <- streak count is 1, would be 3 if flipped"
   ]
  },
  {
   "cell_type": "markdown",
   "id": "0981f32f",
   "metadata": {},
   "source": [
    "The most un-streaky player over a 4 year stretch was Jordan Poole. Let that sink in. Checkmate, atheists. Etc. I don't know how to feel about that as an NBA fan. The dude just seems to let it fly."
   ]
  },
  {
   "cell_type": "code",
   "execution_count": 1,
   "id": "162d2784",
   "metadata": {},
   "outputs": [
    {
     "ename": "NameError",
     "evalue": "name 'lukewarm_hands' is not defined",
     "output_type": "error",
     "traceback": [
      "\u001b[1;31m---------------------------------------------------------------------------\u001b[0m",
      "\u001b[1;31mNameError\u001b[0m                                 Traceback (most recent call last)",
      "Cell \u001b[1;32mIn[1], line 1\u001b[0m\n\u001b[1;32m----> 1\u001b[0m poole \u001b[38;5;241m=\u001b[39m \u001b[43mlukewarm_hands\u001b[49m\u001b[38;5;241m.\u001b[39mloc[\u001b[38;5;241m1629673\u001b[39m]\n",
      "\u001b[1;31mNameError\u001b[0m: name 'lukewarm_hands' is not defined"
     ]
    }
   ],
   "source": [
    "poole = lukewarm_hands.loc[1629673]"
   ]
  },
  {
   "cell_type": "code",
   "execution_count": 52,
   "id": "68a7da87",
   "metadata": {},
   "outputs": [
    {
     "data": {
      "text/plain": [
       "np.float64(138.8075999126445)"
      ]
     },
     "execution_count": 52,
     "metadata": {},
     "output_type": "execute_result"
    }
   ],
   "source": [
    "poole.total_streaks - poole.expected_streaks"
   ]
  },
  {
   "cell_type": "code",
   "execution_count": 54,
   "id": "000ecdc7",
   "metadata": {},
   "outputs": [
    {
     "data": {
      "text/plain": [
       "np.int64(4579)"
      ]
     },
     "execution_count": 54,
     "metadata": {},
     "output_type": "execute_result"
    }
   ],
   "source": [
    "poole.makes + poole.misses"
   ]
  },
  {
   "cell_type": "code",
   "execution_count": 56,
   "id": "a244e216",
   "metadata": {},
   "outputs": [
    {
     "data": {
      "text/plain": [
       "0.015287180607119458"
      ]
     },
     "execution_count": 56,
     "metadata": {},
     "output_type": "execute_result"
    }
   ],
   "source": [
    "70 / 4579"
   ]
  },
  {
   "cell_type": "markdown",
   "id": "eb69ec60",
   "metadata": {},
   "source": [
    "Each shot can alter the streak count by at most 2. So we'd be looking for around 70 shots out of 4579 total shots. That's not a lot.\n",
    "\n",
    "Rather than looking at individual players, I'll have to look at all the shots in aggregate because there is no way of knowing how much of the un-streakiness for a particular player is \"organic\" (caused by the randomness of the universe) and how much is \"artificial\" (caused by the player). "
   ]
  }
 ],
 "metadata": {
  "kernelspec": {
   "display_name": "Python 3",
   "language": "python",
   "name": "python3"
  },
  "language_info": {
   "codemirror_mode": {
    "name": "ipython",
    "version": 3
   },
   "file_extension": ".py",
   "mimetype": "text/x-python",
   "name": "python",
   "nbconvert_exporter": "python",
   "pygments_lexer": "ipython3",
   "version": "3.11.9"
  }
 },
 "nbformat": 4,
 "nbformat_minor": 5
}
