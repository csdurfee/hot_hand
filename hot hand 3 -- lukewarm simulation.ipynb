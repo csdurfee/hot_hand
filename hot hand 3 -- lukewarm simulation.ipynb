{
 "cells": [
  {
   "cell_type": "markdown",
   "id": "859c3778",
   "metadata": {},
   "source": [
    "# The Lukewarm Hand, part 3\n",
    "\n",
    "\n",
    "I decided to code up a simulation of what a \"lukewarm\" player might look like. How would that affect the distribution of z scores?\n",
    "\n",
    "I'm not totally sure how to model it, because the whole idea is kind of ridiculous."
   ]
  },
  {
   "cell_type": "code",
   "execution_count": 1,
   "id": "af398e5a",
   "metadata": {},
   "outputs": [],
   "source": [
    "import streaky_players\n",
    "import wald_wolfowitz\n",
    "import streak_converter\n",
    "import simulate_lukewarm\n",
    "\n",
    "# the song of my people\n",
    "import numpy as np\n",
    "import pandas as pd\n",
    "import matplotlib.pyplot as plt\n",
    "import scipy.stats"
   ]
  },
  {
   "cell_type": "markdown",
   "id": "971916ab",
   "metadata": {},
   "source": [
    "## Gotta Start Somewhere\n",
    "\n",
    "First, a really naive attempt. Each player will put up 900 shots a year, split across 60 games. I'm making the base shooting percentage 50%. If a player, call him Luke, has taken at least 8 attempts in the game, and made at least 80% of them, his shooting percentage goes down to 30%, and if he's missed at least 80% of them, his shooting percentage goes up to 70%."
   ]
  },
  {
   "cell_type": "code",
   "execution_count": 2,
   "id": "e04efb21",
   "metadata": {},
   "outputs": [],
   "source": [
    "def sim_season():\n",
    "    GAMES = 60 # they miss some games, say\n",
    "    SHOTS = 15 # this is actually pretty high for an average player, I think\n",
    "\n",
    "    luke = streaky_players.LukewarmPlayer(shooting_percentage=.5)\n",
    "    luke.MIN_ATTEMPTS = 8\n",
    "\n",
    "    makes_misses = []\n",
    "    for game in range(GAMES):\n",
    "        for shot in range(SHOTS):\n",
    "            makes_misses.append(luke.take_shot())\n",
    "        luke.end_game()\n",
    "    return pd.Series(makes_misses)\n",
    "\n",
    "def handle_season(results):\n",
    "    makes = sum(results > 0)\n",
    "    misses = sum(results == 0)\n",
    "    if (makes + misses) > 3:\n",
    "        expected = wald_wolfowitz.get_expected_streaks(makes, misses)\n",
    "        streak_data = streak_converter.convert_to_streaks(results)\n",
    "        total_streaks = streak_data['total_streaks']\n",
    "        variance = wald_wolfowitz.get_variance(makes, misses, expected)\n",
    "        if variance > 0:\n",
    "            z_score = (total_streaks - expected) / np.sqrt(variance)\n",
    "            return (total_streaks, expected, variance, z_score)\n",
    "        else:\n",
    "            return None\n",
    "    else:\n",
    "        return None # not enough data!\n",
    "\n",
    "def sim_multiple(num_seasons):\n",
    "    seasons_result = []\n",
    "    for x in range(num_seasons):\n",
    "        results = sim_season()\n",
    "        stat_results = handle_season(results)\n",
    "        seasons_result.append(stat_results)\n",
    "\n",
    "    return seasons_result"
   ]
  },
  {
   "cell_type": "markdown",
   "id": "f03d9eba",
   "metadata": {},
   "source": [
    "I'm going to look at 5000 simulated players."
   ]
  },
  {
   "cell_type": "code",
   "execution_count": 3,
   "id": "2fddcf4e",
   "metadata": {},
   "outputs": [],
   "source": [
    "luke = sim_multiple(550)"
   ]
  },
  {
   "cell_type": "code",
   "execution_count": 4,
   "id": "6a0c4ddb",
   "metadata": {},
   "outputs": [
    {
     "data": {
      "image/png": "[encoded data removed]",
      "text/plain": [
       "<Figure size 640x480 with 1 Axes>"
      ]
     },
     "metadata": {},
     "output_type": "display_data"
    }
   ],
   "source": [
    "def summary_plot(sim):\n",
    "    sim_summary = pd.DataFrame(sim, columns=[\"actual\", \"expected\", \"variance\", \"z_score\"])\n",
    "    x = np.linspace(-4,4,200)\n",
    "    plt.plot(x, scipy.stats.norm.pdf(x, 0, 1))\n",
    "    sim_summary.z_score.hist(bins=16, density=True)\n",
    "\n",
    "    return sim_summary\n",
    "\n",
    "\n",
    "luke_summary = summary_plot(luke)"
   ]
  },
  {
   "cell_type": "code",
   "execution_count": 5,
   "id": "a2607760",
   "metadata": {},
   "outputs": [
    {
     "data": {
      "text/plain": [
       "count    550.000000\n",
       "mean       0.089128\n",
       "std        1.033592\n",
       "min       -3.128572\n",
       "25%       -0.598772\n",
       "50%        0.087249\n",
       "75%        0.754750\n",
       "max        3.746083\n",
       "Name: z_score, dtype: float64"
      ]
     },
     "execution_count": 5,
     "metadata": {},
     "output_type": "execute_result"
    }
   ],
   "source": [
    "luke_summary.z_score.describe()"
   ]
  },
  {
   "cell_type": "markdown",
   "id": "bec31f85",
   "metadata": {},
   "source": [
    "as expected it did shift the mean to the right (\"unstreaky\" side), but didn't increase the standard deviation.\n",
    "\n",
    "I should simulate a realistic season with the shooting percentages and number of attempts matching actual players."
   ]
  },
  {
   "cell_type": "code",
   "execution_count": 6,
   "id": "29e7ef38",
   "metadata": {},
   "outputs": [],
   "source": [
    "import player_streaks\n",
    "ps = player_streaks.PlayerStreaks()\n",
    "\n",
    "actual_data = ps.get_data_with_stats()"
   ]
  },
  {
   "cell_type": "code",
   "execution_count": 7,
   "id": "65af1077",
   "metadata": {},
   "outputs": [],
   "source": [
    "df_season = pd.DataFrame({'attempts': actual_data.makes + actual_data.misses,\n",
    "                          'shooting_percentage': actual_data.makes / (actual_data.makes + actual_data.misses)})"
   ]
  },
  {
   "cell_type": "code",
   "execution_count": 8,
   "id": "e25cffc5",
   "metadata": {},
   "outputs": [
    {
     "data": {
      "text/html": [
       "<div>\n",
       "<style scoped>\n",
       "    .dataframe tbody tr th:only-of-type {\n",
       "        vertical-align: middle;\n",
       "    }\n",
       "\n",
       "    .dataframe tbody tr th {\n",
       "        vertical-align: top;\n",
       "    }\n",
       "\n",
       "    .dataframe thead th {\n",
       "        text-align: right;\n",
       "    }\n",
       "</style>\n",
       "<table border=\"1\" class=\"dataframe\">\n",
       "  <thead>\n",
       "    <tr style=\"text-align: right;\">\n",
       "      <th></th>\n",
       "      <th>attempts</th>\n",
       "      <th>shooting_percentage</th>\n",
       "    </tr>\n",
       "    <tr>\n",
       "      <th>player_id</th>\n",
       "      <th></th>\n",
       "      <th></th>\n",
       "    </tr>\n",
       "  </thead>\n",
       "  <tbody>\n",
       "    <tr>\n",
       "      <th>1630173</th>\n",
       "      <td>327</td>\n",
       "      <td>0.501529</td>\n",
       "    </tr>\n",
       "    <tr>\n",
       "      <th>203500</th>\n",
       "      <td>167</td>\n",
       "      <td>0.544910</td>\n",
       "    </tr>\n",
       "    <tr>\n",
       "      <th>1628389</th>\n",
       "      <td>1113</td>\n",
       "      <td>0.485175</td>\n",
       "    </tr>\n",
       "    <tr>\n",
       "      <th>1630534</th>\n",
       "      <td>534</td>\n",
       "      <td>0.498127</td>\n",
       "    </tr>\n",
       "    <tr>\n",
       "      <th>1630583</th>\n",
       "      <td>648</td>\n",
       "      <td>0.483025</td>\n",
       "    </tr>\n",
       "    <tr>\n",
       "      <th>...</th>\n",
       "      <td>...</td>\n",
       "      <td>...</td>\n",
       "    </tr>\n",
       "    <tr>\n",
       "      <th>1629027</th>\n",
       "      <td>1376</td>\n",
       "      <td>0.411337</td>\n",
       "    </tr>\n",
       "    <tr>\n",
       "      <th>1627826</th>\n",
       "      <td>942</td>\n",
       "      <td>0.628450</td>\n",
       "    </tr>\n",
       "    <tr>\n",
       "      <th>1641783</th>\n",
       "      <td>483</td>\n",
       "      <td>0.412008</td>\n",
       "    </tr>\n",
       "    <tr>\n",
       "      <th>1628427</th>\n",
       "      <td>26</td>\n",
       "      <td>0.384615</td>\n",
       "    </tr>\n",
       "    <tr>\n",
       "      <th>203967</th>\n",
       "      <td>58</td>\n",
       "      <td>0.362069</td>\n",
       "    </tr>\n",
       "  </tbody>\n",
       "</table>\n",
       "<p>572 rows × 2 columns</p>\n",
       "</div>"
      ],
      "text/plain": [
       "           attempts  shooting_percentage\n",
       "player_id                               \n",
       "1630173         327             0.501529\n",
       "203500          167             0.544910\n",
       "1628389        1113             0.485175\n",
       "1630534         534             0.498127\n",
       "1630583         648             0.483025\n",
       "...             ...                  ...\n",
       "1629027        1376             0.411337\n",
       "1627826         942             0.628450\n",
       "1641783         483             0.412008\n",
       "1628427          26             0.384615\n",
       "203967           58             0.362069\n",
       "\n",
       "[572 rows x 2 columns]"
      ]
     },
     "execution_count": 8,
     "metadata": {},
     "output_type": "execute_result"
    }
   ],
   "source": [
    "df_season"
   ]
  },
  {
   "cell_type": "markdown",
   "id": "b1d02fac",
   "metadata": {},
   "source": [
    "I will loop through df_season and simulate each one with lukewarmplayer. the problem is I don't have a realistic number of shots per game, because I didn't collect number of games played.\n",
    "\n",
    "I found 4 attempts before the \"unstreaky\" behavior kicks in to produce pretty realistic results."
   ]
  },
  {
   "cell_type": "code",
   "execution_count": 9,
   "id": "cfc4e8ca",
   "metadata": {},
   "outputs": [],
   "source": [
    "def sim_season_realistic(df):\n",
    "    results = []\n",
    "    for i, row in df.iterrows():\n",
    "        sim_player = streaky_players.LukewarmPlayer(shooting_percentage=row.shooting_percentage)\n",
    "        sim_player.MIN_ATTEMPTS = 4 # when streakiness kicks in. I don't know what number this should be.\n",
    "\n",
    "        ### THIS IS A WILD ASS GUESS, I have no idea how shot attampts per game are distributed\n",
    "        ### and should be using actual number of shots for each game.\n",
    "        approx_games = 50\n",
    "        approx_attempts = int(np.ceil(row.attempts/approx_games))\n",
    "        makes_misses = []\n",
    "        # like in the original research, I am concatenating game results\n",
    "        # onto one long season-wide list\n",
    "        for game in range(approx_games):\n",
    "            for shot in range(approx_attempts):\n",
    "                makes_misses.append(sim_player.take_shot())\n",
    "            sim_player.end_game()\n",
    "        season_stats = handle_season(pd.Series(makes_misses))\n",
    "        if season_stats:\n",
    "            results.append(season_stats)\n",
    "    return results            "
   ]
  },
  {
   "cell_type": "code",
   "execution_count": 10,
   "id": "dd72e7c8",
   "metadata": {},
   "outputs": [],
   "source": [
    "ssr = sim_season_realistic(df_season)"
   ]
  },
  {
   "cell_type": "code",
   "execution_count": 11,
   "id": "f7480f73",
   "metadata": {},
   "outputs": [],
   "source": [
    "sim_summary = pd.DataFrame(ssr, columns=[\"actual\", \"expected\", \"variance\", \"z_score\"])\n",
    "    "
   ]
  },
  {
   "cell_type": "code",
   "execution_count": 12,
   "id": "42b7b88f",
   "metadata": {},
   "outputs": [
    {
     "data": {
      "text/plain": [
       "count    554.000000\n",
       "mean       0.218401\n",
       "std        0.973750\n",
       "min       -2.795960\n",
       "25%       -0.361906\n",
       "50%        0.202471\n",
       "75%        0.854127\n",
       "max        3.052713\n",
       "Name: z_score, dtype: float64"
      ]
     },
     "execution_count": 12,
     "metadata": {},
     "output_type": "execute_result"
    }
   ],
   "source": [
    "sim_summary.z_score.describe()"
   ]
  },
  {
   "cell_type": "markdown",
   "id": "bafcd4e6",
   "metadata": {},
   "source": [
    "For reference, here were the actual numbers from the 2024-5 season:\n",
    "\n",
    "\n",
    "```\n",
    "count    554.000000\n",
    "mean       0.212491\n",
    "std        1.075563\n",
    "min       -3.081194\n",
    "25%       -0.546340\n",
    "50%        0.236554\n",
    "75%        0.951653\n",
    "max        3.054836\n",
    "Name: z_score, dtype: float64\n",
    "\n",
    "```"
   ]
  },
  {
   "cell_type": "markdown",
   "id": "941b3c4c",
   "metadata": {},
   "source": [
    "I don't think my model is really capturing the overdispersion. messing around with this simple sort of model hasn't \n",
    "\n",
    "ideas:\n",
    "\n",
    "\n",
    "high volume shooters are extra unstreaky? (this is implicitly happening because the anti-streakiness doesn't kick in until 4+ shots)\n",
    "\n",
    "unstreakiness works only in one direction? (don't get a boost when missing a lot, do get a penalty when making a lot)?\n",
    "\n",
    "I want actual # of shots per each game (not just average). make sim as close as possible. sometimes role players will have 1 or 2 games where they shoot a bunch of shots\n",
    "\n",
    "model a mixture of extra unstreaky and regular players?"
   ]
  },
  {
   "cell_type": "markdown",
   "id": "2c2969e2",
   "metadata": {},
   "source": [
    "## Looking at actual shot data\n",
    "I'm not happy with the fact that I'm not following the actual number of shots per game.\n",
    "\n",
    "I need complete shot data. If ound it downloadable from kaggle:\n",
    "\n",
    "https://www.kaggle.com/datasets/mexwell/nba-shots\n",
    "\n",
    "this is only up to 2023-24. the files are named after the 2nd year (2024) of the season rather than the first"
   ]
  },
  {
   "cell_type": "code",
   "execution_count": 13,
   "id": "5cec0682",
   "metadata": {},
   "outputs": [],
   "source": [
    "shots =  pd.read_csv(\"kaggle_data/NBA_2024_Shots.csv\")"
   ]
  },
  {
   "cell_type": "code",
   "execution_count": 14,
   "id": "c2d72c50",
   "metadata": {},
   "outputs": [
    {
     "data": {
      "text/html": [
       "<div>\n",
       "<style scoped>\n",
       "    .dataframe tbody tr th:only-of-type {\n",
       "        vertical-align: middle;\n",
       "    }\n",
       "\n",
       "    .dataframe tbody tr th {\n",
       "        vertical-align: top;\n",
       "    }\n",
       "\n",
       "    .dataframe thead th {\n",
       "        text-align: right;\n",
       "    }\n",
       "</style>\n",
       "<table border=\"1\" class=\"dataframe\">\n",
       "  <thead>\n",
       "    <tr style=\"text-align: right;\">\n",
       "      <th></th>\n",
       "      <th>SEASON_1</th>\n",
       "      <th>SEASON_2</th>\n",
       "      <th>TEAM_ID</th>\n",
       "      <th>TEAM_NAME</th>\n",
       "      <th>PLAYER_ID</th>\n",
       "      <th>PLAYER_NAME</th>\n",
       "      <th>POSITION_GROUP</th>\n",
       "      <th>POSITION</th>\n",
       "      <th>GAME_DATE</th>\n",
       "      <th>GAME_ID</th>\n",
       "      <th>...</th>\n",
       "      <th>BASIC_ZONE</th>\n",
       "      <th>ZONE_NAME</th>\n",
       "      <th>ZONE_ABB</th>\n",
       "      <th>ZONE_RANGE</th>\n",
       "      <th>LOC_X</th>\n",
       "      <th>LOC_Y</th>\n",
       "      <th>SHOT_DISTANCE</th>\n",
       "      <th>QUARTER</th>\n",
       "      <th>MINS_LEFT</th>\n",
       "      <th>SECS_LEFT</th>\n",
       "    </tr>\n",
       "  </thead>\n",
       "  <tbody>\n",
       "    <tr>\n",
       "      <th>0</th>\n",
       "      <td>2024</td>\n",
       "      <td>2023-24</td>\n",
       "      <td>1610612764</td>\n",
       "      <td>Washington Wizards</td>\n",
       "      <td>1629673</td>\n",
       "      <td>Jordan Poole</td>\n",
       "      <td>G</td>\n",
       "      <td>SG</td>\n",
       "      <td>11-03-2023</td>\n",
       "      <td>22300003</td>\n",
       "      <td>...</td>\n",
       "      <td>In The Paint (Non-RA)</td>\n",
       "      <td>Center</td>\n",
       "      <td>C</td>\n",
       "      <td>8-16 ft.</td>\n",
       "      <td>-0.4</td>\n",
       "      <td>17.45</td>\n",
       "      <td>12</td>\n",
       "      <td>1</td>\n",
       "      <td>11</td>\n",
       "      <td>1</td>\n",
       "    </tr>\n",
       "    <tr>\n",
       "      <th>1</th>\n",
       "      <td>2024</td>\n",
       "      <td>2023-24</td>\n",
       "      <td>1610612764</td>\n",
       "      <td>Washington Wizards</td>\n",
       "      <td>1630166</td>\n",
       "      <td>Deni Avdija</td>\n",
       "      <td>F</td>\n",
       "      <td>SF</td>\n",
       "      <td>11-03-2023</td>\n",
       "      <td>22300003</td>\n",
       "      <td>...</td>\n",
       "      <td>Above the Break 3</td>\n",
       "      <td>Center</td>\n",
       "      <td>C</td>\n",
       "      <td>24+ ft.</td>\n",
       "      <td>1.5</td>\n",
       "      <td>30.55</td>\n",
       "      <td>25</td>\n",
       "      <td>1</td>\n",
       "      <td>10</td>\n",
       "      <td>26</td>\n",
       "    </tr>\n",
       "    <tr>\n",
       "      <th>2</th>\n",
       "      <td>2024</td>\n",
       "      <td>2023-24</td>\n",
       "      <td>1610612764</td>\n",
       "      <td>Washington Wizards</td>\n",
       "      <td>1626145</td>\n",
       "      <td>Tyus Jones</td>\n",
       "      <td>G</td>\n",
       "      <td>PG</td>\n",
       "      <td>11-03-2023</td>\n",
       "      <td>22300003</td>\n",
       "      <td>...</td>\n",
       "      <td>Restricted Area</td>\n",
       "      <td>Center</td>\n",
       "      <td>C</td>\n",
       "      <td>Less Than 8 ft.</td>\n",
       "      <td>-3.3</td>\n",
       "      <td>6.55</td>\n",
       "      <td>3</td>\n",
       "      <td>1</td>\n",
       "      <td>9</td>\n",
       "      <td>46</td>\n",
       "    </tr>\n",
       "    <tr>\n",
       "      <th>3</th>\n",
       "      <td>2024</td>\n",
       "      <td>2023-24</td>\n",
       "      <td>1610612764</td>\n",
       "      <td>Washington Wizards</td>\n",
       "      <td>1629673</td>\n",
       "      <td>Jordan Poole</td>\n",
       "      <td>G</td>\n",
       "      <td>SG</td>\n",
       "      <td>11-03-2023</td>\n",
       "      <td>22300003</td>\n",
       "      <td>...</td>\n",
       "      <td>Restricted Area</td>\n",
       "      <td>Center</td>\n",
       "      <td>C</td>\n",
       "      <td>Less Than 8 ft.</td>\n",
       "      <td>-1.0</td>\n",
       "      <td>5.85</td>\n",
       "      <td>1</td>\n",
       "      <td>1</td>\n",
       "      <td>8</td>\n",
       "      <td>30</td>\n",
       "    </tr>\n",
       "    <tr>\n",
       "      <th>4</th>\n",
       "      <td>2024</td>\n",
       "      <td>2023-24</td>\n",
       "      <td>1610612764</td>\n",
       "      <td>Washington Wizards</td>\n",
       "      <td>1626145</td>\n",
       "      <td>Tyus Jones</td>\n",
       "      <td>G</td>\n",
       "      <td>PG</td>\n",
       "      <td>11-03-2023</td>\n",
       "      <td>22300003</td>\n",
       "      <td>...</td>\n",
       "      <td>Restricted Area</td>\n",
       "      <td>Center</td>\n",
       "      <td>C</td>\n",
       "      <td>Less Than 8 ft.</td>\n",
       "      <td>-0.0</td>\n",
       "      <td>6.25</td>\n",
       "      <td>1</td>\n",
       "      <td>1</td>\n",
       "      <td>8</td>\n",
       "      <td>8</td>\n",
       "    </tr>\n",
       "  </tbody>\n",
       "</table>\n",
       "<p>5 rows × 26 columns</p>\n",
       "</div>"
      ],
      "text/plain": [
       "   SEASON_1 SEASON_2     TEAM_ID           TEAM_NAME  PLAYER_ID   PLAYER_NAME  \\\n",
       "0      2024  2023-24  1610612764  Washington Wizards    1629673  Jordan Poole   \n",
       "1      2024  2023-24  1610612764  Washington Wizards    1630166   Deni Avdija   \n",
       "2      2024  2023-24  1610612764  Washington Wizards    1626145    Tyus Jones   \n",
       "3      2024  2023-24  1610612764  Washington Wizards    1629673  Jordan Poole   \n",
       "4      2024  2023-24  1610612764  Washington Wizards    1626145    Tyus Jones   \n",
       "\n",
       "  POSITION_GROUP POSITION   GAME_DATE   GAME_ID  ...             BASIC_ZONE  \\\n",
       "0              G       SG  11-03-2023  22300003  ...  In The Paint (Non-RA)   \n",
       "1              F       SF  11-03-2023  22300003  ...      Above the Break 3   \n",
       "2              G       PG  11-03-2023  22300003  ...        Restricted Area   \n",
       "3              G       SG  11-03-2023  22300003  ...        Restricted Area   \n",
       "4              G       PG  11-03-2023  22300003  ...        Restricted Area   \n",
       "\n",
       "  ZONE_NAME ZONE_ABB       ZONE_RANGE LOC_X  LOC_Y SHOT_DISTANCE QUARTER  \\\n",
       "0    Center        C         8-16 ft.  -0.4  17.45            12       1   \n",
       "1    Center        C          24+ ft.   1.5  30.55            25       1   \n",
       "2    Center        C  Less Than 8 ft.  -3.3   6.55             3       1   \n",
       "3    Center        C  Less Than 8 ft.  -1.0   5.85             1       1   \n",
       "4    Center        C  Less Than 8 ft.  -0.0   6.25             1       1   \n",
       "\n",
       "  MINS_LEFT SECS_LEFT  \n",
       "0        11         1  \n",
       "1        10        26  \n",
       "2         9        46  \n",
       "3         8        30  \n",
       "4         8         8  \n",
       "\n",
       "[5 rows x 26 columns]"
      ]
     },
     "execution_count": 14,
     "metadata": {},
     "output_type": "execute_result"
    }
   ],
   "source": [
    "shots.head()"
   ]
  },
  {
   "cell_type": "markdown",
   "id": "56661570",
   "metadata": {},
   "source": [
    "this takes a couple of minutes to run. the streak_converter is probably a part of the problem"
   ]
  },
  {
   "cell_type": "code",
   "execution_count": 15,
   "id": "e5246870",
   "metadata": {},
   "outputs": [],
   "source": [
    "\n",
    "combined_df = pd.DataFrame(columns=[\"player_id\", \"game_id\", \"makes\", \n",
    "                                \"misses\", \"total_streaks\", \"raw_data\"])\n",
    "combined_df = combined_df.set_index([\"player_id\", \"game_id\"])\n",
    "\n",
    "\n",
    "for key, results in shots.groupby([\"PLAYER_ID\", \"GAME_ID\"])[\"SHOT_MADE\"]:\n",
    "    streak_data = \"\".join(results.replace(True, \"W\").replace(False, \"L\"))\n",
    "    as_streaks = streak_converter.convert_to_streaks(False, streak_data)\n",
    "\n",
    "    combined_df.loc[key, :] = [as_streaks['makes'], as_streaks['misses'],\n",
    "                                  as_streaks['total_streaks'], as_streaks['raw_data']\n",
    "                                ]"
   ]
  },
  {
   "cell_type": "code",
   "execution_count": 16,
   "id": "16ca258d",
   "metadata": {},
   "outputs": [],
   "source": [
    "#combined_df.to_pickle(\"caseytestingstuff.pkl\")"
   ]
  },
  {
   "cell_type": "code",
   "execution_count": 17,
   "id": "71870327",
   "metadata": {},
   "outputs": [],
   "source": [
    "combined_df['expected_streaks'] = wald_wolfowitz.get_expected_streaks(combined_df.makes, combined_df.misses)"
   ]
  },
  {
   "cell_type": "code",
   "execution_count": 18,
   "id": "e1d16379",
   "metadata": {},
   "outputs": [
    {
     "data": {
      "text/html": [
       "<div>\n",
       "<style scoped>\n",
       "    .dataframe tbody tr th:only-of-type {\n",
       "        vertical-align: middle;\n",
       "    }\n",
       "\n",
       "    .dataframe tbody tr th {\n",
       "        vertical-align: top;\n",
       "    }\n",
       "\n",
       "    .dataframe thead th {\n",
       "        text-align: right;\n",
       "    }\n",
       "</style>\n",
       "<table border=\"1\" class=\"dataframe\">\n",
       "  <thead>\n",
       "    <tr style=\"text-align: right;\">\n",
       "      <th></th>\n",
       "      <th></th>\n",
       "      <th>makes</th>\n",
       "      <th>misses</th>\n",
       "      <th>total_streaks</th>\n",
       "      <th>raw_data</th>\n",
       "      <th>expected_streaks</th>\n",
       "    </tr>\n",
       "    <tr>\n",
       "      <th>player_id</th>\n",
       "      <th>game_id</th>\n",
       "      <th></th>\n",
       "      <th></th>\n",
       "      <th></th>\n",
       "      <th></th>\n",
       "      <th></th>\n",
       "    </tr>\n",
       "  </thead>\n",
       "  <tbody>\n",
       "    <tr>\n",
       "      <th rowspan=\"5\" valign=\"top\">2544</th>\n",
       "      <th>22300015</th>\n",
       "      <td>11</td>\n",
       "      <td>6</td>\n",
       "      <td>9</td>\n",
       "      <td>LWLWLWWWWWWWLLWWL</td>\n",
       "      <td>8.764706</td>\n",
       "    </tr>\n",
       "    <tr>\n",
       "      <th>22300026</th>\n",
       "      <td>6</td>\n",
       "      <td>5</td>\n",
       "      <td>5</td>\n",
       "      <td>WWLWLLLLWWW</td>\n",
       "      <td>6.454545</td>\n",
       "    </tr>\n",
       "    <tr>\n",
       "      <th>22300036</th>\n",
       "      <td>13</td>\n",
       "      <td>9</td>\n",
       "      <td>16</td>\n",
       "      <td>WLWWLWLWWWLWWLWLWWLLWL</td>\n",
       "      <td>11.636364</td>\n",
       "    </tr>\n",
       "    <tr>\n",
       "      <th>22300042</th>\n",
       "      <td>6</td>\n",
       "      <td>4</td>\n",
       "      <td>7</td>\n",
       "      <td>WLWLLWWWLW</td>\n",
       "      <td>5.8</td>\n",
       "    </tr>\n",
       "    <tr>\n",
       "      <th>22300061</th>\n",
       "      <td>10</td>\n",
       "      <td>6</td>\n",
       "      <td>11</td>\n",
       "      <td>WLWLLWWLWWLWWWLW</td>\n",
       "      <td>8.5</td>\n",
       "    </tr>\n",
       "    <tr>\n",
       "      <th>...</th>\n",
       "      <th>...</th>\n",
       "      <td>...</td>\n",
       "      <td>...</td>\n",
       "      <td>...</td>\n",
       "      <td>...</td>\n",
       "      <td>...</td>\n",
       "    </tr>\n",
       "    <tr>\n",
       "      <th rowspan=\"5\" valign=\"top\">1642013</th>\n",
       "      <th>22301108</th>\n",
       "      <td>0</td>\n",
       "      <td>7</td>\n",
       "      <td>1</td>\n",
       "      <td>LLLLLLL</td>\n",
       "      <td>1.0</td>\n",
       "    </tr>\n",
       "    <tr>\n",
       "      <th>22301146</th>\n",
       "      <td>3</td>\n",
       "      <td>5</td>\n",
       "      <td>4</td>\n",
       "      <td>WLLWWLLL</td>\n",
       "      <td>4.75</td>\n",
       "    </tr>\n",
       "    <tr>\n",
       "      <th>22301160</th>\n",
       "      <td>3</td>\n",
       "      <td>7</td>\n",
       "      <td>5</td>\n",
       "      <td>LLLWWLLWLL</td>\n",
       "      <td>5.2</td>\n",
       "    </tr>\n",
       "    <tr>\n",
       "      <th>22301176</th>\n",
       "      <td>0</td>\n",
       "      <td>2</td>\n",
       "      <td>1</td>\n",
       "      <td>LL</td>\n",
       "      <td>1.0</td>\n",
       "    </tr>\n",
       "    <tr>\n",
       "      <th>22301189</th>\n",
       "      <td>3</td>\n",
       "      <td>4</td>\n",
       "      <td>5</td>\n",
       "      <td>WLWLLLW</td>\n",
       "      <td>4.428571</td>\n",
       "    </tr>\n",
       "  </tbody>\n",
       "</table>\n",
       "<p>24895 rows × 5 columns</p>\n",
       "</div>"
      ],
      "text/plain": [
       "                   makes misses total_streaks                raw_data  \\\n",
       "player_id game_id                                                       \n",
       "2544      22300015    11      6             9       LWLWLWWWWWWWLLWWL   \n",
       "          22300026     6      5             5             WWLWLLLLWWW   \n",
       "          22300036    13      9            16  WLWWLWLWWWLWWLWLWWLLWL   \n",
       "          22300042     6      4             7              WLWLLWWWLW   \n",
       "          22300061    10      6            11        WLWLLWWLWWLWWWLW   \n",
       "...                  ...    ...           ...                     ...   \n",
       "1642013   22301108     0      7             1                 LLLLLLL   \n",
       "          22301146     3      5             4                WLLWWLLL   \n",
       "          22301160     3      7             5              LLLWWLLWLL   \n",
       "          22301176     0      2             1                      LL   \n",
       "          22301189     3      4             5                 WLWLLLW   \n",
       "\n",
       "                   expected_streaks  \n",
       "player_id game_id                    \n",
       "2544      22300015         8.764706  \n",
       "          22300026         6.454545  \n",
       "          22300036        11.636364  \n",
       "          22300042              5.8  \n",
       "          22300061              8.5  \n",
       "...                             ...  \n",
       "1642013   22301108              1.0  \n",
       "          22301146             4.75  \n",
       "          22301160              5.2  \n",
       "          22301176              1.0  \n",
       "          22301189         4.428571  \n",
       "\n",
       "[24895 rows x 5 columns]"
      ]
     },
     "execution_count": 18,
     "metadata": {},
     "output_type": "execute_result"
    }
   ],
   "source": [
    "combined_df"
   ]
  },
  {
   "cell_type": "markdown",
   "id": "743f2387",
   "metadata": {},
   "source": [
    "here's evidence of un-streaky behavior at the game-by-game level. there are a lot more player-game combos with too many streaks than too few streaks."
   ]
  },
  {
   "cell_type": "code",
   "execution_count": 19,
   "id": "842fc0aa",
   "metadata": {},
   "outputs": [],
   "source": [
    "streak_diff = combined_df.total_streaks - combined_df.expected_streaks"
   ]
  },
  {
   "cell_type": "code",
   "execution_count": 20,
   "id": "65aafa7d",
   "metadata": {},
   "outputs": [
    {
     "data": {
      "text/plain": [
       "10285"
      ]
     },
     "execution_count": 20,
     "metadata": {},
     "output_type": "execute_result"
    }
   ],
   "source": [
    "sum(streak_diff > 0)"
   ]
  },
  {
   "cell_type": "code",
   "execution_count": 21,
   "id": "85e7e3b1",
   "metadata": {},
   "outputs": [
    {
     "data": {
      "text/plain": [
       "8977"
      ]
     },
     "execution_count": 21,
     "metadata": {},
     "output_type": "execute_result"
    }
   ],
   "source": [
    "sum(streak_diff < 0)"
   ]
  },
  {
   "cell_type": "code",
   "execution_count": 22,
   "id": "26c8cc80",
   "metadata": {},
   "outputs": [
    {
     "data": {
      "text/plain": [
       "5633"
      ]
     },
     "execution_count": 22,
     "metadata": {},
     "output_type": "execute_result"
    }
   ],
   "source": [
    "sum(streak_diff == 0)"
   ]
  },
  {
   "cell_type": "markdown",
   "id": "dde4540a",
   "metadata": {},
   "source": [
    "we'd expect there to be as many streaks with negative z scores as positive ones. The imbalance is significant. (I don't think chi square is the right test with such large numbers)"
   ]
  },
  {
   "cell_type": "code",
   "execution_count": 23,
   "id": "c0902aee",
   "metadata": {},
   "outputs": [
    {
     "data": {
      "text/plain": [
       "Power_divergenceResult(statistic=np.float64(88.8206832104662), pvalue=np.float64(4.322725746451667e-21))"
      ]
     },
     "execution_count": 23,
     "metadata": {},
     "output_type": "execute_result"
    }
   ],
   "source": [
    "scipy.stats.chisquare([10285, 8977])\n"
   ]
  },
  {
   "cell_type": "code",
   "execution_count": 62,
   "id": "4e957d87",
   "metadata": {},
   "outputs": [
    {
     "data": {
      "text/plain": [
       "0.5339528605544596"
      ]
     },
     "execution_count": 62,
     "metadata": {},
     "output_type": "execute_result"
    }
   ],
   "source": [
    "10285 / (10285 + 8977)"
   ]
  },
  {
   "cell_type": "code",
   "execution_count": 63,
   "id": "11a7aba2",
   "metadata": {},
   "outputs": [
    {
     "data": {
      "text/plain": [
       "np.float64(654.0)"
      ]
     },
     "execution_count": 63,
     "metadata": {},
     "output_type": "execute_result"
    }
   ],
   "source": [
    "10285 - np.mean([10285, 8977])"
   ]
  },
  {
   "cell_type": "markdown",
   "id": "8bb324de",
   "metadata": {},
   "source": [
    "## Game-level z scores\n",
    "\n",
    "have to redo some previous ETL here with the new data."
   ]
  },
  {
   "cell_type": "code",
   "execution_count": 24,
   "id": "6421313a",
   "metadata": {},
   "outputs": [],
   "source": [
    "# have to drop ones where variance is zero/undefined -- 3 shots or fewer\n",
    "\n",
    "clean_df = combined_df[(combined_df.makes + combined_df.misses) > 3].copy()\n",
    "clean_df['variance'] = wald_wolfowitz.get_variance(clean_df.makes, \n",
    "                                                      clean_df.misses, \n",
    "                                                      clean_df.expected_streaks)\n",
    "clean_df = clean_df[clean_df.variance > 0].copy() # to prevent divide by zero below"
   ]
  },
  {
   "cell_type": "code",
   "execution_count": 25,
   "id": "4e876677",
   "metadata": {},
   "outputs": [
    {
     "data": {
      "text/html": [
       "<div>\n",
       "<style scoped>\n",
       "    .dataframe tbody tr th:only-of-type {\n",
       "        vertical-align: middle;\n",
       "    }\n",
       "\n",
       "    .dataframe tbody tr th {\n",
       "        vertical-align: top;\n",
       "    }\n",
       "\n",
       "    .dataframe thead th {\n",
       "        text-align: right;\n",
       "    }\n",
       "</style>\n",
       "<table border=\"1\" class=\"dataframe\">\n",
       "  <thead>\n",
       "    <tr style=\"text-align: right;\">\n",
       "      <th></th>\n",
       "      <th></th>\n",
       "      <th>makes</th>\n",
       "      <th>misses</th>\n",
       "      <th>total_streaks</th>\n",
       "      <th>raw_data</th>\n",
       "      <th>expected_streaks</th>\n",
       "      <th>variance</th>\n",
       "    </tr>\n",
       "    <tr>\n",
       "      <th>player_id</th>\n",
       "      <th>game_id</th>\n",
       "      <th></th>\n",
       "      <th></th>\n",
       "      <th></th>\n",
       "      <th></th>\n",
       "      <th></th>\n",
       "      <th></th>\n",
       "    </tr>\n",
       "  </thead>\n",
       "  <tbody>\n",
       "    <tr>\n",
       "      <th rowspan=\"5\" valign=\"top\">2544</th>\n",
       "      <th>22300015</th>\n",
       "      <td>11</td>\n",
       "      <td>6</td>\n",
       "      <td>9</td>\n",
       "      <td>LWLWLWWWWWWWLLWWL</td>\n",
       "      <td>8.764706</td>\n",
       "      <td>3.282872</td>\n",
       "    </tr>\n",
       "    <tr>\n",
       "      <th>22300026</th>\n",
       "      <td>6</td>\n",
       "      <td>5</td>\n",
       "      <td>5</td>\n",
       "      <td>WWLWLLLLWWW</td>\n",
       "      <td>6.454545</td>\n",
       "      <td>2.429752</td>\n",
       "    </tr>\n",
       "    <tr>\n",
       "      <th>22300036</th>\n",
       "      <td>13</td>\n",
       "      <td>9</td>\n",
       "      <td>16</td>\n",
       "      <td>WLWWLWLWWWLWWLWLWWLLWL</td>\n",
       "      <td>11.636364</td>\n",
       "      <td>4.880756</td>\n",
       "    </tr>\n",
       "    <tr>\n",
       "      <th>22300042</th>\n",
       "      <td>6</td>\n",
       "      <td>4</td>\n",
       "      <td>7</td>\n",
       "      <td>WLWLLWWWLW</td>\n",
       "      <td>5.8</td>\n",
       "      <td>2.026667</td>\n",
       "    </tr>\n",
       "    <tr>\n",
       "      <th>22300061</th>\n",
       "      <td>10</td>\n",
       "      <td>6</td>\n",
       "      <td>11</td>\n",
       "      <td>WLWLLWWLWWLWWWLW</td>\n",
       "      <td>8.5</td>\n",
       "      <td>3.25</td>\n",
       "    </tr>\n",
       "  </tbody>\n",
       "</table>\n",
       "</div>"
      ],
      "text/plain": [
       "                   makes misses total_streaks                raw_data  \\\n",
       "player_id game_id                                                       \n",
       "2544      22300015    11      6             9       LWLWLWWWWWWWLLWWL   \n",
       "          22300026     6      5             5             WWLWLLLLWWW   \n",
       "          22300036    13      9            16  WLWWLWLWWWLWWLWLWWLLWL   \n",
       "          22300042     6      4             7              WLWLLWWWLW   \n",
       "          22300061    10      6            11        WLWLLWWLWWLWWWLW   \n",
       "\n",
       "                   expected_streaks  variance  \n",
       "player_id game_id                              \n",
       "2544      22300015         8.764706  3.282872  \n",
       "          22300026         6.454545  2.429752  \n",
       "          22300036        11.636364  4.880756  \n",
       "          22300042              5.8  2.026667  \n",
       "          22300061              8.5      3.25  "
      ]
     },
     "execution_count": 25,
     "metadata": {},
     "output_type": "execute_result"
    }
   ],
   "source": [
    "clean_df.head()"
   ]
  },
  {
   "cell_type": "markdown",
   "id": "6b3ceb80",
   "metadata": {},
   "source": [
    "## Corrections & small sample sizes\n",
    "\n",
    "Because these are small sample sizes, and we're comparing an integer value (actual number of runs) with a value from a continuous probability distribution (theoretical number of runs) one *could* do a continuity correction here.\n",
    "\n",
    "\n",
    "The way the [SAS version of the test](https://support.sas.com/kb/33/092.html) does it, when sample size is less than 50, when calculating z-score: \n",
    "\n",
    "* if actual - theoretical < 0, adds .5 to numerator\n",
    "* if actual - theoretical > 0, subtracts .5 from numerator\n",
    "\n",
    " For a hypothesis test on a small sample, the correct thing to do would be use a lookup table where someone has calculated the exact probabilities.  https://webspace.ship.edu/pgmarr/Geo441/Tables/Runs%20Table.pdf \n",
    "\n",
    "\n",
    "For the sake of thoroughness, I worked it out below. I don't think it's appropriate for my purposes. I'm not doing a hypothesis test on one individual player's record in one game, I'm looking at the distribution of 20,000 of them. The z-scores with the continuity correction are clearly not normal, as shown below, and the scores without it clearly are normal.\n",
    "\n",
    "A bit further along, I show how to calculate the exact probabilities of each possible streak length."
   ]
  },
  {
   "cell_type": "code",
   "execution_count": 26,
   "id": "92b044d6",
   "metadata": {},
   "outputs": [],
   "source": [
    "clean_df.loc[clean_df.total_streaks < clean_df.expected_streaks, 'z_score_cc'] = (clean_df.total_streaks - clean_df.expected_streaks + .5) / ((clean_df.variance)**.5)\n",
    "clean_df.loc[clean_df.total_streaks >= clean_df.expected_streaks, 'z_score_cc'] = (clean_df.total_streaks - clean_df.expected_streaks - .5) / ((clean_df.variance)**.5)\n"
   ]
  },
  {
   "cell_type": "code",
   "execution_count": 27,
   "id": "97bbf893",
   "metadata": {},
   "outputs": [],
   "source": [
    "clean_df['z_score'] = (clean_df.total_streaks - clean_df.expected_streaks) / ((clean_df.variance)**.5)"
   ]
  },
  {
   "cell_type": "code",
   "execution_count": 28,
   "id": "ff53e52d",
   "metadata": {},
   "outputs": [],
   "source": [
    "\n",
    "def plot_z(z_plot, title=\"individual game z-scores, 2023-24 season\"):\n",
    "    x = np.linspace(-3,3,200)\n",
    "    plt.plot(x, scipy.stats.norm.pdf(x, 0, 1))\n",
    "\n",
    "    out = plt.hist(z_plot, bins=np.arange(-3,3,.5), density=True)\n",
    "    plt.title(title)"
   ]
  },
  {
   "cell_type": "markdown",
   "id": "8c547aad",
   "metadata": {},
   "source": [
    "this is the distribution with continuity correction, which is clearly ridiculous"
   ]
  },
  {
   "cell_type": "code",
   "execution_count": 29,
   "id": "99c6d51f",
   "metadata": {},
   "outputs": [
    {
     "data": {
      "text/plain": [
       "count    18982.000000\n",
       "mean        -0.031954\n",
       "std          0.687916\n",
       "min         -3.047828\n",
       "25%         -0.401101\n",
       "50%          0.000000\n",
       "75%          0.302765\n",
       "max          3.390395\n",
       "Name: z_score_cc, dtype: float64"
      ]
     },
     "execution_count": 29,
     "metadata": {},
     "output_type": "execute_result"
    }
   ],
   "source": [
    "clean_df.z_score_cc.astype(\"float\").describe()"
   ]
  },
  {
   "cell_type": "code",
   "execution_count": 30,
   "id": "ae66fcee",
   "metadata": {},
   "outputs": [
    {
     "data": {
      "image/png": "[encoded data removed]",
      "text/plain": [
       "<Figure size 640x480 with 1 Axes>"
      ]
     },
     "metadata": {},
     "output_type": "display_data"
    }
   ],
   "source": [
    "plot_z(clean_df.z_score_cc, \"continuity correction z scores, 2023-24\")"
   ]
  },
  {
   "cell_type": "markdown",
   "id": "89e6a2d6",
   "metadata": {},
   "source": [
    "### On fairness\n",
    "I could instead calculate number of streaks expected for a player who shoots x% from the field...\n",
    "\n",
    "say a player who is usually a 50% shooter takes 8 shots in a game and makes all 8.\n",
    "\n",
    "the player didn't miss any shots, so we'd expect only 1 streak.\n",
    "\n",
    "however, if they went 4 for 8 like a usual night, we'd expect `4 + 1 = 5` streaks.\n",
    "\n",
    "using the same # of makes/misses as the real game is a stricter way to define it (and fairer, if you don't buy the *Lukewarm Hand*)\n",
    "\n",
    "It's throwing out intra-game streakiness in a way. It's modeling the idea that one day, a shooter really is a 60% shooter and the next day they really are a 20% shooter, rather than being a 40% shooter both days."
   ]
  },
  {
   "cell_type": "code",
   "execution_count": 31,
   "id": "64619c9b",
   "metadata": {},
   "outputs": [
    {
     "data": {
      "image/png": "[encoded data removed]",
      "text/plain": [
       "<Figure size 640x480 with 1 Axes>"
      ]
     },
     "metadata": {},
     "output_type": "display_data"
    }
   ],
   "source": [
    "z_plot = clean_df.z_score.astype(\"float\")\n",
    "\n",
    "plot_z(z_plot)"
   ]
  },
  {
   "cell_type": "code",
   "execution_count": 32,
   "id": "ce45a582",
   "metadata": {},
   "outputs": [
    {
     "data": {
      "text/plain": [
       "count    18982.000000\n",
       "mean         0.051765\n",
       "std          0.988789\n",
       "min         -3.332292\n",
       "25%         -0.707107\n",
       "50%          0.104103\n",
       "75%          0.816497\n",
       "max          3.583243\n",
       "Name: z_score, dtype: float64"
      ]
     },
     "execution_count": 32,
     "metadata": {},
     "output_type": "execute_result"
    }
   ],
   "source": [
    "z_plot.describe()"
   ]
  },
  {
   "cell_type": "markdown",
   "id": "71aee326",
   "metadata": {},
   "source": [
    "although the mean is small, the sample size is large, so it is significant"
   ]
  },
  {
   "cell_type": "code",
   "execution_count": 2,
   "id": "3bdc03d0",
   "metadata": {},
   "outputs": [
    {
     "ename": "NameError",
     "evalue": "name 'np' is not defined",
     "output_type": "error",
     "traceback": [
      "\u001b[1;31m---------------------------------------------------------------------------\u001b[0m",
      "\u001b[1;31mNameError\u001b[0m                                 Traceback (most recent call last)",
      "Cell \u001b[1;32mIn[2], line 1\u001b[0m\n\u001b[1;32m----> 1\u001b[0m \u001b[38;5;241m.051765\u001b[39m \u001b[38;5;241m/\u001b[39m (\u001b[38;5;241m.988789\u001b[39m \u001b[38;5;241m/\u001b[39m \u001b[43mnp\u001b[49m\u001b[38;5;241m.\u001b[39msqrt(\u001b[38;5;241m18982\u001b[39m))\n",
      "\u001b[1;31mNameError\u001b[0m: name 'np' is not defined"
     ]
    }
   ],
   "source": [
    ".051765 / (.988789 / np.sqrt(18982))"
   ]
  },
  {
   "cell_type": "markdown",
   "id": "9f674aba",
   "metadata": {},
   "source": [
    "### Big Games Only\n",
    "\n",
    "I think there are probably a lot of games where number of expected streaks is only 1 or 2. what about higher number expected?"
   ]
  },
  {
   "cell_type": "code",
   "execution_count": 34,
   "id": "b404e01f",
   "metadata": {},
   "outputs": [
    {
     "data": {
      "text/plain": [
       "17142"
      ]
     },
     "execution_count": 34,
     "metadata": {},
     "output_type": "execute_result"
    }
   ],
   "source": [
    "sum(clean_df.expected_streaks < 10)"
   ]
  },
  {
   "cell_type": "code",
   "execution_count": 35,
   "id": "9c214bcf",
   "metadata": {},
   "outputs": [
    {
     "data": {
      "text/plain": [
       "1840"
      ]
     },
     "execution_count": 35,
     "metadata": {},
     "output_type": "execute_result"
    }
   ],
   "source": [
    "sum(clean_df.expected_streaks >= 10)"
   ]
  },
  {
   "cell_type": "code",
   "execution_count": 36,
   "id": "b0ac786c",
   "metadata": {},
   "outputs": [],
   "source": [
    "big_games = clean_df[(clean_df.makes > 10) | (clean_df.misses > 10)].z_score.astype(\"float\")"
   ]
  },
  {
   "cell_type": "markdown",
   "id": "2c6fc392",
   "metadata": {},
   "source": [
    "There are around 2500 player-games where there were at least 10 makes or misses by the player."
   ]
  },
  {
   "cell_type": "code",
   "execution_count": 37,
   "id": "257e0c7c",
   "metadata": {},
   "outputs": [
    {
     "data": {
      "text/plain": [
       "count    2536.000000\n",
       "mean        0.055925\n",
       "std         1.010195\n",
       "min        -3.079575\n",
       "25%        -0.616678\n",
       "50%         0.072404\n",
       "75%         0.750366\n",
       "max         3.583243\n",
       "Name: z_score, dtype: float64"
      ]
     },
     "execution_count": 37,
     "metadata": {},
     "output_type": "execute_result"
    }
   ],
   "source": [
    "big_games.describe()"
   ]
  },
  {
   "cell_type": "code",
   "execution_count": 38,
   "id": "29bb3d00",
   "metadata": {},
   "outputs": [
    {
     "data": {
      "image/png": "[encoded data removed]",
      "text/plain": [
       "<Figure size 640x480 with 1 Axes>"
      ]
     },
     "metadata": {},
     "output_type": "display_data"
    }
   ],
   "source": [
    "plot_z(big_games, title=\"high attempt games, 2023-4\")"
   ]
  },
  {
   "cell_type": "code",
   "execution_count": 39,
   "id": "34cde443",
   "metadata": {},
   "outputs": [
    {
     "data": {
      "text/plain": [
       "1333"
      ]
     },
     "execution_count": 39,
     "metadata": {},
     "output_type": "execute_result"
    }
   ],
   "source": [
    "sum(big_games > 0)"
   ]
  },
  {
   "cell_type": "code",
   "execution_count": 40,
   "id": "b0158a2d",
   "metadata": {},
   "outputs": [
    {
     "data": {
      "text/plain": [
       "1154"
      ]
     },
     "execution_count": 40,
     "metadata": {},
     "output_type": "execute_result"
    }
   ],
   "source": [
    "sum(big_games < 0)"
   ]
  },
  {
   "cell_type": "code",
   "execution_count": 41,
   "id": "f3e3e152",
   "metadata": {},
   "outputs": [
    {
     "data": {
      "text/plain": [
       "Power_divergenceResult(statistic=np.float64(12.883393646964214), pvalue=np.float64(0.00033151055973599483))"
      ]
     },
     "execution_count": 41,
     "metadata": {},
     "output_type": "execute_result"
    }
   ],
   "source": [
    "scipy.stats.chisquare([1333, 1154])"
   ]
  },
  {
   "cell_type": "markdown",
   "id": "00babcb0",
   "metadata": {},
   "source": [
    "### Is the Wald-Wolfowitz test \"fair\"?\n",
    "\n",
    "Yeah, it is. The estimate of the mean is the exact expected\n",
    "\n",
    "Say we've got 7 makes and 4 misses. The W-W test says there will be 6.0909... streaks. It's not a whole number because it's not returning the *most likely* number of streaks (which probably would be 6), it's returning the *exact* mean number of streaks."
   ]
  },
  {
   "cell_type": "code",
   "execution_count": 42,
   "id": "dfbe9ddc",
   "metadata": {},
   "outputs": [
    {
     "data": {
      "text/plain": [
       "6.090909090909091"
      ]
     },
     "execution_count": 42,
     "metadata": {},
     "output_type": "execute_result"
    }
   ],
   "source": [
    "expected_streaks = wald_wolfowitz.get_expected_streaks(7,4)\n",
    "\n",
    "expected_streaks"
   ]
  },
  {
   "cell_type": "markdown",
   "id": "ffbfd365",
   "metadata": {},
   "source": [
    "We can calculate the *exact* probabilities of each number of streaks, conditioned on the fact that there are 7 wins and 4 losses. each possible sequence of wins and losses in that set are equally likely, assuming no funny business."
   ]
  },
  {
   "cell_type": "code",
   "execution_count": 43,
   "id": "f13cfd7d",
   "metadata": {},
   "outputs": [],
   "source": [
    "# loop through all possible combinations of 7 wins, 4 losses\n",
    "# calculate the number of streaks for EVERY combination\n",
    "\n",
    "# unlike the normal approx of the wald-wolfowitz test, this will give the EXACT probabilities\n",
    "# of each streak length (assuming the order of the makes/misses are independent)\n",
    "import itertools\n",
    "import math\n",
    "\n",
    "def generate_exact_df(wins, losses):\n",
    "    to_permute = ([0] * wins) + ([1] * losses)\n",
    "\n",
    "    # I don't know why itertools doesn't have a \"distinct permutations\" function\n",
    "    perms = set()\n",
    "    for x in itertools.permutations(to_permute, wins+losses):\n",
    "        perms.add(x)\n",
    "\n",
    "    expected_perms = math.factorial(wins+losses)  / (math.factorial(wins) * math.factorial(losses))\n",
    "    assert len(perms) == expected_perms, \"I forgot how to do math!\"\n",
    "\n",
    "    exact_df = pd.DataFrame(columns=[\"zeroes\", \"ones\", \"streaks\", \"as_str\"])\n",
    "    for x in list(perms):\n",
    "        perm = pd.Series(x)\n",
    "        streak_data = streak_converter.convert_to_streaks(perm)\n",
    "        exact_df.loc[len(exact_df)]  = [streak_data['misses'], streak_data['makes'], \n",
    "                            streak_data['total_streaks'], \"\".join(perm.replace(0, \"0\").replace(1, \"1\"))]\n",
    "    return exact_df\n",
    "\n",
    "exact_df = generate_exact_df(7,4)"
   ]
  },
  {
   "cell_type": "code",
   "execution_count": 44,
   "id": "b8a6e30f",
   "metadata": {},
   "outputs": [
    {
     "data": {
      "text/html": [
       "<div>\n",
       "<style scoped>\n",
       "    .dataframe tbody tr th:only-of-type {\n",
       "        vertical-align: middle;\n",
       "    }\n",
       "\n",
       "    .dataframe tbody tr th {\n",
       "        vertical-align: top;\n",
       "    }\n",
       "\n",
       "    .dataframe thead th {\n",
       "        text-align: right;\n",
       "    }\n",
       "</style>\n",
       "<table border=\"1\" class=\"dataframe\">\n",
       "  <thead>\n",
       "    <tr style=\"text-align: right;\">\n",
       "      <th></th>\n",
       "      <th>zeroes</th>\n",
       "      <th>ones</th>\n",
       "      <th>streaks</th>\n",
       "      <th>as_str</th>\n",
       "    </tr>\n",
       "  </thead>\n",
       "  <tbody>\n",
       "    <tr>\n",
       "      <th>0</th>\n",
       "      <td>7</td>\n",
       "      <td>4</td>\n",
       "      <td>6</td>\n",
       "      <td>00100001101</td>\n",
       "    </tr>\n",
       "    <tr>\n",
       "      <th>1</th>\n",
       "      <td>7</td>\n",
       "      <td>4</td>\n",
       "      <td>5</td>\n",
       "      <td>10000001101</td>\n",
       "    </tr>\n",
       "    <tr>\n",
       "      <th>2</th>\n",
       "      <td>7</td>\n",
       "      <td>4</td>\n",
       "      <td>7</td>\n",
       "      <td>00010010110</td>\n",
       "    </tr>\n",
       "    <tr>\n",
       "      <th>3</th>\n",
       "      <td>7</td>\n",
       "      <td>4</td>\n",
       "      <td>7</td>\n",
       "      <td>00011001010</td>\n",
       "    </tr>\n",
       "    <tr>\n",
       "      <th>4</th>\n",
       "      <td>7</td>\n",
       "      <td>4</td>\n",
       "      <td>8</td>\n",
       "      <td>00010100101</td>\n",
       "    </tr>\n",
       "    <tr>\n",
       "      <th>...</th>\n",
       "      <td>...</td>\n",
       "      <td>...</td>\n",
       "      <td>...</td>\n",
       "      <td>...</td>\n",
       "    </tr>\n",
       "    <tr>\n",
       "      <th>325</th>\n",
       "      <td>7</td>\n",
       "      <td>4</td>\n",
       "      <td>7</td>\n",
       "      <td>00010011010</td>\n",
       "    </tr>\n",
       "    <tr>\n",
       "      <th>326</th>\n",
       "      <td>7</td>\n",
       "      <td>4</td>\n",
       "      <td>4</td>\n",
       "      <td>00000010111</td>\n",
       "    </tr>\n",
       "    <tr>\n",
       "      <th>327</th>\n",
       "      <td>7</td>\n",
       "      <td>4</td>\n",
       "      <td>5</td>\n",
       "      <td>10000011001</td>\n",
       "    </tr>\n",
       "    <tr>\n",
       "      <th>328</th>\n",
       "      <td>7</td>\n",
       "      <td>4</td>\n",
       "      <td>6</td>\n",
       "      <td>00100001011</td>\n",
       "    </tr>\n",
       "    <tr>\n",
       "      <th>329</th>\n",
       "      <td>7</td>\n",
       "      <td>4</td>\n",
       "      <td>7</td>\n",
       "      <td>00100110100</td>\n",
       "    </tr>\n",
       "  </tbody>\n",
       "</table>\n",
       "<p>330 rows × 4 columns</p>\n",
       "</div>"
      ],
      "text/plain": [
       "     zeroes  ones  streaks       as_str\n",
       "0         7     4        6  00100001101\n",
       "1         7     4        5  10000001101\n",
       "2         7     4        7  00010010110\n",
       "3         7     4        7  00011001010\n",
       "4         7     4        8  00010100101\n",
       "..      ...   ...      ...          ...\n",
       "325       7     4        7  00010011010\n",
       "326       7     4        4  00000010111\n",
       "327       7     4        5  10000011001\n",
       "328       7     4        6  00100001011\n",
       "329       7     4        7  00100110100\n",
       "\n",
       "[330 rows x 4 columns]"
      ]
     },
     "execution_count": 44,
     "metadata": {},
     "output_type": "execute_result"
    }
   ],
   "source": [
    "exact_df"
   ]
  },
  {
   "cell_type": "code",
   "execution_count": 1,
   "id": "f6edf5e9",
   "metadata": {},
   "outputs": [
    {
     "ename": "NameError",
     "evalue": "name 'exact_df' is not defined",
     "output_type": "error",
     "traceback": [
      "\u001b[1;31m---------------------------------------------------------------------------\u001b[0m",
      "\u001b[1;31mNameError\u001b[0m                                 Traceback (most recent call last)",
      "Cell \u001b[1;32mIn[1], line 1\u001b[0m\n\u001b[1;32m----> 1\u001b[0m \u001b[43mexact_df\u001b[49m\u001b[38;5;241m.\u001b[39mstreaks\u001b[38;5;241m.\u001b[39mhist()\n",
      "\u001b[1;31mNameError\u001b[0m: name 'exact_df' is not defined"
     ]
    }
   ],
   "source": [
    "exact_df.streaks.hist()"
   ]
  },
  {
   "cell_type": "code",
   "execution_count": 45,
   "id": "320237c8",
   "metadata": {},
   "outputs": [
    {
     "data": {
      "text/plain": [
       "count    330.000000\n",
       "mean       6.090909\n",
       "std        1.445329\n",
       "min        2.000000\n",
       "25%        5.000000\n",
       "50%        6.000000\n",
       "75%        7.000000\n",
       "max        9.000000\n",
       "Name: streaks, dtype: float64"
      ]
     },
     "execution_count": 45,
     "metadata": {},
     "output_type": "execute_result"
    }
   ],
   "source": [
    "exact_df.streaks.describe()"
   ]
  },
  {
   "cell_type": "markdown",
   "id": "222c7dd1",
   "metadata": {},
   "source": [
    "The actual standard deviation (above) is very very close to the theoretical value."
   ]
  },
  {
   "cell_type": "code",
   "execution_count": 46,
   "id": "8c10d114",
   "metadata": {},
   "outputs": [
    {
     "data": {
      "text/plain": [
       "np.float64(1.443137078762504)"
      ]
     },
     "execution_count": 46,
     "metadata": {},
     "output_type": "execute_result"
    }
   ],
   "source": [
    "np.sqrt(wald_wolfowitz.get_variance(7,4,expected_streaks))"
   ]
  },
  {
   "cell_type": "markdown",
   "id": "9496d31f",
   "metadata": {},
   "source": [
    "It doesn't look normal. it's definitely not symmetric. it looks more like a binomial distribution."
   ]
  },
  {
   "cell_type": "code",
   "execution_count": 47,
   "id": "a425cee4",
   "metadata": {},
   "outputs": [
    {
     "data": {
      "image/png": "[encoded data removed]",
      "text/plain": [
       "<Figure size 640x480 with 1 Axes>"
      ]
     },
     "metadata": {},
     "output_type": "display_data"
    }
   ],
   "source": [
    "exact_hist = plt.hist(exact_df.streaks, density=True, bins=[2,3,4,5,6,7,8,9,10])\n",
    "_trash = plt.title(\"exact streak probabilities, 7 makes, 4 misses\")"
   ]
  },
  {
   "cell_type": "markdown",
   "id": "2d06dbbc",
   "metadata": {},
   "source": [
    "Individual games are very small sample sizes. But we should see a very similar distribution as the above if we look at actual player games with 7 makes and 4 misses.\n",
    "\n",
    "And we do!"
   ]
  },
  {
   "cell_type": "code",
   "execution_count": 48,
   "id": "25c260f9",
   "metadata": {},
   "outputs": [
    {
     "data": {
      "image/png": "[encoded data removed]",
      "text/plain": [
       "<Figure size 640x480 with 1 Axes>"
      ]
     },
     "metadata": {},
     "output_type": "display_data"
    }
   ],
   "source": [
    "actual_streaks = clean_df[(clean_df.makes == 7) & (clean_df.misses ==4)].total_streaks.astype(\"float\")\n",
    "\n",
    "actual_hist = plt.hist(actual_streaks, bins=range(2,11), density=True)\n",
    "\n",
    "_trash = plt.title(\"actual players, 7 makes, 4 misses\")"
   ]
  },
  {
   "cell_type": "markdown",
   "id": "703c4329",
   "metadata": {},
   "source": [
    "here are the two histograms on top of each other. Orange is where there were more actual streaks, blue where there were more theoretical streaks, and brown is where they overlap."
   ]
  },
  {
   "cell_type": "code",
   "execution_count": 49,
   "id": "27ea1d06",
   "metadata": {},
   "outputs": [
    {
     "data": {
      "image/png": "[encoded data removed]",
      "text/plain": [
       "<Figure size 640x480 with 1 Axes>"
      ]
     },
     "metadata": {},
     "output_type": "display_data"
    }
   ],
   "source": [
    "_trash = plt.hist(exact_df.streaks, density=True, bins=range(2,11), alpha=0.6)\n",
    "_trash = plt.hist(actual_streaks, bins=range(2,11), density=True, alpha=0.6)"
   ]
  },
  {
   "cell_type": "markdown",
   "id": "e2b39b43",
   "metadata": {},
   "source": [
    "the above kinda look like a binomial distribution, but it's not, for several important reasons, starting with binomial including nonzero probabilities for 0,1, and 10, which are impossible streak lengths here."
   ]
  },
  {
   "cell_type": "code",
   "execution_count": null,
   "id": "7ff6ba3c",
   "metadata": {},
   "outputs": [
    {
     "data": {
      "text/plain": [
       "<BarContainer object of 11 artists>"
      ]
     },
     "execution_count": 50,
     "metadata": {},
     "output_type": "execute_result"
    },
    {
     "data": {
      "image/png": "[encoded data removed]",
      "text/plain": [
       "<Figure size 640x480 with 1 Axes>"
      ]
     },
     "metadata": {},
     "output_type": "display_data"
    }
   ],
   "source": [
    "binom_example = scipy.stats.binom(11, 7/11)\n",
    "\n",
    "binom_example_df = pd.DataFrame({\n",
    "    'x': [x for x in range(0,11)],\n",
    "    'y': [binom_example.pmf(x) for x in range(0,11)]\n",
    "\n",
    "})\n",
    "plt.bar(binom_example_df.x, binom_example_df.y)"
   ]
  },
  {
   "cell_type": "markdown",
   "id": "e7a63ceb",
   "metadata": {},
   "source": [
    "the exact distribution is worked out here: [https://online.stat.psu.edu/stat415/lesson/21/21.1](https://online.stat.psu.edu/stat415/lesson/21/21.1)\n",
    "\n",
    "Here are the probability mass functions for even and odd numbers of streaks:\n",
    "\n",
    "$P(R=2k)=\\dfrac{2\\binom{n_1-1}{k-1}\\binom{n_2-1}{k-1}}{\\binom{n_1+n_2}{n_1}}$\n",
    "\n",
    "$P(R=2k+1)=\\dfrac{\\binom{n_1-1}{k}\\binom{n_2-1}{k-1}+\\binom{n_2-1}{k}\\binom{n_1-1}{k-1}}{\\binom{n_1+n_2}{n_1}}$\n",
    "\n",
    "I could go back and calculate the exact probabilities for game level stats... maybe I will in a future installment"
   ]
  },
  {
   "cell_type": "markdown",
   "id": "b905cc4a",
   "metadata": {},
   "source": [
    "## Back to simulation\n",
    "\n",
    "OK, now that I have actual shot data, I can make the lukewarm player simulation more realistic. Unlike the tests above, I'm not going to match the player's exact number of makes and misses. The point is to simulate the streaky behavior. that means that a player's FG% in the simulation will probably be different than it was in real life. \n",
    "\n",
    "The system will simulate each shot taken in the NBA at the player's end of season FG%."
   ]
  },
  {
   "cell_type": "markdown",
   "id": "52ca5c07",
   "metadata": {},
   "source": [
    "pulled the code into its own class..."
   ]
  },
  {
   "cell_type": "code",
   "execution_count": 51,
   "id": "59e2925e",
   "metadata": {},
   "outputs": [],
   "source": [
    "better_simulation = simulate_lukewarm.SimulateLukewarm(clean_df)\n",
    "sim_summary2 = better_simulation.sim_season()"
   ]
  },
  {
   "cell_type": "code",
   "execution_count": 52,
   "id": "722da138",
   "metadata": {},
   "outputs": [
    {
     "data": {
      "image/png": "[encoded data removed]",
      "text/plain": [
       "<Figure size 640x480 with 1 Axes>"
      ]
     },
     "metadata": {},
     "output_type": "display_data"
    }
   ],
   "source": [
    "plot_z(sim_summary2.z_score, \"simulated z-scores, 2023-24\")"
   ]
  },
  {
   "cell_type": "code",
   "execution_count": 53,
   "id": "a078283e",
   "metadata": {},
   "outputs": [
    {
     "data": {
      "text/plain": [
       "count    525.000000\n",
       "mean       0.207116\n",
       "std        0.954888\n",
       "min       -2.129829\n",
       "25%       -0.473728\n",
       "50%        0.236694\n",
       "75%        0.908465\n",
       "max        2.430476\n",
       "Name: z_score, dtype: float64"
      ]
     },
     "execution_count": 53,
     "metadata": {},
     "output_type": "execute_result"
    }
   ],
   "source": [
    "sim_summary2.z_score.describe()"
   ]
  },
  {
   "cell_type": "markdown",
   "id": "c54b1349",
   "metadata": {},
   "source": [
    "wow! that's remarkably similar to the 2024-25 season, but what about 2023-24?"
   ]
  },
  {
   "cell_type": "code",
   "execution_count": 54,
   "id": "967fa974",
   "metadata": {},
   "outputs": [],
   "source": [
    "import player_streaks\n",
    "\n",
    "sp = player_streaks.PlayerStreaks(season=\"2023-24\")\n",
    "prev_year_df = sp.get_data_with_stats()"
   ]
  },
  {
   "cell_type": "code",
   "execution_count": 55,
   "id": "9b89727b",
   "metadata": {},
   "outputs": [
    {
     "data": {
      "image/png": "[encoded data removed]",
      "text/plain": [
       "<Figure size 640x480 with 1 Axes>"
      ]
     },
     "metadata": {},
     "output_type": "display_data"
    }
   ],
   "source": [
    "plot_z(prev_year_df.z_score, \"actual 2023-24\")"
   ]
  },
  {
   "cell_type": "markdown",
   "id": "8b023d0d",
   "metadata": {},
   "source": [
    "unfortunately, this code will only get the shots from last season, for players who were active *this* season. I'll leave redoing that code as an exercise for the reader..."
   ]
  },
  {
   "cell_type": "code",
   "execution_count": 56,
   "id": "c12cacab",
   "metadata": {},
   "outputs": [
    {
     "data": {
      "text/plain": [
       "count    446.000000\n",
       "mean       0.290885\n",
       "std        0.999102\n",
       "min       -2.982421\n",
       "25%       -0.335842\n",
       "50%        0.326163\n",
       "75%        0.919764\n",
       "max        3.086872\n",
       "Name: z_score, dtype: float64"
      ]
     },
     "execution_count": 56,
     "metadata": {},
     "output_type": "execute_result"
    }
   ],
   "source": [
    "prev_year_df.z_score.describe()"
   ]
  },
  {
   "cell_type": "markdown",
   "id": "b55d9250",
   "metadata": {},
   "source": [
    "## What about streakiness in only one direction?\n",
    "\n",
    "It just looks like a toned-down version of the previous simulation, even when I increased the amount of penalty when a player's on a hot streak and boost when a player's on a cold streak."
   ]
  },
  {
   "cell_type": "code",
   "execution_count": 57,
   "id": "0d28f9d8",
   "metadata": {},
   "outputs": [
    {
     "data": {
      "text/plain": [
       "count    530.000000\n",
       "mean       0.128552\n",
       "std        0.973237\n",
       "min       -3.158805\n",
       "25%       -0.573747\n",
       "50%        0.147804\n",
       "75%        0.767398\n",
       "max        2.602529\n",
       "Name: z_score, dtype: float64"
      ]
     },
     "execution_count": 57,
     "metadata": {},
     "output_type": "execute_result"
    }
   ],
   "source": [
    "heat_check_sim = simulate_lukewarm.SimulateLukewarm(clean_df)\n",
    "heat_check_sim.player_type = streaky_players.OnlyHeatCheckPlayer\n",
    "\n",
    "\n",
    "heat_check_summary = heat_check_sim.sim_season()\n",
    "heat_check_summary.z_score.describe()"
   ]
  },
  {
   "cell_type": "code",
   "execution_count": 58,
   "id": "8044c262",
   "metadata": {},
   "outputs": [
    {
     "data": {
      "text/plain": [
       "count    526.000000\n",
       "mean       0.144055\n",
       "std        0.975503\n",
       "min       -2.592224\n",
       "25%       -0.557261\n",
       "50%        0.164444\n",
       "75%        0.814466\n",
       "max        2.840975\n",
       "Name: z_score, dtype: float64"
      ]
     },
     "execution_count": 58,
     "metadata": {},
     "output_type": "execute_result"
    }
   ],
   "source": [
    "get_bucket_sim = simulate_lukewarm.SimulateLukewarm(clean_df)\n",
    "get_bucket_sim.player_type = streaky_players.GetABucketPlayer\n",
    "\n",
    "bucket_summary = get_bucket_sim.sim_season()\n",
    "bucket_summary.z_score.describe()"
   ]
  },
  {
   "cell_type": "markdown",
   "id": "fe63549d",
   "metadata": {},
   "source": [
    "## What about a mixture of streaky and non-streaky?\n",
    "\n",
    "I will have to come back to that."
   ]
  },
  {
   "cell_type": "markdown",
   "id": "47aafbf6",
   "metadata": {},
   "source": [
    "## What would truly streaky players look like?\n",
    "(gen actual box scores? look at streak lengths?)"
   ]
  },
  {
   "cell_type": "code",
   "execution_count": 59,
   "id": "3dc35319",
   "metadata": {},
   "outputs": [
    {
     "data": {
      "text/plain": [
       "<module 'streaky_players' from 'c:\\\\code\\\\hot_hand\\\\streaky_players.py'>"
      ]
     },
     "execution_count": 59,
     "metadata": {},
     "output_type": "execute_result"
    }
   ],
   "source": [
    "from importlib import reload\n",
    "reload(streaky_players)"
   ]
  },
  {
   "cell_type": "code",
   "execution_count": 60,
   "id": "66d0f770",
   "metadata": {},
   "outputs": [
    {
     "data": {
      "text/plain": [
       "count    524.000000\n",
       "mean      -0.455522\n",
       "std        1.144570\n",
       "min       -4.413268\n",
       "25%       -1.225128\n",
       "50%       -0.458503\n",
       "75%        0.404549\n",
       "max        2.486584\n",
       "Name: z_score, dtype: float64"
      ]
     },
     "execution_count": 60,
     "metadata": {},
     "output_type": "execute_result"
    }
   ],
   "source": [
    "truly_streaky_sim = simulate_lukewarm.SimulateLukewarm(clean_df)\n",
    "truly_streaky_sim.player_type = streaky_players.TrulyStreakyPlayer\n",
    "\n",
    "truly_summary = truly_streaky_sim.sim_season()\n",
    "truly_summary.z_score.describe()"
   ]
  },
  {
   "cell_type": "code",
   "execution_count": 61,
   "id": "39972d30",
   "metadata": {},
   "outputs": [
    {
     "data": {
      "image/png": "[encoded data removed]",
      "text/plain": [
       "<Figure size 640x480 with 1 Axes>"
      ]
     },
     "metadata": {},
     "output_type": "display_data"
    }
   ],
   "source": [
    "plot_z(truly_summary.z_score, title=\"truly streaky player sim, 2023-24\")"
   ]
  },
  {
   "cell_type": "markdown",
   "id": "001f2610",
   "metadata": {},
   "source": [
    "## What about sims on sims on sims?\n",
    "\n",
    "Cut for time"
   ]
  },
  {
   "cell_type": "markdown",
   "id": "6ee3e564",
   "metadata": {},
   "source": []
  }
 ],
 "metadata": {
  "kernelspec": {
   "display_name": "Python 3",
   "language": "python",
   "name": "python3"
  },
  "language_info": {
   "codemirror_mode": {
    "name": "ipython",
    "version": 3
   },
   "file_extension": ".py",
   "mimetype": "text/x-python",
   "name": "python",
   "nbconvert_exporter": "python",
   "pygments_lexer": "ipython3",
   "version": "3.11.9"
  }
 },
 "nbformat": 4,
 "nbformat_minor": 5
}
