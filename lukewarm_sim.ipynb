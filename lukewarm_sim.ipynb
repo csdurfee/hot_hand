{
 "cells": [
  {
   "cell_type": "markdown",
   "id": "859c3778",
   "metadata": {},
   "source": [
    "# The Lukewarm Hand, part 2\n",
    "\n",
    "I decided to code up a simulation of what a \"lukewarm\" player might look like. How would that affect the distribution of z scores?\n",
    "\n",
    "I'm not totally sure how to model it, because the whole idea is kind of ridiculous."
   ]
  },
  {
   "cell_type": "code",
   "execution_count": 1,
   "id": "af398e5a",
   "metadata": {},
   "outputs": [],
   "source": [
    "import streaky_players\n",
    "import wald_wolfowitz\n",
    "import streak_converter\n",
    "\n",
    "# the song of my people\n",
    "import numpy as np\n",
    "import pandas as pd\n",
    "import matplotlib.pyplot as plt\n",
    "import scipy.stats"
   ]
  },
  {
   "cell_type": "markdown",
   "id": "971916ab",
   "metadata": {},
   "source": [
    "## Gotta Start Somewhere\n",
    "\n",
    "First, a really naive attempt. Each player will put up 900 shots a year, split across 60 games. I'm making the base shooting percentage 50%. If a player, call him Luke, has taken at least 8 attempts in the game, and made at least 80% of them, his shooting percentage goes down to 30%, and if he's missed at least 80% of them, his shooting percentage goes up to 70%."
   ]
  },
  {
   "cell_type": "code",
   "execution_count": 2,
   "id": "e04efb21",
   "metadata": {},
   "outputs": [],
   "source": [
    "def sim_season():\n",
    "    GAMES = 60 # they miss some games, say\n",
    "    SHOTS = 15 # this is actually pretty high for an average player, I think\n",
    "\n",
    "    luke = streaky_players.LukewarmPlayer(shooting_percentage=.5)\n",
    "    luke.MIN_ATTEMPTS = 8\n",
    "\n",
    "    makes_misses = []\n",
    "    for game in range(GAMES):\n",
    "        for shot in range(SHOTS):\n",
    "            makes_misses.append(luke.take_shot())\n",
    "        luke.end_game()\n",
    "    return pd.Series(makes_misses)\n",
    "\n",
    "def handle_season(results):\n",
    "    makes = sum(results > 0)\n",
    "    misses = sum(results == 0)\n",
    "    if (makes + misses) > 3:\n",
    "        expected = wald_wolfowitz.get_expected_streaks(makes, misses)\n",
    "        streak_data = streak_converter.convert_to_streaks(results)\n",
    "        total_streaks = streak_data['total_streaks']\n",
    "        variance = wald_wolfowitz.get_variance(makes, misses, expected)\n",
    "        if variance > 0:\n",
    "            z_score = (total_streaks - expected) / np.sqrt(variance)\n",
    "            return (total_streaks, expected, variance, z_score)\n",
    "        else:\n",
    "            return None\n",
    "    else:\n",
    "        return None # not enough data!\n",
    "\n",
    "def sim_multiple(num_seasons):\n",
    "    seasons_result = []\n",
    "    for x in range(num_seasons):\n",
    "        results = sim_season()\n",
    "        stat_results = handle_season(results)\n",
    "        seasons_result.append(stat_results)\n",
    "\n",
    "    return seasons_result"
   ]
  },
  {
   "cell_type": "markdown",
   "id": "f03d9eba",
   "metadata": {},
   "source": [
    "I'm going to look at 5000 simulated players."
   ]
  },
  {
   "cell_type": "code",
   "execution_count": 3,
   "id": "2fddcf4e",
   "metadata": {},
   "outputs": [],
   "source": [
    "luke = sim_multiple(1000) # FIXME: speed"
   ]
  },
  {
   "cell_type": "code",
   "execution_count": 4,
   "id": "6a0c4ddb",
   "metadata": {},
   "outputs": [
    {
     "data": {
      "image/png": "[encoded data removed]",
      "text/plain": [
       "<Figure size 640x480 with 1 Axes>"
      ]
     },
     "metadata": {},
     "output_type": "display_data"
    }
   ],
   "source": [
    "def summary_plot(sim):\n",
    "    sim_summary = pd.DataFrame(sim, columns=[\"actual\", \"expected\", \"variance\", \"z_score\"])\n",
    "    x = np.linspace(-3,3,200)\n",
    "    plt.plot(x, scipy.stats.norm.pdf(x, 0, 1))\n",
    "    sim_summary.z_score.hist(bins=12, density=True)\n",
    "\n",
    "    return sim_summary\n",
    "\n",
    "\n",
    "luke_summary = summary_plot(luke)"
   ]
  },
  {
   "cell_type": "code",
   "execution_count": 5,
   "id": "a2607760",
   "metadata": {},
   "outputs": [
    {
     "data": {
      "text/plain": [
       "count    1000.000000\n",
       "mean        0.128713\n",
       "std         0.998791\n",
       "min        -4.040072\n",
       "25%        -0.554468\n",
       "50%         0.134748\n",
       "75%         0.776012\n",
       "max         3.879533\n",
       "Name: z_score, dtype: float64"
      ]
     },
     "execution_count": 5,
     "metadata": {},
     "output_type": "execute_result"
    }
   ],
   "source": [
    "luke_summary.z_score.describe()"
   ]
  },
  {
   "cell_type": "markdown",
   "id": "bec31f85",
   "metadata": {},
   "source": [
    "as expected it did shift the mean to the right (\"unstreaky\" side), but didn't increase the standard deviation.\n",
    "\n",
    "I should simulate a realistic season with the shooting percentages and number of attempts matching actual players."
   ]
  },
  {
   "cell_type": "code",
   "execution_count": 6,
   "id": "29e7ef38",
   "metadata": {},
   "outputs": [],
   "source": [
    "import player_streaks\n",
    "ps = player_streaks.PlayerStreaks()\n",
    "\n",
    "actual_data = ps.get_data_with_stats()"
   ]
  },
  {
   "cell_type": "code",
   "execution_count": 7,
   "id": "65af1077",
   "metadata": {},
   "outputs": [],
   "source": [
    "df_season = pd.DataFrame({'attempts': actual_data.makes + actual_data.misses,\n",
    "                          'shooting_percentage': actual_data.makes / (actual_data.makes + actual_data.misses)})"
   ]
  },
  {
   "cell_type": "code",
   "execution_count": 8,
   "id": "e25cffc5",
   "metadata": {},
   "outputs": [
    {
     "data": {
      "text/html": [
       "<div>\n",
       "<style scoped>\n",
       "    .dataframe tbody tr th:only-of-type {\n",
       "        vertical-align: middle;\n",
       "    }\n",
       "\n",
       "    .dataframe tbody tr th {\n",
       "        vertical-align: top;\n",
       "    }\n",
       "\n",
       "    .dataframe thead th {\n",
       "        text-align: right;\n",
       "    }\n",
       "</style>\n",
       "<table border=\"1\" class=\"dataframe\">\n",
       "  <thead>\n",
       "    <tr style=\"text-align: right;\">\n",
       "      <th></th>\n",
       "      <th>attempts</th>\n",
       "      <th>shooting_percentage</th>\n",
       "    </tr>\n",
       "    <tr>\n",
       "      <th>player_id</th>\n",
       "      <th></th>\n",
       "      <th></th>\n",
       "    </tr>\n",
       "  </thead>\n",
       "  <tbody>\n",
       "    <tr>\n",
       "      <th>1630173</th>\n",
       "      <td>327</td>\n",
       "      <td>0.501529</td>\n",
       "    </tr>\n",
       "    <tr>\n",
       "      <th>203500</th>\n",
       "      <td>167</td>\n",
       "      <td>0.544910</td>\n",
       "    </tr>\n",
       "    <tr>\n",
       "      <th>1628389</th>\n",
       "      <td>1113</td>\n",
       "      <td>0.485175</td>\n",
       "    </tr>\n",
       "    <tr>\n",
       "      <th>1630534</th>\n",
       "      <td>534</td>\n",
       "      <td>0.498127</td>\n",
       "    </tr>\n",
       "    <tr>\n",
       "      <th>1630583</th>\n",
       "      <td>648</td>\n",
       "      <td>0.483025</td>\n",
       "    </tr>\n",
       "    <tr>\n",
       "      <th>...</th>\n",
       "      <td>...</td>\n",
       "      <td>...</td>\n",
       "    </tr>\n",
       "    <tr>\n",
       "      <th>1629027</th>\n",
       "      <td>1376</td>\n",
       "      <td>0.411337</td>\n",
       "    </tr>\n",
       "    <tr>\n",
       "      <th>1627826</th>\n",
       "      <td>942</td>\n",
       "      <td>0.628450</td>\n",
       "    </tr>\n",
       "    <tr>\n",
       "      <th>1641783</th>\n",
       "      <td>483</td>\n",
       "      <td>0.412008</td>\n",
       "    </tr>\n",
       "    <tr>\n",
       "      <th>1628427</th>\n",
       "      <td>26</td>\n",
       "      <td>0.384615</td>\n",
       "    </tr>\n",
       "    <tr>\n",
       "      <th>203967</th>\n",
       "      <td>58</td>\n",
       "      <td>0.362069</td>\n",
       "    </tr>\n",
       "  </tbody>\n",
       "</table>\n",
       "<p>572 rows × 2 columns</p>\n",
       "</div>"
      ],
      "text/plain": [
       "           attempts  shooting_percentage\n",
       "player_id                               \n",
       "1630173         327             0.501529\n",
       "203500          167             0.544910\n",
       "1628389        1113             0.485175\n",
       "1630534         534             0.498127\n",
       "1630583         648             0.483025\n",
       "...             ...                  ...\n",
       "1629027        1376             0.411337\n",
       "1627826         942             0.628450\n",
       "1641783         483             0.412008\n",
       "1628427          26             0.384615\n",
       "203967           58             0.362069\n",
       "\n",
       "[572 rows x 2 columns]"
      ]
     },
     "execution_count": 8,
     "metadata": {},
     "output_type": "execute_result"
    }
   ],
   "source": [
    "df_season"
   ]
  },
  {
   "cell_type": "markdown",
   "id": "b1d02fac",
   "metadata": {},
   "source": [
    "I will loop through df_season and simulate each one with lukewarmplayer. the problem is I don't have a realistic number of shots per game, because I didn't collect number of games played.\n",
    "\n",
    "I found 4 attempts before the \"unstreaky\" behavior kicks in to produce pretty realistic results."
   ]
  },
  {
   "cell_type": "code",
   "execution_count": 9,
   "id": "cfc4e8ca",
   "metadata": {},
   "outputs": [],
   "source": [
    "def sim_season_realistic(df):\n",
    "    results = []\n",
    "    for i, row in df.iterrows():\n",
    "        sim_player = streaky_players.LukewarmPlayer(shooting_percentage=row.shooting_percentage)\n",
    "        sim_player.MIN_ATTEMPTS = 4 # when streakiness kicks in. I don't know what number this should be.\n",
    "\n",
    "        ### THIS IS A WILD ASS GUESS, I have no idea how shot attampts per game are distributed\n",
    "        ### and should be using actual number of shots for each game.\n",
    "        approx_games = 50\n",
    "        approx_attempts = int(np.ceil(row.attempts/approx_games))\n",
    "        makes_misses = []\n",
    "        # like in the original research, I am concatenating game results\n",
    "        # onto one long season-wide list\n",
    "        for game in range(approx_games):\n",
    "            for shot in range(approx_attempts):\n",
    "                makes_misses.append(sim_player.take_shot())\n",
    "            sim_player.end_game()\n",
    "        season_stats = handle_season(pd.Series(makes_misses))\n",
    "        if season_stats:\n",
    "            results.append(season_stats)\n",
    "    return results            "
   ]
  },
  {
   "cell_type": "code",
   "execution_count": 10,
   "id": "dd72e7c8",
   "metadata": {},
   "outputs": [],
   "source": [
    "ssr = sim_season_realistic(df_season)"
   ]
  },
  {
   "cell_type": "code",
   "execution_count": 11,
   "id": "f7480f73",
   "metadata": {},
   "outputs": [],
   "source": [
    "sim_summary = pd.DataFrame(ssr, columns=[\"actual\", \"expected\", \"variance\", \"z_score\"])\n",
    "    "
   ]
  },
  {
   "cell_type": "code",
   "execution_count": 12,
   "id": "42b7b88f",
   "metadata": {},
   "outputs": [
    {
     "data": {
      "text/plain": [
       "count    554.000000\n",
       "mean       0.208775\n",
       "std        0.987066\n",
       "min       -2.689193\n",
       "25%       -0.455997\n",
       "50%        0.216093\n",
       "75%        0.901026\n",
       "max        3.150004\n",
       "Name: z_score, dtype: float64"
      ]
     },
     "execution_count": 12,
     "metadata": {},
     "output_type": "execute_result"
    }
   ],
   "source": [
    "sim_summary.z_score.describe()"
   ]
  },
  {
   "cell_type": "markdown",
   "id": "bafcd4e6",
   "metadata": {},
   "source": [
    "For reference, here were the actual numbers from the 2024-5 season:\n",
    "\n",
    "\n",
    "```\n",
    "count    554.000000\n",
    "mean       0.212491\n",
    "std        1.075563\n",
    "min       -3.081194\n",
    "25%       -0.546340\n",
    "50%        0.236554\n",
    "75%        0.951653\n",
    "max        3.054836\n",
    "Name: z_score, dtype: float64\n",
    "\n",
    "```"
   ]
  },
  {
   "cell_type": "markdown",
   "id": "941b3c4c",
   "metadata": {},
   "source": [
    "I don't think my model is really capturing the overdispersion. messing around with this simple sort of model hasn't \n",
    "\n",
    "ideas:\n",
    "\n",
    "\n",
    "high volume shooters are extra unstreaky? (this is implicitly happening because the anti-streakiness doesn't kick in until 4+ shots)\n",
    "\n",
    "unstreakiness works only in one direction? (don't get a boost when missing a lot, do get a penalty when making a lot)?\n",
    "\n",
    "I want actual # of shots per each game (not just average). make sim as close as possible. sometimes role players will have 1 or 2 games where they shoot a bunch of shots\n",
    "\n",
    "model a mixture of extra unstreaky and regular players?"
   ]
  },
  {
   "cell_type": "markdown",
   "id": "971afddf",
   "metadata": {},
   "source": []
  },
  {
   "cell_type": "code",
   "execution_count": 13,
   "id": "cfdaf14f",
   "metadata": {},
   "outputs": [
    {
     "data": {
      "text/html": [
       "<div>\n",
       "<style scoped>\n",
       "    .dataframe tbody tr th:only-of-type {\n",
       "        vertical-align: middle;\n",
       "    }\n",
       "\n",
       "    .dataframe tbody tr th {\n",
       "        vertical-align: top;\n",
       "    }\n",
       "\n",
       "    .dataframe thead th {\n",
       "        text-align: right;\n",
       "    }\n",
       "</style>\n",
       "<table border=\"1\" class=\"dataframe\">\n",
       "  <thead>\n",
       "    <tr style=\"text-align: right;\">\n",
       "      <th></th>\n",
       "      <th>player_name</th>\n",
       "      <th>makes</th>\n",
       "      <th>misses</th>\n",
       "      <th>total_streaks</th>\n",
       "      <th>raw_data</th>\n",
       "      <th>expected_streaks</th>\n",
       "      <th>variance</th>\n",
       "      <th>sd</th>\n",
       "      <th>z_score</th>\n",
       "    </tr>\n",
       "    <tr>\n",
       "      <th>player_id</th>\n",
       "      <th></th>\n",
       "      <th></th>\n",
       "      <th></th>\n",
       "      <th></th>\n",
       "      <th></th>\n",
       "      <th></th>\n",
       "      <th></th>\n",
       "      <th></th>\n",
       "      <th></th>\n",
       "    </tr>\n",
       "  </thead>\n",
       "  <tbody>\n",
       "    <tr>\n",
       "      <th>1630173</th>\n",
       "      <td>Precious Achiuwa</td>\n",
       "      <td>164</td>\n",
       "      <td>163</td>\n",
       "      <td>157</td>\n",
       "      <td>WLLLWWLWWLLWLLWLLLWWWWWLLLWLLWWLLLWLLLWWWLWLWW...</td>\n",
       "      <td>164.498471</td>\n",
       "      <td>81.497704</td>\n",
       "      <td>9.027608</td>\n",
       "      <td>-0.830615</td>\n",
       "    </tr>\n",
       "    <tr>\n",
       "      <th>203500</th>\n",
       "      <td>Steven Adams</td>\n",
       "      <td>91</td>\n",
       "      <td>76</td>\n",
       "      <td>87</td>\n",
       "      <td>LWWWLLWLWWWLWLLLWWWLWWWWWLLWWWWLWLLWWWLWLWLWWW...</td>\n",
       "      <td>83.826347</td>\n",
       "      <td>40.827575</td>\n",
       "      <td>6.389646</td>\n",
       "      <td>0.496687</td>\n",
       "    </tr>\n",
       "    <tr>\n",
       "      <th>1628389</th>\n",
       "      <td>Bam Adebayo</td>\n",
       "      <td>540</td>\n",
       "      <td>573</td>\n",
       "      <td>569</td>\n",
       "      <td>LLWLWWWLWLWWWLLWLLWLWWWLWLWWWWLWWWLLWWWLWLLWWL...</td>\n",
       "      <td>557.010782</td>\n",
       "      <td>277.510772</td>\n",
       "      <td>16.658655</td>\n",
       "      <td>0.719699</td>\n",
       "    </tr>\n",
       "    <tr>\n",
       "      <th>1630534</th>\n",
       "      <td>Ochai Agbaji</td>\n",
       "      <td>266</td>\n",
       "      <td>268</td>\n",
       "      <td>277</td>\n",
       "      <td>WLLLLWLWLWWLWLLLLWLLLLLWLLLWWWWWLWWWLWWWWWLLWL...</td>\n",
       "      <td>267.996255</td>\n",
       "      <td>133.245786</td>\n",
       "      <td>11.543214</td>\n",
       "      <td>0.780003</td>\n",
       "    </tr>\n",
       "    <tr>\n",
       "      <th>1630583</th>\n",
       "      <td>Santi Aldama</td>\n",
       "      <td>313</td>\n",
       "      <td>335</td>\n",
       "      <td>327</td>\n",
       "      <td>LWLLLLWLWWWWWLWWWLWWLWLWLLLWWWWWWLWWWLWWWWWWLL...</td>\n",
       "      <td>324.626543</td>\n",
       "      <td>161.376372</td>\n",
       "      <td>12.703400</td>\n",
       "      <td>0.186836</td>\n",
       "    </tr>\n",
       "    <tr>\n",
       "      <th>...</th>\n",
       "      <td>...</td>\n",
       "      <td>...</td>\n",
       "      <td>...</td>\n",
       "      <td>...</td>\n",
       "      <td>...</td>\n",
       "      <td>...</td>\n",
       "      <td>...</td>\n",
       "      <td>...</td>\n",
       "      <td>...</td>\n",
       "    </tr>\n",
       "    <tr>\n",
       "      <th>1629027</th>\n",
       "      <td>Trae Young</td>\n",
       "      <td>566</td>\n",
       "      <td>810</td>\n",
       "      <td>678</td>\n",
       "      <td>LLWLLLLWLWLLLLWLWLLWLWWLLWLLLWWWLLWLWWWLWLWLWW...</td>\n",
       "      <td>667.366279</td>\n",
       "      <td>322.456474</td>\n",
       "      <td>17.957073</td>\n",
       "      <td>0.592175</td>\n",
       "    </tr>\n",
       "    <tr>\n",
       "      <th>1627826</th>\n",
       "      <td>Ivica Zubac</td>\n",
       "      <td>592</td>\n",
       "      <td>350</td>\n",
       "      <td>445</td>\n",
       "      <td>WLWLLLLWLWWWLWLWWWWWLWWWWWLLWLLWLLLWWWWLWWWWLL...</td>\n",
       "      <td>440.915074</td>\n",
       "      <td>205.191666</td>\n",
       "      <td>14.324513</td>\n",
       "      <td>0.285170</td>\n",
       "    </tr>\n",
       "    <tr>\n",
       "      <th>1641783</th>\n",
       "      <td>Tristan da Silva</td>\n",
       "      <td>199</td>\n",
       "      <td>284</td>\n",
       "      <td>245</td>\n",
       "      <td>LWLWLLLLWLWWLWLWWLWLWLLWWLWWWWLWLWWLLLLWLWWLLW...</td>\n",
       "      <td>235.020704</td>\n",
       "      <td>113.136243</td>\n",
       "      <td>10.636552</td>\n",
       "      <td>0.938208</td>\n",
       "    </tr>\n",
       "    <tr>\n",
       "      <th>1628427</th>\n",
       "      <td>Vlatko Čančar</td>\n",
       "      <td>10</td>\n",
       "      <td>16</td>\n",
       "      <td>12</td>\n",
       "      <td>WLLWWWLLLLWWLLLWLLLLLWLWWL</td>\n",
       "      <td>13.307692</td>\n",
       "      <td>5.566864</td>\n",
       "      <td>2.359420</td>\n",
       "      <td>-0.554243</td>\n",
       "    </tr>\n",
       "    <tr>\n",
       "      <th>203967</th>\n",
       "      <td>Dario Šarić</td>\n",
       "      <td>21</td>\n",
       "      <td>37</td>\n",
       "      <td>26</td>\n",
       "      <td>LWLLWWLLWWLLLLWLLWLLLLLLWLLLLLLWLWWLWLLLLLLWWL...</td>\n",
       "      <td>27.793103</td>\n",
       "      <td>12.124163</td>\n",
       "      <td>3.481977</td>\n",
       "      <td>-0.514967</td>\n",
       "    </tr>\n",
       "  </tbody>\n",
       "</table>\n",
       "<p>572 rows × 9 columns</p>\n",
       "</div>"
      ],
      "text/plain": [
       "                player_name  makes  misses  total_streaks  \\\n",
       "player_id                                                   \n",
       "1630173    Precious Achiuwa    164     163            157   \n",
       "203500         Steven Adams     91      76             87   \n",
       "1628389         Bam Adebayo    540     573            569   \n",
       "1630534        Ochai Agbaji    266     268            277   \n",
       "1630583        Santi Aldama    313     335            327   \n",
       "...                     ...    ...     ...            ...   \n",
       "1629027          Trae Young    566     810            678   \n",
       "1627826         Ivica Zubac    592     350            445   \n",
       "1641783    Tristan da Silva    199     284            245   \n",
       "1628427       Vlatko Čančar     10      16             12   \n",
       "203967          Dario Šarić     21      37             26   \n",
       "\n",
       "                                                    raw_data  \\\n",
       "player_id                                                      \n",
       "1630173    WLLLWWLWWLLWLLWLLLWWWWWLLLWLLWWLLLWLLLWWWLWLWW...   \n",
       "203500     LWWWLLWLWWWLWLLLWWWLWWWWWLLWWWWLWLLWWWLWLWLWWW...   \n",
       "1628389    LLWLWWWLWLWWWLLWLLWLWWWLWLWWWWLWWWLLWWWLWLLWWL...   \n",
       "1630534    WLLLLWLWLWWLWLLLLWLLLLLWLLLWWWWWLWWWLWWWWWLLWL...   \n",
       "1630583    LWLLLLWLWWWWWLWWWLWWLWLWLLLWWWWWWLWWWLWWWWWWLL...   \n",
       "...                                                      ...   \n",
       "1629027    LLWLLLLWLWLLLLWLWLLWLWWLLWLLLWWWLLWLWWWLWLWLWW...   \n",
       "1627826    WLWLLLLWLWWWLWLWWWWWLWWWWWLLWLLWLLLWWWWLWWWWLL...   \n",
       "1641783    LWLWLLLLWLWWLWLWWLWLWLLWWLWWWWLWLWWLLLLWLWWLLW...   \n",
       "1628427                           WLLWWWLLLLWWLLLWLLLLLWLWWL   \n",
       "203967     LWLLWWLLWWLLLLWLLWLLLLLLWLLLLLLWLWWLWLLLLLLWWL...   \n",
       "\n",
       "           expected_streaks    variance         sd   z_score  \n",
       "player_id                                                     \n",
       "1630173          164.498471   81.497704   9.027608 -0.830615  \n",
       "203500            83.826347   40.827575   6.389646  0.496687  \n",
       "1628389          557.010782  277.510772  16.658655  0.719699  \n",
       "1630534          267.996255  133.245786  11.543214  0.780003  \n",
       "1630583          324.626543  161.376372  12.703400  0.186836  \n",
       "...                     ...         ...        ...       ...  \n",
       "1629027          667.366279  322.456474  17.957073  0.592175  \n",
       "1627826          440.915074  205.191666  14.324513  0.285170  \n",
       "1641783          235.020704  113.136243  10.636552  0.938208  \n",
       "1628427           13.307692    5.566864   2.359420 -0.554243  \n",
       "203967            27.793103   12.124163   3.481977 -0.514967  \n",
       "\n",
       "[572 rows x 9 columns]"
      ]
     },
     "execution_count": 13,
     "metadata": {},
     "output_type": "execute_result"
    }
   ],
   "source": [
    "actual_data"
   ]
  },
  {
   "cell_type": "markdown",
   "id": "2c2969e2",
   "metadata": {},
   "source": [
    "## Looking at actual shot data\n",
    "I'm not happy with the fact that I'm not following the actual number of shots per game.\n",
    "\n",
    "I need complete shot data. If ound it downloadable from kaggle:\n",
    "\n",
    "https://www.kaggle.com/datasets/mexwell/nba-shots\n",
    "\n",
    "this is only up to 2023-24. the files are named after the 2nd year (2024) of the season rather than the first"
   ]
  },
  {
   "cell_type": "code",
   "execution_count": 14,
   "id": "5cec0682",
   "metadata": {},
   "outputs": [],
   "source": [
    "shots =  pd.read_csv(\"kaggle_data/NBA_2024_Shots.csv\")"
   ]
  },
  {
   "cell_type": "code",
   "execution_count": 15,
   "id": "c2d72c50",
   "metadata": {},
   "outputs": [
    {
     "data": {
      "text/html": [
       "<div>\n",
       "<style scoped>\n",
       "    .dataframe tbody tr th:only-of-type {\n",
       "        vertical-align: middle;\n",
       "    }\n",
       "\n",
       "    .dataframe tbody tr th {\n",
       "        vertical-align: top;\n",
       "    }\n",
       "\n",
       "    .dataframe thead th {\n",
       "        text-align: right;\n",
       "    }\n",
       "</style>\n",
       "<table border=\"1\" class=\"dataframe\">\n",
       "  <thead>\n",
       "    <tr style=\"text-align: right;\">\n",
       "      <th></th>\n",
       "      <th>SEASON_1</th>\n",
       "      <th>SEASON_2</th>\n",
       "      <th>TEAM_ID</th>\n",
       "      <th>TEAM_NAME</th>\n",
       "      <th>PLAYER_ID</th>\n",
       "      <th>PLAYER_NAME</th>\n",
       "      <th>POSITION_GROUP</th>\n",
       "      <th>POSITION</th>\n",
       "      <th>GAME_DATE</th>\n",
       "      <th>GAME_ID</th>\n",
       "      <th>...</th>\n",
       "      <th>BASIC_ZONE</th>\n",
       "      <th>ZONE_NAME</th>\n",
       "      <th>ZONE_ABB</th>\n",
       "      <th>ZONE_RANGE</th>\n",
       "      <th>LOC_X</th>\n",
       "      <th>LOC_Y</th>\n",
       "      <th>SHOT_DISTANCE</th>\n",
       "      <th>QUARTER</th>\n",
       "      <th>MINS_LEFT</th>\n",
       "      <th>SECS_LEFT</th>\n",
       "    </tr>\n",
       "  </thead>\n",
       "  <tbody>\n",
       "    <tr>\n",
       "      <th>0</th>\n",
       "      <td>2024</td>\n",
       "      <td>2023-24</td>\n",
       "      <td>1610612764</td>\n",
       "      <td>Washington Wizards</td>\n",
       "      <td>1629673</td>\n",
       "      <td>Jordan Poole</td>\n",
       "      <td>G</td>\n",
       "      <td>SG</td>\n",
       "      <td>11-03-2023</td>\n",
       "      <td>22300003</td>\n",
       "      <td>...</td>\n",
       "      <td>In The Paint (Non-RA)</td>\n",
       "      <td>Center</td>\n",
       "      <td>C</td>\n",
       "      <td>8-16 ft.</td>\n",
       "      <td>-0.4</td>\n",
       "      <td>17.45</td>\n",
       "      <td>12</td>\n",
       "      <td>1</td>\n",
       "      <td>11</td>\n",
       "      <td>1</td>\n",
       "    </tr>\n",
       "    <tr>\n",
       "      <th>1</th>\n",
       "      <td>2024</td>\n",
       "      <td>2023-24</td>\n",
       "      <td>1610612764</td>\n",
       "      <td>Washington Wizards</td>\n",
       "      <td>1630166</td>\n",
       "      <td>Deni Avdija</td>\n",
       "      <td>F</td>\n",
       "      <td>SF</td>\n",
       "      <td>11-03-2023</td>\n",
       "      <td>22300003</td>\n",
       "      <td>...</td>\n",
       "      <td>Above the Break 3</td>\n",
       "      <td>Center</td>\n",
       "      <td>C</td>\n",
       "      <td>24+ ft.</td>\n",
       "      <td>1.5</td>\n",
       "      <td>30.55</td>\n",
       "      <td>25</td>\n",
       "      <td>1</td>\n",
       "      <td>10</td>\n",
       "      <td>26</td>\n",
       "    </tr>\n",
       "    <tr>\n",
       "      <th>2</th>\n",
       "      <td>2024</td>\n",
       "      <td>2023-24</td>\n",
       "      <td>1610612764</td>\n",
       "      <td>Washington Wizards</td>\n",
       "      <td>1626145</td>\n",
       "      <td>Tyus Jones</td>\n",
       "      <td>G</td>\n",
       "      <td>PG</td>\n",
       "      <td>11-03-2023</td>\n",
       "      <td>22300003</td>\n",
       "      <td>...</td>\n",
       "      <td>Restricted Area</td>\n",
       "      <td>Center</td>\n",
       "      <td>C</td>\n",
       "      <td>Less Than 8 ft.</td>\n",
       "      <td>-3.3</td>\n",
       "      <td>6.55</td>\n",
       "      <td>3</td>\n",
       "      <td>1</td>\n",
       "      <td>9</td>\n",
       "      <td>46</td>\n",
       "    </tr>\n",
       "    <tr>\n",
       "      <th>3</th>\n",
       "      <td>2024</td>\n",
       "      <td>2023-24</td>\n",
       "      <td>1610612764</td>\n",
       "      <td>Washington Wizards</td>\n",
       "      <td>1629673</td>\n",
       "      <td>Jordan Poole</td>\n",
       "      <td>G</td>\n",
       "      <td>SG</td>\n",
       "      <td>11-03-2023</td>\n",
       "      <td>22300003</td>\n",
       "      <td>...</td>\n",
       "      <td>Restricted Area</td>\n",
       "      <td>Center</td>\n",
       "      <td>C</td>\n",
       "      <td>Less Than 8 ft.</td>\n",
       "      <td>-1.0</td>\n",
       "      <td>5.85</td>\n",
       "      <td>1</td>\n",
       "      <td>1</td>\n",
       "      <td>8</td>\n",
       "      <td>30</td>\n",
       "    </tr>\n",
       "    <tr>\n",
       "      <th>4</th>\n",
       "      <td>2024</td>\n",
       "      <td>2023-24</td>\n",
       "      <td>1610612764</td>\n",
       "      <td>Washington Wizards</td>\n",
       "      <td>1626145</td>\n",
       "      <td>Tyus Jones</td>\n",
       "      <td>G</td>\n",
       "      <td>PG</td>\n",
       "      <td>11-03-2023</td>\n",
       "      <td>22300003</td>\n",
       "      <td>...</td>\n",
       "      <td>Restricted Area</td>\n",
       "      <td>Center</td>\n",
       "      <td>C</td>\n",
       "      <td>Less Than 8 ft.</td>\n",
       "      <td>-0.0</td>\n",
       "      <td>6.25</td>\n",
       "      <td>1</td>\n",
       "      <td>1</td>\n",
       "      <td>8</td>\n",
       "      <td>8</td>\n",
       "    </tr>\n",
       "  </tbody>\n",
       "</table>\n",
       "<p>5 rows × 26 columns</p>\n",
       "</div>"
      ],
      "text/plain": [
       "   SEASON_1 SEASON_2     TEAM_ID           TEAM_NAME  PLAYER_ID   PLAYER_NAME  \\\n",
       "0      2024  2023-24  1610612764  Washington Wizards    1629673  Jordan Poole   \n",
       "1      2024  2023-24  1610612764  Washington Wizards    1630166   Deni Avdija   \n",
       "2      2024  2023-24  1610612764  Washington Wizards    1626145    Tyus Jones   \n",
       "3      2024  2023-24  1610612764  Washington Wizards    1629673  Jordan Poole   \n",
       "4      2024  2023-24  1610612764  Washington Wizards    1626145    Tyus Jones   \n",
       "\n",
       "  POSITION_GROUP POSITION   GAME_DATE   GAME_ID  ...             BASIC_ZONE  \\\n",
       "0              G       SG  11-03-2023  22300003  ...  In The Paint (Non-RA)   \n",
       "1              F       SF  11-03-2023  22300003  ...      Above the Break 3   \n",
       "2              G       PG  11-03-2023  22300003  ...        Restricted Area   \n",
       "3              G       SG  11-03-2023  22300003  ...        Restricted Area   \n",
       "4              G       PG  11-03-2023  22300003  ...        Restricted Area   \n",
       "\n",
       "  ZONE_NAME ZONE_ABB       ZONE_RANGE LOC_X  LOC_Y SHOT_DISTANCE QUARTER  \\\n",
       "0    Center        C         8-16 ft.  -0.4  17.45            12       1   \n",
       "1    Center        C          24+ ft.   1.5  30.55            25       1   \n",
       "2    Center        C  Less Than 8 ft.  -3.3   6.55             3       1   \n",
       "3    Center        C  Less Than 8 ft.  -1.0   5.85             1       1   \n",
       "4    Center        C  Less Than 8 ft.  -0.0   6.25             1       1   \n",
       "\n",
       "  MINS_LEFT SECS_LEFT  \n",
       "0        11         1  \n",
       "1        10        26  \n",
       "2         9        46  \n",
       "3         8        30  \n",
       "4         8         8  \n",
       "\n",
       "[5 rows x 26 columns]"
      ]
     },
     "execution_count": 15,
     "metadata": {},
     "output_type": "execute_result"
    }
   ],
   "source": [
    "shots.head()"
   ]
  },
  {
   "cell_type": "code",
   "execution_count": 16,
   "id": "e5246870",
   "metadata": {},
   "outputs": [],
   "source": [
    "\n",
    "combined_df = pd.DataFrame(columns=[\"player_id\", \"game_id\", \"makes\", \n",
    "                                \"misses\", \"total_streaks\", \"raw_data\"])\n",
    "combined_df = combined_df.set_index([\"player_id\", \"game_id\"])\n",
    "\n",
    "\n",
    "for key, results in shots.groupby([\"PLAYER_ID\", \"GAME_ID\"])[\"SHOT_MADE\"]:\n",
    "    streak_data = \"\".join(results.replace(True, \"W\").replace(False, \"L\"))\n",
    "    as_streaks = streak_converter.convert_to_streaks(False, streak_data)\n",
    "\n",
    "    combined_df.loc[key, :] = [as_streaks['makes'], as_streaks['misses'],\n",
    "                                  as_streaks['total_streaks'], as_streaks['raw_data']\n",
    "                                ]"
   ]
  },
  {
   "cell_type": "code",
   "execution_count": 17,
   "id": "16ca258d",
   "metadata": {},
   "outputs": [],
   "source": [
    "#combined_df.to_pickle(\"caseytestingstuff.pkl\")"
   ]
  },
  {
   "cell_type": "code",
   "execution_count": 18,
   "id": "71870327",
   "metadata": {},
   "outputs": [],
   "source": [
    "combined_df['expected_streaks'] = wald_wolfowitz.get_expected_streaks(combined_df.makes, combined_df.misses)"
   ]
  },
  {
   "cell_type": "code",
   "execution_count": 19,
   "id": "e1d16379",
   "metadata": {},
   "outputs": [
    {
     "data": {
      "text/html": [
       "<div>\n",
       "<style scoped>\n",
       "    .dataframe tbody tr th:only-of-type {\n",
       "        vertical-align: middle;\n",
       "    }\n",
       "\n",
       "    .dataframe tbody tr th {\n",
       "        vertical-align: top;\n",
       "    }\n",
       "\n",
       "    .dataframe thead th {\n",
       "        text-align: right;\n",
       "    }\n",
       "</style>\n",
       "<table border=\"1\" class=\"dataframe\">\n",
       "  <thead>\n",
       "    <tr style=\"text-align: right;\">\n",
       "      <th></th>\n",
       "      <th></th>\n",
       "      <th>makes</th>\n",
       "      <th>misses</th>\n",
       "      <th>total_streaks</th>\n",
       "      <th>raw_data</th>\n",
       "      <th>expected_streaks</th>\n",
       "    </tr>\n",
       "    <tr>\n",
       "      <th>player_id</th>\n",
       "      <th>game_id</th>\n",
       "      <th></th>\n",
       "      <th></th>\n",
       "      <th></th>\n",
       "      <th></th>\n",
       "      <th></th>\n",
       "    </tr>\n",
       "  </thead>\n",
       "  <tbody>\n",
       "    <tr>\n",
       "      <th rowspan=\"5\" valign=\"top\">2544</th>\n",
       "      <th>22300015</th>\n",
       "      <td>11</td>\n",
       "      <td>6</td>\n",
       "      <td>9</td>\n",
       "      <td>LWLWLWWWWWWWLLWWL</td>\n",
       "      <td>8.764706</td>\n",
       "    </tr>\n",
       "    <tr>\n",
       "      <th>22300026</th>\n",
       "      <td>6</td>\n",
       "      <td>5</td>\n",
       "      <td>5</td>\n",
       "      <td>WWLWLLLLWWW</td>\n",
       "      <td>6.454545</td>\n",
       "    </tr>\n",
       "    <tr>\n",
       "      <th>22300036</th>\n",
       "      <td>13</td>\n",
       "      <td>9</td>\n",
       "      <td>16</td>\n",
       "      <td>WLWWLWLWWWLWWLWLWWLLWL</td>\n",
       "      <td>11.636364</td>\n",
       "    </tr>\n",
       "    <tr>\n",
       "      <th>22300042</th>\n",
       "      <td>6</td>\n",
       "      <td>4</td>\n",
       "      <td>7</td>\n",
       "      <td>WLWLLWWWLW</td>\n",
       "      <td>5.8</td>\n",
       "    </tr>\n",
       "    <tr>\n",
       "      <th>22300061</th>\n",
       "      <td>10</td>\n",
       "      <td>6</td>\n",
       "      <td>11</td>\n",
       "      <td>WLWLLWWLWWLWWWLW</td>\n",
       "      <td>8.5</td>\n",
       "    </tr>\n",
       "    <tr>\n",
       "      <th>...</th>\n",
       "      <th>...</th>\n",
       "      <td>...</td>\n",
       "      <td>...</td>\n",
       "      <td>...</td>\n",
       "      <td>...</td>\n",
       "      <td>...</td>\n",
       "    </tr>\n",
       "    <tr>\n",
       "      <th rowspan=\"5\" valign=\"top\">1642013</th>\n",
       "      <th>22301108</th>\n",
       "      <td>0</td>\n",
       "      <td>7</td>\n",
       "      <td>1</td>\n",
       "      <td>LLLLLLL</td>\n",
       "      <td>1.0</td>\n",
       "    </tr>\n",
       "    <tr>\n",
       "      <th>22301146</th>\n",
       "      <td>3</td>\n",
       "      <td>5</td>\n",
       "      <td>4</td>\n",
       "      <td>WLLWWLLL</td>\n",
       "      <td>4.75</td>\n",
       "    </tr>\n",
       "    <tr>\n",
       "      <th>22301160</th>\n",
       "      <td>3</td>\n",
       "      <td>7</td>\n",
       "      <td>5</td>\n",
       "      <td>LLLWWLLWLL</td>\n",
       "      <td>5.2</td>\n",
       "    </tr>\n",
       "    <tr>\n",
       "      <th>22301176</th>\n",
       "      <td>0</td>\n",
       "      <td>2</td>\n",
       "      <td>1</td>\n",
       "      <td>LL</td>\n",
       "      <td>1.0</td>\n",
       "    </tr>\n",
       "    <tr>\n",
       "      <th>22301189</th>\n",
       "      <td>3</td>\n",
       "      <td>4</td>\n",
       "      <td>5</td>\n",
       "      <td>WLWLLLW</td>\n",
       "      <td>4.428571</td>\n",
       "    </tr>\n",
       "  </tbody>\n",
       "</table>\n",
       "<p>24895 rows × 5 columns</p>\n",
       "</div>"
      ],
      "text/plain": [
       "                   makes misses total_streaks                raw_data  \\\n",
       "player_id game_id                                                       \n",
       "2544      22300015    11      6             9       LWLWLWWWWWWWLLWWL   \n",
       "          22300026     6      5             5             WWLWLLLLWWW   \n",
       "          22300036    13      9            16  WLWWLWLWWWLWWLWLWWLLWL   \n",
       "          22300042     6      4             7              WLWLLWWWLW   \n",
       "          22300061    10      6            11        WLWLLWWLWWLWWWLW   \n",
       "...                  ...    ...           ...                     ...   \n",
       "1642013   22301108     0      7             1                 LLLLLLL   \n",
       "          22301146     3      5             4                WLLWWLLL   \n",
       "          22301160     3      7             5              LLLWWLLWLL   \n",
       "          22301176     0      2             1                      LL   \n",
       "          22301189     3      4             5                 WLWLLLW   \n",
       "\n",
       "                   expected_streaks  \n",
       "player_id game_id                    \n",
       "2544      22300015         8.764706  \n",
       "          22300026         6.454545  \n",
       "          22300036        11.636364  \n",
       "          22300042              5.8  \n",
       "          22300061              8.5  \n",
       "...                             ...  \n",
       "1642013   22301108              1.0  \n",
       "          22301146             4.75  \n",
       "          22301160              5.2  \n",
       "          22301176              1.0  \n",
       "          22301189         4.428571  \n",
       "\n",
       "[24895 rows x 5 columns]"
      ]
     },
     "execution_count": 19,
     "metadata": {},
     "output_type": "execute_result"
    }
   ],
   "source": [
    "combined_df"
   ]
  },
  {
   "cell_type": "markdown",
   "id": "743f2387",
   "metadata": {},
   "source": [
    "here's evidence of un-streaky behavior at the game-by-game level. there are a lot more player-game combos with too many streaks than too few streaks."
   ]
  },
  {
   "cell_type": "code",
   "execution_count": 20,
   "id": "842fc0aa",
   "metadata": {},
   "outputs": [],
   "source": [
    "streak_diff = combined_df.total_streaks - combined_df.expected_streaks"
   ]
  },
  {
   "cell_type": "code",
   "execution_count": 21,
   "id": "65aafa7d",
   "metadata": {},
   "outputs": [
    {
     "data": {
      "text/plain": [
       "10285"
      ]
     },
     "execution_count": 21,
     "metadata": {},
     "output_type": "execute_result"
    }
   ],
   "source": [
    "sum(streak_diff > 0)"
   ]
  },
  {
   "cell_type": "code",
   "execution_count": 22,
   "id": "85e7e3b1",
   "metadata": {},
   "outputs": [
    {
     "data": {
      "text/plain": [
       "8977"
      ]
     },
     "execution_count": 22,
     "metadata": {},
     "output_type": "execute_result"
    }
   ],
   "source": [
    "sum(streak_diff < 0)"
   ]
  },
  {
   "cell_type": "code",
   "execution_count": 23,
   "id": "26c8cc80",
   "metadata": {},
   "outputs": [
    {
     "data": {
      "text/plain": [
       "5633"
      ]
     },
     "execution_count": 23,
     "metadata": {},
     "output_type": "execute_result"
    }
   ],
   "source": [
    "sum(streak_diff == 0)"
   ]
  },
  {
   "cell_type": "markdown",
   "id": "dde4540a",
   "metadata": {},
   "source": [
    "we'd expect there to be as many streaks with negative z scores as positive ones. The imbalance is significant."
   ]
  },
  {
   "cell_type": "code",
   "execution_count": 24,
   "id": "c0902aee",
   "metadata": {},
   "outputs": [
    {
     "data": {
      "text/plain": [
       "Power_divergenceResult(statistic=np.float64(88.8206832104662), pvalue=np.float64(4.322725746451667e-21))"
      ]
     },
     "execution_count": 24,
     "metadata": {},
     "output_type": "execute_result"
    }
   ],
   "source": [
    "scipy.stats.chisquare([10285, 8977])\n"
   ]
  },
  {
   "cell_type": "markdown",
   "id": "8bb324de",
   "metadata": {},
   "source": [
    "## Game-level z scores\n",
    "\n",
    "have to redo some previous ETL here with the new data."
   ]
  },
  {
   "cell_type": "code",
   "execution_count": 26,
   "id": "6421313a",
   "metadata": {},
   "outputs": [],
   "source": [
    "# have to drop ones where variance is undefined\n",
    "\n",
    "clean_df = combined_df[(combined_df.makes + combined_df.misses) > 3].copy()"
   ]
  },
  {
   "cell_type": "code",
   "execution_count": 27,
   "id": "d93b64f5",
   "metadata": {},
   "outputs": [],
   "source": [
    "clean_df['variance'] = wald_wolfowitz.get_variance(clean_df.makes, \n",
    "                                                      clean_df.misses, \n",
    "                                                      clean_df.expected_streaks)"
   ]
  },
  {
   "cell_type": "code",
   "execution_count": null,
   "id": "dc0b5f7f",
   "metadata": {},
   "outputs": [],
   "source": [
    "clean_df = clean_df[clean_df.variance > 0].copy() # to prevent divide by zero below"
   ]
  },
  {
   "cell_type": "code",
   "execution_count": 34,
   "id": "4e876677",
   "metadata": {},
   "outputs": [
    {
     "data": {
      "text/html": [
       "<div>\n",
       "<style scoped>\n",
       "    .dataframe tbody tr th:only-of-type {\n",
       "        vertical-align: middle;\n",
       "    }\n",
       "\n",
       "    .dataframe tbody tr th {\n",
       "        vertical-align: top;\n",
       "    }\n",
       "\n",
       "    .dataframe thead th {\n",
       "        text-align: right;\n",
       "    }\n",
       "</style>\n",
       "<table border=\"1\" class=\"dataframe\">\n",
       "  <thead>\n",
       "    <tr style=\"text-align: right;\">\n",
       "      <th></th>\n",
       "      <th></th>\n",
       "      <th>makes</th>\n",
       "      <th>misses</th>\n",
       "      <th>total_streaks</th>\n",
       "      <th>raw_data</th>\n",
       "      <th>expected_streaks</th>\n",
       "      <th>variance</th>\n",
       "    </tr>\n",
       "    <tr>\n",
       "      <th>player_id</th>\n",
       "      <th>game_id</th>\n",
       "      <th></th>\n",
       "      <th></th>\n",
       "      <th></th>\n",
       "      <th></th>\n",
       "      <th></th>\n",
       "      <th></th>\n",
       "    </tr>\n",
       "  </thead>\n",
       "  <tbody>\n",
       "    <tr>\n",
       "      <th rowspan=\"5\" valign=\"top\">2544</th>\n",
       "      <th>22300015</th>\n",
       "      <td>11</td>\n",
       "      <td>6</td>\n",
       "      <td>9</td>\n",
       "      <td>LWLWLWWWWWWWLLWWL</td>\n",
       "      <td>8.764706</td>\n",
       "      <td>3.282872</td>\n",
       "    </tr>\n",
       "    <tr>\n",
       "      <th>22300026</th>\n",
       "      <td>6</td>\n",
       "      <td>5</td>\n",
       "      <td>5</td>\n",
       "      <td>WWLWLLLLWWW</td>\n",
       "      <td>6.454545</td>\n",
       "      <td>2.429752</td>\n",
       "    </tr>\n",
       "    <tr>\n",
       "      <th>22300036</th>\n",
       "      <td>13</td>\n",
       "      <td>9</td>\n",
       "      <td>16</td>\n",
       "      <td>WLWWLWLWWWLWWLWLWWLLWL</td>\n",
       "      <td>11.636364</td>\n",
       "      <td>4.880756</td>\n",
       "    </tr>\n",
       "    <tr>\n",
       "      <th>22300042</th>\n",
       "      <td>6</td>\n",
       "      <td>4</td>\n",
       "      <td>7</td>\n",
       "      <td>WLWLLWWWLW</td>\n",
       "      <td>5.8</td>\n",
       "      <td>2.026667</td>\n",
       "    </tr>\n",
       "    <tr>\n",
       "      <th>22300061</th>\n",
       "      <td>10</td>\n",
       "      <td>6</td>\n",
       "      <td>11</td>\n",
       "      <td>WLWLLWWLWWLWWWLW</td>\n",
       "      <td>8.5</td>\n",
       "      <td>3.25</td>\n",
       "    </tr>\n",
       "  </tbody>\n",
       "</table>\n",
       "</div>"
      ],
      "text/plain": [
       "                   makes misses total_streaks                raw_data  \\\n",
       "player_id game_id                                                       \n",
       "2544      22300015    11      6             9       LWLWLWWWWWWWLLWWL   \n",
       "          22300026     6      5             5             WWLWLLLLWWW   \n",
       "          22300036    13      9            16  WLWWLWLWWWLWWLWLWWLLWL   \n",
       "          22300042     6      4             7              WLWLLWWWLW   \n",
       "          22300061    10      6            11        WLWLLWWLWWLWWWLW   \n",
       "\n",
       "                   expected_streaks  variance  \n",
       "player_id game_id                              \n",
       "2544      22300015         8.764706  3.282872  \n",
       "          22300026         6.454545  2.429752  \n",
       "          22300036        11.636364  4.880756  \n",
       "          22300042              5.8  2.026667  \n",
       "          22300061              8.5      3.25  "
      ]
     },
     "execution_count": 34,
     "metadata": {},
     "output_type": "execute_result"
    }
   ],
   "source": [
    "clean_df.head()"
   ]
  },
  {
   "cell_type": "markdown",
   "id": "6b3ceb80",
   "metadata": {},
   "source": [
    "## Corrections & small sample sizes\n",
    "\n",
    "Because these are small sample sizes, and we're comparing an integer value (actual number of runs) with a value from a continuous probability distribution (theoretical number of runs) one *could* do a continuity correction here.\n",
    "\n",
    "\n",
    "The way the [SAS version of the test](https://support.sas.com/kb/33/092.html) does it, when sample size is less than 50, when calculating z-score: \n",
    "\n",
    "* if actual - theoretical < 0, adds .5 to numerator\n",
    "* if actual - theoretical > 0, subtracts .5 from numerator\n",
    "\n",
    "This doesn't make any sense to me. For a hypothesis test, the correct thing to do would be use a lookup table where someone has calculated the exact probabilities.  https://webspace.ship.edu/pgmarr/Geo441/Tables/Runs%20Table.pdf \n",
    "\n",
    "The normal approximation doesn't fit the actual distribution in small samples. the continuity correction doesn't fix that.\n",
    "\n",
    "For the sake of thoroughness, I worked it out below. I don't think it's appropriate for my purposes. I'm not doing a hypothesis test on one individual player's record in one game, I'm looking at the distribution of 20,000 of them."
   ]
  },
  {
   "cell_type": "code",
   "execution_count": 35,
   "id": "92b044d6",
   "metadata": {},
   "outputs": [],
   "source": [
    "clean_df.loc[clean_df.total_streaks < clean_df.expected_streaks, 'z_score_cc'] = (clean_df.total_streaks - clean_df.expected_streaks + .5) / ((clean_df.variance)**.5)\n",
    "clean_df.loc[clean_df.total_streaks >= clean_df.expected_streaks, 'z_score_cc'] = (clean_df.total_streaks - clean_df.expected_streaks - .5) / ((clean_df.variance)**.5)\n"
   ]
  },
  {
   "cell_type": "code",
   "execution_count": 36,
   "id": "97bbf893",
   "metadata": {},
   "outputs": [],
   "source": [
    "clean_df['z_score'] = (clean_df.total_streaks - clean_df.expected_streaks) / ((clean_df.variance)**.5)"
   ]
  },
  {
   "cell_type": "code",
   "execution_count": 37,
   "id": "ff53e52d",
   "metadata": {},
   "outputs": [],
   "source": [
    "\n",
    "def plot_z(z_plot):\n",
    "    x = np.linspace(-3,3,200)\n",
    "    plt.plot(x, scipy.stats.norm.pdf(x, 0, 1))\n",
    "\n",
    "    out = plt.hist(z_plot, bins=np.arange(-3,3,.5), density=True)\n",
    "    plt.title(\"individual game z-scores, 2023-24 season\")"
   ]
  },
  {
   "cell_type": "markdown",
   "id": "8c547aad",
   "metadata": {},
   "source": [
    "this is the distribution with continuity correction, which is clearly ridiculous"
   ]
  },
  {
   "cell_type": "code",
   "execution_count": 38,
   "id": "99c6d51f",
   "metadata": {},
   "outputs": [
    {
     "data": {
      "text/plain": [
       "count    18982.000000\n",
       "mean        -0.031954\n",
       "std          0.687916\n",
       "min         -3.047828\n",
       "25%         -0.401101\n",
       "50%          0.000000\n",
       "75%          0.302765\n",
       "max          3.390395\n",
       "Name: z_score_cc, dtype: float64"
      ]
     },
     "execution_count": 38,
     "metadata": {},
     "output_type": "execute_result"
    }
   ],
   "source": [
    "clean_df.z_score_cc.astype(\"float\").describe()"
   ]
  },
  {
   "cell_type": "code",
   "execution_count": 39,
   "id": "ae66fcee",
   "metadata": {},
   "outputs": [
    {
     "data": {
      "image/png": "[encoded data removed]",
      "text/plain": [
       "<Figure size 640x480 with 1 Axes>"
      ]
     },
     "metadata": {},
     "output_type": "display_data"
    }
   ],
   "source": [
    "plot_z(clean_df.z_score_cc)"
   ]
  },
  {
   "cell_type": "markdown",
   "id": "89e6a2d6",
   "metadata": {},
   "source": [
    "### On fairness\n",
    "I could instead calculate number of streaks expected for a player who shoots x% from the field...\n",
    "\n",
    "say a player who is usually a 50% shooter takes 8 shots in a game and makes all 8.\n",
    "\n",
    "the player didn't miss any shots, so we'd expect only 1 streak.\n",
    "\n",
    "however, if they went 4 for 8 like a usual night, we'd expect `4 + 1 = 5` streaks.\n",
    "\n",
    "using the same # of makes/misses as the real game is a stricter way to define it (and fairer, if you don't buy the *Lukewarm Hand*)\n",
    "\n",
    "It's throwing out intra-game streakiness in a way. It's modeling the idea that one day, a shooter really is a 60% shooter and the next day they really are a 20% shooter, rather than being a 40% shooter both days."
   ]
  },
  {
   "cell_type": "code",
   "execution_count": 40,
   "id": "64619c9b",
   "metadata": {},
   "outputs": [
    {
     "data": {
      "image/png": "[encoded data removed]",
      "text/plain": [
       "<Figure size 640x480 with 1 Axes>"
      ]
     },
     "metadata": {},
     "output_type": "display_data"
    }
   ],
   "source": [
    "z_plot = clean_df.z_score.astype(\"float\")\n",
    "\n",
    "plot_z(z_plot)"
   ]
  },
  {
   "cell_type": "code",
   "execution_count": 41,
   "id": "ce45a582",
   "metadata": {},
   "outputs": [
    {
     "data": {
      "text/plain": [
       "count    18982.000000\n",
       "mean         0.051765\n",
       "std          0.988789\n",
       "min         -3.332292\n",
       "25%         -0.707107\n",
       "50%          0.104103\n",
       "75%          0.816497\n",
       "max          3.583243\n",
       "Name: z_score, dtype: float64"
      ]
     },
     "execution_count": 41,
     "metadata": {},
     "output_type": "execute_result"
    }
   ],
   "source": [
    "z_plot.describe()"
   ]
  },
  {
   "cell_type": "markdown",
   "id": "864c616e",
   "metadata": {},
   "source": [
    "game level z scores are normally distributed."
   ]
  },
  {
   "cell_type": "code",
   "execution_count": 42,
   "id": "8340fd30",
   "metadata": {},
   "outputs": [
    {
     "data": {
      "text/plain": [
       "ShapiroResult(statistic=np.float64(0.9890142754657681), pvalue=np.float64(8.195162694320398e-07))"
      ]
     },
     "execution_count": 42,
     "metadata": {},
     "output_type": "execute_result"
    }
   ],
   "source": [
    "scipy.stats.shapiro(z_plot.sample(1000))"
   ]
  },
  {
   "cell_type": "markdown",
   "id": "71aee326",
   "metadata": {},
   "source": [
    "although the mean is small, the sample size is large, so it is significant"
   ]
  },
  {
   "cell_type": "code",
   "execution_count": 43,
   "id": "3bdc03d0",
   "metadata": {},
   "outputs": [
    {
     "data": {
      "text/plain": [
       "np.float64(7.131932150613184)"
      ]
     },
     "execution_count": 43,
     "metadata": {},
     "output_type": "execute_result"
    }
   ],
   "source": [
    ".051765 / np.sqrt(1/18982)"
   ]
  },
  {
   "cell_type": "markdown",
   "id": "9f674aba",
   "metadata": {},
   "source": [
    "### Big Games Only\n",
    "\n",
    "I think there are probably a lot of games where number of expected streaks is only 1 or 2. what about higher number expected?"
   ]
  },
  {
   "cell_type": "code",
   "execution_count": 29,
   "id": "b404e01f",
   "metadata": {},
   "outputs": [
    {
     "data": {
      "text/plain": [
       "17743"
      ]
     },
     "execution_count": 29,
     "metadata": {},
     "output_type": "execute_result"
    }
   ],
   "source": [
    "sum(clean_df.expected_streaks < 10)"
   ]
  },
  {
   "cell_type": "code",
   "execution_count": 30,
   "id": "9c214bcf",
   "metadata": {},
   "outputs": [
    {
     "data": {
      "text/plain": [
       "1840"
      ]
     },
     "execution_count": 30,
     "metadata": {},
     "output_type": "execute_result"
    }
   ],
   "source": [
    "sum(clean_df.expected_streaks >= 10)"
   ]
  },
  {
   "cell_type": "code",
   "execution_count": 44,
   "id": "b0ac786c",
   "metadata": {},
   "outputs": [],
   "source": [
    "big_games = clean_df[(clean_df.makes > 10) | (clean_df.misses > 10)].z_score.astype(\"float\")"
   ]
  },
  {
   "cell_type": "markdown",
   "id": "2c6fc392",
   "metadata": {},
   "source": [
    "There are around 2500 player-games where there were at least 10 makes or misses by the player."
   ]
  },
  {
   "cell_type": "code",
   "execution_count": 45,
   "id": "257e0c7c",
   "metadata": {},
   "outputs": [
    {
     "data": {
      "text/plain": [
       "count    2536.000000\n",
       "mean        0.055925\n",
       "std         1.010195\n",
       "min        -3.079575\n",
       "25%        -0.616678\n",
       "50%         0.072404\n",
       "75%         0.750366\n",
       "max         3.583243\n",
       "Name: z_score, dtype: float64"
      ]
     },
     "execution_count": 45,
     "metadata": {},
     "output_type": "execute_result"
    }
   ],
   "source": [
    "big_games.describe()"
   ]
  },
  {
   "cell_type": "code",
   "execution_count": 46,
   "id": "29bb3d00",
   "metadata": {},
   "outputs": [
    {
     "data": {
      "image/png": "[encoded data removed]",
      "text/plain": [
       "<Figure size 640x480 with 1 Axes>"
      ]
     },
     "metadata": {},
     "output_type": "display_data"
    }
   ],
   "source": [
    "plot_z(big_games)"
   ]
  },
  {
   "cell_type": "code",
   "execution_count": null,
   "id": "34cde443",
   "metadata": {},
   "outputs": [
    {
     "data": {
      "text/plain": [
       "1333"
      ]
     },
     "execution_count": 164,
     "metadata": {},
     "output_type": "execute_result"
    }
   ],
   "source": [
    "sum(big_games > 0)"
   ]
  },
  {
   "cell_type": "code",
   "execution_count": null,
   "id": "b0158a2d",
   "metadata": {},
   "outputs": [
    {
     "data": {
      "text/plain": [
       "1154"
      ]
     },
     "execution_count": 165,
     "metadata": {},
     "output_type": "execute_result"
    }
   ],
   "source": [
    "sum(big_games < 0)"
   ]
  },
  {
   "cell_type": "markdown",
   "id": "089ffad3",
   "metadata": {},
   "source": [
    "the imbalance is still significant in the big games."
   ]
  },
  {
   "cell_type": "code",
   "execution_count": null,
   "id": "f3e3e152",
   "metadata": {},
   "outputs": [
    {
     "data": {
      "text/plain": [
       "Power_divergenceResult(statistic=np.float64(12.883393646964214), pvalue=np.float64(0.00033151055973599483))"
      ]
     },
     "execution_count": 166,
     "metadata": {},
     "output_type": "execute_result"
    }
   ],
   "source": [
    "scipy.stats.chisquare([1333, 1154])"
   ]
  },
  {
   "cell_type": "markdown",
   "id": "00babcb0",
   "metadata": {},
   "source": [
    "### Is the Wald-Wolfowitz test \"fair\"?\n",
    "\n",
    "Yeah, it is. As discussed before, the distribution of the number of streaks is only approximately normal when it's a small sample size (a player's single game result). But the estimate of the mean is exact.\n",
    "\n",
    "Say we've got 7 makes and 4 misses. The W-W test says there will be 6.0909... streaks. It's not a whole number because it's not returning the *most likely* number of streaks (which probably would be 6), it's returning the *exact* mean number of streaks."
   ]
  },
  {
   "cell_type": "code",
   "execution_count": null,
   "id": "dfbe9ddc",
   "metadata": {},
   "outputs": [
    {
     "data": {
      "text/plain": [
       "6.090909090909091"
      ]
     },
     "execution_count": 304,
     "metadata": {},
     "output_type": "execute_result"
    }
   ],
   "source": [
    "expected_streaks = wald_wolfowitz.get_expected_streaks(7,4)\n",
    "\n",
    "expected_streaks"
   ]
  },
  {
   "cell_type": "markdown",
   "id": "ffbfd365",
   "metadata": {},
   "source": [
    "We can calculate the *exact* probabilities of each number of streaks, conditioned on the fact that there are 7 wins and 4 losses. each possible sequence of wins and losses in that set are equally likely, assuming no funny business."
   ]
  },
  {
   "cell_type": "code",
   "execution_count": 51,
   "id": "f13cfd7d",
   "metadata": {},
   "outputs": [],
   "source": [
    "# loop through all possible combinations of 7 wins, 4 losses\n",
    "# calculate the number of streaks for EVERY combination\n",
    "\n",
    "# unlike the normal approx of the wald-wolfowitz test, this will give the EXACT probabilities\n",
    "# of each streak length (assuming the order of the makes/misses are independent)\n",
    "import itertools\n",
    "import math\n",
    "\n",
    "def generate_exact_df(wins, losses):\n",
    "\n",
    "    # I don't know why itertools doesn't have a \"distinct permutations\" function!\n",
    "    perms = set()\n",
    "    to_permute = ([0] * wins) + ([1] * losses)\n",
    "    for x in itertools.permutations(to_permute, wins+losses):\n",
    "        perms.add(x)\n",
    "\n",
    "    expected_perms = math.factorial(wins+losses)  / (math.factorial(wins) * math.factorial(losses))\n",
    "    assert len(perms) == expected_perms, \"casey forgot how to do math!\"\n",
    "\n",
    "    exact_df = pd.DataFrame(columns=[\"zeroes\", \"ones\", \"streaks\", \"as_str\"])\n",
    "    for x in list(perms):\n",
    "        perm = pd.Series(x)\n",
    "        streak_data = streak_converter.convert_to_streaks(perm)\n",
    "        exact_df.loc[len(exact_df)]  = [streak_data['misses'], streak_data['makes'], \n",
    "                            streak_data['total_streaks'], \"\".join(perm.replace(0, \"0\").replace(1, \"1\"))]\n",
    "    return exact_df\n",
    "\n",
    "exact_df = generate_exact_df(7,4)"
   ]
  },
  {
   "cell_type": "code",
   "execution_count": 52,
   "id": "b8a6e30f",
   "metadata": {},
   "outputs": [
    {
     "data": {
      "text/html": [
       "<div>\n",
       "<style scoped>\n",
       "    .dataframe tbody tr th:only-of-type {\n",
       "        vertical-align: middle;\n",
       "    }\n",
       "\n",
       "    .dataframe tbody tr th {\n",
       "        vertical-align: top;\n",
       "    }\n",
       "\n",
       "    .dataframe thead th {\n",
       "        text-align: right;\n",
       "    }\n",
       "</style>\n",
       "<table border=\"1\" class=\"dataframe\">\n",
       "  <thead>\n",
       "    <tr style=\"text-align: right;\">\n",
       "      <th></th>\n",
       "      <th>zeroes</th>\n",
       "      <th>ones</th>\n",
       "      <th>streaks</th>\n",
       "      <th>as_str</th>\n",
       "    </tr>\n",
       "  </thead>\n",
       "  <tbody>\n",
       "    <tr>\n",
       "      <th>0</th>\n",
       "      <td>7</td>\n",
       "      <td>4</td>\n",
       "      <td>6</td>\n",
       "      <td>00100001101</td>\n",
       "    </tr>\n",
       "    <tr>\n",
       "      <th>1</th>\n",
       "      <td>7</td>\n",
       "      <td>4</td>\n",
       "      <td>5</td>\n",
       "      <td>10000001101</td>\n",
       "    </tr>\n",
       "    <tr>\n",
       "      <th>2</th>\n",
       "      <td>7</td>\n",
       "      <td>4</td>\n",
       "      <td>7</td>\n",
       "      <td>00010010110</td>\n",
       "    </tr>\n",
       "    <tr>\n",
       "      <th>3</th>\n",
       "      <td>7</td>\n",
       "      <td>4</td>\n",
       "      <td>7</td>\n",
       "      <td>00011001010</td>\n",
       "    </tr>\n",
       "    <tr>\n",
       "      <th>4</th>\n",
       "      <td>7</td>\n",
       "      <td>4</td>\n",
       "      <td>8</td>\n",
       "      <td>00010100101</td>\n",
       "    </tr>\n",
       "    <tr>\n",
       "      <th>...</th>\n",
       "      <td>...</td>\n",
       "      <td>...</td>\n",
       "      <td>...</td>\n",
       "      <td>...</td>\n",
       "    </tr>\n",
       "    <tr>\n",
       "      <th>325</th>\n",
       "      <td>7</td>\n",
       "      <td>4</td>\n",
       "      <td>7</td>\n",
       "      <td>00010011010</td>\n",
       "    </tr>\n",
       "    <tr>\n",
       "      <th>326</th>\n",
       "      <td>7</td>\n",
       "      <td>4</td>\n",
       "      <td>4</td>\n",
       "      <td>00000010111</td>\n",
       "    </tr>\n",
       "    <tr>\n",
       "      <th>327</th>\n",
       "      <td>7</td>\n",
       "      <td>4</td>\n",
       "      <td>5</td>\n",
       "      <td>10000011001</td>\n",
       "    </tr>\n",
       "    <tr>\n",
       "      <th>328</th>\n",
       "      <td>7</td>\n",
       "      <td>4</td>\n",
       "      <td>6</td>\n",
       "      <td>00100001011</td>\n",
       "    </tr>\n",
       "    <tr>\n",
       "      <th>329</th>\n",
       "      <td>7</td>\n",
       "      <td>4</td>\n",
       "      <td>7</td>\n",
       "      <td>00100110100</td>\n",
       "    </tr>\n",
       "  </tbody>\n",
       "</table>\n",
       "<p>330 rows × 4 columns</p>\n",
       "</div>"
      ],
      "text/plain": [
       "     zeroes  ones  streaks       as_str\n",
       "0         7     4        6  00100001101\n",
       "1         7     4        5  10000001101\n",
       "2         7     4        7  00010010110\n",
       "3         7     4        7  00011001010\n",
       "4         7     4        8  00010100101\n",
       "..      ...   ...      ...          ...\n",
       "325       7     4        7  00010011010\n",
       "326       7     4        4  00000010111\n",
       "327       7     4        5  10000011001\n",
       "328       7     4        6  00100001011\n",
       "329       7     4        7  00100110100\n",
       "\n",
       "[330 rows x 4 columns]"
      ]
     },
     "execution_count": 52,
     "metadata": {},
     "output_type": "execute_result"
    }
   ],
   "source": [
    "exact_df"
   ]
  },
  {
   "cell_type": "code",
   "execution_count": null,
   "id": "320237c8",
   "metadata": {},
   "outputs": [
    {
     "data": {
      "text/plain": [
       "count    330.000000\n",
       "mean       6.090909\n",
       "std        1.445329\n",
       "min        2.000000\n",
       "25%        5.000000\n",
       "50%        6.000000\n",
       "75%        7.000000\n",
       "max        9.000000\n",
       "Name: streaks, dtype: float64"
      ]
     },
     "execution_count": 260,
     "metadata": {},
     "output_type": "execute_result"
    }
   ],
   "source": [
    "exact_df.streaks.describe()"
   ]
  },
  {
   "cell_type": "markdown",
   "id": "222c7dd1",
   "metadata": {},
   "source": [
    "The actual standard deviation (above) is very very close to the theoretical value."
   ]
  },
  {
   "cell_type": "code",
   "execution_count": null,
   "id": "8c10d114",
   "metadata": {},
   "outputs": [
    {
     "data": {
      "text/plain": [
       "np.float64(1.443137078762504)"
      ]
     },
     "execution_count": 305,
     "metadata": {},
     "output_type": "execute_result"
    }
   ],
   "source": [
    "np.sqrt(wald_wolfowitz.get_variance(7,4,expected_streaks))"
   ]
  },
  {
   "cell_type": "markdown",
   "id": "9496d31f",
   "metadata": {},
   "source": [
    "It doesn't look normal. it's definitely not symmetric. it looks more like a binomial distribution."
   ]
  },
  {
   "cell_type": "code",
   "execution_count": null,
   "id": "a425cee4",
   "metadata": {},
   "outputs": [
    {
     "data": {
      "image/png": "[encoded data removed]",
      "text/plain": [
       "<Figure size 640x480 with 1 Axes>"
      ]
     },
     "metadata": {},
     "output_type": "display_data"
    }
   ],
   "source": [
    "exact_hist = plt.hist(exact_df.streaks, density=True, bins=[2,3,4,5,6,7,8,9,10])\n",
    "_trash = plt.title(\"exact streak probabilities, 7 makes, 4 misses\")"
   ]
  },
  {
   "cell_type": "markdown",
   "id": "2d06dbbc",
   "metadata": {},
   "source": [
    "Individual games are very small sample sizes. But we should see a very similar distribution as the above if we look at actual player games with 7 makes and 4 misses.\n",
    "\n",
    "And we do!"
   ]
  },
  {
   "cell_type": "code",
   "execution_count": 54,
   "id": "25c260f9",
   "metadata": {},
   "outputs": [
    {
     "data": {
      "image/png": "[encoded data removed]",
      "text/plain": [
       "<Figure size 640x480 with 1 Axes>"
      ]
     },
     "metadata": {},
     "output_type": "display_data"
    }
   ],
   "source": [
    "actual_streaks = clean_df[(clean_df.makes == 7) & (clean_df.misses ==4)].total_streaks.astype(\"float\")\n",
    "\n",
    "actual_hist = plt.hist(actual_streaks, bins=range(2,11), density=True)\n",
    "\n",
    "_trash = plt.title(\"actual players, 7 makes, 4 misses\")"
   ]
  },
  {
   "cell_type": "markdown",
   "id": "703c4329",
   "metadata": {},
   "source": [
    "here are the two histograms on top of each other. Orange is where there were more actual streaks, blue where there were more theoretical streaks, and brown is where they overlap."
   ]
  },
  {
   "cell_type": "code",
   "execution_count": 55,
   "id": "27ea1d06",
   "metadata": {},
   "outputs": [
    {
     "data": {
      "image/png": "[encoded data removed]",
      "text/plain": [
       "<Figure size 640x480 with 1 Axes>"
      ]
     },
     "metadata": {},
     "output_type": "display_data"
    }
   ],
   "source": [
    "_trash = plt.hist(exact_df.streaks, density=True, bins=range(2,11), alpha=0.6)\n",
    "_trash = plt.hist(actual_streaks, bins=range(2,11), density=True, alpha=0.6)"
   ]
  },
  {
   "cell_type": "markdown",
   "id": "b905cc4a",
   "metadata": {},
   "source": [
    "## Back to simulation\n",
    "\n",
    "OK, now that I have actual shot data, I can make the lukewarm player simulation more realistic. Unlike the tests above, I'm not going to match the player's exact number of makes and misses. (I can't.) I will have \"Luke\", our lukewarm simulation, take the exact number of shots in each player-game, at the player's season-wide shooting percentage."
   ]
  },
  {
   "cell_type": "markdown",
   "id": "89c22a73",
   "metadata": {},
   "source": []
  },
  {
   "cell_type": "code",
   "execution_count": 56,
   "id": "31f5c326",
   "metadata": {},
   "outputs": [],
   "source": [
    "# get season-wide field goal percentage for each player ID\n",
    "makes = combined_df.groupby(\"player_id\")[\"makes\"].sum()\n",
    "misses = combined_df.groupby(\"player_id\")[\"misses\"].sum()\n",
    "\n",
    "fg_percentage = makes / (makes + misses)"
   ]
  },
  {
   "cell_type": "code",
   "execution_count": 57,
   "id": "f11d66a3",
   "metadata": {},
   "outputs": [
    {
     "data": {
      "text/plain": [
       "player_id\n",
       "2544       0.539795\n",
       "101108     0.441113\n",
       "200768     0.432361\n",
       "200782         0.36\n",
       "201142     0.522981\n",
       "             ...   \n",
       "1641926    0.526316\n",
       "1641931    0.380952\n",
       "1641970    0.514286\n",
       "1641998    0.551471\n",
       "1642013    0.264706\n",
       "Length: 568, dtype: object"
      ]
     },
     "execution_count": 57,
     "metadata": {},
     "output_type": "execute_result"
    }
   ],
   "source": [
    "fg_percentage"
   ]
  },
  {
   "cell_type": "code",
   "execution_count": 58,
   "id": "1feb3f44",
   "metadata": {},
   "outputs": [],
   "source": [
    "shots_df = shots # FIXME: notebook code cleanup"
   ]
  },
  {
   "cell_type": "code",
   "execution_count": 59,
   "id": "6bb2ccf0",
   "metadata": {},
   "outputs": [],
   "source": [
    "import operator\n",
    "import functools\n",
    "import pdb"
   ]
  },
  {
   "cell_type": "code",
   "execution_count": 76,
   "id": "59e2925e",
   "metadata": {},
   "outputs": [],
   "source": [
    "import collections\n",
    "\n",
    "player_cache = {}   # this will allow player objects to persist between games for more complex\n",
    "                    # models of streakiness \n",
    "\n",
    "def get_player(player_id):\n",
    "    if player_id in player_cache:\n",
    "        return player_cache[player_id]\n",
    "    else:\n",
    "        player_fg_percentage = fg_percentage[player_id]\n",
    "        player = streaky_players.LukewarmPlayer(shooting_percentage=player_fg_percentage)\n",
    "\n",
    "        # FIXME: put in a class dammit\n",
    "\n",
    "        player.MIN_ATTEMPTS = 4\n",
    "        player.UPPER_THRESH = 1.0 # this won't do the \"heat check\"\n",
    "\n",
    "        player_cache[player_id] = player\n",
    "        return player\n",
    "\n",
    "def sim_season_realistic2(df):\n",
    "    \"\"\"\n",
    "    simulates entire season using actual shot counts and fg% by player\n",
    "    \"\"\"\n",
    "    game_results = collections.defaultdict(list)\n",
    "\n",
    "    # loope over every player_id + game_id combo in 'shots'\n",
    "    # TODO: check the game id's are in order when doing this method!!! very important!!!\n",
    "    for key, results in df.groupby([\"player_id\", \"game_id\"]):\n",
    "        player_id = key[0]\n",
    "        game_id = key[1]\n",
    "        num_shots = (results.makes + results.misses).values[0]\n",
    "        # sim the number of shots for that player_id, game_id combo\n",
    "        sim_player = get_player(player_id)\n",
    "        shot_results = [sim_player.take_shot() for x in range(num_shots)]\n",
    "        # add the results of those simulated shots to a list of makes/misses for that player_id\n",
    "        game_results[player_id].append(shot_results)\n",
    "\n",
    "        sim_player.end_game() # streaks don't persist between games!\n",
    "\n",
    "\n",
    "    season_results = []\n",
    "    for player_id in game_results.keys():\n",
    "        makes_misses = functools.reduce(operator.add, game_results[player_id])\n",
    "        \n",
    "        season_stats = handle_season(pd.Series(makes_misses))\n",
    "\n",
    "        if season_stats:\n",
    "            season_results.append(season_stats)\n",
    "\n",
    "    sim_summary =  pd.DataFrame(season_results, columns=[\"actual\", \"expected\", \"variance\", \"z_score\"])\n",
    "\n",
    "\n",
    "    return (game_results, sim_summary)\n",
    "\n",
    "(game_results, sim_summary2) = sim_season_realistic2(combined_df)\n",
    "\n",
    "# foo = sim_season_realistic2(combined_df)"
   ]
  },
  {
   "cell_type": "code",
   "execution_count": 77,
   "id": "a078283e",
   "metadata": {},
   "outputs": [
    {
     "data": {
      "text/plain": [
       "count    552.000000\n",
       "mean       0.153556\n",
       "std        1.005235\n",
       "min       -2.686558\n",
       "25%       -0.603355\n",
       "50%        0.161166\n",
       "75%        0.876764\n",
       "max        3.128350\n",
       "Name: z_score, dtype: float64"
      ]
     },
     "execution_count": 77,
     "metadata": {},
     "output_type": "execute_result"
    }
   ],
   "source": [
    "sim_summary2.z_score.describe()"
   ]
  },
  {
   "cell_type": "code",
   "execution_count": null,
   "id": "722da138",
   "metadata": {},
   "outputs": [],
   "source": []
  }
 ],
 "metadata": {
  "kernelspec": {
   "display_name": "Python 3",
   "language": "python",
   "name": "python3"
  },
  "language_info": {
   "codemirror_mode": {
    "name": "ipython",
    "version": 3
   },
   "file_extension": ".py",
   "mimetype": "text/x-python",
   "name": "python",
   "nbconvert_exporter": "python",
   "pygments_lexer": "ipython3",
   "version": "3.11.9"
  }
 },
 "nbformat": 4,
 "nbformat_minor": 5
}
