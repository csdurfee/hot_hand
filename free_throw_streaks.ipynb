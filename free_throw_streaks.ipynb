{
 "cells": [
  {
   "cell_type": "code",
   "execution_count": 2,
   "id": "a3a7e207",
   "metadata": {},
   "outputs": [],
   "source": [
    "import numpy as np\n",
    "import pandas as pd\n",
    "import matplotlib.pyplot as plt\n",
    "\n",
    "import free_throw_streaks\n",
    "\n",
    "import scipy.stats"
   ]
  },
  {
   "cell_type": "markdown",
   "id": "1aa21cbd",
   "metadata": {},
   "source": [
    "# Are free throws streaky?\n",
    "## The Lukewarm Hand, part 3\n",
    "### by Casey Durfee <csdurfee@gmail.com>\n",
    "\n",
    "\n",
    "Free throws are much more consistent than field goals. Every free throw should have the same degree of difficulty, thus, assuming all shots have the same likelihood of going in is much more solid than in looking at field goals. Additionally free throw percentage is going to have lower variance than field goal percentage because it is higher (further away from 50%, where variance is maximum for the number of exepected streaks.)\n",
    "\n",
    "\n",
    "I collected free throw data from the NBA for the last 4 seasons."
   ]
  },
  {
   "cell_type": "code",
   "execution_count": 3,
   "id": "60ecc6fa",
   "metadata": {},
   "outputs": [],
   "source": [
    "fts = free_throw_streaks.FreeThrowStreaks()"
   ]
  },
  {
   "cell_type": "code",
   "execution_count": 4,
   "id": "671ed51c",
   "metadata": {},
   "outputs": [],
   "source": [
    "base_freethrows = fts.get_data()\n"
   ]
  },
  {
   "cell_type": "code",
   "execution_count": 5,
   "id": "47323e49",
   "metadata": {},
   "outputs": [
    {
     "data": {
      "text/html": [
       "<div>\n",
       "<style scoped>\n",
       "    .dataframe tbody tr th:only-of-type {\n",
       "        vertical-align: middle;\n",
       "    }\n",
       "\n",
       "    .dataframe tbody tr th {\n",
       "        vertical-align: top;\n",
       "    }\n",
       "\n",
       "    .dataframe thead th {\n",
       "        text-align: right;\n",
       "    }\n",
       "</style>\n",
       "<table border=\"1\" class=\"dataframe\">\n",
       "  <thead>\n",
       "    <tr style=\"text-align: right;\">\n",
       "      <th></th>\n",
       "      <th>game_id</th>\n",
       "      <th>time</th>\n",
       "      <th>player_id</th>\n",
       "      <th>result</th>\n",
       "    </tr>\n",
       "  </thead>\n",
       "  <tbody>\n",
       "    <tr>\n",
       "      <th>0</th>\n",
       "      <td>0022100001</td>\n",
       "      <td>2021-10-19T23:38:21.1Z</td>\n",
       "      <td>1629651</td>\n",
       "      <td>Missed</td>\n",
       "    </tr>\n",
       "    <tr>\n",
       "      <th>1</th>\n",
       "      <td>0022100001</td>\n",
       "      <td>2021-10-19T23:38:21.1Z</td>\n",
       "      <td>1629651</td>\n",
       "      <td>Missed</td>\n",
       "    </tr>\n",
       "    <tr>\n",
       "      <th>2</th>\n",
       "      <td>0022100001</td>\n",
       "      <td>2021-10-19T23:42:24.5Z</td>\n",
       "      <td>201933</td>\n",
       "      <td>Made</td>\n",
       "    </tr>\n",
       "    <tr>\n",
       "      <th>3</th>\n",
       "      <td>0022100001</td>\n",
       "      <td>2021-10-19T23:42:40.1Z</td>\n",
       "      <td>201933</td>\n",
       "      <td>Made</td>\n",
       "    </tr>\n",
       "    <tr>\n",
       "      <th>4</th>\n",
       "      <td>0022100001</td>\n",
       "      <td>2021-10-19T23:48:24.5Z</td>\n",
       "      <td>203507</td>\n",
       "      <td>Missed</td>\n",
       "    </tr>\n",
       "    <tr>\n",
       "      <th>...</th>\n",
       "      <td>...</td>\n",
       "      <td>...</td>\n",
       "      <td>...</td>\n",
       "      <td>...</td>\n",
       "    </tr>\n",
       "    <tr>\n",
       "      <th>218399</th>\n",
       "      <td>0022401230</td>\n",
       "      <td>2024-12-15T04:05:55.4Z</td>\n",
       "      <td>1630578</td>\n",
       "      <td>Missed</td>\n",
       "    </tr>\n",
       "    <tr>\n",
       "      <th>218400</th>\n",
       "      <td>0022401230</td>\n",
       "      <td>2024-12-15T04:09:34.5Z</td>\n",
       "      <td>1628415</td>\n",
       "      <td>Missed</td>\n",
       "    </tr>\n",
       "    <tr>\n",
       "      <th>218401</th>\n",
       "      <td>0022401230</td>\n",
       "      <td>2024-12-15T04:13:54.0Z</td>\n",
       "      <td>1630224</td>\n",
       "      <td>Made</td>\n",
       "    </tr>\n",
       "    <tr>\n",
       "      <th>218402</th>\n",
       "      <td>0022401230</td>\n",
       "      <td>2024-12-15T04:14:49.2Z</td>\n",
       "      <td>1628983</td>\n",
       "      <td>Made</td>\n",
       "    </tr>\n",
       "    <tr>\n",
       "      <th>218403</th>\n",
       "      <td>0022401230</td>\n",
       "      <td>2024-12-15T04:14:59.1Z</td>\n",
       "      <td>1628983</td>\n",
       "      <td>Made</td>\n",
       "    </tr>\n",
       "  </tbody>\n",
       "</table>\n",
       "<p>218404 rows × 4 columns</p>\n",
       "</div>"
      ],
      "text/plain": [
       "           game_id                    time  player_id  result\n",
       "0       0022100001  2021-10-19T23:38:21.1Z    1629651  Missed\n",
       "1       0022100001  2021-10-19T23:38:21.1Z    1629651  Missed\n",
       "2       0022100001  2021-10-19T23:42:24.5Z     201933    Made\n",
       "3       0022100001  2021-10-19T23:42:40.1Z     201933    Made\n",
       "4       0022100001  2021-10-19T23:48:24.5Z     203507  Missed\n",
       "...            ...                     ...        ...     ...\n",
       "218399  0022401230  2024-12-15T04:05:55.4Z    1630578  Missed\n",
       "218400  0022401230  2024-12-15T04:09:34.5Z    1628415  Missed\n",
       "218401  0022401230  2024-12-15T04:13:54.0Z    1630224    Made\n",
       "218402  0022401230  2024-12-15T04:14:49.2Z    1628983    Made\n",
       "218403  0022401230  2024-12-15T04:14:59.1Z    1628983    Made\n",
       "\n",
       "[218404 rows x 4 columns]"
      ]
     },
     "execution_count": 5,
     "metadata": {},
     "output_type": "execute_result"
    }
   ],
   "source": [
    "base_freethrows"
   ]
  },
  {
   "cell_type": "markdown",
   "id": "a398c8bf",
   "metadata": {},
   "source": [
    "This covers over 200,000 free throw attempts from 855 different players."
   ]
  },
  {
   "cell_type": "code",
   "execution_count": 6,
   "id": "d0cd8cbb",
   "metadata": {},
   "outputs": [
    {
     "data": {
      "text/plain": [
       "855"
      ]
     },
     "execution_count": 6,
     "metadata": {},
     "output_type": "execute_result"
    }
   ],
   "source": [
    "base_freethrows.player_id.nunique()"
   ]
  },
  {
   "cell_type": "markdown",
   "id": "2c3cdd50",
   "metadata": {},
   "source": [
    "When calculating the stats, we lose a fair number of players, because the Wald-Wolfowitz test needs there to be at least 3 *expected* streaks for the variance calculation to work."
   ]
  },
  {
   "cell_type": "code",
   "execution_count": 7,
   "id": "6e820a07",
   "metadata": {},
   "outputs": [],
   "source": [
    "ft_stats = fts.get_data_with_stats()"
   ]
  },
  {
   "cell_type": "code",
   "execution_count": 8,
   "id": "1488cb34",
   "metadata": {},
   "outputs": [
    {
     "data": {
      "text/plain": [
       "expected_streaks\n",
       "1.0    59\n",
       "2.0    14\n",
       "Name: count, dtype: int64"
      ]
     },
     "execution_count": 8,
     "metadata": {},
     "output_type": "execute_result"
    }
   ],
   "source": [
    "ft_stats[ft_stats.z_score.isna()].expected_streaks.value_counts()"
   ]
  },
  {
   "cell_type": "code",
   "execution_count": 9,
   "id": "93b6813e",
   "metadata": {},
   "outputs": [],
   "source": [
    "ft_stats = ft_stats[ft_stats.variance > 0].copy()"
   ]
  },
  {
   "cell_type": "markdown",
   "id": "78f799b6",
   "metadata": {},
   "source": [
    "I didn't fetch the player names yet, because I might not need them."
   ]
  },
  {
   "cell_type": "code",
   "execution_count": 10,
   "id": "4c289b22",
   "metadata": {},
   "outputs": [
    {
     "data": {
      "text/html": [
       "<div>\n",
       "<style scoped>\n",
       "    .dataframe tbody tr th:only-of-type {\n",
       "        vertical-align: middle;\n",
       "    }\n",
       "\n",
       "    .dataframe tbody tr th {\n",
       "        vertical-align: top;\n",
       "    }\n",
       "\n",
       "    .dataframe thead th {\n",
       "        text-align: right;\n",
       "    }\n",
       "</style>\n",
       "<table border=\"1\" class=\"dataframe\">\n",
       "  <thead>\n",
       "    <tr style=\"text-align: right;\">\n",
       "      <th></th>\n",
       "      <th>player_name</th>\n",
       "      <th>makes</th>\n",
       "      <th>misses</th>\n",
       "      <th>total_streaks</th>\n",
       "      <th>raw_data</th>\n",
       "      <th>expected_streaks</th>\n",
       "      <th>variance</th>\n",
       "      <th>sd</th>\n",
       "      <th>z_score</th>\n",
       "    </tr>\n",
       "    <tr>\n",
       "      <th>player_id</th>\n",
       "      <th></th>\n",
       "      <th></th>\n",
       "      <th></th>\n",
       "      <th></th>\n",
       "      <th></th>\n",
       "      <th></th>\n",
       "      <th></th>\n",
       "      <th></th>\n",
       "      <th></th>\n",
       "    </tr>\n",
       "  </thead>\n",
       "  <tbody>\n",
       "    <tr>\n",
       "      <th>2544</th>\n",
       "      <td>FIXME</td>\n",
       "      <td>1067</td>\n",
       "      <td>331</td>\n",
       "      <td>501</td>\n",
       "      <td>LWLWLWWWWWLWWWWWWWWLWWWLWWWWLWWWWWWLWWWWLWLWWL...</td>\n",
       "      <td>506.260372</td>\n",
       "      <td>182.378513</td>\n",
       "      <td>13.504759</td>\n",
       "      <td>-0.389520</td>\n",
       "    </tr>\n",
       "    <tr>\n",
       "      <th>2546</th>\n",
       "      <td>FIXME</td>\n",
       "      <td>132</td>\n",
       "      <td>27</td>\n",
       "      <td>43</td>\n",
       "      <td>WLWWWWWWWWLLWWWWWWWWWWLLWWWLWLWWWWWWWWLWWWWWWW...</td>\n",
       "      <td>45.830189</td>\n",
       "      <td>12.436175</td>\n",
       "      <td>3.526496</td>\n",
       "      <td>-0.802550</td>\n",
       "    </tr>\n",
       "    <tr>\n",
       "      <th>2617</th>\n",
       "      <td>FIXME</td>\n",
       "      <td>7</td>\n",
       "      <td>1</td>\n",
       "      <td>3</td>\n",
       "      <td>WWWWLWWW</td>\n",
       "      <td>2.750000</td>\n",
       "      <td>0.187500</td>\n",
       "      <td>0.433013</td>\n",
       "      <td>0.577350</td>\n",
       "    </tr>\n",
       "    <tr>\n",
       "      <th>2730</th>\n",
       "      <td>FIXME</td>\n",
       "      <td>96</td>\n",
       "      <td>50</td>\n",
       "      <td>65</td>\n",
       "      <td>WWLWLWWWWWWWWLWWWLLWLWLLLWWWLLWLLLWWWLWWWLWLLW...</td>\n",
       "      <td>66.753425</td>\n",
       "      <td>29.363858</td>\n",
       "      <td>5.418843</td>\n",
       "      <td>-0.323579</td>\n",
       "    </tr>\n",
       "    <tr>\n",
       "      <th>2738</th>\n",
       "      <td>FIXME</td>\n",
       "      <td>17</td>\n",
       "      <td>6</td>\n",
       "      <td>10</td>\n",
       "      <td>WWLLWWWWWWWLWWWWLWLWWWL</td>\n",
       "      <td>9.869565</td>\n",
       "      <td>3.172710</td>\n",
       "      <td>1.781210</td>\n",
       "      <td>0.073228</td>\n",
       "    </tr>\n",
       "    <tr>\n",
       "      <th>...</th>\n",
       "      <td>...</td>\n",
       "      <td>...</td>\n",
       "      <td>...</td>\n",
       "      <td>...</td>\n",
       "      <td>...</td>\n",
       "      <td>...</td>\n",
       "      <td>...</td>\n",
       "      <td>...</td>\n",
       "      <td>...</td>\n",
       "    </tr>\n",
       "    <tr>\n",
       "      <th>1642419</th>\n",
       "      <td>FIXME</td>\n",
       "      <td>16</td>\n",
       "      <td>2</td>\n",
       "      <td>3</td>\n",
       "      <td>WWLLWWWWWWWWWWWWWW</td>\n",
       "      <td>4.555556</td>\n",
       "      <td>0.534495</td>\n",
       "      <td>0.731092</td>\n",
       "      <td>-2.127716</td>\n",
       "    </tr>\n",
       "    <tr>\n",
       "      <th>1642422</th>\n",
       "      <td>FIXME</td>\n",
       "      <td>2</td>\n",
       "      <td>5</td>\n",
       "      <td>5</td>\n",
       "      <td>LLWLLWL</td>\n",
       "      <td>3.857143</td>\n",
       "      <td>0.884354</td>\n",
       "      <td>0.940401</td>\n",
       "      <td>1.215287</td>\n",
       "    </tr>\n",
       "    <tr>\n",
       "      <th>1642449</th>\n",
       "      <td>FIXME</td>\n",
       "      <td>2</td>\n",
       "      <td>1</td>\n",
       "      <td>2</td>\n",
       "      <td>WWL</td>\n",
       "      <td>2.333333</td>\n",
       "      <td>0.222222</td>\n",
       "      <td>0.471405</td>\n",
       "      <td>-0.707107</td>\n",
       "    </tr>\n",
       "    <tr>\n",
       "      <th>1642502</th>\n",
       "      <td>FIXME</td>\n",
       "      <td>2</td>\n",
       "      <td>2</td>\n",
       "      <td>3</td>\n",
       "      <td>LWWL</td>\n",
       "      <td>3.000000</td>\n",
       "      <td>0.666667</td>\n",
       "      <td>0.816497</td>\n",
       "      <td>0.000000</td>\n",
       "    </tr>\n",
       "    <tr>\n",
       "      <th>1642530</th>\n",
       "      <td>FIXME</td>\n",
       "      <td>7</td>\n",
       "      <td>2</td>\n",
       "      <td>3</td>\n",
       "      <td>WWWLLWWWW</td>\n",
       "      <td>4.111111</td>\n",
       "      <td>0.820988</td>\n",
       "      <td>0.906084</td>\n",
       "      <td>-1.226279</td>\n",
       "    </tr>\n",
       "  </tbody>\n",
       "</table>\n",
       "<p>782 rows × 9 columns</p>\n",
       "</div>"
      ],
      "text/plain": [
       "          player_name  makes  misses  total_streaks  \\\n",
       "player_id                                             \n",
       "2544            FIXME   1067     331            501   \n",
       "2546            FIXME    132      27             43   \n",
       "2617            FIXME      7       1              3   \n",
       "2730            FIXME     96      50             65   \n",
       "2738            FIXME     17       6             10   \n",
       "...               ...    ...     ...            ...   \n",
       "1642419         FIXME     16       2              3   \n",
       "1642422         FIXME      2       5              5   \n",
       "1642449         FIXME      2       1              2   \n",
       "1642502         FIXME      2       2              3   \n",
       "1642530         FIXME      7       2              3   \n",
       "\n",
       "                                                    raw_data  \\\n",
       "player_id                                                      \n",
       "2544       LWLWLWWWWWLWWWWWWWWLWWWLWWWWLWWWWWWLWWWWLWLWWL...   \n",
       "2546       WLWWWWWWWWLLWWWWWWWWWWLLWWWLWLWWWWWWWWLWWWWWWW...   \n",
       "2617                                                WWWWLWWW   \n",
       "2730       WWLWLWWWWWWWWLWWWLLWLWLLLWWWLLWLLLWWWLWWWLWLLW...   \n",
       "2738                                 WWLLWWWWWWWLWWWWLWLWWWL   \n",
       "...                                                      ...   \n",
       "1642419                                   WWLLWWWWWWWWWWWWWW   \n",
       "1642422                                              LLWLLWL   \n",
       "1642449                                                  WWL   \n",
       "1642502                                                 LWWL   \n",
       "1642530                                            WWWLLWWWW   \n",
       "\n",
       "           expected_streaks    variance         sd   z_score  \n",
       "player_id                                                     \n",
       "2544             506.260372  182.378513  13.504759 -0.389520  \n",
       "2546              45.830189   12.436175   3.526496 -0.802550  \n",
       "2617               2.750000    0.187500   0.433013  0.577350  \n",
       "2730              66.753425   29.363858   5.418843 -0.323579  \n",
       "2738               9.869565    3.172710   1.781210  0.073228  \n",
       "...                     ...         ...        ...       ...  \n",
       "1642419            4.555556    0.534495   0.731092 -2.127716  \n",
       "1642422            3.857143    0.884354   0.940401  1.215287  \n",
       "1642449            2.333333    0.222222   0.471405 -0.707107  \n",
       "1642502            3.000000    0.666667   0.816497  0.000000  \n",
       "1642530            4.111111    0.820988   0.906084 -1.226279  \n",
       "\n",
       "[782 rows x 9 columns]"
      ]
     },
     "execution_count": 10,
     "metadata": {},
     "output_type": "execute_result"
    }
   ],
   "source": [
    "ft_stats"
   ]
  },
  {
   "cell_type": "code",
   "execution_count": 11,
   "id": "8c8588ab",
   "metadata": {},
   "outputs": [
    {
     "data": {
      "text/plain": [
       "count    782.000000\n",
       "mean      -0.095598\n",
       "std        0.996716\n",
       "min       -2.718493\n",
       "25%       -0.810517\n",
       "50%       -0.089189\n",
       "75%        0.680620\n",
       "max        2.646512\n",
       "Name: z_score, dtype: float64"
      ]
     },
     "execution_count": 11,
     "metadata": {},
     "output_type": "execute_result"
    }
   ],
   "source": [
    "ft_stats.z_score.describe()"
   ]
  },
  {
   "cell_type": "markdown",
   "id": "ae2247e9",
   "metadata": {},
   "source": [
    "The distribution isn't very normal. There's a bunch of density missing right in the center.  What does that mean? I don't know!"
   ]
  },
  {
   "cell_type": "code",
   "execution_count": 12,
   "id": "a4a1f267",
   "metadata": {},
   "outputs": [
    {
     "data": {
      "text/plain": [
       "np.float64(5.180935389248189e-05)"
      ]
     },
     "execution_count": 12,
     "metadata": {},
     "output_type": "execute_result"
    }
   ],
   "source": [
    "scipy.stats.shapiro(ft_stats.z_score).pvalue"
   ]
  },
  {
   "cell_type": "code",
   "execution_count": 13,
   "id": "506bb648",
   "metadata": {},
   "outputs": [
    {
     "data": {
      "text/plain": [
       "Text(0.5, 1.0, 'free throws, z-score, 4 year')"
      ]
     },
     "execution_count": 13,
     "metadata": {},
     "output_type": "execute_result"
    },
    {
     "data": {
      "image/png": "[encoded data removed]",
      "text/plain": [
       "<Figure size 640x480 with 1 Axes>"
      ]
     },
     "metadata": {},
     "output_type": "display_data"
    }
   ],
   "source": [
    "x = np.linspace(-3,3,200)\n",
    "plt.plot(x, scipy.stats.norm.pdf(x, 0, 1))\n",
    "out = plt.hist(ft_stats.z_score, bins=12, density=True)\n",
    "plt.title(\"free throws, z-score, 4 year\")"
   ]
  },
  {
   "cell_type": "markdown",
   "id": "07c47f7d",
   "metadata": {},
   "source": [
    "### Heavy Shooters Only\n",
    "\n",
    "What about players with a large number of makes? That eliminates most players."
   ]
  },
  {
   "cell_type": "code",
   "execution_count": 48,
   "id": "230f9269",
   "metadata": {},
   "outputs": [
    {
     "name": "stdout",
     "output_type": "stream",
     "text": [
      "[1.0000e+00 2.1740e+02 4.3380e+02 6.5020e+02 8.6660e+02 1.0830e+03\n",
      " 1.2994e+03 1.5158e+03 1.7322e+03 1.9486e+03 2.1650e+03]\n"
     ]
    },
    {
     "data": {
      "image/png": "[encoded data removed]",
      "text/plain": [
       "<Figure size 640x480 with 1 Axes>"
      ]
     },
     "metadata": {},
     "output_type": "display_data"
    }
   ],
   "source": [
    "out = plt.hist(ft_stats.makes)\n",
    "print(out[1])"
   ]
  },
  {
   "cell_type": "code",
   "execution_count": 15,
   "id": "c71ec27b",
   "metadata": {},
   "outputs": [],
   "source": [
    "df_minus_outliers = ft_stats[ft_stats.makes > 200].copy()"
   ]
  },
  {
   "cell_type": "code",
   "execution_count": 50,
   "id": "46e6eb23",
   "metadata": {},
   "outputs": [
    {
     "data": {
      "text/plain": [
       "240"
      ]
     },
     "execution_count": 50,
     "metadata": {},
     "output_type": "execute_result"
    }
   ],
   "source": [
    "len(df_minus_outliers)"
   ]
  },
  {
   "cell_type": "markdown",
   "id": "7001e74f",
   "metadata": {},
   "source": [
    "Here is the distribution of the 240 players with over 200 free throw attempts. The tail on the right (the lukewarm hand) is kind of missing. The max positive z-score is 1.8 while the max negative z score is -2.7."
   ]
  },
  {
   "cell_type": "code",
   "execution_count": 16,
   "id": "37bc38ed",
   "metadata": {},
   "outputs": [
    {
     "data": {
      "image/png": "[encoded data removed]",
      "text/plain": [
       "<Figure size 640x480 with 1 Axes>"
      ]
     },
     "metadata": {},
     "output_type": "display_data"
    }
   ],
   "source": [
    "x = np.linspace(-3,3,200)\n",
    "plt.plot(x, scipy.stats.norm.pdf(x, 0, 1))\n",
    "plt.title(\">200 makes, 4 year, free throws\")\n",
    "\n",
    "out = plt.hist(df_minus_outliers.z_score, bins=12, density=True)"
   ]
  },
  {
   "cell_type": "markdown",
   "id": "0f6c6202",
   "metadata": {},
   "source": [
    "This data is a little abnormal, but it's a fairly small sample size so I'm not reading too much into it."
   ]
  },
  {
   "cell_type": "code",
   "execution_count": 15,
   "id": "06e06d5b",
   "metadata": {},
   "outputs": [
    {
     "data": {
      "text/plain": [
       "np.float64(0.01126035804081986)"
      ]
     },
     "execution_count": 15,
     "metadata": {},
     "output_type": "execute_result"
    }
   ],
   "source": [
    "scipy.stats.shapiro(df_minus_outliers.z_score).pvalue"
   ]
  },
  {
   "cell_type": "code",
   "execution_count": 16,
   "id": "f59733be",
   "metadata": {},
   "outputs": [
    {
     "data": {
      "text/plain": [
       "count    240.000000\n",
       "mean      -0.144277\n",
       "std        1.021330\n",
       "min       -2.686543\n",
       "25%       -0.854723\n",
       "50%       -0.174146\n",
       "75%        0.660302\n",
       "max        1.845302\n",
       "Name: z_score, dtype: float64"
      ]
     },
     "execution_count": 16,
     "metadata": {},
     "output_type": "execute_result"
    }
   ],
   "source": [
    "df_minus_outliers.z_score.describe()"
   ]
  },
  {
   "cell_type": "markdown",
   "id": "16ad37b7",
   "metadata": {},
   "source": [
    "testing whether mean=0 is plausible:"
   ]
  },
  {
   "cell_type": "code",
   "execution_count": 17,
   "id": "3dcc0105",
   "metadata": {},
   "outputs": [
    {
     "name": "stdout",
     "output_type": "stream",
     "text": [
      "-2.2351248381390554\n"
     ]
    }
   ],
   "source": [
    "descr = df_minus_outliers.z_score.describe()\n",
    "\n",
    "z_score_zero_mean = descr['mean'] / np.sqrt(1/len(df_minus_outliers)) \n",
    "\n",
    "print(z_score_zero_mean)"
   ]
  },
  {
   "cell_type": "code",
   "execution_count": 18,
   "id": "d1ec2f40",
   "metadata": {},
   "outputs": [
    {
     "data": {
      "text/plain": [
       "np.float64(0.012704577075413745)"
      ]
     },
     "execution_count": 18,
     "metadata": {},
     "output_type": "execute_result"
    }
   ],
   "source": [
    "p_value_zero_mean = scipy.stats.norm.cdf(z_score_zero_mean)\n",
    "\n",
    "p_value_zero_mean"
   ]
  },
  {
   "cell_type": "markdown",
   "id": "555f1e44",
   "metadata": {},
   "source": [
    "So there may be a slight tendency for free throw shooters to be streakier than flipping a coin."
   ]
  },
  {
   "cell_type": "markdown",
   "id": "96a1933f",
   "metadata": {},
   "source": [
    "### Who are the streaky ones?\n",
    "s"
   ]
  },
  {
   "cell_type": "code",
   "execution_count": 19,
   "id": "e0a9a336",
   "metadata": {},
   "outputs": [],
   "source": [
    "streaky_ones = df_minus_outliers[df_minus_outliers.z_score <= -2].copy()"
   ]
  },
  {
   "cell_type": "markdown",
   "id": "67e09b55",
   "metadata": {},
   "source": [
    "Hopefully, I can get the names from the field goal data."
   ]
  },
  {
   "cell_type": "code",
   "execution_count": 20,
   "id": "453bde49",
   "metadata": {},
   "outputs": [],
   "source": [
    "import streaky_players"
   ]
  },
  {
   "cell_type": "code",
   "execution_count": 52,
   "id": "fe923de2",
   "metadata": {},
   "outputs": [],
   "source": [
    "ps =  streaky_players.PlayerStreaks()\n",
    "fg_data = ps.get_data()\n",
    "\n",
    "names = fg_data[[\"player_name\"]]"
   ]
  },
  {
   "cell_type": "code",
   "execution_count": 22,
   "id": "f2729b30",
   "metadata": {},
   "outputs": [
    {
     "data": {
      "text/html": [
       "<div>\n",
       "<style scoped>\n",
       "    .dataframe tbody tr th:only-of-type {\n",
       "        vertical-align: middle;\n",
       "    }\n",
       "\n",
       "    .dataframe tbody tr th {\n",
       "        vertical-align: top;\n",
       "    }\n",
       "\n",
       "    .dataframe thead th {\n",
       "        text-align: right;\n",
       "    }\n",
       "</style>\n",
       "<table border=\"1\" class=\"dataframe\">\n",
       "  <thead>\n",
       "    <tr style=\"text-align: right;\">\n",
       "      <th></th>\n",
       "      <th>player_name</th>\n",
       "    </tr>\n",
       "    <tr>\n",
       "      <th>player_id</th>\n",
       "      <th></th>\n",
       "    </tr>\n",
       "  </thead>\n",
       "  <tbody>\n",
       "    <tr>\n",
       "      <th>1630173</th>\n",
       "      <td>Precious Achiuwa</td>\n",
       "    </tr>\n",
       "    <tr>\n",
       "      <th>203500</th>\n",
       "      <td>Steven Adams</td>\n",
       "    </tr>\n",
       "    <tr>\n",
       "      <th>1628389</th>\n",
       "      <td>Bam Adebayo</td>\n",
       "    </tr>\n",
       "    <tr>\n",
       "      <th>1630534</th>\n",
       "      <td>Ochai Agbaji</td>\n",
       "    </tr>\n",
       "    <tr>\n",
       "      <th>1630583</th>\n",
       "      <td>Santi Aldama</td>\n",
       "    </tr>\n",
       "    <tr>\n",
       "      <th>...</th>\n",
       "      <td>...</td>\n",
       "    </tr>\n",
       "    <tr>\n",
       "      <th>1629027</th>\n",
       "      <td>Trae Young</td>\n",
       "    </tr>\n",
       "    <tr>\n",
       "      <th>1627826</th>\n",
       "      <td>Ivica Zubac</td>\n",
       "    </tr>\n",
       "    <tr>\n",
       "      <th>1641783</th>\n",
       "      <td>Tristan da Silva</td>\n",
       "    </tr>\n",
       "    <tr>\n",
       "      <th>1628427</th>\n",
       "      <td>Vlatko Čančar</td>\n",
       "    </tr>\n",
       "    <tr>\n",
       "      <th>203967</th>\n",
       "      <td>Dario Šarić</td>\n",
       "    </tr>\n",
       "  </tbody>\n",
       "</table>\n",
       "<p>572 rows × 1 columns</p>\n",
       "</div>"
      ],
      "text/plain": [
       "                player_name\n",
       "player_id                  \n",
       "1630173    Precious Achiuwa\n",
       "203500         Steven Adams\n",
       "1628389         Bam Adebayo\n",
       "1630534        Ochai Agbaji\n",
       "1630583        Santi Aldama\n",
       "...                     ...\n",
       "1629027          Trae Young\n",
       "1627826         Ivica Zubac\n",
       "1641783    Tristan da Silva\n",
       "1628427       Vlatko Čančar\n",
       "203967          Dario Šarić\n",
       "\n",
       "[572 rows x 1 columns]"
      ]
     },
     "execution_count": 22,
     "metadata": {},
     "output_type": "execute_result"
    }
   ],
   "source": [
    "names"
   ]
  },
  {
   "cell_type": "code",
   "execution_count": 23,
   "id": "2c40c04f",
   "metadata": {},
   "outputs": [],
   "source": [
    "streaky_with_name = streaky_ones.drop(\"player_name\", axis=1).join(names, on='player_id',lsuffix=\"_l\")"
   ]
  },
  {
   "cell_type": "code",
   "execution_count": 38,
   "id": "21ee1492",
   "metadata": {},
   "outputs": [
    {
     "data": {
      "text/html": [
       "<div>\n",
       "<style scoped>\n",
       "    .dataframe tbody tr th:only-of-type {\n",
       "        vertical-align: middle;\n",
       "    }\n",
       "\n",
       "    .dataframe tbody tr th {\n",
       "        vertical-align: top;\n",
       "    }\n",
       "\n",
       "    .dataframe thead th {\n",
       "        text-align: right;\n",
       "    }\n",
       "</style>\n",
       "<table border=\"1\" class=\"dataframe\">\n",
       "  <thead>\n",
       "    <tr style=\"text-align: right;\">\n",
       "      <th></th>\n",
       "      <th>player_name</th>\n",
       "      <th>z_score</th>\n",
       "    </tr>\n",
       "    <tr>\n",
       "      <th>player_id</th>\n",
       "      <th></th>\n",
       "      <th></th>\n",
       "    </tr>\n",
       "  </thead>\n",
       "  <tbody>\n",
       "    <tr>\n",
       "      <th>1626157</th>\n",
       "      <td>Karl-Anthony Towns</td>\n",
       "      <td>-2.099252</td>\n",
       "    </tr>\n",
       "    <tr>\n",
       "      <th>1626174</th>\n",
       "      <td>NaN</td>\n",
       "      <td>-2.282157</td>\n",
       "    </tr>\n",
       "    <tr>\n",
       "      <th>1628370</th>\n",
       "      <td>Malik Monk</td>\n",
       "      <td>-2.397378</td>\n",
       "    </tr>\n",
       "    <tr>\n",
       "      <th>1628984</th>\n",
       "      <td>NaN</td>\n",
       "      <td>-2.674341</td>\n",
       "    </tr>\n",
       "    <tr>\n",
       "      <th>1629675</th>\n",
       "      <td>Naz Reid</td>\n",
       "      <td>-2.634281</td>\n",
       "    </tr>\n",
       "    <tr>\n",
       "      <th>1630173</th>\n",
       "      <td>Precious Achiuwa</td>\n",
       "      <td>-2.686543</td>\n",
       "    </tr>\n",
       "    <tr>\n",
       "      <th>1630703</th>\n",
       "      <td>Scoot Henderson</td>\n",
       "      <td>-2.524082</td>\n",
       "    </tr>\n",
       "  </tbody>\n",
       "</table>\n",
       "</div>"
      ],
      "text/plain": [
       "                  player_name   z_score\n",
       "player_id                              \n",
       "1626157    Karl-Anthony Towns -2.099252\n",
       "1626174                   NaN -2.282157\n",
       "1628370            Malik Monk -2.397378\n",
       "1628984                   NaN -2.674341\n",
       "1629675              Naz Reid -2.634281\n",
       "1630173      Precious Achiuwa -2.686543\n",
       "1630703       Scoot Henderson -2.524082"
      ]
     },
     "execution_count": 38,
     "metadata": {},
     "output_type": "execute_result"
    }
   ],
   "source": [
    "streaky_with_name[['player_name', 'z_score']]"
   ]
  },
  {
   "cell_type": "code",
   "execution_count": 25,
   "id": "eacdd936",
   "metadata": {},
   "outputs": [
    {
     "data": {
      "text/plain": [
       "'2021-10-19T23:38:21.1Z'"
      ]
     },
     "execution_count": 25,
     "metadata": {},
     "output_type": "execute_result"
    }
   ],
   "source": [
    "base_freethrows.time.min()\n"
   ]
  },
  {
   "cell_type": "code",
   "execution_count": 26,
   "id": "5aefe3d0",
   "metadata": {},
   "outputs": [
    {
     "data": {
      "text/plain": [
       "'2025-04-13T22:25:20.2Z'"
      ]
     },
     "execution_count": 26,
     "metadata": {},
     "output_type": "execute_result"
    }
   ],
   "source": [
    "base_freethrows.time.max()"
   ]
  },
  {
   "cell_type": "code",
   "execution_count": null,
   "id": "c5eaae66",
   "metadata": {},
   "outputs": [],
   "source": []
  }
 ],
 "metadata": {
  "kernelspec": {
   "display_name": "Python 3",
   "language": "python",
   "name": "python3"
  },
  "language_info": {
   "codemirror_mode": {
    "name": "ipython",
    "version": 3
   },
   "file_extension": ".py",
   "mimetype": "text/x-python",
   "name": "python",
   "nbconvert_exporter": "python",
   "pygments_lexer": "ipython3",
   "version": "3.11.9"
  }
 },
 "nbformat": 4,
 "nbformat_minor": 5
}
