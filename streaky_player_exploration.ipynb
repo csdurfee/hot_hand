{
 "cells": [
  {
   "cell_type": "code",
   "execution_count": 1,
   "id": "1345b501",
   "metadata": {},
   "outputs": [],
   "source": [
    "import streaky_players"
   ]
  },
  {
   "cell_type": "code",
   "execution_count": 2,
   "id": "f568dd84",
   "metadata": {},
   "outputs": [],
   "source": [
    "import pandas as pd\n",
    "import seaborn as sns\n",
    "import numpy as np\n",
    "import matplotlib.pyplot as plt\n",
    "import scipy.stats"
   ]
  },
  {
   "cell_type": "markdown",
   "id": "87961214",
   "metadata": {},
   "source": [
    "# Streaks\n",
    "When I'm watching a basketball game, sometimes it seems like a certain player just can't miss a shot. Every shot looks like it's going to go in. Other times, it seems like they just can't make a shot. This phenomenon is known as the \"hot hand\" and whether it exists or not has been debated for decades, even as it's taken for granted in the common language around sports. Announcers will say that a player is  \"heating up\", or, \"that was a heat check\".\n",
    "\n",
    "As a fan of the game, it certainly seems like the hot hand exists, at least for some players. If you follow basketball, some names probably come to mind. JR Smith, Danny Green, Klay Thompson, Dion Waiters. \n",
    "\n",
    "It's a thing we collectively believe in, but when subject to rigorous analysis, the hot hand doesn't seem to exist. At the very least, it's been the subject of debate for a long time.\n",
    "\n",
    "Is it feel or is it real? Within the drama of a basketball game, we're more likely to notice and assign stories to long runs of makes or misses. Just because we notice them, that doesn't mean they're significant. This is sometimes known as \"the law of small numbers\" -- our brains are very good at generalization from a small amount of data.\n",
    "\n",
    "## A Thought Experiment\n",
    "\n",
    "Imagine I asked you to try and randomly write a sequence of \"W\"'s and \"L\"'s to simulate a team's win-loss record. I could probably tell that it was fake. You might get the winning percentage correct, but your results would probably be less \"streaky\" than an actual sequence of winners. [Joseph Buchdal](https://www.football-data.co.uk/blog/Wald_Wolfowitz.php) found that he couldn't create a win-loss record by hand that would fool a statistical test called the Wald-Wolfowitz test, even though he knew exactly how the statistical test works.\n",
    "\n",
    "Streaks of wins and losses in randomly generated data follow regular mathematical laws, ones our brains don't want to follow when asked to do the exercise. At some level, we're almost physically incapable of generating truly random data, so it makes sense to me that our intuitions about randomness are a little off. Our brains are wired to notice the streaks, but we seem to have no such circuitry for noticing when something is a little bit too un-streaky. Our brains are too quick to see meaningless patterns in small amounts of data, and not clever enough to see subtle, meaningful patterns in large amounts of data. That's why we have statistics!"
   ]
  },
  {
   "cell_type": "markdown",
   "id": "b04e3502",
   "metadata": {},
   "source": [
    "## Defining Streakiness\n",
    "For the sake of this discussion, a streak starts whenever a sequence of outcomes changes from wins (W) to losses (L), or vice-versa. (I'm talking about makes and misses, but those start with the same letter, so I'll use \"W\" and \"L\".)\n",
    "\n",
    "The sequence \"WLWLWL\" has 6 streaks: `W, L, W, L, W, L`        \n",
    "The sequence \"WWLLLW\" has 3 streaks: `WW, LLL, W`\n",
    "\n",
    "If I asked you to make up a random-looking string of 3 W's and 3 L's, which one is more likely to be your answer?\n",
    "\n",
    "If they were making the results up, I think the average person would be more likely to write the first string. It just looks \"more random\", right? \n",
    "\n",
    "If they flipped a coin, it would be more likely to produce something with longer streaks, like the second example. With a fair coin, both of those *exact* sequences are equally likely to occur. But the second sequence has a more probable number of streaks, according to the [Wald-Wolfowitz Runs Test](https://en.wikipedia.org/wiki/Wald%E2%80%93Wolfowitz_runs_test). The expected number of streaks in 3 wins and 3 losses is (2 * (3 * 3) / (3+3)) + 1 = 4.\n",
    "\n",
    "That number is equal to the [harmonic mean](https://en.wikipedia.org/wiki/Harmonic_mean) of the number of wins and the number of losses, plus one. I don't think there's any deep mathematical reason why that's true, just how the algebra shakes out. But it's still kinda neat!\n",
    "\n",
    "Around 500 players attempted a shot in the NBA this season. Let's say we create a custom coin for each player. It comes up heads with the same percentage as the player's shooting percentage on the season. If we took those coins and simulated every shot in the NBA this season, some of the coins would inevitably appear to be \"streakier\" than others. \n",
    "\n",
    "Likewise, if we look at the shooting records of 500 players in an NBA season, some will seem more or less consistent due to random variance. So it's important to remember that a player with longer streaks than expected could just be due to chance, not due to the player actively doing something that makes them more streaky.\n",
    "\n",
    "We might call players who have fewer streaks than expected by chance *consistent*. Maybe they go exactly 5 for 10 every single game, never being especially good or especially bad. Or maybe they go 1 for 3 every game, always being pretty bad.\n",
    "\n",
    "But that feels like the wrong word, and I don't think our brains aren't really wired to notice a player that has fewer streaks than average.  I might notice a player is unusually consistent after the fact when looking at their basketball-reference page, but the feeling of a player having the *hot hand* is visceral, experienced in the moment. Even without consulting the box score, sometimes players look like they just can't miss, or can't make, a shot. They seem more confident, or their shot seems more natural, than usual. Both the shooter and the spectator seem to have a higher expectation that the shot will go in than usual. It is a social phenomenon.\n",
    "\n",
    "The big question is whether players are basically just random number generators or not. (Of course, there's an [xkcd about that](https://xkcd.com/904/)). If we look at the makes and misses of every player in the league, do they look like the results of flipping a coin (weighted to match their shooting percentage), or is there a tendency for players to be more or less streaky than expected by chance? \n",
    "\n",
    "While the *consistent hand*, or *lukewarm hand* isn't a thing we would viscerally notice the way we do the *hot hand*, it's certainly possible to exist. And it's just as surprising, from the perspective of treating basketball players like weighted coins. Some people I've seen analyze the hot hand that treat it as *streaky* versus *non-streaky*. But it's not a binary things. There are two possible extremes, and a region in between. It's *unusually streaky* versus *normal amount of streaky* versus *unusually non-streaky*.\n",
    "\n",
    "The Wald-Wolfowitz test says that the number of streaks in randomly-generated data will be normally distributed, and gives a formula for the variance in number of streaks.\n",
    "\n",
    "The normal distribution is symmetrical, so there should be as many *hot hand* players as *lukewarm hand* ones. Players have varying numbers of shots taken over the course of the season so we can't compare them directly, but we can calculate the z score for each player's expected vs. actual number of streaks using Wald-Wolfowitz. The z score represents how \"weird\" the player is. If we look at all the z-scores together, we can see whether NBA players as a whole are streakier or less streaky than chance alone would predict."
   ]
  },
  {
   "cell_type": "markdown",
   "id": "cad6ac6c",
   "metadata": {},
   "source": [
    "### Simplifying Assumptions\n",
    "We should start with the assumption that athletes really are weighted random number generators. A coin might have \"good days\" and \"bad days\" based on the results, but it's not because the coin is \"in the zone\" one day, or a little injured the next day. At least some of the variance in a player's streakiness is due to randomness, so we have to be looking for effects that can't be explained by randomness alone.\n",
    "\n",
    "So I am analyzing all shots a player took, across all games. This could cause problems, which I will discuss later on, but splitting the results up game-by-game or week-by-week leads to other problems. The smaller sample sizes mean more sampling error. High volume shooters will have less sampling error than low-volume shooters. This can easily be misinterpreted.\n",
    "\n",
    "I think we should prove that *streakiness* (beyond what's expected due to random variance) exists before making assumptions about how it works. If a player makes a bunch of shots in a row, how long might that effect carry over? Does it last through halftime? Does it carry over to the next game? How many makes in a row before they \"heat up\"? There are an infinite number of ways to model how it could work, which means it's ripe for overfitting. So I wanted to start with the simplest, most easily justifiable model.\n",
    "\n",
    "There's no good reason to invent some homegrown metric for \"streakiness\" under this assumption. The Wald-Wolfowitz test is the correct one to use here. The [original paper about the hot hand](https://www.sciencedirect.com/science/article/abs/pii/0010028585900106?via%3Dihub) was co-written by Amos Tversky, who won a Nobel Prize. Any time you can copy off of a Nobel Prize winner's homework, you probably should!"
   ]
  },
  {
   "cell_type": "code",
   "execution_count": 3,
   "id": "cc21ac91",
   "metadata": {},
   "outputs": [
    {
     "data": {
      "text/html": [
       "<div>\n",
       "<style scoped>\n",
       "    .dataframe tbody tr th:only-of-type {\n",
       "        vertical-align: middle;\n",
       "    }\n",
       "\n",
       "    .dataframe tbody tr th {\n",
       "        vertical-align: top;\n",
       "    }\n",
       "\n",
       "    .dataframe thead th {\n",
       "        text-align: right;\n",
       "    }\n",
       "</style>\n",
       "<table border=\"1\" class=\"dataframe\">\n",
       "  <thead>\n",
       "    <tr style=\"text-align: right;\">\n",
       "      <th></th>\n",
       "      <th>player_name</th>\n",
       "      <th>makes</th>\n",
       "      <th>misses</th>\n",
       "      <th>total_streaks</th>\n",
       "      <th>raw_data</th>\n",
       "      <th>expected_streaks</th>\n",
       "      <th>variance</th>\n",
       "      <th>sd</th>\n",
       "      <th>z_score</th>\n",
       "    </tr>\n",
       "    <tr>\n",
       "      <th>player_id</th>\n",
       "      <th></th>\n",
       "      <th></th>\n",
       "      <th></th>\n",
       "      <th></th>\n",
       "      <th></th>\n",
       "      <th></th>\n",
       "      <th></th>\n",
       "      <th></th>\n",
       "      <th></th>\n",
       "    </tr>\n",
       "  </thead>\n",
       "  <tbody>\n",
       "    <tr>\n",
       "      <th>1630173</th>\n",
       "      <td>Precious Achiuwa</td>\n",
       "      <td>164</td>\n",
       "      <td>163</td>\n",
       "      <td>157</td>\n",
       "      <td>WLLLWWLWWLLWLLWLLLWWWWWLLLWLLWWLLLWLLLWWWLWLWW...</td>\n",
       "      <td>164.498471</td>\n",
       "      <td>81.497704</td>\n",
       "      <td>9.027608</td>\n",
       "      <td>-0.830615</td>\n",
       "    </tr>\n",
       "    <tr>\n",
       "      <th>203500</th>\n",
       "      <td>Steven Adams</td>\n",
       "      <td>91</td>\n",
       "      <td>76</td>\n",
       "      <td>87</td>\n",
       "      <td>LWWWLLWLWWWLWLLLWWWLWWWWWLLWWWWLWLLWWWLWLWLWWW...</td>\n",
       "      <td>83.826347</td>\n",
       "      <td>40.827575</td>\n",
       "      <td>6.389646</td>\n",
       "      <td>0.496687</td>\n",
       "    </tr>\n",
       "    <tr>\n",
       "      <th>1628389</th>\n",
       "      <td>Bam Adebayo</td>\n",
       "      <td>540</td>\n",
       "      <td>573</td>\n",
       "      <td>569</td>\n",
       "      <td>LLWLWWWLWLWWWLLWLLWLWWWLWLWWWWLWWWLLWWWLWLLWWL...</td>\n",
       "      <td>557.010782</td>\n",
       "      <td>277.510772</td>\n",
       "      <td>16.658655</td>\n",
       "      <td>0.719699</td>\n",
       "    </tr>\n",
       "    <tr>\n",
       "      <th>1630534</th>\n",
       "      <td>Ochai Agbaji</td>\n",
       "      <td>266</td>\n",
       "      <td>268</td>\n",
       "      <td>277</td>\n",
       "      <td>WLLLLWLWLWWLWLLLLWLLLLLWLLLWWWWWLWWWLWWWWWLLWL...</td>\n",
       "      <td>267.996255</td>\n",
       "      <td>133.245786</td>\n",
       "      <td>11.543214</td>\n",
       "      <td>0.780003</td>\n",
       "    </tr>\n",
       "    <tr>\n",
       "      <th>1630583</th>\n",
       "      <td>Santi Aldama</td>\n",
       "      <td>313</td>\n",
       "      <td>335</td>\n",
       "      <td>327</td>\n",
       "      <td>LWLLLLWLWWWWWLWWWLWWLWLWLLLWWWWWWLWWWLWWWWWWLL...</td>\n",
       "      <td>324.626543</td>\n",
       "      <td>161.376372</td>\n",
       "      <td>12.703400</td>\n",
       "      <td>0.186836</td>\n",
       "    </tr>\n",
       "    <tr>\n",
       "      <th>...</th>\n",
       "      <td>...</td>\n",
       "      <td>...</td>\n",
       "      <td>...</td>\n",
       "      <td>...</td>\n",
       "      <td>...</td>\n",
       "      <td>...</td>\n",
       "      <td>...</td>\n",
       "      <td>...</td>\n",
       "      <td>...</td>\n",
       "    </tr>\n",
       "    <tr>\n",
       "      <th>1629027</th>\n",
       "      <td>Trae Young</td>\n",
       "      <td>566</td>\n",
       "      <td>810</td>\n",
       "      <td>678</td>\n",
       "      <td>LLWLLLLWLWLLLLWLWLLWLWWLLWLLLWWWLLWLWWWLWLWLWW...</td>\n",
       "      <td>667.366279</td>\n",
       "      <td>322.456474</td>\n",
       "      <td>17.957073</td>\n",
       "      <td>0.592175</td>\n",
       "    </tr>\n",
       "    <tr>\n",
       "      <th>1627826</th>\n",
       "      <td>Ivica Zubac</td>\n",
       "      <td>592</td>\n",
       "      <td>350</td>\n",
       "      <td>445</td>\n",
       "      <td>WLWLLLLWLWWWLWLWWWWWLWWWWWLLWLLWLLLWWWWLWWWWLL...</td>\n",
       "      <td>440.915074</td>\n",
       "      <td>205.191666</td>\n",
       "      <td>14.324513</td>\n",
       "      <td>0.285170</td>\n",
       "    </tr>\n",
       "    <tr>\n",
       "      <th>1641783</th>\n",
       "      <td>Tristan da Silva</td>\n",
       "      <td>199</td>\n",
       "      <td>284</td>\n",
       "      <td>245</td>\n",
       "      <td>LWLWLLLLWLWWLWLWWLWLWLLWWLWWWWLWLWWLLLLWLWWLLW...</td>\n",
       "      <td>235.020704</td>\n",
       "      <td>113.136243</td>\n",
       "      <td>10.636552</td>\n",
       "      <td>0.938208</td>\n",
       "    </tr>\n",
       "    <tr>\n",
       "      <th>1628427</th>\n",
       "      <td>Vlatko Čančar</td>\n",
       "      <td>10</td>\n",
       "      <td>16</td>\n",
       "      <td>12</td>\n",
       "      <td>WLLWWWLLLLWWLLLWLLLLLWLWWL</td>\n",
       "      <td>13.307692</td>\n",
       "      <td>5.566864</td>\n",
       "      <td>2.359420</td>\n",
       "      <td>-0.554243</td>\n",
       "    </tr>\n",
       "    <tr>\n",
       "      <th>203967</th>\n",
       "      <td>Dario Šarić</td>\n",
       "      <td>21</td>\n",
       "      <td>37</td>\n",
       "      <td>26</td>\n",
       "      <td>LWLLWWLLWWLLLLWLLWLLLLLLWLLLLLLWLWWLWLLLLLLWWL...</td>\n",
       "      <td>27.793103</td>\n",
       "      <td>12.124163</td>\n",
       "      <td>3.481977</td>\n",
       "      <td>-0.514967</td>\n",
       "    </tr>\n",
       "  </tbody>\n",
       "</table>\n",
       "<p>554 rows × 9 columns</p>\n",
       "</div>"
      ],
      "text/plain": [
       "                player_name  makes  misses  total_streaks  \\\n",
       "player_id                                                   \n",
       "1630173    Precious Achiuwa    164     163            157   \n",
       "203500         Steven Adams     91      76             87   \n",
       "1628389         Bam Adebayo    540     573            569   \n",
       "1630534        Ochai Agbaji    266     268            277   \n",
       "1630583        Santi Aldama    313     335            327   \n",
       "...                     ...    ...     ...            ...   \n",
       "1629027          Trae Young    566     810            678   \n",
       "1627826         Ivica Zubac    592     350            445   \n",
       "1641783    Tristan da Silva    199     284            245   \n",
       "1628427       Vlatko Čančar     10      16             12   \n",
       "203967          Dario Šarić     21      37             26   \n",
       "\n",
       "                                                    raw_data  \\\n",
       "player_id                                                      \n",
       "1630173    WLLLWWLWWLLWLLWLLLWWWWWLLLWLLWWLLLWLLLWWWLWLWW...   \n",
       "203500     LWWWLLWLWWWLWLLLWWWLWWWWWLLWWWWLWLLWWWLWLWLWWW...   \n",
       "1628389    LLWLWWWLWLWWWLLWLLWLWWWLWLWWWWLWWWLLWWWLWLLWWL...   \n",
       "1630534    WLLLLWLWLWWLWLLLLWLLLLLWLLLWWWWWLWWWLWWWWWLLWL...   \n",
       "1630583    LWLLLLWLWWWWWLWWWLWWLWLWLLLWWWWWWLWWWLWWWWWWLL...   \n",
       "...                                                      ...   \n",
       "1629027    LLWLLLLWLWLLLLWLWLLWLWWLLWLLLWWWLLWLWWWLWLWLWW...   \n",
       "1627826    WLWLLLLWLWWWLWLWWWWWLWWWWWLLWLLWLLLWWWWLWWWWLL...   \n",
       "1641783    LWLWLLLLWLWWLWLWWLWLWLLWWLWWWWLWLWWLLLLWLWWLLW...   \n",
       "1628427                           WLLWWWLLLLWWLLLWLLLLLWLWWL   \n",
       "203967     LWLLWWLLWWLLLLWLLWLLLLLLWLLLLLLWLWWLWLLLLLLWWL...   \n",
       "\n",
       "           expected_streaks    variance         sd   z_score  \n",
       "player_id                                                     \n",
       "1630173          164.498471   81.497704   9.027608 -0.830615  \n",
       "203500            83.826347   40.827575   6.389646  0.496687  \n",
       "1628389          557.010782  277.510772  16.658655  0.719699  \n",
       "1630534          267.996255  133.245786  11.543214  0.780003  \n",
       "1630583          324.626543  161.376372  12.703400  0.186836  \n",
       "...                     ...         ...        ...       ...  \n",
       "1629027          667.366279  322.456474  17.957073  0.592175  \n",
       "1627826          440.915074  205.191666  14.324513  0.285170  \n",
       "1641783          235.020704  113.136243  10.636552  0.938208  \n",
       "1628427           13.307692    5.566864   2.359420 -0.554243  \n",
       "203967            27.793103   12.124163   3.481977 -0.514967  \n",
       "\n",
       "[554 rows x 9 columns]"
      ]
     },
     "execution_count": 3,
     "metadata": {},
     "output_type": "execute_result"
    }
   ],
   "source": [
    "df = streaky_players.get_data_with_stats()\n",
    "df"
   ]
  },
  {
   "cell_type": "code",
   "execution_count": 5,
   "id": "f1e33baf",
   "metadata": {},
   "outputs": [
    {
     "data": {
      "text/plain": [
       "player_name                                              Steven Adams\n",
       "makes                                                              91\n",
       "misses                                                             76\n",
       "total_streaks                                                      87\n",
       "raw_data            LWWWLLWLWWWLWLLLWWWLWWWWWLLWWWWLWLLWWWLWLWLWWW...\n",
       "expected_streaks                                            83.826347\n",
       "variance                                                    40.827575\n",
       "sd                                                           6.389646\n",
       "z_score                                                      0.496687\n",
       "Name: 203500, dtype: object"
      ]
     },
     "execution_count": 5,
     "metadata": {},
     "output_type": "execute_result"
    }
   ],
   "source": [
    "df.loc[203500]"
   ]
  },
  {
   "cell_type": "markdown",
   "id": "39d03b4a",
   "metadata": {},
   "source": [
    "### Results\n",
    "\n",
    "Here is a histogram of the z-scores for the players, with the expected distribution plotted over the top. A player with a tendency for the *hot hand* would have fewer streaks than expected, and a negative z-score. \n",
    "\n",
    "I'm going to call the opposite tendency the *lukewarm hand*. A player with this tendency would have more streaks, which means shorter streaks than expected, and a positive z-score. They're like somebody trying to fake a random sequence of makes and misses, and alternating too often between \"W\" and \"L\" more often than flipping a coin would. If they just wrote a \"W\", they're more likely to write an \"L\" next than they should be, and vice versa.\n",
    "\n",
    "The histogram of z-scores looks a bit skewed to the right. In other words, there are actually fewer players with the *hot hand* tendency than expected by chance, or alternately, more players with the *lukewarm hand*.\n",
    "\n",
    "\n",
    "*Lukewarm hand* = More streaks = shorter average streak length = less streaky = higher z-score.    \n",
    "*Hot hand* = Fewer streaks = longer average streak length = more streaky = lower z-score."
   ]
  },
  {
   "cell_type": "code",
   "execution_count": 46,
   "id": "91aa1264",
   "metadata": {},
   "outputs": [
    {
     "data": {
      "image/png": "[encoded data removed]",
      "text/plain": [
       "<Figure size 640x480 with 1 Axes>"
      ]
     },
     "metadata": {},
     "output_type": "display_data"
    }
   ],
   "source": [
    "x = np.linspace(-3,3,200)\n",
    "plt.plot(x, scipy.stats.norm.pdf(x, 0, 1))\n",
    "out = plt.hist(df.z_score, bins=12, density=True)"
   ]
  },
  {
   "cell_type": "code",
   "execution_count": 7,
   "id": "56a0b2f3",
   "metadata": {},
   "outputs": [
    {
     "data": {
      "text/plain": [
       "count    554.000000\n",
       "mean       0.212491\n",
       "std        1.075563\n",
       "min       -3.081194\n",
       "25%       -0.546340\n",
       "50%        0.236554\n",
       "75%        0.951653\n",
       "max        3.054836\n",
       "Name: z_score, dtype: float64"
      ]
     },
     "execution_count": 7,
     "metadata": {},
     "output_type": "execute_result"
    }
   ],
   "source": [
    "df.z_score.describe()"
   ]
  },
  {
   "cell_type": "markdown",
   "id": "b4b5b9fa",
   "metadata": {},
   "source": [
    "Here's the Q-Q plot. The theoretical versus actual values follow the straight line pretty closely. So the outcomes are fairly normal."
   ]
  },
  {
   "cell_type": "code",
   "execution_count": 8,
   "id": "ffa3426e",
   "metadata": {},
   "outputs": [
    {
     "data": {
      "image/png": "[encoded data removed]",
      "text/plain": [
       "<Figure size 640x480 with 1 Axes>"
      ]
     },
     "metadata": {},
     "output_type": "display_data"
    }
   ],
   "source": [
    "out = scipy.stats.probplot(df.z_score, dist='norm', plot=plt)"
   ]
  },
  {
   "cell_type": "markdown",
   "id": "d5cc04d0",
   "metadata": {},
   "source": [
    "We can formally check this with the Shapiro-Wilk test. The p-value is > .05, meaning we can't reject the assumption that this data came from a normal distribution."
   ]
  },
  {
   "cell_type": "code",
   "execution_count": 43,
   "id": "e622b71c",
   "metadata": {},
   "outputs": [
    {
     "data": {
      "text/plain": [
       "np.float64(0.0745736416255809)"
      ]
     },
     "execution_count": 43,
     "metadata": {},
     "output_type": "execute_result"
    }
   ],
   "source": [
    "scipy.stats.shapiro(df.z_score).pvalue"
   ]
  },
  {
   "cell_type": "markdown",
   "id": "ea8a4ee9",
   "metadata": {},
   "source": [
    "So based on the shot data for every player from the 2024-25 NBA regular season, there is no conclusive evidence that players in general are streakier or less streaky than predicted by chance. This data could've come from flipping a bunch of coins.\n",
    "\n",
    "There are significantly more players with the *lukewarm hand* than the *hot hand*, though, and the actual data looks a little skewed to the right. What might be causing that?"
   ]
  },
  {
   "cell_type": "code",
   "execution_count": 10,
   "id": "8ebacc3b",
   "metadata": {},
   "outputs": [
    {
     "data": {
      "text/plain": [
       "320"
      ]
     },
     "execution_count": 10,
     "metadata": {},
     "output_type": "execute_result"
    }
   ],
   "source": [
    "sum(df.z_score > 0)"
   ]
  },
  {
   "cell_type": "code",
   "execution_count": 11,
   "id": "0b59b35b",
   "metadata": {},
   "outputs": [
    {
     "data": {
      "text/plain": [
       "232"
      ]
     },
     "execution_count": 11,
     "metadata": {},
     "output_type": "execute_result"
    }
   ],
   "source": [
    "sum(df.z_score < 0)"
   ]
  },
  {
   "cell_type": "markdown",
   "id": "e4065526",
   "metadata": {},
   "source": [
    "### Outliers?\n",
    "\n",
    "Players vary widely in the number of shots taken, so perhaps some outliers are affecting the results.\n",
    "\n",
    "Here are the number of made shots by each player. There are 552 players total, and over 200 of them have fewer than 87 makes."
   ]
  },
  {
   "cell_type": "code",
   "execution_count": 41,
   "id": "09f3cc98",
   "metadata": {},
   "outputs": [
    {
     "name": "stdout",
     "output_type": "stream",
     "text": [
      "[  1.   86.9 172.8 258.7 344.6 430.5 516.4 602.3 688.2 774.1 860. ]\n"
     ]
    },
    {
     "data": {
      "image/png": "[encoded data removed]",
      "text/plain": [
       "<Figure size 640x480 with 1 Axes>"
      ]
     },
     "metadata": {},
     "output_type": "display_data"
    }
   ],
   "source": [
    "out = plt.hist(df.makes)\n",
    "\n",
    "print(out[1])"
   ]
  },
  {
   "cell_type": "markdown",
   "id": "5c012cca",
   "metadata": {},
   "source": [
    "For simplicity, I'm going to throw out all players that have fewer than 100 makes. That leaves 323 players."
   ]
  },
  {
   "cell_type": "code",
   "execution_count": 13,
   "id": "ff8ce422",
   "metadata": {},
   "outputs": [],
   "source": [
    "df_minus_outliers = df[df.makes > 100].copy()"
   ]
  },
  {
   "cell_type": "code",
   "execution_count": 14,
   "id": "d16a7b4d",
   "metadata": {},
   "outputs": [
    {
     "data": {
      "text/plain": [
       "323"
      ]
     },
     "execution_count": 14,
     "metadata": {},
     "output_type": "execute_result"
    }
   ],
   "source": [
    "len(df_minus_outliers)"
   ]
  },
  {
   "cell_type": "code",
   "execution_count": 47,
   "id": "5599755b",
   "metadata": {},
   "outputs": [
    {
     "data": {
      "image/png": "[encoded data removed]",
      "text/plain": [
       "<Figure size 640x480 with 1 Axes>"
      ]
     },
     "metadata": {},
     "output_type": "display_data"
    }
   ],
   "source": [
    "x = np.linspace(-3,3,200)\n",
    "plt.plot(x, scipy.stats.norm.pdf(x, 0, 1))\n",
    "out = plt.hist(df_minus_outliers.z_score, bins=12, density=True)"
   ]
  },
  {
   "cell_type": "markdown",
   "id": "4c3d05bf",
   "metadata": {},
   "source": [
    "Well, that's surprising! The z-scores look even more skewed to the right after removing the outliers. According to Shapiro-Wilk, it's no longer plausible this data came from a normal distribution."
   ]
  },
  {
   "cell_type": "code",
   "execution_count": 16,
   "id": "6be6ee7e",
   "metadata": {},
   "outputs": [
    {
     "data": {
      "text/plain": [
       "np.float64(0.029588990161310183)"
      ]
     },
     "execution_count": 16,
     "metadata": {},
     "output_type": "execute_result"
    }
   ],
   "source": [
    "scipy.stats.shapiro(df_minus_outliers.z_score).pvalue"
   ]
  },
  {
   "cell_type": "markdown",
   "id": "fca1093d",
   "metadata": {},
   "source": [
    "The smallest z-score is now -2.08 while the largest is 3.05. The mean is .35 when we'd expect it to be 0."
   ]
  },
  {
   "cell_type": "code",
   "execution_count": 17,
   "id": "a9a84634",
   "metadata": {},
   "outputs": [
    {
     "data": {
      "text/plain": [
       "count    323.000000\n",
       "mean       0.347452\n",
       "std        1.068341\n",
       "min       -2.082528\n",
       "25%       -0.454794\n",
       "50%        0.363949\n",
       "75%        1.091244\n",
       "max        3.054836\n",
       "Name: z_score, dtype: float64"
      ]
     },
     "execution_count": 17,
     "metadata": {},
     "output_type": "execute_result"
    }
   ],
   "source": [
    "df_minus_outliers.z_score.describe()"
   ]
  },
  {
   "cell_type": "markdown",
   "id": "26be1313",
   "metadata": {},
   "source": [
    "There are a lot more players with an abnormally high z-score than an abnormally low one."
   ]
  },
  {
   "cell_type": "code",
   "execution_count": 18,
   "id": "2e50c3ab",
   "metadata": {},
   "outputs": [
    {
     "data": {
      "text/plain": [
       "2"
      ]
     },
     "execution_count": 18,
     "metadata": {},
     "output_type": "execute_result"
    }
   ],
   "source": [
    "sum(df_minus_outliers.z_score < -2)"
   ]
  },
  {
   "cell_type": "code",
   "execution_count": 19,
   "id": "832a3fe5",
   "metadata": {},
   "outputs": [
    {
     "data": {
      "text/plain": [
       "20"
      ]
     },
     "execution_count": 19,
     "metadata": {},
     "output_type": "execute_result"
    }
   ],
   "source": [
    "sum(df_minus_outliers.z_score > 2)"
   ]
  },
  {
   "cell_type": "markdown",
   "id": "b7aa54a0",
   "metadata": {},
   "source": [
    "## Huh?\n",
    "\n",
    "That was definitely not what I was expecting.\n",
    "\n",
    "Maybe looking at the actual players will lend some clarity. Here are the *lukewarm hands*, players who are more consistent (have fewer streaks) than expected by chance."
   ]
  },
  {
   "cell_type": "code",
   "execution_count": 25,
   "id": "1b99fabd",
   "metadata": {},
   "outputs": [
    {
     "data": {
      "text/html": [
       "<div>\n",
       "<style scoped>\n",
       "    .dataframe tbody tr th:only-of-type {\n",
       "        vertical-align: middle;\n",
       "    }\n",
       "\n",
       "    .dataframe tbody tr th {\n",
       "        vertical-align: top;\n",
       "    }\n",
       "\n",
       "    .dataframe thead th {\n",
       "        text-align: right;\n",
       "    }\n",
       "</style>\n",
       "<table border=\"1\" class=\"dataframe\">\n",
       "  <thead>\n",
       "    <tr style=\"text-align: right;\">\n",
       "      <th></th>\n",
       "      <th>player_name</th>\n",
       "      <th>makes</th>\n",
       "      <th>z_score</th>\n",
       "    </tr>\n",
       "    <tr>\n",
       "      <th>player_id</th>\n",
       "      <th></th>\n",
       "      <th></th>\n",
       "      <th></th>\n",
       "    </tr>\n",
       "  </thead>\n",
       "  <tbody>\n",
       "    <tr>\n",
       "      <th>1631099</th>\n",
       "      <td>Keegan Murray</td>\n",
       "      <td>364</td>\n",
       "      <td>3.054836</td>\n",
       "    </tr>\n",
       "    <tr>\n",
       "      <th>1631101</th>\n",
       "      <td>Shaedon Sharpe</td>\n",
       "      <td>499</td>\n",
       "      <td>2.922887</td>\n",
       "    </tr>\n",
       "    <tr>\n",
       "      <th>1629731</th>\n",
       "      <td>Dean Wade</td>\n",
       "      <td>112</td>\n",
       "      <td>2.582368</td>\n",
       "    </tr>\n",
       "    <tr>\n",
       "      <th>1627783</th>\n",
       "      <td>Pascal Siakam</td>\n",
       "      <td>613</td>\n",
       "      <td>2.495422</td>\n",
       "    </tr>\n",
       "    <tr>\n",
       "      <th>1630527</th>\n",
       "      <td>Brandon Boston</td>\n",
       "      <td>166</td>\n",
       "      <td>2.363133</td>\n",
       "    </tr>\n",
       "    <tr>\n",
       "      <th>203507</th>\n",
       "      <td>Giannis Antetokounmpo</td>\n",
       "      <td>793</td>\n",
       "      <td>2.327921</td>\n",
       "    </tr>\n",
       "    <tr>\n",
       "      <th>1630224</th>\n",
       "      <td>Jalen Green</td>\n",
       "      <td>608</td>\n",
       "      <td>2.297122</td>\n",
       "    </tr>\n",
       "    <tr>\n",
       "      <th>1630526</th>\n",
       "      <td>Jeremiah Robinson-Earl</td>\n",
       "      <td>158</td>\n",
       "      <td>2.263668</td>\n",
       "    </tr>\n",
       "    <tr>\n",
       "      <th>203944</th>\n",
       "      <td>Julius Randle</td>\n",
       "      <td>455</td>\n",
       "      <td>2.218991</td>\n",
       "    </tr>\n",
       "    <tr>\n",
       "      <th>201939</th>\n",
       "      <td>Stephen Curry</td>\n",
       "      <td>564</td>\n",
       "      <td>2.207653</td>\n",
       "    </tr>\n",
       "    <tr>\n",
       "      <th>1642273</th>\n",
       "      <td>Kyshawn George</td>\n",
       "      <td>203</td>\n",
       "      <td>2.196373</td>\n",
       "    </tr>\n",
       "    <tr>\n",
       "      <th>1629060</th>\n",
       "      <td>Rui Hachimura</td>\n",
       "      <td>293</td>\n",
       "      <td>2.176450</td>\n",
       "    </tr>\n",
       "    <tr>\n",
       "      <th>201142</th>\n",
       "      <td>Kevin Durant</td>\n",
       "      <td>592</td>\n",
       "      <td>2.130826</td>\n",
       "    </tr>\n",
       "    <tr>\n",
       "      <th>1629639</th>\n",
       "      <td>Tyler Herro</td>\n",
       "      <td>651</td>\n",
       "      <td>2.113573</td>\n",
       "    </tr>\n",
       "    <tr>\n",
       "      <th>1628978</th>\n",
       "      <td>Donte DiVincenzo</td>\n",
       "      <td>250</td>\n",
       "      <td>2.089418</td>\n",
       "    </tr>\n",
       "    <tr>\n",
       "      <th>1629673</th>\n",
       "      <td>Jordan Poole</td>\n",
       "      <td>457</td>\n",
       "      <td>2.079768</td>\n",
       "    </tr>\n",
       "    <tr>\n",
       "      <th>1630560</th>\n",
       "      <td>Cam Thomas</td>\n",
       "      <td>199</td>\n",
       "      <td>2.047191</td>\n",
       "    </tr>\n",
       "    <tr>\n",
       "      <th>1630178</th>\n",
       "      <td>Tyrese Maxey</td>\n",
       "      <td>477</td>\n",
       "      <td>2.037403</td>\n",
       "    </tr>\n",
       "    <tr>\n",
       "      <th>1642348</th>\n",
       "      <td>Justin Edwards</td>\n",
       "      <td>172</td>\n",
       "      <td>2.028058</td>\n",
       "    </tr>\n",
       "    <tr>\n",
       "      <th>1627742</th>\n",
       "      <td>Brandon Ingram</td>\n",
       "      <td>155</td>\n",
       "      <td>2.017723</td>\n",
       "    </tr>\n",
       "  </tbody>\n",
       "</table>\n",
       "</div>"
      ],
      "text/plain": [
       "                      player_name  makes   z_score\n",
       "player_id                                         \n",
       "1631099             Keegan Murray    364  3.054836\n",
       "1631101            Shaedon Sharpe    499  2.922887\n",
       "1629731                 Dean Wade    112  2.582368\n",
       "1627783             Pascal Siakam    613  2.495422\n",
       "1630527            Brandon Boston    166  2.363133\n",
       "203507      Giannis Antetokounmpo    793  2.327921\n",
       "1630224               Jalen Green    608  2.297122\n",
       "1630526    Jeremiah Robinson-Earl    158  2.263668\n",
       "203944              Julius Randle    455  2.218991\n",
       "201939              Stephen Curry    564  2.207653\n",
       "1642273            Kyshawn George    203  2.196373\n",
       "1629060             Rui Hachimura    293  2.176450\n",
       "201142               Kevin Durant    592  2.130826\n",
       "1629639               Tyler Herro    651  2.113573\n",
       "1628978          Donte DiVincenzo    250  2.089418\n",
       "1629673              Jordan Poole    457  2.079768\n",
       "1630560                Cam Thomas    199  2.047191\n",
       "1630178              Tyrese Maxey    477  2.037403\n",
       "1642348            Justin Edwards    172  2.028058\n",
       "1627742            Brandon Ingram    155  2.017723"
      ]
     },
     "execution_count": 25,
     "metadata": {},
     "output_type": "execute_result"
    }
   ],
   "source": [
    "lukewarm_hands = df_minus_outliers.loc[df_minus_outliers.z_score > 2].copy()\n",
    "lukewarm_hands[[\"player_name\", \"makes\", \"z_score\"]].sort_values(\"z_score\", ascending=False)"
   ]
  },
  {
   "cell_type": "code",
   "execution_count": 44,
   "id": "cdc6be9c",
   "metadata": {},
   "outputs": [
    {
     "data": {
      "text/plain": [
       "0.06498194945848375"
      ]
     },
     "execution_count": 44,
     "metadata": {},
     "output_type": "execute_result"
    }
   ],
   "source": [
    "sum(df.makes > 500) / len(df)"
   ]
  },
  {
   "cell_type": "code",
   "execution_count": 27,
   "id": "71234414",
   "metadata": {},
   "outputs": [
    {
     "data": {
      "text/plain": [
       "0.3"
      ]
     },
     "execution_count": 27,
     "metadata": {},
     "output_type": "execute_result"
    }
   ],
   "source": [
    "sum(lukewarm_hands.makes > 500) / len(lukewarm_hands)"
   ]
  },
  {
   "cell_type": "markdown",
   "id": "70794837",
   "metadata": {},
   "source": [
    "Some of the most prolific scorers in the league are on this list, and high scorers are over-represented. 6% of all NBA players made more than 500 shots this year, but 30% of the *lukewarm hands* players did.\n",
    "\n",
    "From a basketball perspective, this list doesn't make much sense. Kevin Durant and Steph Curry are two of the greatest shooters of all time, so it's not at all surprising to see them on a list of shooting outliers. But many of the other names are surprising. The biggest outliers, Keegan Murray and Shaedon Sharpe, aren't anything special as shooters. They didn't have especially standout seasons.\n",
    "\n",
    "Some of them seem totally wrong and weird. Cam Thomas, Jalen Green, Brandon Ingram and Jordan Poole are generally thought of streaky, inconsistent players. Sometimes they're on, sometimes they're off. Yet, according to their z-scores, they're less streaky than 97.5% of the NBA! That definitely goes against the conventional wisdom.\n",
    "\n",
    "So perhaps some players truly have the *lukewarm hand*, and others are just on here due to chance. Let's look in the other direction. Who are the players most likely to have a *hot hand*, if such a thing exists?"
   ]
  },
  {
   "cell_type": "code",
   "execution_count": 23,
   "id": "62d52910",
   "metadata": {},
   "outputs": [
    {
     "data": {
      "text/html": [
       "<div>\n",
       "<style scoped>\n",
       "    .dataframe tbody tr th:only-of-type {\n",
       "        vertical-align: middle;\n",
       "    }\n",
       "\n",
       "    .dataframe tbody tr th {\n",
       "        vertical-align: top;\n",
       "    }\n",
       "\n",
       "    .dataframe thead th {\n",
       "        text-align: right;\n",
       "    }\n",
       "</style>\n",
       "<table border=\"1\" class=\"dataframe\">\n",
       "  <thead>\n",
       "    <tr style=\"text-align: right;\">\n",
       "      <th></th>\n",
       "      <th>player_name</th>\n",
       "      <th>makes</th>\n",
       "      <th>z_score</th>\n",
       "    </tr>\n",
       "    <tr>\n",
       "      <th>player_id</th>\n",
       "      <th></th>\n",
       "      <th></th>\n",
       "      <th></th>\n",
       "    </tr>\n",
       "  </thead>\n",
       "  <tbody>\n",
       "    <tr>\n",
       "      <th>1629048</th>\n",
       "      <td>Goga Bitadze</td>\n",
       "      <td>207</td>\n",
       "      <td>-2.082528</td>\n",
       "    </tr>\n",
       "    <tr>\n",
       "      <th>1628418</th>\n",
       "      <td>Thomas Bryant</td>\n",
       "      <td>163</td>\n",
       "      <td>-2.064522</td>\n",
       "    </tr>\n",
       "  </tbody>\n",
       "</table>\n",
       "</div>"
      ],
      "text/plain": [
       "             player_name  makes   z_score\n",
       "player_id                                \n",
       "1629048     Goga Bitadze    207 -2.082528\n",
       "1628418    Thomas Bryant    163 -2.064522"
      ]
     },
     "execution_count": 23,
     "metadata": {},
     "output_type": "execute_result"
    }
   ],
   "source": [
    "df_minus_outliers[df_minus_outliers.z_score < -2][[\"player_name\", \"makes\", \"z_score\"]]"
   ]
  },
  {
   "cell_type": "markdown",
   "id": "f2967216",
   "metadata": {},
   "source": [
    "Neither of these guys match my naive conception of a streaky shooter. Both of them are backup big guys who aren't known for their offense, averaging around 7 points a game."
   ]
  },
  {
   "cell_type": "markdown",
   "id": "b63c1630",
   "metadata": {},
   "source": [
    "## What Does it All Mean?\n",
    "\n",
    "Does the *lukewarm hand* mean \"clutch\"? Not really; a streaky player could be more *clutch* than a consistent player. It just depends on whether they go on a streak of makes or a streak of misses in clutch time. Can a *streaky* player control when they're in the zone? Obviously, they can't always do that, or why wouldn't they do that all the time? It feels like \"clutchness\" is different from streakiness or not.\n",
    "\n",
    "I also don't think the *lukewarm hand* means \"consistent\" the way fans use it. As a fan, a consistent player always seems to have a good game. They never seem to take nights off. But a player with the *lukewarm hand* could have a high shooting percentage, or a low one. They could be a star, or a scrub.\n",
    "\n",
    "The fact that I'm combining games together in one long sequence might partially explain why we're not seeing evidence for the *hot hand*.\n",
    "\n",
    "If there is a hot hand effect, the chance of a make is higher than average when the previous shot was a make, and lower if it was a miss. That might be true within a game, but I wouldn't expect the hot hand to carry over from one game to the next. If a player made the last shot of the previous game, then didn't play for 2 days, why should that have an effect on whether they make the first shot of the next game? \n",
    "\n",
    "Under the hot hand assumption, low volume shooters should be less likely to have unexpectedly long streaks either way. They don't take enough shots in a game to really *heat up* or *go cold*.  The breaks between games are potentially resetting the streak the player was on when the game ended.\n",
    "\n",
    "So, it might make sense if low-volume shooters were artificially skewed towards the *lukewarm hand*, but that's not the case. The outliers I removed (under 100 shot attempts on the season) are much closer to a standard normal distribution than the higher volume shooters.\n",
    "\n",
    "Here are the low volume shooters on their own:"
   ]
  },
  {
   "cell_type": "code",
   "execution_count": 48,
   "id": "873da651",
   "metadata": {},
   "outputs": [
    {
     "data": {
      "image/png": "[encoded data removed]",
      "text/plain": [
       "<Figure size 640x480 with 1 Axes>"
      ]
     },
     "metadata": {},
     "output_type": "display_data"
    }
   ],
   "source": [
    "df_outliers = df[df.makes <= 100]\n",
    "\n",
    "x = np.linspace(-3,3,200)\n",
    "plt.plot(x, scipy.stats.norm.pdf(x, 0, 1))\n",
    "out = plt.hist(df_outliers.z_score, bins=12, density=True)"
   ]
  },
  {
   "cell_type": "markdown",
   "id": "de6bf346",
   "metadata": {},
   "source": [
    "They look very normal."
   ]
  },
  {
   "cell_type": "code",
   "execution_count": 30,
   "id": "afa879a5",
   "metadata": {},
   "outputs": [
    {
     "data": {
      "text/plain": [
       "count    231.000000\n",
       "mean       0.023781\n",
       "std        1.059338\n",
       "min       -3.081194\n",
       "25%       -0.604073\n",
       "50%        0.044682\n",
       "75%        0.671576\n",
       "max        2.683367\n",
       "Name: z_score, dtype: float64"
      ]
     },
     "execution_count": 30,
     "metadata": {},
     "output_type": "execute_result"
    }
   ],
   "source": [
    "df_outliers.z_score.describe()"
   ]
  },
  {
   "cell_type": "code",
   "execution_count": 31,
   "id": "b3a8ba68",
   "metadata": {},
   "outputs": [
    {
     "data": {
      "text/plain": [
       "np.float64(0.7067444075965392)"
      ]
     },
     "execution_count": 31,
     "metadata": {},
     "output_type": "execute_result"
    }
   ],
   "source": [
    "scipy.stats.shapiro(df_outliers.z_score).pvalue"
   ]
  },
  {
   "cell_type": "markdown",
   "id": "19381dc5",
   "metadata": {},
   "source": [
    "### Non-streakiness goes up with number of makes\n",
    "\n",
    "Here's a plot of number of makes on the season versus the z-score, for all NBA players. The more shots a player made this season, the less streaky they tended to be."
   ]
  },
  {
   "cell_type": "code",
   "execution_count": 49,
   "id": "9a38fa4a",
   "metadata": {},
   "outputs": [
    {
     "data": {
      "text/plain": [
       "<seaborn.axisgrid.FacetGrid at 0x21008dd0050>"
      ]
     },
     "execution_count": 49,
     "metadata": {},
     "output_type": "execute_result"
    },
    {
     "data": {
      "image/png": "[encoded data removed]",
      "text/plain": [
       "<Figure size 500x500 with 1 Axes>"
      ]
     },
     "metadata": {},
     "output_type": "display_data"
    }
   ],
   "source": [
    "sns.lmplot(df, x='makes', y=\"z_score\")"
   ]
  },
  {
   "cell_type": "code",
   "execution_count": 42,
   "id": "986203a4",
   "metadata": {},
   "outputs": [
    {
     "data": {
      "text/plain": [
       "np.float64(0.20276032784481346)"
      ]
     },
     "execution_count": 42,
     "metadata": {},
     "output_type": "execute_result"
    }
   ],
   "source": [
    "df.makes.corr(df.z_score)"
   ]
  },
  {
   "cell_type": "markdown",
   "id": "50a198f9",
   "metadata": {},
   "source": [
    "## Justifying the Lukewarm Hand\n",
    "\n",
    "From a non-math perspective, you could say \"of course a player who shoots the ball more is going to be more consistent.\" That seems pretty reasonable. Certainly the more shots they take, the closer their shooting percentage for the game will be to their overall shooting percentage. But that doesn't say anything about the order of makes and misses. Shouldn't those be random, at least over a long enough time frame?\n",
    "\n",
    "The *lukewarm hand* might seem silly, but there's more evidence that it exists than the hot hand. If the reality of the hot hand isn't there, why is the perception? I think it's due to how human beings perceive patterns. High volume shooters are more likely to be in a situation where they've hit, say, 5 shots in a row in the same game (or missed 5 in a row). People watching the game are more likely to remember that the player hit/missed a bunch of shots in a row (or a short period of time) and think of them as streaky for that reason.\n",
    "\n",
    "If a player is less streaky than chance would dictate, there must be some artificial mechanism that makes a player less likely to make a shot if they've on a long streak of makes, and less likely to miss a shot after a long streak of misses.\n",
    "\n",
    "It can't just go in one direction. If a player that makes 50% of their shots overall is a streaky player, then if they're making 70% of their shots when they're on a \"hot streak\", there has to be other \"cold streaks\" where they're making way less than 50% of their shots, right? Or perhaps, they shoot slightly less than 50% all the time, except for when they're on a hot streak. It has to balance out somehow."
   ]
  },
  {
   "cell_type": "markdown",
   "id": "cf127ad7",
   "metadata": {},
   "source": [
    "### Being Charitable\n",
    "\n",
    "I stand by the assumption that basketball players should behave like (weighted) coin flips when it comes to streakiness or makes and misses. If the players are less streaky than a random process, that indicates the shooter has some control over the process. They are doing something to break these streaks. They are artificially shortening them, either shooting a little better than average when they're on a streak of misses, or shooting a little worse than average when they're on a streak of makes.\n",
    "\n",
    "A shooter that is as streaky as a coin has potentially maximized how much of the process they can control. Whether it's a make or a miss is totally random. And by and large, that's what we see. \n",
    "\n",
    "The less streaky the player is, the less random the outcomes are, and the more the shooter is interfering with the expression of their natural level of skill. That could apply to streaky shooters as well. Their own psychology is changing what should be a random process. Sometimes they are capable of shooting the ball with superhuman skill, sometimes they are not. It's a weird thing to believe that a person could really make every single shot if they were just in the right mindset. It's much more charitable to assume that players are making a good faith effort to make every shot, and they don't have 100% control over the outcome.\n",
    "\n",
    "The \"lukewarm hand\" is a different way of seeing the world than the hot hand hypothesis. Like all models, it's wrong, but I think it's useful, as a different way of thinking about the problem. The reaction to Tversky's original paper concluding the hot hand doesn't exist was for people to try and prove it using different methods, rather than acknowledging that the hot hand is a phenomenon that we subjectively experience. \n",
    "\n",
    "The hot hand isn't something that *has to be* real just because we experience it. We also experience paraidolea, the tendency to see human faces in inanimate objects, like rocks and tortillas. Our brains are just wired that way. 3 or 4 makes in a row is enough to make us feel like the shooter might never miss again. We are inclined to draw conclusions from very small sample sizes.\n",
    "\n",
    "Somebody looking for proof of the hot hand should acknowledge that the *lukewarm hand* is also potentially a thing, even if it's something we don't instinctively experience. Since totally random outcomes will seem streaky, we need to be mistrustful of our experience of the hot hand.\n",
    "\n",
    "\n",
    "### Next Steps\n",
    "\n",
    "I'll look at previous seasons -- have the same players been *lukewarm hands* in the past? It could be that 2024-25 was a weird season. And I will look at what streak lengths look like compared to flipping a coin."
   ]
  }
 ],
 "metadata": {
  "kernelspec": {
   "display_name": "Python 3",
   "language": "python",
   "name": "python3"
  },
  "language_info": {
   "codemirror_mode": {
    "name": "ipython",
    "version": 3
   },
   "file_extension": ".py",
   "mimetype": "text/x-python",
   "name": "python",
   "nbconvert_exporter": "python",
   "pygments_lexer": "ipython3",
   "version": "3.11.9"
  }
 },
 "nbformat": 4,
 "nbformat_minor": 5
}
