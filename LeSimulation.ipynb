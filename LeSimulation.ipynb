{
 "cells": [
  {
   "cell_type": "code",
   "execution_count": 1,
   "id": "6c83355a",
   "metadata": {},
   "outputs": [],
   "source": [
    "import streaky_players\n",
    "import wald_wolfowitz\n",
    "import streak_converter"
   ]
  },
  {
   "cell_type": "code",
   "execution_count": 2,
   "id": "864e3753",
   "metadata": {},
   "outputs": [],
   "source": [
    "import numpy as np\n",
    "import pandas as pd\n",
    "import matplotlib.pyplot as plt\n",
    "import scipy.stats"
   ]
  },
  {
   "cell_type": "code",
   "execution_count": 3,
   "id": "3bfd5ce4",
   "metadata": {},
   "outputs": [],
   "source": [
    "from qbstyles import mpl_style\n",
    "\n",
    "mpl_style(dark=True)"
   ]
  },
  {
   "cell_type": "markdown",
   "id": "4d940cf5",
   "metadata": {},
   "source": [
    "## LeMartingale\n",
    "I got the question of why it's OK to use a player's overall FG% to gauge their streakiness. We know that every shot a player takes has a slightly different level of difficulty, and thus a different probability that it will go in. Shouldn't that affect the streakiness?\n",
    "\n",
    "It's a good question.  Let's say you've got a bag with 2 coins inside. One of them comes up heads 40% of the time, the other comes up heads 60% of the time. You can't tell which is which. If you select a coin randomly out of the bag and flip it, what are the chances it comes up heads? It's 50%, right? The selecting of the coin and the flipping of the coin are two independent steps. We can multiply the probabilities at each step together, so the chances of heads are `(.5 * .4) + (.5 * .6) = .5`\n",
    "\n",
    "So, it's fine to use the overall FG% as long as there's no memory to the process -- the previous shot selections and results have no bearing on the chances of the next shot going in. In mathematics, this is known as a [martingale](https://en.wikipedia.org/wiki/Martingale_(probability_theory)).\n",
    "\n",
    "If I create a simulation of LeBron James that uses his exact shooting tendencies and FG percentages, and the shot selection is totally random, it shouldn't show any streaky or unstreaky tendencies beyond expected by chance. Let's see what LeSimulation looks like."
   ]
  },
  {
   "cell_type": "markdown",
   "id": "4a8bc900",
   "metadata": {},
   "source": [
    "Loading data from previous notebook..."
   ]
  },
  {
   "cell_type": "code",
   "execution_count": 4,
   "id": "79c5238f",
   "metadata": {},
   "outputs": [],
   "source": [
    "aug = pd.read_feather(\"streak-augment.feather\")"
   ]
  },
  {
   "cell_type": "code",
   "execution_count": 5,
   "id": "e9f5c026",
   "metadata": {},
   "outputs": [],
   "source": [
    "lebron_shots = aug[aug.PLAYER_ID == 2544].copy()"
   ]
  },
  {
   "cell_type": "code",
   "execution_count": 6,
   "id": "bb24d478",
   "metadata": {},
   "outputs": [
    {
     "data": {
      "text/html": [
       "<div>\n",
       "<style scoped>\n",
       "    .dataframe tbody tr th:only-of-type {\n",
       "        vertical-align: middle;\n",
       "    }\n",
       "\n",
       "    .dataframe tbody tr th {\n",
       "        vertical-align: top;\n",
       "    }\n",
       "\n",
       "    .dataframe thead th {\n",
       "        text-align: right;\n",
       "    }\n",
       "</style>\n",
       "<table border=\"1\" class=\"dataframe\">\n",
       "  <thead>\n",
       "    <tr style=\"text-align: right;\">\n",
       "      <th></th>\n",
       "      <th>SEASON_1</th>\n",
       "      <th>SEASON_2</th>\n",
       "      <th>TEAM_ID</th>\n",
       "      <th>TEAM_NAME</th>\n",
       "      <th>PLAYER_ID</th>\n",
       "      <th>PLAYER_NAME</th>\n",
       "      <th>POSITION_GROUP</th>\n",
       "      <th>POSITION</th>\n",
       "      <th>GAME_DATE</th>\n",
       "      <th>GAME_ID</th>\n",
       "      <th>...</th>\n",
       "      <th>SHOT_DISTANCE</th>\n",
       "      <th>QUARTER</th>\n",
       "      <th>MINS_LEFT</th>\n",
       "      <th>SECS_LEFT</th>\n",
       "      <th>SORTABLE_DATE</th>\n",
       "      <th>makes_in_game</th>\n",
       "      <th>misses_in_game</th>\n",
       "      <th>shot_seq</th>\n",
       "      <th>shoot_pct</th>\n",
       "      <th>last_5</th>\n",
       "    </tr>\n",
       "  </thead>\n",
       "  <tbody>\n",
       "    <tr>\n",
       "      <th>585</th>\n",
       "      <td>2004</td>\n",
       "      <td>2003-04</td>\n",
       "      <td>1610612739</td>\n",
       "      <td>Cleveland Cavaliers</td>\n",
       "      <td>2544</td>\n",
       "      <td>LeBron James</td>\n",
       "      <td>G</td>\n",
       "      <td>SG</td>\n",
       "      <td>10-29-2003</td>\n",
       "      <td>20300014</td>\n",
       "      <td>...</td>\n",
       "      <td>15</td>\n",
       "      <td>1</td>\n",
       "      <td>8</td>\n",
       "      <td>56</td>\n",
       "      <td>2003-10-29</td>\n",
       "      <td>0</td>\n",
       "      <td>0</td>\n",
       "      <td>1</td>\n",
       "      <td>0.00</td>\n",
       "      <td>NaN</td>\n",
       "    </tr>\n",
       "    <tr>\n",
       "      <th>636</th>\n",
       "      <td>2004</td>\n",
       "      <td>2003-04</td>\n",
       "      <td>1610612739</td>\n",
       "      <td>Cleveland Cavaliers</td>\n",
       "      <td>2544</td>\n",
       "      <td>LeBron James</td>\n",
       "      <td>G</td>\n",
       "      <td>SG</td>\n",
       "      <td>10-29-2003</td>\n",
       "      <td>20300014</td>\n",
       "      <td>...</td>\n",
       "      <td>13</td>\n",
       "      <td>1</td>\n",
       "      <td>7</td>\n",
       "      <td>44</td>\n",
       "      <td>2003-10-29</td>\n",
       "      <td>1</td>\n",
       "      <td>0</td>\n",
       "      <td>2</td>\n",
       "      <td>1.00</td>\n",
       "      <td>NaN</td>\n",
       "    </tr>\n",
       "    <tr>\n",
       "      <th>671</th>\n",
       "      <td>2004</td>\n",
       "      <td>2003-04</td>\n",
       "      <td>1610612739</td>\n",
       "      <td>Cleveland Cavaliers</td>\n",
       "      <td>2544</td>\n",
       "      <td>LeBron James</td>\n",
       "      <td>G</td>\n",
       "      <td>SG</td>\n",
       "      <td>10-29-2003</td>\n",
       "      <td>20300014</td>\n",
       "      <td>...</td>\n",
       "      <td>16</td>\n",
       "      <td>1</td>\n",
       "      <td>7</td>\n",
       "      <td>1</td>\n",
       "      <td>2003-10-29</td>\n",
       "      <td>2</td>\n",
       "      <td>0</td>\n",
       "      <td>3</td>\n",
       "      <td>1.00</td>\n",
       "      <td>NaN</td>\n",
       "    </tr>\n",
       "    <tr>\n",
       "      <th>696</th>\n",
       "      <td>2004</td>\n",
       "      <td>2003-04</td>\n",
       "      <td>1610612739</td>\n",
       "      <td>Cleveland Cavaliers</td>\n",
       "      <td>2544</td>\n",
       "      <td>LeBron James</td>\n",
       "      <td>G</td>\n",
       "      <td>SG</td>\n",
       "      <td>10-29-2003</td>\n",
       "      <td>20300014</td>\n",
       "      <td>...</td>\n",
       "      <td>14</td>\n",
       "      <td>1</td>\n",
       "      <td>6</td>\n",
       "      <td>29</td>\n",
       "      <td>2003-10-29</td>\n",
       "      <td>3</td>\n",
       "      <td>0</td>\n",
       "      <td>4</td>\n",
       "      <td>1.00</td>\n",
       "      <td>NaN</td>\n",
       "    </tr>\n",
       "    <tr>\n",
       "      <th>762</th>\n",
       "      <td>2004</td>\n",
       "      <td>2003-04</td>\n",
       "      <td>1610612739</td>\n",
       "      <td>Cleveland Cavaliers</td>\n",
       "      <td>2544</td>\n",
       "      <td>LeBron James</td>\n",
       "      <td>G</td>\n",
       "      <td>SG</td>\n",
       "      <td>10-29-2003</td>\n",
       "      <td>20300014</td>\n",
       "      <td>...</td>\n",
       "      <td>5</td>\n",
       "      <td>1</td>\n",
       "      <td>4</td>\n",
       "      <td>48</td>\n",
       "      <td>2003-10-29</td>\n",
       "      <td>3</td>\n",
       "      <td>1</td>\n",
       "      <td>5</td>\n",
       "      <td>0.75</td>\n",
       "      <td>NaN</td>\n",
       "    </tr>\n",
       "  </tbody>\n",
       "</table>\n",
       "<p>5 rows × 32 columns</p>\n",
       "</div>"
      ],
      "text/plain": [
       "     SEASON_1 SEASON_2     TEAM_ID            TEAM_NAME  PLAYER_ID  \\\n",
       "585      2004  2003-04  1610612739  Cleveland Cavaliers       2544   \n",
       "636      2004  2003-04  1610612739  Cleveland Cavaliers       2544   \n",
       "671      2004  2003-04  1610612739  Cleveland Cavaliers       2544   \n",
       "696      2004  2003-04  1610612739  Cleveland Cavaliers       2544   \n",
       "762      2004  2003-04  1610612739  Cleveland Cavaliers       2544   \n",
       "\n",
       "      PLAYER_NAME POSITION_GROUP POSITION   GAME_DATE   GAME_ID  ...  \\\n",
       "585  LeBron James              G       SG  10-29-2003  20300014  ...   \n",
       "636  LeBron James              G       SG  10-29-2003  20300014  ...   \n",
       "671  LeBron James              G       SG  10-29-2003  20300014  ...   \n",
       "696  LeBron James              G       SG  10-29-2003  20300014  ...   \n",
       "762  LeBron James              G       SG  10-29-2003  20300014  ...   \n",
       "\n",
       "    SHOT_DISTANCE QUARTER MINS_LEFT  SECS_LEFT SORTABLE_DATE makes_in_game  \\\n",
       "585            15       1         8         56    2003-10-29             0   \n",
       "636            13       1         7         44    2003-10-29             1   \n",
       "671            16       1         7          1    2003-10-29             2   \n",
       "696            14       1         6         29    2003-10-29             3   \n",
       "762             5       1         4         48    2003-10-29             3   \n",
       "\n",
       "    misses_in_game shot_seq shoot_pct last_5  \n",
       "585              0        1      0.00    NaN  \n",
       "636              0        2      1.00    NaN  \n",
       "671              0        3      1.00    NaN  \n",
       "696              0        4      1.00    NaN  \n",
       "762              1        5      0.75    NaN  \n",
       "\n",
       "[5 rows x 32 columns]"
      ]
     },
     "execution_count": 6,
     "metadata": {},
     "output_type": "execute_result"
    }
   ],
   "source": [
    "lebron_shots.head()"
   ]
  },
  {
   "cell_type": "markdown",
   "id": "cf96c957",
   "metadata": {},
   "source": [
    "his fg% for each shot type."
   ]
  },
  {
   "cell_type": "code",
   "execution_count": 7,
   "id": "fae74d88",
   "metadata": {},
   "outputs": [
    {
     "data": {
      "text/plain": [
       "BASIC_ZONE\n",
       "Above the Break 3        0.344598\n",
       "Backcourt                0.058824\n",
       "In The Paint (Non-RA)    0.401369\n",
       "Left Corner 3            0.394799\n",
       "Mid-Range                0.379890\n",
       "Restricted Area          0.720138\n",
       "Right Corner 3           0.370370\n",
       "Name: count, dtype: float64"
      ]
     },
     "execution_count": 7,
     "metadata": {},
     "output_type": "execute_result"
    }
   ],
   "source": [
    "lebron_fg_pct_zones = lebron_shots.groupby([\"BASIC_ZONE\"])[\"SHOT_MADE\"].value_counts() / lebron_shots.groupby([\"BASIC_ZONE\"])[\"BASIC_ZONE\"].value_counts()\n",
    "\n",
    "lebron_fg_pct_zones[:,True]"
   ]
  },
  {
   "cell_type": "markdown",
   "id": "c2682807",
   "metadata": {},
   "source": [
    "how often he takes each type of shot"
   ]
  },
  {
   "cell_type": "code",
   "execution_count": 8,
   "id": "f657f802",
   "metadata": {},
   "outputs": [],
   "source": [
    "lebron_frequency_zones = lebron_shots.groupby([\"BASIC_ZONE\"])[\"BASIC_ZONE\"].value_counts() / len(lebron_shots)"
   ]
  },
  {
   "cell_type": "code",
   "execution_count": 9,
   "id": "dc23e056",
   "metadata": {},
   "outputs": [
    {
     "data": {
      "text/plain": [
       "BASIC_ZONE\n",
       "Above the Break 3        0.204940\n",
       "Backcourt                0.001160\n",
       "In The Paint (Non-RA)    0.109652\n",
       "Left Corner 3            0.014431\n",
       "Mid-Range                0.267715\n",
       "Restricted Area          0.386442\n",
       "Right Corner 3           0.015660\n",
       "Name: count, dtype: float64"
      ]
     },
     "execution_count": 9,
     "metadata": {},
     "output_type": "execute_result"
    }
   ],
   "source": [
    "lebron_frequency_zones"
   ]
  },
  {
   "cell_type": "code",
   "execution_count": 10,
   "id": "effcb839",
   "metadata": {},
   "outputs": [],
   "source": [
    "le_shooting_weights = lebron_frequency_zones.values"
   ]
  },
  {
   "cell_type": "code",
   "execution_count": 11,
   "id": "9140faee",
   "metadata": {},
   "outputs": [],
   "source": [
    "le_shooting_percentages = lebron_fg_pct_zones[:,True].values"
   ]
  },
  {
   "cell_type": "markdown",
   "id": "528f6061",
   "metadata": {},
   "source": [
    "the probabilities need to add to 1, and they do"
   ]
  },
  {
   "cell_type": "code",
   "execution_count": 12,
   "id": "802ccf67",
   "metadata": {},
   "outputs": [
    {
     "data": {
      "text/plain": [
       "np.float64(1.0)"
      ]
     },
     "execution_count": 12,
     "metadata": {},
     "output_type": "execute_result"
    }
   ],
   "source": [
    "sum(le_shooting_weights)"
   ]
  },
  {
   "cell_type": "code",
   "execution_count": 13,
   "id": "6ca8f9b2",
   "metadata": {},
   "outputs": [],
   "source": [
    "## TODO: copy-pasted from a previous notebook with minor modifications... should clean this up\n",
    "\n",
    "def sim_career(sim_player, shots_per_game):\n",
    "    makes_misses = []\n",
    "    for shot_count in shots_per_game:\n",
    "        for x in range(shot_count):\n",
    "            makes_misses.append(sim_player.take_shot())\n",
    "        sim_player.end_game()\n",
    "    return pd.Series(makes_misses)\n",
    "\n",
    "def handle_season(results):\n",
    "    makes = sum(results > 0)\n",
    "    misses = sum(results == 0)\n",
    "    if (makes + misses) > 3:\n",
    "        expected = wald_wolfowitz.get_expected_streaks(makes, misses)\n",
    "        streak_data = streak_converter.convert_to_streaks(results)\n",
    "        total_streaks = streak_data['total_streaks']\n",
    "        variance = wald_wolfowitz.get_variance(makes, misses, expected)\n",
    "        if variance > 0:\n",
    "            z_score = (total_streaks - expected) / np.sqrt(variance)\n",
    "            return (total_streaks, expected, variance, z_score)\n",
    "        else:\n",
    "            return None\n",
    "    else:\n",
    "        return None # not enough data!\n",
    "\n",
    "def sim_multiple(num_seasons, sim_player, shots_per_game):\n",
    "    seasons_result = []\n",
    "    for x in range(num_seasons):\n",
    "        results = sim_career(sim_player, shots_per_game)\n",
    "        stat_results = handle_season(results)\n",
    "        seasons_result.append(stat_results)\n",
    "\n",
    "    return seasons_result"
   ]
  },
  {
   "cell_type": "markdown",
   "id": "c010dd84",
   "metadata": {},
   "source": [
    "I need a list of number of shots attempted by LeBron in each game. it's not relevant for this sim, but will be useful to model unstreakiness thru shot selection later on."
   ]
  },
  {
   "cell_type": "code",
   "execution_count": 14,
   "id": "d61b2035",
   "metadata": {},
   "outputs": [],
   "source": [
    "lebron_shots_by_game = lebron_shots.groupby(\"GAME_ID\")[\"GAME_ID\"].value_counts().values"
   ]
  },
  {
   "cell_type": "code",
   "execution_count": 15,
   "id": "db6f23ba",
   "metadata": {},
   "outputs": [],
   "source": [
    "le_simulation = streaky_players.VariableFGPlayer(le_shooting_weights, \n",
    "                                                le_shooting_percentages)"
   ]
  },
  {
   "cell_type": "markdown",
   "id": "b245fccb",
   "metadata": {},
   "source": [
    "I am going to simulate LeBron's entire career 1,000 times and plot the z-scores for number of streaks. there's no reason why we should see any streaky or unstreaky tendency because shot selection and FG% are independent."
   ]
  },
  {
   "cell_type": "code",
   "execution_count": 16,
   "id": "defa8a80",
   "metadata": {},
   "outputs": [],
   "source": [
    "le_results = sim_multiple(1000, le_simulation, lebron_shots_by_game)"
   ]
  },
  {
   "cell_type": "code",
   "execution_count": 17,
   "id": "bd134c9d",
   "metadata": {},
   "outputs": [],
   "source": [
    "def summary_plot(sim, min_z=-4, max_z=4):\n",
    "    sim_summary = pd.DataFrame(sim, columns=[\"actual\", \"expected\", \"variance\", \"z_score\"])\n",
    "    sim_summary.z_score.hist(bins=np.arange(min_z, max_z, .5), density=True)\n",
    "    x = np.linspace(min_z,max_z,200)\n",
    "    plt.plot(x, scipy.stats.norm.pdf(x, 0, 1))\n",
    "    return sim_summary\n"
   ]
  },
  {
   "cell_type": "code",
   "execution_count": 18,
   "id": "4e17b522",
   "metadata": {},
   "outputs": [
    {
     "data": {
      "image/png": "[encoded data removed]",
      "text/plain": [
       "<Figure size 640x480 with 1 Axes>"
      ]
     },
     "metadata": {},
     "output_type": "display_data"
    }
   ],
   "source": [
    "le_fake_career = summary_plot(le_results)"
   ]
  },
  {
   "cell_type": "markdown",
   "id": "7d6cf291",
   "metadata": {},
   "source": [
    "mean isn't equal to zero, but close enough"
   ]
  },
  {
   "cell_type": "code",
   "execution_count": 19,
   "id": "218784ae",
   "metadata": {},
   "outputs": [
    {
     "data": {
      "text/plain": [
       "count    1000.000000\n",
       "mean        0.032042\n",
       "std         1.005575\n",
       "min        -2.844850\n",
       "25%        -0.648546\n",
       "50%         0.038302\n",
       "75%         0.684430\n",
       "max         3.302983\n",
       "Name: z_score, dtype: float64"
      ]
     },
     "execution_count": 19,
     "metadata": {},
     "output_type": "execute_result"
    }
   ],
   "source": [
    "le_fake_career.z_score.describe()"
   ]
  },
  {
   "cell_type": "code",
   "execution_count": 20,
   "id": "f606930e",
   "metadata": {},
   "outputs": [
    {
     "data": {
      "text/plain": [
       "<Axes: >"
      ]
     },
     "execution_count": 20,
     "metadata": {},
     "output_type": "execute_result"
    },
    {
     "data": {
      "image/png": "[encoded data removed]",
      "text/plain": [
       "<Figure size 640x480 with 1 Axes>"
      ]
     },
     "metadata": {},
     "output_type": "display_data"
    }
   ],
   "source": [
    "le_fake_career.actual.hist(density=True)"
   ]
  },
  {
   "cell_type": "code",
   "execution_count": 21,
   "id": "f144da0f",
   "metadata": {},
   "outputs": [
    {
     "data": {
      "text/html": [
       "<div>\n",
       "<style scoped>\n",
       "    .dataframe tbody tr th:only-of-type {\n",
       "        vertical-align: middle;\n",
       "    }\n",
       "\n",
       "    .dataframe tbody tr th {\n",
       "        vertical-align: top;\n",
       "    }\n",
       "\n",
       "    .dataframe thead th {\n",
       "        text-align: right;\n",
       "    }\n",
       "</style>\n",
       "<table border=\"1\" class=\"dataframe\">\n",
       "  <thead>\n",
       "    <tr style=\"text-align: right;\">\n",
       "      <th></th>\n",
       "      <th>SEASON_1</th>\n",
       "      <th>SEASON_2</th>\n",
       "      <th>TEAM_ID</th>\n",
       "      <th>TEAM_NAME</th>\n",
       "      <th>PLAYER_ID</th>\n",
       "      <th>PLAYER_NAME</th>\n",
       "      <th>POSITION_GROUP</th>\n",
       "      <th>POSITION</th>\n",
       "      <th>GAME_DATE</th>\n",
       "      <th>GAME_ID</th>\n",
       "      <th>...</th>\n",
       "      <th>SHOT_DISTANCE</th>\n",
       "      <th>QUARTER</th>\n",
       "      <th>MINS_LEFT</th>\n",
       "      <th>SECS_LEFT</th>\n",
       "      <th>SORTABLE_DATE</th>\n",
       "      <th>makes_in_game</th>\n",
       "      <th>misses_in_game</th>\n",
       "      <th>shot_seq</th>\n",
       "      <th>shoot_pct</th>\n",
       "      <th>last_5</th>\n",
       "    </tr>\n",
       "  </thead>\n",
       "  <tbody>\n",
       "    <tr>\n",
       "      <th>585</th>\n",
       "      <td>2004</td>\n",
       "      <td>2003-04</td>\n",
       "      <td>1610612739</td>\n",
       "      <td>Cleveland Cavaliers</td>\n",
       "      <td>2544</td>\n",
       "      <td>LeBron James</td>\n",
       "      <td>G</td>\n",
       "      <td>SG</td>\n",
       "      <td>10-29-2003</td>\n",
       "      <td>20300014</td>\n",
       "      <td>...</td>\n",
       "      <td>15</td>\n",
       "      <td>1</td>\n",
       "      <td>8</td>\n",
       "      <td>56</td>\n",
       "      <td>2003-10-29</td>\n",
       "      <td>0</td>\n",
       "      <td>0</td>\n",
       "      <td>1</td>\n",
       "      <td>0.000000</td>\n",
       "      <td>NaN</td>\n",
       "    </tr>\n",
       "    <tr>\n",
       "      <th>636</th>\n",
       "      <td>2004</td>\n",
       "      <td>2003-04</td>\n",
       "      <td>1610612739</td>\n",
       "      <td>Cleveland Cavaliers</td>\n",
       "      <td>2544</td>\n",
       "      <td>LeBron James</td>\n",
       "      <td>G</td>\n",
       "      <td>SG</td>\n",
       "      <td>10-29-2003</td>\n",
       "      <td>20300014</td>\n",
       "      <td>...</td>\n",
       "      <td>13</td>\n",
       "      <td>1</td>\n",
       "      <td>7</td>\n",
       "      <td>44</td>\n",
       "      <td>2003-10-29</td>\n",
       "      <td>1</td>\n",
       "      <td>0</td>\n",
       "      <td>2</td>\n",
       "      <td>1.000000</td>\n",
       "      <td>NaN</td>\n",
       "    </tr>\n",
       "    <tr>\n",
       "      <th>671</th>\n",
       "      <td>2004</td>\n",
       "      <td>2003-04</td>\n",
       "      <td>1610612739</td>\n",
       "      <td>Cleveland Cavaliers</td>\n",
       "      <td>2544</td>\n",
       "      <td>LeBron James</td>\n",
       "      <td>G</td>\n",
       "      <td>SG</td>\n",
       "      <td>10-29-2003</td>\n",
       "      <td>20300014</td>\n",
       "      <td>...</td>\n",
       "      <td>16</td>\n",
       "      <td>1</td>\n",
       "      <td>7</td>\n",
       "      <td>1</td>\n",
       "      <td>2003-10-29</td>\n",
       "      <td>2</td>\n",
       "      <td>0</td>\n",
       "      <td>3</td>\n",
       "      <td>1.000000</td>\n",
       "      <td>NaN</td>\n",
       "    </tr>\n",
       "    <tr>\n",
       "      <th>696</th>\n",
       "      <td>2004</td>\n",
       "      <td>2003-04</td>\n",
       "      <td>1610612739</td>\n",
       "      <td>Cleveland Cavaliers</td>\n",
       "      <td>2544</td>\n",
       "      <td>LeBron James</td>\n",
       "      <td>G</td>\n",
       "      <td>SG</td>\n",
       "      <td>10-29-2003</td>\n",
       "      <td>20300014</td>\n",
       "      <td>...</td>\n",
       "      <td>14</td>\n",
       "      <td>1</td>\n",
       "      <td>6</td>\n",
       "      <td>29</td>\n",
       "      <td>2003-10-29</td>\n",
       "      <td>3</td>\n",
       "      <td>0</td>\n",
       "      <td>4</td>\n",
       "      <td>1.000000</td>\n",
       "      <td>NaN</td>\n",
       "    </tr>\n",
       "    <tr>\n",
       "      <th>762</th>\n",
       "      <td>2004</td>\n",
       "      <td>2003-04</td>\n",
       "      <td>1610612739</td>\n",
       "      <td>Cleveland Cavaliers</td>\n",
       "      <td>2544</td>\n",
       "      <td>LeBron James</td>\n",
       "      <td>G</td>\n",
       "      <td>SG</td>\n",
       "      <td>10-29-2003</td>\n",
       "      <td>20300014</td>\n",
       "      <td>...</td>\n",
       "      <td>5</td>\n",
       "      <td>1</td>\n",
       "      <td>4</td>\n",
       "      <td>48</td>\n",
       "      <td>2003-10-29</td>\n",
       "      <td>3</td>\n",
       "      <td>1</td>\n",
       "      <td>5</td>\n",
       "      <td>0.750000</td>\n",
       "      <td>NaN</td>\n",
       "    </tr>\n",
       "    <tr>\n",
       "      <th>...</th>\n",
       "      <td>...</td>\n",
       "      <td>...</td>\n",
       "      <td>...</td>\n",
       "      <td>...</td>\n",
       "      <td>...</td>\n",
       "      <td>...</td>\n",
       "      <td>...</td>\n",
       "      <td>...</td>\n",
       "      <td>...</td>\n",
       "      <td>...</td>\n",
       "      <td>...</td>\n",
       "      <td>...</td>\n",
       "      <td>...</td>\n",
       "      <td>...</td>\n",
       "      <td>...</td>\n",
       "      <td>...</td>\n",
       "      <td>...</td>\n",
       "      <td>...</td>\n",
       "      <td>...</td>\n",
       "      <td>...</td>\n",
       "      <td>...</td>\n",
       "    </tr>\n",
       "    <tr>\n",
       "      <th>4230836</th>\n",
       "      <td>2024</td>\n",
       "      <td>2023-24</td>\n",
       "      <td>1610612747</td>\n",
       "      <td>Los Angeles Lakers</td>\n",
       "      <td>2544</td>\n",
       "      <td>LeBron James</td>\n",
       "      <td>F</td>\n",
       "      <td>PF</td>\n",
       "      <td>04-14-2024</td>\n",
       "      <td>22301195</td>\n",
       "      <td>...</td>\n",
       "      <td>24</td>\n",
       "      <td>4</td>\n",
       "      <td>7</td>\n",
       "      <td>10</td>\n",
       "      <td>2024-04-14</td>\n",
       "      <td>8</td>\n",
       "      <td>7</td>\n",
       "      <td>16</td>\n",
       "      <td>0.533333</td>\n",
       "      <td>0.6</td>\n",
       "    </tr>\n",
       "    <tr>\n",
       "      <th>4230842</th>\n",
       "      <td>2024</td>\n",
       "      <td>2023-24</td>\n",
       "      <td>1610612747</td>\n",
       "      <td>Los Angeles Lakers</td>\n",
       "      <td>2544</td>\n",
       "      <td>LeBron James</td>\n",
       "      <td>F</td>\n",
       "      <td>PF</td>\n",
       "      <td>04-14-2024</td>\n",
       "      <td>22301195</td>\n",
       "      <td>...</td>\n",
       "      <td>2</td>\n",
       "      <td>4</td>\n",
       "      <td>7</td>\n",
       "      <td>5</td>\n",
       "      <td>2024-04-14</td>\n",
       "      <td>8</td>\n",
       "      <td>8</td>\n",
       "      <td>17</td>\n",
       "      <td>0.500000</td>\n",
       "      <td>0.4</td>\n",
       "    </tr>\n",
       "    <tr>\n",
       "      <th>4230940</th>\n",
       "      <td>2024</td>\n",
       "      <td>2023-24</td>\n",
       "      <td>1610612747</td>\n",
       "      <td>Los Angeles Lakers</td>\n",
       "      <td>2544</td>\n",
       "      <td>LeBron James</td>\n",
       "      <td>F</td>\n",
       "      <td>PF</td>\n",
       "      <td>04-14-2024</td>\n",
       "      <td>22301195</td>\n",
       "      <td>...</td>\n",
       "      <td>1</td>\n",
       "      <td>4</td>\n",
       "      <td>5</td>\n",
       "      <td>18</td>\n",
       "      <td>2024-04-14</td>\n",
       "      <td>9</td>\n",
       "      <td>8</td>\n",
       "      <td>18</td>\n",
       "      <td>0.529412</td>\n",
       "      <td>0.6</td>\n",
       "    </tr>\n",
       "    <tr>\n",
       "      <th>4231011</th>\n",
       "      <td>2024</td>\n",
       "      <td>2023-24</td>\n",
       "      <td>1610612747</td>\n",
       "      <td>Los Angeles Lakers</td>\n",
       "      <td>2544</td>\n",
       "      <td>LeBron James</td>\n",
       "      <td>F</td>\n",
       "      <td>PF</td>\n",
       "      <td>04-14-2024</td>\n",
       "      <td>22301195</td>\n",
       "      <td>...</td>\n",
       "      <td>19</td>\n",
       "      <td>4</td>\n",
       "      <td>3</td>\n",
       "      <td>54</td>\n",
       "      <td>2024-04-14</td>\n",
       "      <td>10</td>\n",
       "      <td>8</td>\n",
       "      <td>19</td>\n",
       "      <td>0.555556</td>\n",
       "      <td>0.6</td>\n",
       "    </tr>\n",
       "    <tr>\n",
       "      <th>4231064</th>\n",
       "      <td>2024</td>\n",
       "      <td>2023-24</td>\n",
       "      <td>1610612747</td>\n",
       "      <td>Los Angeles Lakers</td>\n",
       "      <td>2544</td>\n",
       "      <td>LeBron James</td>\n",
       "      <td>F</td>\n",
       "      <td>PF</td>\n",
       "      <td>04-14-2024</td>\n",
       "      <td>22301195</td>\n",
       "      <td>...</td>\n",
       "      <td>0</td>\n",
       "      <td>4</td>\n",
       "      <td>3</td>\n",
       "      <td>0</td>\n",
       "      <td>2024-04-14</td>\n",
       "      <td>10</td>\n",
       "      <td>9</td>\n",
       "      <td>20</td>\n",
       "      <td>0.526316</td>\n",
       "      <td>0.4</td>\n",
       "    </tr>\n",
       "  </tbody>\n",
       "</table>\n",
       "<p>29311 rows × 32 columns</p>\n",
       "</div>"
      ],
      "text/plain": [
       "         SEASON_1 SEASON_2     TEAM_ID            TEAM_NAME  PLAYER_ID  \\\n",
       "585          2004  2003-04  1610612739  Cleveland Cavaliers       2544   \n",
       "636          2004  2003-04  1610612739  Cleveland Cavaliers       2544   \n",
       "671          2004  2003-04  1610612739  Cleveland Cavaliers       2544   \n",
       "696          2004  2003-04  1610612739  Cleveland Cavaliers       2544   \n",
       "762          2004  2003-04  1610612739  Cleveland Cavaliers       2544   \n",
       "...           ...      ...         ...                  ...        ...   \n",
       "4230836      2024  2023-24  1610612747   Los Angeles Lakers       2544   \n",
       "4230842      2024  2023-24  1610612747   Los Angeles Lakers       2544   \n",
       "4230940      2024  2023-24  1610612747   Los Angeles Lakers       2544   \n",
       "4231011      2024  2023-24  1610612747   Los Angeles Lakers       2544   \n",
       "4231064      2024  2023-24  1610612747   Los Angeles Lakers       2544   \n",
       "\n",
       "          PLAYER_NAME POSITION_GROUP POSITION   GAME_DATE   GAME_ID  ...  \\\n",
       "585      LeBron James              G       SG  10-29-2003  20300014  ...   \n",
       "636      LeBron James              G       SG  10-29-2003  20300014  ...   \n",
       "671      LeBron James              G       SG  10-29-2003  20300014  ...   \n",
       "696      LeBron James              G       SG  10-29-2003  20300014  ...   \n",
       "762      LeBron James              G       SG  10-29-2003  20300014  ...   \n",
       "...               ...            ...      ...         ...       ...  ...   \n",
       "4230836  LeBron James              F       PF  04-14-2024  22301195  ...   \n",
       "4230842  LeBron James              F       PF  04-14-2024  22301195  ...   \n",
       "4230940  LeBron James              F       PF  04-14-2024  22301195  ...   \n",
       "4231011  LeBron James              F       PF  04-14-2024  22301195  ...   \n",
       "4231064  LeBron James              F       PF  04-14-2024  22301195  ...   \n",
       "\n",
       "        SHOT_DISTANCE QUARTER MINS_LEFT  SECS_LEFT SORTABLE_DATE  \\\n",
       "585                15       1         8         56    2003-10-29   \n",
       "636                13       1         7         44    2003-10-29   \n",
       "671                16       1         7          1    2003-10-29   \n",
       "696                14       1         6         29    2003-10-29   \n",
       "762                 5       1         4         48    2003-10-29   \n",
       "...               ...     ...       ...        ...           ...   \n",
       "4230836            24       4         7         10    2024-04-14   \n",
       "4230842             2       4         7          5    2024-04-14   \n",
       "4230940             1       4         5         18    2024-04-14   \n",
       "4231011            19       4         3         54    2024-04-14   \n",
       "4231064             0       4         3          0    2024-04-14   \n",
       "\n",
       "        makes_in_game misses_in_game shot_seq shoot_pct last_5  \n",
       "585                 0              0        1  0.000000    NaN  \n",
       "636                 1              0        2  1.000000    NaN  \n",
       "671                 2              0        3  1.000000    NaN  \n",
       "696                 3              0        4  1.000000    NaN  \n",
       "762                 3              1        5  0.750000    NaN  \n",
       "...               ...            ...      ...       ...    ...  \n",
       "4230836             8              7       16  0.533333    0.6  \n",
       "4230842             8              8       17  0.500000    0.4  \n",
       "4230940             9              8       18  0.529412    0.6  \n",
       "4231011            10              8       19  0.555556    0.6  \n",
       "4231064            10              9       20  0.526316    0.4  \n",
       "\n",
       "[29311 rows x 32 columns]"
      ]
     },
     "execution_count": 21,
     "metadata": {},
     "output_type": "execute_result"
    }
   ],
   "source": [
    "lebron_shots"
   ]
  },
  {
   "cell_type": "markdown",
   "id": "80fe3c49",
   "metadata": {},
   "source": [
    "## LeSimulation 2\n",
    "\n",
    "Now I'm going to model what we saw in the last notebook, that Lebron's shooting percentage changes based on how many of his last five he's made."
   ]
  },
  {
   "cell_type": "code",
   "execution_count": 22,
   "id": "f923bf90",
   "metadata": {},
   "outputs": [],
   "source": [
    "# I just cut and pasted from the previous notebook...\n",
    "base_rate = .506192 # overall fg%\n",
    "\n",
    "last5 =  { # fg% based on number of makes in last 5 shots\n",
    "             0: .564612,\n",
    "             1: .507120,\n",
    "             2: .505937,\n",
    "             3: .496538,\n",
    "             4: .473849,\n",
    "             5: .464052\n",
    "        }\n",
    "\n",
    "le_simulation2 = streaky_players.LastFivePlayer(last5, base_rate)"
   ]
  },
  {
   "cell_type": "markdown",
   "id": "1e0678f4",
   "metadata": {},
   "source": [
    "I'll do 1,000 sims again, with this new version."
   ]
  },
  {
   "cell_type": "code",
   "execution_count": 23,
   "id": "25a14489",
   "metadata": {},
   "outputs": [],
   "source": [
    "le_results2 = sim_multiple(1000, le_simulation2, lebron_shots_by_game)\n"
   ]
  },
  {
   "cell_type": "code",
   "execution_count": 24,
   "id": "97b576cb",
   "metadata": {},
   "outputs": [
    {
     "data": {
      "image/png": "[encoded data removed]",
      "text/plain": [
       "<Figure size 640x480 with 1 Axes>"
      ]
     },
     "metadata": {},
     "output_type": "display_data"
    }
   ],
   "source": [
    "le_fake_career2 = summary_plot(le_results2, -4, 6)"
   ]
  },
  {
   "cell_type": "markdown",
   "id": "d6f296fc",
   "metadata": {},
   "source": [
    "So, it's pretty un-streaky. But ot's still not that close to the real thing. The max z_score in 1000 simulations is only 4.5, which doesn't come close to LeBron's actual 5.9 score."
   ]
  },
  {
   "cell_type": "code",
   "execution_count": 25,
   "id": "b3c0c398",
   "metadata": {},
   "outputs": [
    {
     "data": {
      "text/plain": [
       "count    1000.000000\n",
       "mean        1.596743\n",
       "std         0.999813\n",
       "min        -2.089457\n",
       "25%         0.915988\n",
       "50%         1.597707\n",
       "75%         2.249241\n",
       "max         4.893245\n",
       "Name: z_score, dtype: float64"
      ]
     },
     "execution_count": 25,
     "metadata": {},
     "output_type": "execute_result"
    }
   ],
   "source": [
    "le_fake_career2.z_score.describe()"
   ]
  },
  {
   "cell_type": "markdown",
   "id": "9d79524f",
   "metadata": {},
   "source": [
    "## LeSimulation3\n",
    "\n",
    "While I'm messing around, what about a fake player where the streaks don't reset between games? That should make the fake player even more unstreaky.\n",
    "\n",
    "As a fast test, I will just knock out the `end_game` function that would normally reset the shooting history. After the 5th shot of his career, every shot will be influenced by the previous 5 shots, even if they happened in the previous game."
   ]
  },
  {
   "cell_type": "code",
   "execution_count": 26,
   "id": "8cbeb3a8",
   "metadata": {},
   "outputs": [],
   "source": [
    "le_simulation3 = streaky_players.LastFivePlayer(last5, base_rate)\n",
    "\n",
    "def le_no_op(*args):\n",
    "    pass\n",
    "\n",
    "#LeMonkeyPatch\n",
    "le_simulation3.end_game = le_no_op"
   ]
  },
  {
   "cell_type": "code",
   "execution_count": 27,
   "id": "f89a0d27",
   "metadata": {},
   "outputs": [],
   "source": [
    "le_results3 = sim_multiple(1000, le_simulation3, lebron_shots_by_game)"
   ]
  },
  {
   "cell_type": "code",
   "execution_count": 28,
   "id": "7c7e950e",
   "metadata": {},
   "outputs": [
    {
     "data": {
      "image/png": "[encoded data removed]",
      "text/plain": [
       "<Figure size 640x480 with 1 Axes>"
      ]
     },
     "metadata": {},
     "output_type": "display_data"
    }
   ],
   "source": [
    "le_fake_career3 = summary_plot(le_results3, -4, 6)"
   ]
  },
  {
   "cell_type": "markdown",
   "id": "74c0d49e",
   "metadata": {},
   "source": [
    "yeah, so the mean went from 1.6 to 2.2, and the max z score went from 4.5 to 5.1. That's still not nearly unstreaky enough to match LeReal LeBron."
   ]
  },
  {
   "cell_type": "code",
   "execution_count": 29,
   "id": "baae595c",
   "metadata": {},
   "outputs": [
    {
     "data": {
      "text/plain": [
       "count    1000.000000\n",
       "mean        2.214100\n",
       "std         0.987818\n",
       "min        -0.562358\n",
       "25%         1.549498\n",
       "50%         2.220514\n",
       "75%         2.861791\n",
       "max         5.619004\n",
       "Name: z_score, dtype: float64"
      ]
     },
     "execution_count": 29,
     "metadata": {},
     "output_type": "execute_result"
    }
   ],
   "source": [
    "le_fake_career3.z_score.describe()"
   ]
  },
  {
   "cell_type": "markdown",
   "id": "e443010d",
   "metadata": {},
   "source": [
    "it's possible that if we tracked the last 7 shots, or 9, instead of 5, we would see even more of a dramatic change in fg%age. Or there's some other factor I haven't considered that is adding unstreakiness, such as the fact that his fg%age tends to go down the more shots he's taken in a game."
   ]
  },
  {
   "cell_type": "markdown",
   "id": "73feeab6",
   "metadata": {},
   "source": [
    "## Do other players have the same pattern as LeBron?\n",
    "\n",
    "At the end of the last notebook, I found that players with a high Z score tend to have the same trend as LeBron in aggregate. But some high Z scores should be due to chance alone. Can we \"fingerprint\" the players that behave similar to LeBron?\n",
    "\n",
    "There is a more sensible way of measuring similarity, which I will get to, but first my crazy thing."
   ]
  },
  {
   "cell_type": "code",
   "execution_count": null,
   "id": "03b8aca2",
   "metadata": {},
   "outputs": [],
   "source": [
    "def get_last_fives(shots):\n",
    "\n",
    "    number_cols = ['0', '1', '2', '3', '4', '5']\n",
    "    all_last_fives = pd.DataFrame(columns=number_cols)\n",
    "\n",
    "    n_failed = 0\n",
    "    n_success = 0\n",
    "\n",
    "    for player_id, data in shots.groupby(\"PLAYER_ID\"):\n",
    "        player_percents = (data.groupby(\"last_5\")[\"SHOT_MADE\"].value_counts() / \n",
    "                        data.groupby(\"last_5\")[\"last_5\"].value_counts())\n",
    "\n",
    "        # I am going to skip players that don't have all 6 values\n",
    "        # there is probably a less silly way of doing this, but I am tired\n",
    "        if len(player_percents) == 12:\n",
    "            all_last_fives.loc[player_id,:] = player_percents[:,True].values\n",
    "            n_success += 1\n",
    "        else:\n",
    "            n_failed += 1\n",
    "\n",
    "        #all_last_fives[player_id] = player_percents\n",
    "    return all_last_fives\n",
    "\n",
    "all_last_fives = get_last_fives(aug)"
   ]
  },
  {
   "cell_type": "markdown",
   "id": "480b3dc3",
   "metadata": {},
   "source": [
    "so we're looking for players where the FG% steadily goes down, but there could be some noise. I can look at players where 4 out of 5 are decreasing. \n",
    "\n",
    "then I can look at those players' career z-scores."
   ]
  },
  {
   "cell_type": "code",
   "execution_count": 31,
   "id": "ae689eb6",
   "metadata": {},
   "outputs": [],
   "source": [
    "all_last_fives['diffs'] = all_last_fives['0'] - all_last_fives['5']\n",
    "\n",
    "comps = [(all_last_fives['0'] > all_last_fives['1']), \n",
    "        (all_last_fives['1'] > all_last_fives['2']), \n",
    "        (all_last_fives['2'] > all_last_fives['3']), \n",
    "        (all_last_fives['3'] > all_last_fives['4']),\n",
    "        (all_last_fives['4'] > all_last_fives['5'])]\n",
    "\n",
    "# at least 4 out of 5 are decreasing\n",
    "lebron_esque = all_last_fives[(sum(comps) >= 4)]"
   ]
  },
  {
   "cell_type": "code",
   "execution_count": 32,
   "id": "85354cdd",
   "metadata": {},
   "outputs": [
    {
     "name": "stdout",
     "output_type": "stream",
     "text": [
      "181\n"
     ]
    }
   ],
   "source": [
    "some_guys = aug[aug.PLAYER_ID.isin(lebron_esque.index)].PLAYER_NAME.unique()\n",
    "print(len(some_guys))"
   ]
  },
  {
   "cell_type": "code",
   "execution_count": 33,
   "id": "8dacad1d",
   "metadata": {},
   "outputs": [
    {
     "data": {
      "text/plain": [
       "array(['Karl Malone', 'Dirk Nowitzki', 'Antawn Jamison',\n",
       "       'Anfernee Hardaway', 'Brevin Knight', 'Tony Delk', 'Tracy McGrady',\n",
       "       'Jarvis Hayes', 'Shareef Abdur-Rahim', 'Kenyon Martin',\n",
       "       'Peja Stojakovic', 'Richard Hamilton', 'Michael Redd',\n",
       "       'Ben Wallace', 'Erick Dampier', 'Jamaal Magloire', 'Larry Hughes',\n",
       "       'Stephen Jackson', 'Zach Randolph', 'Bonzi Wells',\n",
       "       'Latrell Sprewell', 'LeBron James', 'David Wesley',\n",
       "       'Calbert Cheaney', 'Brendan Haywood', 'Brian Skinner',\n",
       "       'Carlos Arroyo', 'Jalen Rose', 'Damon Stoudamire',\n",
       "       'Tayshaun Prince', 'Marcus Banks', 'Raja Bell', 'Ruben Patterson',\n",
       "       'Juan Dixon', 'Darius Songaila', 'Rashard Lewis', 'Flip Murray',\n",
       "       'Keyon Dooling', 'Eddie House', 'Jason Kapono', 'Pau Gasol',\n",
       "       'Jason Williams', 'Keith McLeod', 'Earl Watson', 'Melvin Ely',\n",
       "       'Jason Hart', 'Caron Butler', 'Dahntay Jones', 'Jerry Stackhouse',\n",
       "       'Devin Harris', 'Carlos Delfino', 'Grant Hill', 'JR Smith',\n",
       "       'Tony Allen', 'Bernard Robinson', 'Andres Nocioni', 'Ben Gordon',\n",
       "       'Delonte West', 'Charlie Bell', 'Francisco Garcia',\n",
       "       'Marvin Williams', 'Charlie Villanueva', 'Ryan Gomes',\n",
       "       'Jose Calderon', 'Deron Williams', 'Channing Frye',\n",
       "       'Martell Webster', 'Rudy Gay', 'Mickael Gelabale', 'Kyle Lowry',\n",
       "       'Shannon Brown', 'JJ Redick', 'Luis Scola', 'Corey Brewer',\n",
       "       'Jared Dudley', 'Jamario Moon', 'Spencer Hawes', 'Ramon Sessions',\n",
       "       'Jerryd Bayless', 'Nicolas Batum', 'Mario Chalmers', 'O.J. Mayo',\n",
       "       'Brandon Rush', 'Goran Dragic', 'Kevin Love', 'DeMar DeRozan',\n",
       "       'Jonny Flynn', 'DeJuan Blair', 'Jeff Teague', 'Ty Lawson',\n",
       "       'Gerald Henderson', 'Jonas Jerebko', 'Patty Mills',\n",
       "       'Blake Griffin', 'Nikola Pekovic', 'Eric Bledsoe', 'Trevor Booker',\n",
       "       'Ed Davis', 'Norris Cole', 'Kawhi Leonard', 'Tristan Thompson',\n",
       "       'Marcus Morris Sr.', 'Derrick Williams', 'Isaiah Thomas',\n",
       "       'Shelvin Mack', 'Nikola Vucevic', 'Donald Sloan', 'Dion Waiters',\n",
       "       'Bradley Beal', 'Jae Crowder', 'Harrison Barnes', 'Terrence Ross',\n",
       "       'Darius Miller', 'Meyers Leonard', 'Evan Fournier',\n",
       "       'Michael Kidd-Gilchrist', \"Kyle O'Quinn\", 'Will Barton',\n",
       "       'Robert Sacre', 'Mirza Teletovic', 'John Henson',\n",
       "       'Patrick Beverley', 'Dennis Schroder', 'Steven Adams',\n",
       "       'CJ McCollum', 'Andrew Wiggins', 'Spencer Dinwiddie',\n",
       "       'Marcus Smart', 'Joe Harris', 'Nemanja Bjelica', 'Mario Hezonja',\n",
       "       'Rondae Hollis-Jefferson', 'Terry Rozier', 'Myles Turner',\n",
       "       'Pat Connaughton', 'Delon Wright', 'Norman Powell',\n",
       "       'Kelly Oubre Jr.', 'Jaylen Brown', 'Tyler Ulis', 'Bryn Forbes',\n",
       "       'Jake Layman', 'Jayson Tatum', 'Donovan Mitchell',\n",
       "       'Markelle Fultz', 'Dillon Brooks', 'Lauri Markkanen',\n",
       "       'Sterling Brown', 'Monte Morris', 'Landry Shamet',\n",
       "       'Marvin Bagley III', 'Donte DiVincenzo', 'Jalen Brunson',\n",
       "       'Kevin Huerter', 'Frank Jackson', \"Devonte' Graham\", 'Tyler Herro',\n",
       "       'Darius Garland', 'Grant Williams', 'Cam Reddish', 'Nassir Little',\n",
       "       'Jalen McDaniels', 'Michael Porter Jr.', 'Talen Horton-Tucker',\n",
       "       'Anthony Edwards', 'Desmond Bane', 'LaMelo Ball', 'Jalen Smith',\n",
       "       'Naji Marshall', 'Cam Thomas', 'Josh Giddey', 'Corey Kispert',\n",
       "       'Brandon Boston', 'Jonathan Kuminga', 'Duane Washington Jr.',\n",
       "       'Aaron Wiggins', 'Jaden Ivey', 'Jeremy Sochan',\n",
       "       'Brandon Boston Jr.', 'Victor Wembanyama', 'Brandon Miller'],\n",
       "      dtype=object)"
      ]
     },
     "execution_count": 33,
     "metadata": {},
     "output_type": "execute_result"
    }
   ],
   "source": [
    "some_guys"
   ]
  },
  {
   "cell_type": "code",
   "execution_count": 34,
   "id": "2071cc94",
   "metadata": {},
   "outputs": [],
   "source": [
    "import season_streaks\n",
    "all_players = season_streaks.get_all_player_streaks()"
   ]
  },
  {
   "cell_type": "markdown",
   "id": "b5bab115",
   "metadata": {},
   "source": [
    "I will exclude LeBron himself"
   ]
  },
  {
   "cell_type": "code",
   "execution_count": null,
   "id": "ef031ee1",
   "metadata": {},
   "outputs": [],
   "source": [
    "lebronlike_careers = all_players[all_players.player_id.isin(lebron_esque.index) & \n",
    "                                 (all_players.player_id != 2544)]"
   ]
  },
  {
   "cell_type": "markdown",
   "id": "0a2790f0",
   "metadata": {},
   "source": [
    "yeah, so the z-scores of the 180 or so \"lebronesque\" players are definitely higher, even compared to all players with a high volume of makes."
   ]
  },
  {
   "cell_type": "code",
   "execution_count": 36,
   "id": "442217e3",
   "metadata": {},
   "outputs": [
    {
     "data": {
      "text/plain": [
       "count    179.000000\n",
       "mean       1.004496\n",
       "std        1.310922\n",
       "min       -3.013187\n",
       "25%        0.225977\n",
       "50%        1.101983\n",
       "75%        1.859693\n",
       "max        4.061129\n",
       "Name: z_score, dtype: float64"
      ]
     },
     "execution_count": 36,
     "metadata": {},
     "output_type": "execute_result"
    }
   ],
   "source": [
    "lebronlike_careers.z_score.describe()"
   ]
  },
  {
   "cell_type": "code",
   "execution_count": 37,
   "id": "2c4d5450",
   "metadata": {},
   "outputs": [
    {
     "data": {
      "text/plain": [
       "count    2103.000000\n",
       "mean        0.308491\n",
       "std         1.129632\n",
       "min        -3.977309\n",
       "25%        -0.449784\n",
       "50%         0.340279\n",
       "75%         1.017736\n",
       "max         5.897434\n",
       "Name: z_score, dtype: float64"
      ]
     },
     "execution_count": 37,
     "metadata": {},
     "output_type": "execute_result"
    }
   ],
   "source": [
    "all_players.z_score.describe()"
   ]
  },
  {
   "cell_type": "code",
   "execution_count": 38,
   "id": "6bedcaa5",
   "metadata": {},
   "outputs": [
    {
     "data": {
      "text/plain": [
       "count    609.000000\n",
       "mean       0.740040\n",
       "std        1.281727\n",
       "min       -3.977309\n",
       "25%       -0.047482\n",
       "50%        0.682940\n",
       "75%        1.531438\n",
       "max        5.897434\n",
       "Name: z_score, dtype: float64"
      ]
     },
     "execution_count": 38,
     "metadata": {},
     "output_type": "execute_result"
    }
   ],
   "source": [
    "all_players[all_players.makes > 1000].z_score.describe()"
   ]
  },
  {
   "cell_type": "markdown",
   "id": "142a706b",
   "metadata": {},
   "source": [
    "what about players where all 5 are decreasing?"
   ]
  },
  {
   "cell_type": "code",
   "execution_count": 39,
   "id": "01455626",
   "metadata": {},
   "outputs": [],
   "source": [
    "super_lebron_esque = all_last_fives[sum(comps) ==5]"
   ]
  },
  {
   "cell_type": "code",
   "execution_count": 40,
   "id": "39efa1b6",
   "metadata": {},
   "outputs": [
    {
     "data": {
      "text/html": [
       "<div>\n",
       "<style scoped>\n",
       "    .dataframe tbody tr th:only-of-type {\n",
       "        vertical-align: middle;\n",
       "    }\n",
       "\n",
       "    .dataframe tbody tr th {\n",
       "        vertical-align: top;\n",
       "    }\n",
       "\n",
       "    .dataframe thead th {\n",
       "        text-align: right;\n",
       "    }\n",
       "</style>\n",
       "<table border=\"1\" class=\"dataframe\">\n",
       "  <thead>\n",
       "    <tr style=\"text-align: right;\">\n",
       "      <th></th>\n",
       "      <th>0</th>\n",
       "      <th>1</th>\n",
       "      <th>2</th>\n",
       "      <th>3</th>\n",
       "      <th>4</th>\n",
       "      <th>5</th>\n",
       "      <th>diffs</th>\n",
       "    </tr>\n",
       "  </thead>\n",
       "  <tbody>\n",
       "    <tr>\n",
       "      <th>252</th>\n",
       "      <td>0.666667</td>\n",
       "      <td>0.585366</td>\n",
       "      <td>0.508197</td>\n",
       "      <td>0.440678</td>\n",
       "      <td>0.36</td>\n",
       "      <td>0.333333</td>\n",
       "      <td>0.333333</td>\n",
       "    </tr>\n",
       "    <tr>\n",
       "      <th>255</th>\n",
       "      <td>0.57971</td>\n",
       "      <td>0.514493</td>\n",
       "      <td>0.504556</td>\n",
       "      <td>0.495763</td>\n",
       "      <td>0.444685</td>\n",
       "      <td>0.440476</td>\n",
       "      <td>0.139234</td>\n",
       "    </tr>\n",
       "    <tr>\n",
       "      <th>1112</th>\n",
       "      <td>0.633333</td>\n",
       "      <td>0.538012</td>\n",
       "      <td>0.479893</td>\n",
       "      <td>0.465704</td>\n",
       "      <td>0.425926</td>\n",
       "      <td>0.4</td>\n",
       "      <td>0.233333</td>\n",
       "    </tr>\n",
       "    <tr>\n",
       "      <th>2067</th>\n",
       "      <td>0.515625</td>\n",
       "      <td>0.418367</td>\n",
       "      <td>0.400802</td>\n",
       "      <td>0.392202</td>\n",
       "      <td>0.338028</td>\n",
       "      <td>0.333333</td>\n",
       "      <td>0.182292</td>\n",
       "    </tr>\n",
       "    <tr>\n",
       "      <th>2072</th>\n",
       "      <td>0.553672</td>\n",
       "      <td>0.457534</td>\n",
       "      <td>0.447556</td>\n",
       "      <td>0.431164</td>\n",
       "      <td>0.385643</td>\n",
       "      <td>0.376812</td>\n",
       "      <td>0.176861</td>\n",
       "    </tr>\n",
       "    <tr>\n",
       "      <th>2544</th>\n",
       "      <td>0.564612</td>\n",
       "      <td>0.50712</td>\n",
       "      <td>0.505937</td>\n",
       "      <td>0.496538</td>\n",
       "      <td>0.473849</td>\n",
       "      <td>0.464052</td>\n",
       "      <td>0.10056</td>\n",
       "    </tr>\n",
       "    <tr>\n",
       "      <th>2553</th>\n",
       "      <td>0.506667</td>\n",
       "      <td>0.435374</td>\n",
       "      <td>0.4197</td>\n",
       "      <td>0.394015</td>\n",
       "      <td>0.301587</td>\n",
       "      <td>0.266667</td>\n",
       "      <td>0.24</td>\n",
       "    </tr>\n",
       "    <tr>\n",
       "      <th>2804</th>\n",
       "      <td>0.47619</td>\n",
       "      <td>0.458647</td>\n",
       "      <td>0.441054</td>\n",
       "      <td>0.423756</td>\n",
       "      <td>0.360996</td>\n",
       "      <td>0.277778</td>\n",
       "      <td>0.198413</td>\n",
       "    </tr>\n",
       "    <tr>\n",
       "      <th>200755</th>\n",
       "      <td>0.5</td>\n",
       "      <td>0.448017</td>\n",
       "      <td>0.44494</td>\n",
       "      <td>0.425136</td>\n",
       "      <td>0.415061</td>\n",
       "      <td>0.328767</td>\n",
       "      <td>0.171233</td>\n",
       "    </tr>\n",
       "    <tr>\n",
       "      <th>201587</th>\n",
       "      <td>0.47486</td>\n",
       "      <td>0.458839</td>\n",
       "      <td>0.429907</td>\n",
       "      <td>0.429046</td>\n",
       "      <td>0.425963</td>\n",
       "      <td>0.394366</td>\n",
       "      <td>0.080494</td>\n",
       "    </tr>\n",
       "    <tr>\n",
       "      <th>201609</th>\n",
       "      <td>0.535032</td>\n",
       "      <td>0.479693</td>\n",
       "      <td>0.446831</td>\n",
       "      <td>0.445831</td>\n",
       "      <td>0.416315</td>\n",
       "      <td>0.375</td>\n",
       "      <td>0.160032</td>\n",
       "    </tr>\n",
       "    <tr>\n",
       "      <th>201942</th>\n",
       "      <td>0.485714</td>\n",
       "      <td>0.476839</td>\n",
       "      <td>0.469822</td>\n",
       "      <td>0.458505</td>\n",
       "      <td>0.45848</td>\n",
       "      <td>0.419231</td>\n",
       "      <td>0.066484</td>\n",
       "    </tr>\n",
       "    <tr>\n",
       "      <th>201976</th>\n",
       "      <td>0.481013</td>\n",
       "      <td>0.432292</td>\n",
       "      <td>0.407643</td>\n",
       "      <td>0.396985</td>\n",
       "      <td>0.364964</td>\n",
       "      <td>0.166667</td>\n",
       "      <td>0.314346</td>\n",
       "    </tr>\n",
       "    <tr>\n",
       "      <th>202694</th>\n",
       "      <td>0.502463</td>\n",
       "      <td>0.440315</td>\n",
       "      <td>0.439503</td>\n",
       "      <td>0.436653</td>\n",
       "      <td>0.403614</td>\n",
       "      <td>0.385965</td>\n",
       "      <td>0.116498</td>\n",
       "    </tr>\n",
       "    <tr>\n",
       "      <th>203078</th>\n",
       "      <td>0.484848</td>\n",
       "      <td>0.467895</td>\n",
       "      <td>0.454746</td>\n",
       "      <td>0.45142</td>\n",
       "      <td>0.449876</td>\n",
       "      <td>0.442529</td>\n",
       "      <td>0.04232</td>\n",
       "    </tr>\n",
       "    <tr>\n",
       "      <th>1626162</th>\n",
       "      <td>0.527607</td>\n",
       "      <td>0.453995</td>\n",
       "      <td>0.434049</td>\n",
       "      <td>0.429869</td>\n",
       "      <td>0.429668</td>\n",
       "      <td>0.282051</td>\n",
       "      <td>0.245556</td>\n",
       "    </tr>\n",
       "    <tr>\n",
       "      <th>1626181</th>\n",
       "      <td>0.567164</td>\n",
       "      <td>0.528846</td>\n",
       "      <td>0.491192</td>\n",
       "      <td>0.46088</td>\n",
       "      <td>0.448171</td>\n",
       "      <td>0.442308</td>\n",
       "      <td>0.124856</td>\n",
       "    </tr>\n",
       "    <tr>\n",
       "      <th>1628978</th>\n",
       "      <td>0.519231</td>\n",
       "      <td>0.457627</td>\n",
       "      <td>0.440678</td>\n",
       "      <td>0.415816</td>\n",
       "      <td>0.364198</td>\n",
       "      <td>0.25</td>\n",
       "      <td>0.269231</td>\n",
       "    </tr>\n",
       "    <tr>\n",
       "      <th>1629013</th>\n",
       "      <td>0.472222</td>\n",
       "      <td>0.448454</td>\n",
       "      <td>0.424242</td>\n",
       "      <td>0.395918</td>\n",
       "      <td>0.381579</td>\n",
       "      <td>0.111111</td>\n",
       "      <td>0.361111</td>\n",
       "    </tr>\n",
       "  </tbody>\n",
       "</table>\n",
       "</div>"
      ],
      "text/plain": [
       "                0         1         2         3         4         5     diffs\n",
       "252      0.666667  0.585366  0.508197  0.440678      0.36  0.333333  0.333333\n",
       "255       0.57971  0.514493  0.504556  0.495763  0.444685  0.440476  0.139234\n",
       "1112     0.633333  0.538012  0.479893  0.465704  0.425926       0.4  0.233333\n",
       "2067     0.515625  0.418367  0.400802  0.392202  0.338028  0.333333  0.182292\n",
       "2072     0.553672  0.457534  0.447556  0.431164  0.385643  0.376812  0.176861\n",
       "2544     0.564612   0.50712  0.505937  0.496538  0.473849  0.464052   0.10056\n",
       "2553     0.506667  0.435374    0.4197  0.394015  0.301587  0.266667      0.24\n",
       "2804      0.47619  0.458647  0.441054  0.423756  0.360996  0.277778  0.198413\n",
       "200755        0.5  0.448017   0.44494  0.425136  0.415061  0.328767  0.171233\n",
       "201587    0.47486  0.458839  0.429907  0.429046  0.425963  0.394366  0.080494\n",
       "201609   0.535032  0.479693  0.446831  0.445831  0.416315     0.375  0.160032\n",
       "201942   0.485714  0.476839  0.469822  0.458505   0.45848  0.419231  0.066484\n",
       "201976   0.481013  0.432292  0.407643  0.396985  0.364964  0.166667  0.314346\n",
       "202694   0.502463  0.440315  0.439503  0.436653  0.403614  0.385965  0.116498\n",
       "203078   0.484848  0.467895  0.454746   0.45142  0.449876  0.442529   0.04232\n",
       "1626162  0.527607  0.453995  0.434049  0.429869  0.429668  0.282051  0.245556\n",
       "1626181  0.567164  0.528846  0.491192   0.46088  0.448171  0.442308  0.124856\n",
       "1628978  0.519231  0.457627  0.440678  0.415816  0.364198      0.25  0.269231\n",
       "1629013  0.472222  0.448454  0.424242  0.395918  0.381579  0.111111  0.361111"
      ]
     },
     "execution_count": 40,
     "metadata": {},
     "output_type": "execute_result"
    }
   ],
   "source": [
    "super_lebron_esque"
   ]
  },
  {
   "cell_type": "code",
   "execution_count": null,
   "id": "81219bdb",
   "metadata": {},
   "outputs": [],
   "source": [
    "super_lebron_careers = all_players.loc[all_players.player_id.isin(super_lebron_esque.index) & \n",
    "                                       (all_players.player_id != 2544)]"
   ]
  },
  {
   "cell_type": "code",
   "execution_count": 42,
   "id": "c5f09ef1",
   "metadata": {},
   "outputs": [
    {
     "data": {
      "text/plain": [
       "count    18.000000\n",
       "mean      1.474963\n",
       "std       1.118765\n",
       "min      -0.271301\n",
       "25%       0.624344\n",
       "50%       1.468939\n",
       "75%       2.157934\n",
       "max       3.706956\n",
       "Name: z_score, dtype: float64"
      ]
     },
     "execution_count": 42,
     "metadata": {},
     "output_type": "execute_result"
    }
   ],
   "source": [
    "super_lebron_careers.z_score.describe()"
   ]
  },
  {
   "cell_type": "markdown",
   "id": "10f028be",
   "metadata": {},
   "source": [
    "there are 18 players that match. Except for Dragic, none of them have exceptional z scores, and one even has a negative z-score. In aggregate, they are much more unstreaky than the average player, but they're not the outliers I'm looking for."
   ]
  },
  {
   "cell_type": "code",
   "execution_count": 43,
   "id": "d36034dd",
   "metadata": {},
   "outputs": [
    {
     "data": {
      "text/html": [
       "<div>\n",
       "<style scoped>\n",
       "    .dataframe tbody tr th:only-of-type {\n",
       "        vertical-align: middle;\n",
       "    }\n",
       "\n",
       "    .dataframe tbody tr th {\n",
       "        vertical-align: top;\n",
       "    }\n",
       "\n",
       "    .dataframe thead th {\n",
       "        text-align: right;\n",
       "    }\n",
       "</style>\n",
       "<table border=\"1\" class=\"dataframe\">\n",
       "  <thead>\n",
       "    <tr style=\"text-align: right;\">\n",
       "      <th></th>\n",
       "      <th>player_id</th>\n",
       "      <th>player_name</th>\n",
       "      <th>z_score</th>\n",
       "    </tr>\n",
       "  </thead>\n",
       "  <tbody>\n",
       "    <tr>\n",
       "      <th>823</th>\n",
       "      <td>201609</td>\n",
       "      <td>Goran Dragic</td>\n",
       "      <td>3.706956</td>\n",
       "    </tr>\n",
       "    <tr>\n",
       "      <th>299</th>\n",
       "      <td>2072</td>\n",
       "      <td>Michael Redd</td>\n",
       "      <td>2.989043</td>\n",
       "    </tr>\n",
       "    <tr>\n",
       "      <th>1318</th>\n",
       "      <td>1626162</td>\n",
       "      <td>Kelly Oubre Jr.</td>\n",
       "      <td>2.796255</td>\n",
       "    </tr>\n",
       "    <tr>\n",
       "      <th>852</th>\n",
       "      <td>201942</td>\n",
       "      <td>DeMar DeRozan</td>\n",
       "      <td>2.696541</td>\n",
       "    </tr>\n",
       "    <tr>\n",
       "      <th>1622</th>\n",
       "      <td>1629013</td>\n",
       "      <td>Landry Shamet</td>\n",
       "      <td>2.243446</td>\n",
       "    </tr>\n",
       "    <tr>\n",
       "      <th>884</th>\n",
       "      <td>201976</td>\n",
       "      <td>Patrick Beverley</td>\n",
       "      <td>1.901400</td>\n",
       "    </tr>\n",
       "    <tr>\n",
       "      <th>1592</th>\n",
       "      <td>1628978</td>\n",
       "      <td>Donte DiVincenzo</td>\n",
       "      <td>1.871023</td>\n",
       "    </tr>\n",
       "    <tr>\n",
       "      <th>804</th>\n",
       "      <td>201587</td>\n",
       "      <td>Nicolas Batum</td>\n",
       "      <td>1.614275</td>\n",
       "    </tr>\n",
       "    <tr>\n",
       "      <th>425</th>\n",
       "      <td>2553</td>\n",
       "      <td>Jarvis Hayes</td>\n",
       "      <td>1.549498</td>\n",
       "    </tr>\n",
       "    <tr>\n",
       "      <th>28</th>\n",
       "      <td>255</td>\n",
       "      <td>Grant Hill</td>\n",
       "      <td>1.388380</td>\n",
       "    </tr>\n",
       "    <tr>\n",
       "      <th>1052</th>\n",
       "      <td>203078</td>\n",
       "      <td>Bradley Beal</td>\n",
       "      <td>1.369832</td>\n",
       "    </tr>\n",
       "    <tr>\n",
       "      <th>648</th>\n",
       "      <td>200755</td>\n",
       "      <td>JJ Redick</td>\n",
       "      <td>0.826053</td>\n",
       "    </tr>\n",
       "    <tr>\n",
       "      <th>144</th>\n",
       "      <td>1112</td>\n",
       "      <td>Ben Wallace</td>\n",
       "      <td>0.688079</td>\n",
       "    </tr>\n",
       "    <tr>\n",
       "      <th>298</th>\n",
       "      <td>2067</td>\n",
       "      <td>Eddie House</td>\n",
       "      <td>0.603099</td>\n",
       "    </tr>\n",
       "    <tr>\n",
       "      <th>993</th>\n",
       "      <td>202694</td>\n",
       "      <td>Marcus Morris Sr.</td>\n",
       "      <td>0.226364</td>\n",
       "    </tr>\n",
       "    <tr>\n",
       "      <th>1335</th>\n",
       "      <td>1626181</td>\n",
       "      <td>Norman Powell</td>\n",
       "      <td>0.225589</td>\n",
       "    </tr>\n",
       "    <tr>\n",
       "      <th>27</th>\n",
       "      <td>252</td>\n",
       "      <td>Karl Malone</td>\n",
       "      <td>0.124810</td>\n",
       "    </tr>\n",
       "    <tr>\n",
       "      <th>532</th>\n",
       "      <td>2804</td>\n",
       "      <td>Andres Nocioni</td>\n",
       "      <td>-0.271301</td>\n",
       "    </tr>\n",
       "  </tbody>\n",
       "</table>\n",
       "</div>"
      ],
      "text/plain": [
       "      player_id        player_name   z_score\n",
       "823      201609       Goran Dragic  3.706956\n",
       "299        2072       Michael Redd  2.989043\n",
       "1318    1626162    Kelly Oubre Jr.  2.796255\n",
       "852      201942      DeMar DeRozan  2.696541\n",
       "1622    1629013      Landry Shamet  2.243446\n",
       "884      201976   Patrick Beverley  1.901400\n",
       "1592    1628978   Donte DiVincenzo  1.871023\n",
       "804      201587      Nicolas Batum  1.614275\n",
       "425        2553       Jarvis Hayes  1.549498\n",
       "28          255         Grant Hill  1.388380\n",
       "1052     203078       Bradley Beal  1.369832\n",
       "648      200755          JJ Redick  0.826053\n",
       "144        1112        Ben Wallace  0.688079\n",
       "298        2067        Eddie House  0.603099\n",
       "993      202694  Marcus Morris Sr.  0.226364\n",
       "1335    1626181      Norman Powell  0.225589\n",
       "27          252        Karl Malone  0.124810\n",
       "532        2804     Andres Nocioni -0.271301"
      ]
     },
     "execution_count": 43,
     "metadata": {},
     "output_type": "execute_result"
    }
   ],
   "source": [
    "super_lebron_careers[[\"player_id\", \"player_name\", \"z_score\"]].sort_values(\"z_score\", ascending=False)"
   ]
  },
  {
   "cell_type": "markdown",
   "id": "a443b10d",
   "metadata": {},
   "source": [
    "note -- this is old ass Karl Malone in his last season (2004-2005) so a small sample size"
   ]
  },
  {
   "cell_type": "code",
   "execution_count": 70,
   "id": "a7f51514",
   "metadata": {},
   "outputs": [
    {
     "data": {
      "text/plain": [
       "'Karl Malone, Grant Hill, Ben Wallace, Eddie House, Michael Redd, Jarvis Hayes, Andres Nocioni, JJ Redick, Nicolas Batum, Goran Dragic, DeMar DeRozan, Patrick Beverley, Marcus Morris Sr., Bradley Beal, Kelly Oubre Jr., Norman Powell, Donte DiVincenzo, Landry Shamet'"
      ]
     },
     "execution_count": 70,
     "metadata": {},
     "output_type": "execute_result"
    }
   ],
   "source": [
    "\", \".join(super_lebron_careers.player_name)"
   ]
  },
  {
   "cell_type": "code",
   "execution_count": 45,
   "id": "0400cd9b",
   "metadata": {},
   "outputs": [
    {
     "data": {
      "text/plain": [
       "player_name                                               Karl Malone\n",
       "makes                                                             193\n",
       "misses                                                            207\n",
       "total_streaks                                                     202\n",
       "raw_data            WWWLWLWLLLLWLLWLWWLWLWLWLLLWWWLWLLWWLWLLLLWLLL...\n",
       "expected_streaks                                              200.755\n",
       "variance                                                    99.504524\n",
       "sd                                                           9.975195\n",
       "z_score                                                       0.12481\n",
       "ww_percentile                                               54.966285\n",
       "0                                                            0.666667\n",
       "1                                                            0.585366\n",
       "2                                                            0.508197\n",
       "3                                                            0.440678\n",
       "4                                                                0.36\n",
       "5                                                            0.333333\n",
       "diffs                                                        0.333333\n",
       "Name: 252, dtype: object"
      ]
     },
     "execution_count": 45,
     "metadata": {},
     "output_type": "execute_result"
    }
   ],
   "source": [
    "super_lebron_careers.set_index(\"player_id\").join(all_last_fives).loc[252]"
   ]
  },
  {
   "cell_type": "code",
   "execution_count": 46,
   "id": "415363cf",
   "metadata": {},
   "outputs": [
    {
     "data": {
      "text/html": [
       "<div>\n",
       "<style scoped>\n",
       "    .dataframe tbody tr th:only-of-type {\n",
       "        vertical-align: middle;\n",
       "    }\n",
       "\n",
       "    .dataframe tbody tr th {\n",
       "        vertical-align: top;\n",
       "    }\n",
       "\n",
       "    .dataframe thead th {\n",
       "        text-align: right;\n",
       "    }\n",
       "</style>\n",
       "<table border=\"1\" class=\"dataframe\">\n",
       "  <thead>\n",
       "    <tr style=\"text-align: right;\">\n",
       "      <th></th>\n",
       "      <th>0</th>\n",
       "      <th>1</th>\n",
       "      <th>2</th>\n",
       "      <th>3</th>\n",
       "      <th>4</th>\n",
       "      <th>5</th>\n",
       "      <th>diffs</th>\n",
       "    </tr>\n",
       "  </thead>\n",
       "  <tbody>\n",
       "    <tr>\n",
       "      <th>56</th>\n",
       "      <td>0.446809</td>\n",
       "      <td>0.435897</td>\n",
       "      <td>0.44686</td>\n",
       "      <td>0.466307</td>\n",
       "      <td>0.417178</td>\n",
       "      <td>0.470588</td>\n",
       "      <td>-0.02378</td>\n",
       "    </tr>\n",
       "    <tr>\n",
       "      <th>57</th>\n",
       "      <td>0.444444</td>\n",
       "      <td>0.434783</td>\n",
       "      <td>0.507692</td>\n",
       "      <td>0.439716</td>\n",
       "      <td>0.454545</td>\n",
       "      <td>0.166667</td>\n",
       "      <td>0.277778</td>\n",
       "    </tr>\n",
       "    <tr>\n",
       "      <th>84</th>\n",
       "      <td>0.506667</td>\n",
       "      <td>0.398119</td>\n",
       "      <td>0.378099</td>\n",
       "      <td>0.423684</td>\n",
       "      <td>0.418301</td>\n",
       "      <td>0.090909</td>\n",
       "      <td>0.415758</td>\n",
       "    </tr>\n",
       "    <tr>\n",
       "      <th>109</th>\n",
       "      <td>0.666667</td>\n",
       "      <td>0.37931</td>\n",
       "      <td>0.380952</td>\n",
       "      <td>0.415385</td>\n",
       "      <td>0.210526</td>\n",
       "      <td>0.25</td>\n",
       "      <td>0.416667</td>\n",
       "    </tr>\n",
       "    <tr>\n",
       "      <th>120</th>\n",
       "      <td>0.3</td>\n",
       "      <td>0.363636</td>\n",
       "      <td>0.340909</td>\n",
       "      <td>0.410256</td>\n",
       "      <td>0.4</td>\n",
       "      <td>0.666667</td>\n",
       "      <td>-0.366667</td>\n",
       "    </tr>\n",
       "    <tr>\n",
       "      <th>...</th>\n",
       "      <td>...</td>\n",
       "      <td>...</td>\n",
       "      <td>...</td>\n",
       "      <td>...</td>\n",
       "      <td>...</td>\n",
       "      <td>...</td>\n",
       "      <td>...</td>\n",
       "    </tr>\n",
       "    <tr>\n",
       "      <th>1641722</th>\n",
       "      <td>0.6</td>\n",
       "      <td>0.307692</td>\n",
       "      <td>0.454545</td>\n",
       "      <td>0.347826</td>\n",
       "      <td>0.25</td>\n",
       "      <td>0.333333</td>\n",
       "      <td>0.266667</td>\n",
       "    </tr>\n",
       "    <tr>\n",
       "      <th>1641733</th>\n",
       "      <td>0.2</td>\n",
       "      <td>0.4375</td>\n",
       "      <td>0.322581</td>\n",
       "      <td>0.5625</td>\n",
       "      <td>0.2</td>\n",
       "      <td>0.5</td>\n",
       "      <td>-0.3</td>\n",
       "    </tr>\n",
       "    <tr>\n",
       "      <th>1641739</th>\n",
       "      <td>0.666667</td>\n",
       "      <td>0.481481</td>\n",
       "      <td>0.346154</td>\n",
       "      <td>0.425</td>\n",
       "      <td>0.333333</td>\n",
       "      <td>0.5</td>\n",
       "      <td>0.166667</td>\n",
       "    </tr>\n",
       "    <tr>\n",
       "      <th>1641871</th>\n",
       "      <td>0.5</td>\n",
       "      <td>0.472222</td>\n",
       "      <td>0.530303</td>\n",
       "      <td>0.532258</td>\n",
       "      <td>0.416667</td>\n",
       "      <td>0.666667</td>\n",
       "      <td>-0.166667</td>\n",
       "    </tr>\n",
       "    <tr>\n",
       "      <th>1641998</th>\n",
       "      <td>0.5</td>\n",
       "      <td>0.6</td>\n",
       "      <td>0.416667</td>\n",
       "      <td>0.666667</td>\n",
       "      <td>0.833333</td>\n",
       "      <td>0.5</td>\n",
       "      <td>0.0</td>\n",
       "    </tr>\n",
       "  </tbody>\n",
       "</table>\n",
       "<p>985 rows × 7 columns</p>\n",
       "</div>"
      ],
      "text/plain": [
       "                0         1         2         3         4         5     diffs\n",
       "56       0.446809  0.435897   0.44686  0.466307  0.417178  0.470588  -0.02378\n",
       "57       0.444444  0.434783  0.507692  0.439716  0.454545  0.166667  0.277778\n",
       "84       0.506667  0.398119  0.378099  0.423684  0.418301  0.090909  0.415758\n",
       "109      0.666667   0.37931  0.380952  0.415385  0.210526      0.25  0.416667\n",
       "120           0.3  0.363636  0.340909  0.410256       0.4  0.666667 -0.366667\n",
       "...           ...       ...       ...       ...       ...       ...       ...\n",
       "1641722       0.6  0.307692  0.454545  0.347826      0.25  0.333333  0.266667\n",
       "1641733       0.2    0.4375  0.322581    0.5625       0.2       0.5      -0.3\n",
       "1641739  0.666667  0.481481  0.346154     0.425  0.333333       0.5  0.166667\n",
       "1641871       0.5  0.472222  0.530303  0.532258  0.416667  0.666667 -0.166667\n",
       "1641998       0.5       0.6  0.416667  0.666667  0.833333       0.5       0.0\n",
       "\n",
       "[985 rows x 7 columns]"
      ]
     },
     "execution_count": 46,
     "metadata": {},
     "output_type": "execute_result"
    }
   ],
   "source": [
    "all_last_fives"
   ]
  },
  {
   "cell_type": "markdown",
   "id": "1d679598",
   "metadata": {},
   "source": [
    "## Similarity measures the right way\n",
    "\n",
    "If you want to compare two discrete probability distributions, there is a metric called K-L divergence, or relative entropy. If the relative entropy is low, the two distributions are similar, and if it is high, they are different.\n",
    "\n",
    "I want to find players whose fg percentages @ 0..5 makes are as similar as possible to LeBron's.  these shooting percentages aren't a probability distribution -- they don't sum to one. so relative entropy isn't the right metric to use. but it's still a way to compare two discrete functions.\n",
    "\n",
    "Below are LeBron's FG%ages at 0..5 makes. I could make these probability distribution-like by normalizing -- dividing each one by the sum of all of them. However, scipy's function automatically does this for us, as verified below.\n",
    "\n",
    "Raw numbers for LeBron:"
   ]
  },
  {
   "cell_type": "code",
   "execution_count": 47,
   "id": "43cb08bf",
   "metadata": {},
   "outputs": [
    {
     "data": {
      "text/plain": [
       "0        0.564612\n",
       "1         0.50712\n",
       "2        0.505937\n",
       "3        0.496538\n",
       "4        0.473849\n",
       "5        0.464052\n",
       "diffs     0.10056\n",
       "Name: 2544, dtype: object"
      ]
     },
     "execution_count": 47,
     "metadata": {},
     "output_type": "execute_result"
    }
   ],
   "source": [
    "all_last_fives.loc[2544]"
   ]
  },
  {
   "cell_type": "markdown",
   "id": "63145cee",
   "metadata": {},
   "source": [
    "Normalized:"
   ]
  },
  {
   "cell_type": "code",
   "execution_count": 48,
   "id": "60a7047c",
   "metadata": {},
   "outputs": [
    {
     "data": {
      "text/plain": [
       "0    0.187448\n",
       "1     0.16836\n",
       "2    0.167968\n",
       "3    0.164847\n",
       "4    0.157315\n",
       "5    0.154062\n",
       "Name: 2544, dtype: object"
      ]
     },
     "execution_count": 48,
     "metadata": {},
     "output_type": "execute_result"
    }
   ],
   "source": [
    "all_last_fives.loc[2544, number_cols] / sum(all_last_fives.loc[2544, number_cols])"
   ]
  },
  {
   "cell_type": "code",
   "execution_count": 49,
   "id": "29526294",
   "metadata": {},
   "outputs": [],
   "source": [
    "lebron_normal  = all_last_fives.loc[2544, number_cols] / sum(all_last_fives.loc[2544, number_cols])"
   ]
  },
  {
   "cell_type": "markdown",
   "id": "bbc66c11",
   "metadata": {},
   "source": [
    "I will compare LeBron to player id 57."
   ]
  },
  {
   "cell_type": "code",
   "execution_count": 50,
   "id": "556fd48b",
   "metadata": {},
   "outputs": [],
   "source": [
    "otherguy_normal = all_last_fives.loc[57, number_cols] / sum(all_last_fives.loc[57, number_cols])"
   ]
  },
  {
   "cell_type": "code",
   "execution_count": 51,
   "id": "52adfc20",
   "metadata": {},
   "outputs": [
    {
     "data": {
      "text/plain": [
       "np.float64(0.04709365566037409)"
      ]
     },
     "execution_count": 51,
     "metadata": {},
     "output_type": "execute_result"
    }
   ],
   "source": [
    "scipy.stats.entropy(lebron_normal.astype(\"float\").values, otherguy_normal.astype(\"float\").values)"
   ]
  },
  {
   "cell_type": "code",
   "execution_count": 52,
   "id": "fb2bafc9",
   "metadata": {},
   "outputs": [
    {
     "data": {
      "text/plain": [
       "np.float64(0.04709365566037392)"
      ]
     },
     "execution_count": 52,
     "metadata": {},
     "output_type": "execute_result"
    }
   ],
   "source": [
    "scipy.stats.entropy(all_last_fives.loc[2544, number_cols].astype(\"float\").values,\n",
    "                    all_last_fives.loc[57, number_cols].astype(\"float\").values,\n",
    "                    )"
   ]
  },
  {
   "cell_type": "markdown",
   "id": "463fe9e9",
   "metadata": {},
   "source": [
    "ok, this is crappy code...\n",
    "\n",
    "I will also calculate Wasserstein (earth mover) distance and Jensen-Shannon distance, which may be more appropriate here."
   ]
  },
  {
   "cell_type": "code",
   "execution_count": 53,
   "id": "5e64e9d7",
   "metadata": {},
   "outputs": [],
   "source": [
    "all_last_fives['lbj_entropy'] = None\n",
    "all_last_fives['lbj_wass'] = None\n",
    "all_last_fives['lbj_jensen'] = None\n",
    "\n",
    "lbj_exact_vals = all_last_fives.loc[2544, number_cols].astype(\"float\").values\n"
   ]
  },
  {
   "cell_type": "code",
   "execution_count": 54,
   "id": "85a82f2c",
   "metadata": {},
   "outputs": [],
   "source": [
    "for player_id, data in all_last_fives.iterrows():\n",
    "    current_entropy = scipy.stats.entropy(lbj_exact_vals, data[number_cols].astype(\"float\").values)\n",
    "    all_last_fives.loc[player_id, 'lbj_entropy'] = current_entropy\n",
    "\n",
    "    \n",
    "    jensen = scipy.spatial.distance.jensenshannon(lbj_exact_vals,  data[number_cols].astype(\"float\").values)\n",
    "    all_last_fives.loc[player_id, 'lbj_jensen'] = jensen\n",
    "\n",
    "    # I don't know why wasserstein distance isn't meaningful, but the results are totally bogus regardless of whether I pre-normalize\n",
    "    wass = scipy.stats.wasserstein_distance(lbj_exact_vals, data[number_cols].astype(\"float\").values)\n",
    "    all_last_fives.loc[player_id, 'lbj_wass'] = wass"
   ]
  },
  {
   "cell_type": "markdown",
   "id": "318858e9",
   "metadata": {},
   "source": [
    "I'm going to look at the 100 players most like LeBron."
   ]
  },
  {
   "cell_type": "markdown",
   "id": "88bcd47b",
   "metadata": {},
   "source": [
    "I will join the two data sets together so we can sort"
   ]
  },
  {
   "cell_type": "code",
   "execution_count": 55,
   "id": "9c80c495",
   "metadata": {},
   "outputs": [],
   "source": [
    "#all_players.set_index(\"player_id\")\n",
    "players_with_fives = all_players.set_index(\"player_id\").join(all_last_fives)"
   ]
  },
  {
   "cell_type": "code",
   "execution_count": 56,
   "id": "338a6389",
   "metadata": {},
   "outputs": [],
   "source": [
    "smallest_entropy = players_with_fives.sort_values(\"lbj_entropy\")[1:101]"
   ]
  },
  {
   "cell_type": "markdown",
   "id": "5caba097",
   "metadata": {},
   "source": [
    "Well, that worked! I wasn't totally confident, but the top players all have the LeBron tendency where their FG% goes pretty steadily downward from 0..5 makes in the last 5. CJ McCollum shoots 50.4% when he's missed his last 5, and 41.2% when he's made his last 5. Rozier drops from 47% at 0 makes to 39% at 5 makes. Bargnani drops from 49% to 40%.\n",
    "\n",
    "As we saw last time, Richard Hamilton had the least streaky game in NBA history, so it's not surprising to see him popping up here."
   ]
  },
  {
   "cell_type": "code",
   "execution_count": 57,
   "id": "9abccda1",
   "metadata": {},
   "outputs": [
    {
     "data": {
      "text/html": [
       "<div>\n",
       "<style scoped>\n",
       "    .dataframe tbody tr th:only-of-type {\n",
       "        vertical-align: middle;\n",
       "    }\n",
       "\n",
       "    .dataframe tbody tr th {\n",
       "        vertical-align: top;\n",
       "    }\n",
       "\n",
       "    .dataframe thead th {\n",
       "        text-align: right;\n",
       "    }\n",
       "</style>\n",
       "<table border=\"1\" class=\"dataframe\">\n",
       "  <thead>\n",
       "    <tr style=\"text-align: right;\">\n",
       "      <th></th>\n",
       "      <th>player_name</th>\n",
       "      <th>makes</th>\n",
       "      <th>misses</th>\n",
       "      <th>total_streaks</th>\n",
       "      <th>raw_data</th>\n",
       "      <th>expected_streaks</th>\n",
       "      <th>variance</th>\n",
       "      <th>sd</th>\n",
       "      <th>z_score</th>\n",
       "      <th>ww_percentile</th>\n",
       "      <th>0</th>\n",
       "      <th>1</th>\n",
       "      <th>2</th>\n",
       "      <th>3</th>\n",
       "      <th>4</th>\n",
       "      <th>5</th>\n",
       "      <th>diffs</th>\n",
       "      <th>lbj_entropy</th>\n",
       "      <th>lbj_wass</th>\n",
       "      <th>lbj_jensen</th>\n",
       "    </tr>\n",
       "    <tr>\n",
       "      <th>player_id</th>\n",
       "      <th></th>\n",
       "      <th></th>\n",
       "      <th></th>\n",
       "      <th></th>\n",
       "      <th></th>\n",
       "      <th></th>\n",
       "      <th></th>\n",
       "      <th></th>\n",
       "      <th></th>\n",
       "      <th></th>\n",
       "      <th></th>\n",
       "      <th></th>\n",
       "      <th></th>\n",
       "      <th></th>\n",
       "      <th></th>\n",
       "      <th></th>\n",
       "      <th></th>\n",
       "      <th></th>\n",
       "      <th></th>\n",
       "      <th></th>\n",
       "    </tr>\n",
       "  </thead>\n",
       "  <tbody>\n",
       "    <tr>\n",
       "      <th>203468</th>\n",
       "      <td>CJ McCollum</td>\n",
       "      <td>5427</td>\n",
       "      <td>6539</td>\n",
       "      <td>6003</td>\n",
       "      <td>LWLWLWLLWWWLWLLWLWLLWLLWWLLWLLWWLWWLWLLLWLLWWL...</td>\n",
       "      <td>5932.330938</td>\n",
       "      <td>2939.804042</td>\n",
       "      <td>54.219960</td>\n",
       "      <td>1.303377</td>\n",
       "      <td>90.377700</td>\n",
       "      <td>0.504298</td>\n",
       "      <td>0.469688</td>\n",
       "      <td>0.449058</td>\n",
       "      <td>0.45148</td>\n",
       "      <td>0.438856</td>\n",
       "      <td>0.412162</td>\n",
       "      <td>0.092136</td>\n",
       "      <td>0.000164</td>\n",
       "      <td>0.047761</td>\n",
       "      <td>0.006409</td>\n",
       "    </tr>\n",
       "    <tr>\n",
       "      <th>1626179</th>\n",
       "      <td>Terry Rozier</td>\n",
       "      <td>3114</td>\n",
       "      <td>4295</td>\n",
       "      <td>3660</td>\n",
       "      <td>LLLLLWWLLLWLLLLLWWLLWLWWLLWLLLLLWLLLLWLWLLLWWW...</td>\n",
       "      <td>3611.373870</td>\n",
       "      <td>1759.069804</td>\n",
       "      <td>41.941266</td>\n",
       "      <td>1.159386</td>\n",
       "      <td>87.685063</td>\n",
       "      <td>0.47234</td>\n",
       "      <td>0.437821</td>\n",
       "      <td>0.436775</td>\n",
       "      <td>0.415712</td>\n",
       "      <td>0.387387</td>\n",
       "      <td>0.391304</td>\n",
       "      <td>0.081036</td>\n",
       "      <td>0.000178</td>\n",
       "      <td>0.078461</td>\n",
       "      <td>0.006678</td>\n",
       "    </tr>\n",
       "    <tr>\n",
       "      <th>200745</th>\n",
       "      <td>Andrea Bargnani</td>\n",
       "      <td>2932</td>\n",
       "      <td>3744</td>\n",
       "      <td>3340</td>\n",
       "      <td>WLLWLLLWLWLLLWWLWWWLWLWWLLLWLWLWWLLWLWLLLWWWLL...</td>\n",
       "      <td>3289.618334</td>\n",
       "      <td>1619.733623</td>\n",
       "      <td>40.245914</td>\n",
       "      <td>1.251845</td>\n",
       "      <td>89.468691</td>\n",
       "      <td>0.488372</td>\n",
       "      <td>0.435088</td>\n",
       "      <td>0.44109</td>\n",
       "      <td>0.442982</td>\n",
       "      <td>0.429185</td>\n",
       "      <td>0.4</td>\n",
       "      <td>0.088372</td>\n",
       "      <td>0.000189</td>\n",
       "      <td>0.062565</td>\n",
       "      <td>0.006884</td>\n",
       "    </tr>\n",
       "    <tr>\n",
       "      <th>202694</th>\n",
       "      <td>Marcus Morris Sr.</td>\n",
       "      <td>3648</td>\n",
       "      <td>4745</td>\n",
       "      <td>4136</td>\n",
       "      <td>LLLWLLWLLLWWLLLWLLWWWLLWWWLWWLLWWLLLLLLLLLLLLL...</td>\n",
       "      <td>4125.808769</td>\n",
       "      <td>2026.921184</td>\n",
       "      <td>45.021341</td>\n",
       "      <td>0.226364</td>\n",
       "      <td>58.954101</td>\n",
       "      <td>0.502463</td>\n",
       "      <td>0.440315</td>\n",
       "      <td>0.439503</td>\n",
       "      <td>0.436653</td>\n",
       "      <td>0.403614</td>\n",
       "      <td>0.385965</td>\n",
       "      <td>0.116498</td>\n",
       "      <td>0.000237</td>\n",
       "      <td>0.067266</td>\n",
       "      <td>0.007681</td>\n",
       "    </tr>\n",
       "    <tr>\n",
       "      <th>1888</th>\n",
       "      <td>Richard Hamilton</td>\n",
       "      <td>4126</td>\n",
       "      <td>4938</td>\n",
       "      <td>4574</td>\n",
       "      <td>WLLWLLLWLLLLLLWWWWWLLWWLLLLWWWLLLLLWWWWWLLWLWL...</td>\n",
       "      <td>4496.628420</td>\n",
       "      <td>2229.524359</td>\n",
       "      <td>47.217839</td>\n",
       "      <td>1.638609</td>\n",
       "      <td>94.935265</td>\n",
       "      <td>0.489362</td>\n",
       "      <td>0.44148</td>\n",
       "      <td>0.451881</td>\n",
       "      <td>0.447779</td>\n",
       "      <td>0.43544</td>\n",
       "      <td>0.401869</td>\n",
       "      <td>0.087493</td>\n",
       "      <td>0.000248</td>\n",
       "      <td>0.057383</td>\n",
       "      <td>0.007882</td>\n",
       "    </tr>\n",
       "    <tr>\n",
       "      <th>202696</th>\n",
       "      <td>Nikola Vucevic</td>\n",
       "      <td>6580</td>\n",
       "      <td>6715</td>\n",
       "      <td>6814</td>\n",
       "      <td>WLLLWWWLLWWLWLLWLWWWWWLWLLWLLLWLWLWLWLLWWWLLWW...</td>\n",
       "      <td>6647.814592</td>\n",
       "      <td>3322.814608</td>\n",
       "      <td>57.643860</td>\n",
       "      <td>2.882968</td>\n",
       "      <td>99.803026</td>\n",
       "      <td>0.528384</td>\n",
       "      <td>0.489489</td>\n",
       "      <td>0.495011</td>\n",
       "      <td>0.492779</td>\n",
       "      <td>0.477306</td>\n",
       "      <td>0.456897</td>\n",
       "      <td>0.071488</td>\n",
       "      <td>0.000282</td>\n",
       "      <td>0.013193</td>\n",
       "      <td>0.00839</td>\n",
       "    </tr>\n",
       "    <tr>\n",
       "      <th>2216</th>\n",
       "      <td>Zach Randolph</td>\n",
       "      <td>7124</td>\n",
       "      <td>8028</td>\n",
       "      <td>7739</td>\n",
       "      <td>LLWLWLLWLWLLLWWLWWWLLWWWWLWLLLLWLLWWWWLWLWWLWL...</td>\n",
       "      <td>7550.032735</td>\n",
       "      <td>3760.830717</td>\n",
       "      <td>61.325612</td>\n",
       "      <td>3.081376</td>\n",
       "      <td>99.896977</td>\n",
       "      <td>0.510386</td>\n",
       "      <td>0.481583</td>\n",
       "      <td>0.477781</td>\n",
       "      <td>0.466775</td>\n",
       "      <td>0.448591</td>\n",
       "      <td>0.454545</td>\n",
       "      <td>0.05584</td>\n",
       "      <td>0.000284</td>\n",
       "      <td>0.028741</td>\n",
       "      <td>0.008422</td>\n",
       "    </tr>\n",
       "    <tr>\n",
       "      <th>1628374</th>\n",
       "      <td>Lauri Markkanen</td>\n",
       "      <td>2528</td>\n",
       "      <td>2978</td>\n",
       "      <td>2809</td>\n",
       "      <td>LLWWWWLLLWLLWLWLLLWLLLLWLWLWLLWLWLWWWWWWWWLLLL...</td>\n",
       "      <td>2735.610970</td>\n",
       "      <td>1357.922352</td>\n",
       "      <td>36.849998</td>\n",
       "      <td>1.991561</td>\n",
       "      <td>97.679039</td>\n",
       "      <td>0.510949</td>\n",
       "      <td>0.448758</td>\n",
       "      <td>0.477425</td>\n",
       "      <td>0.463511</td>\n",
       "      <td>0.449782</td>\n",
       "      <td>0.423077</td>\n",
       "      <td>0.087872</td>\n",
       "      <td>0.000307</td>\n",
       "      <td>0.039768</td>\n",
       "      <td>0.008751</td>\n",
       "    </tr>\n",
       "    <tr>\n",
       "      <th>202695</th>\n",
       "      <td>Kawhi Leonard</td>\n",
       "      <td>5042</td>\n",
       "      <td>5068</td>\n",
       "      <td>5158</td>\n",
       "      <td>LLWWLLLLLWLLWLLWLWLWLLWWLLWWLLWLLWLWWWWWWLLWLW...</td>\n",
       "      <td>5055.966568</td>\n",
       "      <td>2527.216543</td>\n",
       "      <td>50.271429</td>\n",
       "      <td>2.029651</td>\n",
       "      <td>97.880396</td>\n",
       "      <td>0.553957</td>\n",
       "      <td>0.527749</td>\n",
       "      <td>0.509946</td>\n",
       "      <td>0.477241</td>\n",
       "      <td>0.477495</td>\n",
       "      <td>0.463687</td>\n",
       "      <td>0.09027</td>\n",
       "      <td>0.000307</td>\n",
       "      <td>0.009682</td>\n",
       "      <td>0.008761</td>\n",
       "    </tr>\n",
       "    <tr>\n",
       "      <th>1628989</th>\n",
       "      <td>Kevin Huerter</td>\n",
       "      <td>1856</td>\n",
       "      <td>2328</td>\n",
       "      <td>2080</td>\n",
       "      <td>WLLWWLLLLLWLWLLLLWWWWWWLWLWLWLWWLWLWWLLLLWLLLL...</td>\n",
       "      <td>2066.376673</td>\n",
       "      <td>1019.296061</td>\n",
       "      <td>31.926416</td>\n",
       "      <td>0.426710</td>\n",
       "      <td>66.520478</td>\n",
       "      <td>0.511628</td>\n",
       "      <td>0.452214</td>\n",
       "      <td>0.452017</td>\n",
       "      <td>0.439103</td>\n",
       "      <td>0.411321</td>\n",
       "      <td>0.4375</td>\n",
       "      <td>0.074128</td>\n",
       "      <td>0.000308</td>\n",
       "      <td>0.051388</td>\n",
       "      <td>0.008792</td>\n",
       "    </tr>\n",
       "  </tbody>\n",
       "</table>\n",
       "</div>"
      ],
      "text/plain": [
       "                 player_name  makes  misses  total_streaks  \\\n",
       "player_id                                                    \n",
       "203468           CJ McCollum   5427    6539           6003   \n",
       "1626179         Terry Rozier   3114    4295           3660   \n",
       "200745       Andrea Bargnani   2932    3744           3340   \n",
       "202694     Marcus Morris Sr.   3648    4745           4136   \n",
       "1888        Richard Hamilton   4126    4938           4574   \n",
       "202696        Nikola Vucevic   6580    6715           6814   \n",
       "2216           Zach Randolph   7124    8028           7739   \n",
       "1628374      Lauri Markkanen   2528    2978           2809   \n",
       "202695         Kawhi Leonard   5042    5068           5158   \n",
       "1628989        Kevin Huerter   1856    2328           2080   \n",
       "\n",
       "                                                    raw_data  \\\n",
       "player_id                                                      \n",
       "203468     LWLWLWLLWWWLWLLWLWLLWLLWWLLWLLWWLWWLWLLLWLLWWL...   \n",
       "1626179    LLLLLWWLLLWLLLLLWWLLWLWWLLWLLLLLWLLLLWLWLLLWWW...   \n",
       "200745     WLLWLLLWLWLLLWWLWWWLWLWWLLLWLWLWWLLWLWLLLWWWLL...   \n",
       "202694     LLLWLLWLLLWWLLLWLLWWWLLWWWLWWLLWWLLLLLLLLLLLLL...   \n",
       "1888       WLLWLLLWLLLLLLWWWWWLLWWLLLLWWWLLLLLWWWWWLLWLWL...   \n",
       "202696     WLLLWWWLLWWLWLLWLWWWWWLWLLWLLLWLWLWLWLLWWWLLWW...   \n",
       "2216       LLWLWLLWLWLLLWWLWWWLLWWWWLWLLLLWLLWWWWLWLWWLWL...   \n",
       "1628374    LLWWWWLLLWLLWLWLLLWLLLLWLWLWLLWLWLWWWWWWWWLLLL...   \n",
       "202695     LLWWLLLLLWLLWLLWLWLWLLWWLLWWLLWLLWLWWWWWWLLWLW...   \n",
       "1628989    WLLWWLLLLLWLWLLLLWWWWWWLWLWLWLWWLWLWWLLLLWLLLL...   \n",
       "\n",
       "           expected_streaks     variance         sd   z_score  ww_percentile  \\\n",
       "player_id                                                                      \n",
       "203468          5932.330938  2939.804042  54.219960  1.303377      90.377700   \n",
       "1626179         3611.373870  1759.069804  41.941266  1.159386      87.685063   \n",
       "200745          3289.618334  1619.733623  40.245914  1.251845      89.468691   \n",
       "202694          4125.808769  2026.921184  45.021341  0.226364      58.954101   \n",
       "1888            4496.628420  2229.524359  47.217839  1.638609      94.935265   \n",
       "202696          6647.814592  3322.814608  57.643860  2.882968      99.803026   \n",
       "2216            7550.032735  3760.830717  61.325612  3.081376      99.896977   \n",
       "1628374         2735.610970  1357.922352  36.849998  1.991561      97.679039   \n",
       "202695          5055.966568  2527.216543  50.271429  2.029651      97.880396   \n",
       "1628989         2066.376673  1019.296061  31.926416  0.426710      66.520478   \n",
       "\n",
       "                  0         1         2         3         4         5  \\\n",
       "player_id                                                               \n",
       "203468     0.504298  0.469688  0.449058   0.45148  0.438856  0.412162   \n",
       "1626179     0.47234  0.437821  0.436775  0.415712  0.387387  0.391304   \n",
       "200745     0.488372  0.435088   0.44109  0.442982  0.429185       0.4   \n",
       "202694     0.502463  0.440315  0.439503  0.436653  0.403614  0.385965   \n",
       "1888       0.489362   0.44148  0.451881  0.447779   0.43544  0.401869   \n",
       "202696     0.528384  0.489489  0.495011  0.492779  0.477306  0.456897   \n",
       "2216       0.510386  0.481583  0.477781  0.466775  0.448591  0.454545   \n",
       "1628374    0.510949  0.448758  0.477425  0.463511  0.449782  0.423077   \n",
       "202695     0.553957  0.527749  0.509946  0.477241  0.477495  0.463687   \n",
       "1628989    0.511628  0.452214  0.452017  0.439103  0.411321    0.4375   \n",
       "\n",
       "              diffs lbj_entropy  lbj_wass lbj_jensen  \n",
       "player_id                                             \n",
       "203468     0.092136    0.000164  0.047761   0.006409  \n",
       "1626179    0.081036    0.000178  0.078461   0.006678  \n",
       "200745     0.088372    0.000189  0.062565   0.006884  \n",
       "202694     0.116498    0.000237  0.067266   0.007681  \n",
       "1888       0.087493    0.000248  0.057383   0.007882  \n",
       "202696     0.071488    0.000282  0.013193    0.00839  \n",
       "2216        0.05584    0.000284  0.028741   0.008422  \n",
       "1628374    0.087872    0.000307  0.039768   0.008751  \n",
       "202695      0.09027    0.000307  0.009682   0.008761  \n",
       "1628989    0.074128    0.000308  0.051388   0.008792  "
      ]
     },
     "execution_count": 57,
     "metadata": {},
     "output_type": "execute_result"
    }
   ],
   "source": [
    "smallest_entropy[:10]"
   ]
  },
  {
   "cell_type": "code",
   "execution_count": 58,
   "id": "f9091ef9",
   "metadata": {},
   "outputs": [],
   "source": [
    "top_small_entropy = smallest_entropy[[\"player_name\"] + number_cols][:10]"
   ]
  },
  {
   "cell_type": "code",
   "execution_count": 59,
   "id": "d51b136c",
   "metadata": {},
   "outputs": [],
   "source": [
    "import seaborn as sns"
   ]
  },
  {
   "cell_type": "code",
   "execution_count": 60,
   "id": "d28ba6fc",
   "metadata": {},
   "outputs": [
    {
     "data": {
      "text/plain": [
       "Text(0.5, 1.0, 'Most similar players by last 5 FG%')"
      ]
     },
     "execution_count": 60,
     "metadata": {},
     "output_type": "execute_result"
    },
    {
     "data": {
      "image/png": "[encoded data removed]",
      "text/plain": [
       "<Figure size 640x480 with 1 Axes>"
      ]
     },
     "metadata": {},
     "output_type": "display_data"
    }
   ],
   "source": [
    "for idx, data in top_small_entropy.iterrows():\n",
    "    plt.plot(number_cols, data[number_cols], label=data['player_name'])\n",
    "plt.title(\"Most similar players by last 5 FG%\")\n",
    "#plt.xlim(0,8)\n",
    "#_out  = plt.legend()"
   ]
  },
  {
   "cell_type": "code",
   "execution_count": 61,
   "id": "f3f8bcdf",
   "metadata": {},
   "outputs": [],
   "source": [
    "smallest_jensen = players_with_fives.sort_values(\"lbj_jensen\")[1:101]"
   ]
  },
  {
   "cell_type": "markdown",
   "id": "a5c827b6",
   "metadata": {},
   "source": [
    "Wasserstein distance didn't seem to work right. both the normalized and non-normalized data gave meaningless results. probably a skill issue, tbh.\n",
    "\n",
    "The Jensen-Shannon distance closely matches the relative entropy. They agree exactly on the first 30 or so most similar players. I guess that's unsurprising, since the Jensen-Shannon distance is based on relative entropy.\n",
    "\n",
    "There are certainly other metrics I could use here. [https://arxiv.org/html/2408.07706v1](https://arxiv.org/html/2408.07706v1)\n",
    "\n",
    "## Relative entropy vs. Jenson-Shannon distance"
   ]
  },
  {
   "cell_type": "code",
   "execution_count": 62,
   "id": "f881971f",
   "metadata": {},
   "outputs": [
    {
     "data": {
      "text/plain": [
       "array([ True,  True,  True,  True,  True,  True,  True,  True,  True,\n",
       "        True,  True,  True,  True,  True,  True,  True,  True,  True,\n",
       "        True,  True,  True,  True,  True,  True,  True,  True,  True,\n",
       "        True,  True,  True,  True,  True, False, False,  True,  True,\n",
       "        True,  True,  True,  True,  True,  True, False, False,  True,\n",
       "        True,  True, False, False, False, False,  True,  True,  True,\n",
       "        True,  True,  True,  True,  True,  True,  True,  True,  True,\n",
       "        True,  True,  True,  True,  True,  True,  True, False,  True,\n",
       "       False,  True, False, False, False,  True,  True,  True,  True,\n",
       "        True,  True, False, False, False, False, False, False,  True,\n",
       "       False, False, False, False,  True,  True, False, False, False,\n",
       "       False])"
      ]
     },
     "execution_count": 62,
     "metadata": {},
     "output_type": "execute_result"
    }
   ],
   "source": [
    "smallest_entropy.index == smallest_jensen.index"
   ]
  },
  {
   "cell_type": "code",
   "execution_count": 63,
   "id": "2a9c0b75",
   "metadata": {},
   "outputs": [
    {
     "data": {
      "text/plain": [
       "np.int64(73)"
      ]
     },
     "execution_count": 63,
     "metadata": {},
     "output_type": "execute_result"
    }
   ],
   "source": [
    "sum(smallest_entropy.index == smallest_jensen.index)"
   ]
  },
  {
   "cell_type": "markdown",
   "id": "ed2e6687",
   "metadata": {},
   "source": [
    "they are basically identical by correlation with z-score."
   ]
  },
  {
   "cell_type": "code",
   "execution_count": 71,
   "id": "b07e09a3",
   "metadata": {},
   "outputs": [
    {
     "data": {
      "text/plain": [
       "np.float64(-0.28560366362201944)"
      ]
     },
     "execution_count": 71,
     "metadata": {},
     "output_type": "execute_result"
    }
   ],
   "source": [
    "players_with_fives.lbj_jensen.corr(players_with_fives.z_score, method='spearman')"
   ]
  },
  {
   "cell_type": "code",
   "execution_count": 72,
   "id": "8841c17f",
   "metadata": {},
   "outputs": [
    {
     "data": {
      "text/plain": [
       "np.float64(-0.28534415580664907)"
      ]
     },
     "execution_count": 72,
     "metadata": {},
     "output_type": "execute_result"
    }
   ],
   "source": [
    "players_with_fives.lbj_entropy.corr(players_with_fives.z_score, method='spearman')"
   ]
  },
  {
   "cell_type": "markdown",
   "id": "9bd0094b",
   "metadata": {},
   "source": [
    "looking at top 180 values, since that's the number of players my 4 out of 5 decreasing metric turned up."
   ]
  },
  {
   "cell_type": "code",
   "execution_count": 73,
   "id": "591ede8d",
   "metadata": {},
   "outputs": [
    {
     "data": {
      "text/plain": [
       "count    180.000000\n",
       "mean       1.155030\n",
       "std        1.265793\n",
       "min       -2.559990\n",
       "25%        0.332964\n",
       "50%        1.225259\n",
       "75%        1.881895\n",
       "max        5.897434\n",
       "Name: z_score, dtype: float64"
      ]
     },
     "execution_count": 73,
     "metadata": {},
     "output_type": "execute_result"
    }
   ],
   "source": [
    "players_with_fives.sort_values(\"lbj_jensen\")[:180].z_score.describe()"
   ]
  },
  {
   "cell_type": "code",
   "execution_count": 75,
   "id": "6768f665",
   "metadata": {},
   "outputs": [
    {
     "data": {
      "text/plain": [
       "count    180.000000\n",
       "mean       1.138156\n",
       "std        1.289399\n",
       "min       -2.559990\n",
       "25%        0.288246\n",
       "50%        1.225259\n",
       "75%        1.881895\n",
       "max        5.897434\n",
       "Name: z_score, dtype: float64"
      ]
     },
     "execution_count": 75,
     "metadata": {},
     "output_type": "execute_result"
    }
   ],
   "source": [
    "players_with_fives.sort_values(\"lbj_entropy\")[:180].z_score.describe()"
   ]
  },
  {
   "cell_type": "markdown",
   "id": "25675ced",
   "metadata": {},
   "source": [
    "since the goal is to find un-streaky players, the Jensen distance does a slightly better job than relative entropy."
   ]
  },
  {
   "cell_type": "code",
   "execution_count": 76,
   "id": "2e10b3b8",
   "metadata": {},
   "outputs": [
    {
     "data": {
      "text/html": [
       "<div>\n",
       "<style scoped>\n",
       "    .dataframe tbody tr th:only-of-type {\n",
       "        vertical-align: middle;\n",
       "    }\n",
       "\n",
       "    .dataframe tbody tr th {\n",
       "        vertical-align: top;\n",
       "    }\n",
       "\n",
       "    .dataframe thead th {\n",
       "        text-align: right;\n",
       "    }\n",
       "</style>\n",
       "<table border=\"1\" class=\"dataframe\">\n",
       "  <thead>\n",
       "    <tr style=\"text-align: right;\">\n",
       "      <th></th>\n",
       "      <th>player_name</th>\n",
       "      <th>makes</th>\n",
       "      <th>misses</th>\n",
       "      <th>total_streaks</th>\n",
       "      <th>raw_data</th>\n",
       "      <th>expected_streaks</th>\n",
       "      <th>variance</th>\n",
       "      <th>sd</th>\n",
       "      <th>z_score</th>\n",
       "      <th>ww_percentile</th>\n",
       "      <th>0</th>\n",
       "      <th>1</th>\n",
       "      <th>2</th>\n",
       "      <th>3</th>\n",
       "      <th>4</th>\n",
       "      <th>5</th>\n",
       "      <th>diffs</th>\n",
       "      <th>lbj_entropy</th>\n",
       "      <th>lbj_wass</th>\n",
       "      <th>lbj_jensen</th>\n",
       "    </tr>\n",
       "    <tr>\n",
       "      <th>player_id</th>\n",
       "      <th></th>\n",
       "      <th></th>\n",
       "      <th></th>\n",
       "      <th></th>\n",
       "      <th></th>\n",
       "      <th></th>\n",
       "      <th></th>\n",
       "      <th></th>\n",
       "      <th></th>\n",
       "      <th></th>\n",
       "      <th></th>\n",
       "      <th></th>\n",
       "      <th></th>\n",
       "      <th></th>\n",
       "      <th></th>\n",
       "      <th></th>\n",
       "      <th></th>\n",
       "      <th></th>\n",
       "      <th></th>\n",
       "      <th></th>\n",
       "    </tr>\n",
       "  </thead>\n",
       "  <tbody>\n",
       "    <tr>\n",
       "      <th>15</th>\n",
       "      <td>Eric Piatkowski</td>\n",
       "      <td>228</td>\n",
       "      <td>340</td>\n",
       "      <td>293</td>\n",
       "      <td>WLLLWLWWLLLLWWWLLWWLWLLWLLLLWLWWLWLLLLWWWLLLWL...</td>\n",
       "      <td>273.957746</td>\n",
       "      <td>130.922352</td>\n",
       "      <td>11.442131</td>\n",
       "      <td>1.664223</td>\n",
       "      <td>95.196603</td>\n",
       "      <td>NaN</td>\n",
       "      <td>NaN</td>\n",
       "      <td>NaN</td>\n",
       "      <td>NaN</td>\n",
       "      <td>NaN</td>\n",
       "      <td>NaN</td>\n",
       "      <td>NaN</td>\n",
       "      <td>NaN</td>\n",
       "      <td>NaN</td>\n",
       "      <td>NaN</td>\n",
       "    </tr>\n",
       "    <tr>\n",
       "      <th>43</th>\n",
       "      <td>Chris Whitney</td>\n",
       "      <td>17</td>\n",
       "      <td>28</td>\n",
       "      <td>20</td>\n",
       "      <td>WLLLLWLLLWWWLWWLWLLWLLWLLLWWLLLLWLLLLWWWWLLLL</td>\n",
       "      <td>22.155556</td>\n",
       "      <td>9.690954</td>\n",
       "      <td>3.113030</td>\n",
       "      <td>-0.692430</td>\n",
       "      <td>24.433363</td>\n",
       "      <td>NaN</td>\n",
       "      <td>NaN</td>\n",
       "      <td>NaN</td>\n",
       "      <td>NaN</td>\n",
       "      <td>NaN</td>\n",
       "      <td>NaN</td>\n",
       "      <td>NaN</td>\n",
       "      <td>NaN</td>\n",
       "      <td>NaN</td>\n",
       "      <td>NaN</td>\n",
       "    </tr>\n",
       "    <tr>\n",
       "      <th>56</th>\n",
       "      <td>Gary Payton</td>\n",
       "      <td>1195</td>\n",
       "      <td>1467</td>\n",
       "      <td>1311</td>\n",
       "      <td>WWWWWWLLLWLLLWWLWLLLLWWWLLLWWLLWLWLLLLWLLLWLLL...</td>\n",
       "      <td>1318.103681</td>\n",
       "      <td>651.426157</td>\n",
       "      <td>25.523051</td>\n",
       "      <td>-0.278324</td>\n",
       "      <td>39.038177</td>\n",
       "      <td>0.446809</td>\n",
       "      <td>0.435897</td>\n",
       "      <td>0.44686</td>\n",
       "      <td>0.466307</td>\n",
       "      <td>0.417178</td>\n",
       "      <td>0.470588</td>\n",
       "      <td>-0.02378</td>\n",
       "      <td>0.002972</td>\n",
       "      <td>0.054745</td>\n",
       "      <td>0.02728</td>\n",
       "    </tr>\n",
       "    <tr>\n",
       "      <th>57</th>\n",
       "      <td>Doug Christie</td>\n",
       "      <td>461</td>\n",
       "      <td>602</td>\n",
       "      <td>561</td>\n",
       "      <td>LLLLWLWLWWWLWLLLWWWLLWLLWLWLWLWWLWLWWWWLWLLLWL...</td>\n",
       "      <td>523.148636</td>\n",
       "      <td>256.230743</td>\n",
       "      <td>16.007209</td>\n",
       "      <td>2.364645</td>\n",
       "      <td>99.097632</td>\n",
       "      <td>0.444444</td>\n",
       "      <td>0.434783</td>\n",
       "      <td>0.507692</td>\n",
       "      <td>0.439716</td>\n",
       "      <td>0.454545</td>\n",
       "      <td>0.166667</td>\n",
       "      <td>0.277778</td>\n",
       "      <td>0.047094</td>\n",
       "      <td>0.094043</td>\n",
       "      <td>0.102025</td>\n",
       "    </tr>\n",
       "    <tr>\n",
       "      <th>72</th>\n",
       "      <td>Kenny Anderson</td>\n",
       "      <td>198</td>\n",
       "      <td>259</td>\n",
       "      <td>224</td>\n",
       "      <td>WWWWLLWLLLWWWLLLWLLLLLLLLLLLWLLWLWWWWLWWLLLLWW...</td>\n",
       "      <td>225.428884</td>\n",
       "      <td>109.964682</td>\n",
       "      <td>10.486405</td>\n",
       "      <td>-0.136261</td>\n",
       "      <td>44.580763</td>\n",
       "      <td>NaN</td>\n",
       "      <td>NaN</td>\n",
       "      <td>NaN</td>\n",
       "      <td>NaN</td>\n",
       "      <td>NaN</td>\n",
       "      <td>NaN</td>\n",
       "      <td>NaN</td>\n",
       "      <td>NaN</td>\n",
       "      <td>NaN</td>\n",
       "      <td>NaN</td>\n",
       "    </tr>\n",
       "    <tr>\n",
       "      <th>...</th>\n",
       "      <td>...</td>\n",
       "      <td>...</td>\n",
       "      <td>...</td>\n",
       "      <td>...</td>\n",
       "      <td>...</td>\n",
       "      <td>...</td>\n",
       "      <td>...</td>\n",
       "      <td>...</td>\n",
       "      <td>...</td>\n",
       "      <td>...</td>\n",
       "      <td>...</td>\n",
       "      <td>...</td>\n",
       "      <td>...</td>\n",
       "      <td>...</td>\n",
       "      <td>...</td>\n",
       "      <td>...</td>\n",
       "      <td>...</td>\n",
       "      <td>...</td>\n",
       "      <td>...</td>\n",
       "      <td>...</td>\n",
       "    </tr>\n",
       "    <tr>\n",
       "      <th>1641926</th>\n",
       "      <td>Dexter Dennis</td>\n",
       "      <td>10</td>\n",
       "      <td>9</td>\n",
       "      <td>11</td>\n",
       "      <td>LWWLWLWLWWWLWWWLLLL</td>\n",
       "      <td>10.473684</td>\n",
       "      <td>4.459834</td>\n",
       "      <td>2.111832</td>\n",
       "      <td>0.249222</td>\n",
       "      <td>59.840562</td>\n",
       "      <td>NaN</td>\n",
       "      <td>NaN</td>\n",
       "      <td>NaN</td>\n",
       "      <td>NaN</td>\n",
       "      <td>NaN</td>\n",
       "      <td>NaN</td>\n",
       "      <td>NaN</td>\n",
       "      <td>NaN</td>\n",
       "      <td>NaN</td>\n",
       "      <td>NaN</td>\n",
       "    </tr>\n",
       "    <tr>\n",
       "      <th>1641931</th>\n",
       "      <td>Onuralp Bitim</td>\n",
       "      <td>32</td>\n",
       "      <td>52</td>\n",
       "      <td>44</td>\n",
       "      <td>WWWLLLWLWLLLWWLWWLLLLWWWLWWLWLWWLLLWLWWLWLWWLW...</td>\n",
       "      <td>40.619048</td>\n",
       "      <td>18.434336</td>\n",
       "      <td>4.293523</td>\n",
       "      <td>0.787454</td>\n",
       "      <td>78.449199</td>\n",
       "      <td>NaN</td>\n",
       "      <td>NaN</td>\n",
       "      <td>NaN</td>\n",
       "      <td>NaN</td>\n",
       "      <td>NaN</td>\n",
       "      <td>NaN</td>\n",
       "      <td>NaN</td>\n",
       "      <td>NaN</td>\n",
       "      <td>NaN</td>\n",
       "      <td>NaN</td>\n",
       "    </tr>\n",
       "    <tr>\n",
       "      <th>1641970</th>\n",
       "      <td>Maozinha Pereira</td>\n",
       "      <td>18</td>\n",
       "      <td>17</td>\n",
       "      <td>21</td>\n",
       "      <td>WWLLWLLWLLWWWLLWWWLLWLWLWLWWLWLLLWW</td>\n",
       "      <td>18.485714</td>\n",
       "      <td>8.478367</td>\n",
       "      <td>2.911764</td>\n",
       "      <td>0.863492</td>\n",
       "      <td>80.606660</td>\n",
       "      <td>NaN</td>\n",
       "      <td>NaN</td>\n",
       "      <td>NaN</td>\n",
       "      <td>NaN</td>\n",
       "      <td>NaN</td>\n",
       "      <td>NaN</td>\n",
       "      <td>NaN</td>\n",
       "      <td>NaN</td>\n",
       "      <td>NaN</td>\n",
       "      <td>NaN</td>\n",
       "    </tr>\n",
       "    <tr>\n",
       "      <th>1641998</th>\n",
       "      <td>Trey Jemison</td>\n",
       "      <td>75</td>\n",
       "      <td>61</td>\n",
       "      <td>72</td>\n",
       "      <td>WLWLLLWLLWWWLWWWWWLWWLLLLLLWLWWWLWWWWLWLWWLLWW...</td>\n",
       "      <td>68.279412</td>\n",
       "      <td>33.031406</td>\n",
       "      <td>5.747296</td>\n",
       "      <td>0.647363</td>\n",
       "      <td>74.130158</td>\n",
       "      <td>0.5</td>\n",
       "      <td>0.6</td>\n",
       "      <td>0.416667</td>\n",
       "      <td>0.666667</td>\n",
       "      <td>0.833333</td>\n",
       "      <td>0.5</td>\n",
       "      <td>0.0</td>\n",
       "      <td>0.033071</td>\n",
       "      <td>0.099888</td>\n",
       "      <td>0.091171</td>\n",
       "    </tr>\n",
       "    <tr>\n",
       "      <th>1642013</th>\n",
       "      <td>Malik Williams</td>\n",
       "      <td>9</td>\n",
       "      <td>25</td>\n",
       "      <td>14</td>\n",
       "      <td>WLLWWLLLLLLWWLLWLLWLWLLLWLLLLLLLLL</td>\n",
       "      <td>14.235294</td>\n",
       "      <td>4.907204</td>\n",
       "      <td>2.215221</td>\n",
       "      <td>-0.106217</td>\n",
       "      <td>45.770509</td>\n",
       "      <td>NaN</td>\n",
       "      <td>NaN</td>\n",
       "      <td>NaN</td>\n",
       "      <td>NaN</td>\n",
       "      <td>NaN</td>\n",
       "      <td>NaN</td>\n",
       "      <td>NaN</td>\n",
       "      <td>NaN</td>\n",
       "      <td>NaN</td>\n",
       "      <td>NaN</td>\n",
       "    </tr>\n",
       "  </tbody>\n",
       "</table>\n",
       "<p>2162 rows × 20 columns</p>\n",
       "</div>"
      ],
      "text/plain": [
       "                player_name  makes  misses  total_streaks  \\\n",
       "player_id                                                   \n",
       "15          Eric Piatkowski    228     340            293   \n",
       "43            Chris Whitney     17      28             20   \n",
       "56              Gary Payton   1195    1467           1311   \n",
       "57            Doug Christie    461     602            561   \n",
       "72           Kenny Anderson    198     259            224   \n",
       "...                     ...    ...     ...            ...   \n",
       "1641926       Dexter Dennis     10       9             11   \n",
       "1641931       Onuralp Bitim     32      52             44   \n",
       "1641970    Maozinha Pereira     18      17             21   \n",
       "1641998        Trey Jemison     75      61             72   \n",
       "1642013      Malik Williams      9      25             14   \n",
       "\n",
       "                                                    raw_data  \\\n",
       "player_id                                                      \n",
       "15         WLLLWLWWLLLLWWWLLWWLWLLWLLLLWLWWLWLLLLWWWLLLWL...   \n",
       "43             WLLLLWLLLWWWLWWLWLLWLLWLLLWWLLLLWLLLLWWWWLLLL   \n",
       "56         WWWWWWLLLWLLLWWLWLLLLWWWLLLWWLLWLWLLLLWLLLWLLL...   \n",
       "57         LLLLWLWLWWWLWLLLWWWLLWLLWLWLWLWWLWLWWWWLWLLLWL...   \n",
       "72         WWWWLLWLLLWWWLLLWLLLLLLLLLLLWLLWLWWWWLWWLLLLWW...   \n",
       "...                                                      ...   \n",
       "1641926                                  LWWLWLWLWWWLWWWLLLL   \n",
       "1641931    WWWLLLWLWLLLWWLWWLLLLWWWLWWLWLWWLLLWLWWLWLWWLW...   \n",
       "1641970                  WWLLWLLWLLWWWLLWWWLLWLWLWLWWLWLLLWW   \n",
       "1641998    WLWLLLWLLWWWLWWWWWLWWLLLLLLWLWWWLWWWWLWLWWLLWW...   \n",
       "1642013                   WLLWWLLLLLLWWLLWLLWLWLLLWLLLLLLLLL   \n",
       "\n",
       "           expected_streaks    variance         sd   z_score  ww_percentile  \\\n",
       "player_id                                                                     \n",
       "15               273.957746  130.922352  11.442131  1.664223      95.196603   \n",
       "43                22.155556    9.690954   3.113030 -0.692430      24.433363   \n",
       "56              1318.103681  651.426157  25.523051 -0.278324      39.038177   \n",
       "57               523.148636  256.230743  16.007209  2.364645      99.097632   \n",
       "72               225.428884  109.964682  10.486405 -0.136261      44.580763   \n",
       "...                     ...         ...        ...       ...            ...   \n",
       "1641926           10.473684    4.459834   2.111832  0.249222      59.840562   \n",
       "1641931           40.619048   18.434336   4.293523  0.787454      78.449199   \n",
       "1641970           18.485714    8.478367   2.911764  0.863492      80.606660   \n",
       "1641998           68.279412   33.031406   5.747296  0.647363      74.130158   \n",
       "1642013           14.235294    4.907204   2.215221 -0.106217      45.770509   \n",
       "\n",
       "                  0         1         2         3         4         5  \\\n",
       "player_id                                                               \n",
       "15              NaN       NaN       NaN       NaN       NaN       NaN   \n",
       "43              NaN       NaN       NaN       NaN       NaN       NaN   \n",
       "56         0.446809  0.435897   0.44686  0.466307  0.417178  0.470588   \n",
       "57         0.444444  0.434783  0.507692  0.439716  0.454545  0.166667   \n",
       "72              NaN       NaN       NaN       NaN       NaN       NaN   \n",
       "...             ...       ...       ...       ...       ...       ...   \n",
       "1641926         NaN       NaN       NaN       NaN       NaN       NaN   \n",
       "1641931         NaN       NaN       NaN       NaN       NaN       NaN   \n",
       "1641970         NaN       NaN       NaN       NaN       NaN       NaN   \n",
       "1641998         0.5       0.6  0.416667  0.666667  0.833333       0.5   \n",
       "1642013         NaN       NaN       NaN       NaN       NaN       NaN   \n",
       "\n",
       "              diffs lbj_entropy  lbj_wass lbj_jensen  \n",
       "player_id                                             \n",
       "15              NaN         NaN       NaN        NaN  \n",
       "43              NaN         NaN       NaN        NaN  \n",
       "56         -0.02378    0.002972  0.054745    0.02728  \n",
       "57         0.277778    0.047094  0.094043   0.102025  \n",
       "72              NaN         NaN       NaN        NaN  \n",
       "...             ...         ...       ...        ...  \n",
       "1641926         NaN         NaN       NaN        NaN  \n",
       "1641931         NaN         NaN       NaN        NaN  \n",
       "1641970         NaN         NaN       NaN        NaN  \n",
       "1641998         0.0    0.033071  0.099888   0.091171  \n",
       "1642013         NaN         NaN       NaN        NaN  \n",
       "\n",
       "[2162 rows x 20 columns]"
      ]
     },
     "execution_count": 76,
     "metadata": {},
     "output_type": "execute_result"
    }
   ],
   "source": [
    "players_with_fives\n"
   ]
  },
  {
   "cell_type": "code",
   "execution_count": null,
   "id": "859e9977",
   "metadata": {},
   "outputs": [],
   "source": []
  }
 ],
 "metadata": {
  "kernelspec": {
   "display_name": "Python 3",
   "language": "python",
   "name": "python3"
  },
  "language_info": {
   "codemirror_mode": {
    "name": "ipython",
    "version": 3
   },
   "file_extension": ".py",
   "mimetype": "text/x-python",
   "name": "python",
   "nbconvert_exporter": "python",
   "pygments_lexer": "ipython3",
   "version": "3.11.9"
  }
 },
 "nbformat": 4,
 "nbformat_minor": 5
}
